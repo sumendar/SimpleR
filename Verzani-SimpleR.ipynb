{
 "cells": [
  {
   "cell_type": "code",
   "execution_count": 1,
   "metadata": {
    "run_control": {
     "frozen": false,
     "marked": false,
     "read_only": false
    }
   },
   "outputs": [
    {
     "name": "stderr",
     "output_type": "stream",
     "text": [
      "Loading required package: psych\n"
     ]
    }
   ],
   "source": [
    "if(!require(psych)){\n",
    "    install.packages(\"psych \",repos=\"www.cran.r-project.org/\",\n",
    "                     lib=\"C:/Users/Suman/Documents/R/win-library/3.3\"\n",
    ")\n",
    "}"
   ]
  },
  {
   "cell_type": "code",
   "execution_count": 2,
   "metadata": {
    "run_control": {
     "frozen": false,
     "read_only": false
    }
   },
   "outputs": [
    {
     "name": "stderr",
     "output_type": "stream",
     "text": [
      "Loading required package: Hmisc\n",
      "Loading required package: lattice\n",
      "Loading required package: survival\n",
      "Warning message:\n",
      "\"package 'survival' was built under R version 3.3.3\"Loading required package: Formula\n",
      "Loading required package: ggplot2\n",
      "\n",
      "Attaching package: 'ggplot2'\n",
      "\n",
      "The following objects are masked from 'package:psych':\n",
      "\n",
      "    %+%, alpha\n",
      "\n",
      "\n",
      "Attaching package: 'Hmisc'\n",
      "\n",
      "The following object is masked from 'package:psych':\n",
      "\n",
      "    describe\n",
      "\n",
      "The following objects are masked from 'package:base':\n",
      "\n",
      "    format.pval, round.POSIXt, trunc.POSIXt, units\n",
      "\n"
     ]
    }
   ],
   "source": [
    "if(!require(Hmisc)){\n",
    "    install.packages(\"Hmisc\",repos=\"http://cran.us.r-project.org/\",\n",
    "                     lib=\"C:/Users/Suman/Documents/R/win-library/3.3\"\n",
    ")\n",
    "}\n",
    "# for using Cut function for histogram to break into bins"
   ]
  },
  {
   "cell_type": "code",
   "execution_count": 3,
   "metadata": {
    "run_control": {
     "frozen": false,
     "read_only": false
    },
    "scrolled": true
   },
   "outputs": [
    {
     "name": "stderr",
     "output_type": "stream",
     "text": [
      "Loading required package: UsingR\n",
      "Warning message:\n",
      "\"package 'UsingR' was built under R version 3.3.3\"Loading required package: MASS\n",
      "Loading required package: HistData\n",
      "Warning message:\n",
      "\"package 'HistData' was built under R version 3.3.3\"\n",
      "Attaching package: 'UsingR'\n",
      "\n",
      "The following object is masked from 'package:survival':\n",
      "\n",
      "    cancer\n",
      "\n",
      "The following objects are masked from 'package:psych':\n",
      "\n",
      "    galton, headtail\n",
      "\n"
     ]
    }
   ],
   "source": [
    "if(!require(UsingR)){\n",
    "    install.packages(\"UsingR\",repos=\"http://cran.us.r-project.org/\",\n",
    "                     lib=\"C:/Users/Suman/Documents/R/win-library/3.3\"\n",
    ")\n",
    "}\n",
    "# for using movies data"
   ]
  },
  {
   "cell_type": "code",
   "execution_count": 4,
   "metadata": {
    "collapsed": true,
    "run_control": {
     "frozen": false,
     "read_only": false
    }
   },
   "outputs": [],
   "source": [
    "# to install bulk packages all at once using function: https://gist.github.com/stevenworthington/3178163\n",
    "ipak <- function(pkg){\n",
    "    new.pkg <- pkg[!(pkg %in% installed.packages()[, \"Package\"])]\n",
    "    if (length(new.pkg)) \n",
    "        install.packages(new.pkg, dependencies = TRUE,\n",
    "                         repos=\"http://cran.us.r-project.org/\",\n",
    "                     lib=\"C:/Users/Suman/Documents/R/win-library/3.3\")\n",
    "    sapply(pkg, require, character.only = TRUE)\n",
    "}    "
   ]
  },
  {
   "cell_type": "code",
   "execution_count": 5,
   "metadata": {
    "run_control": {
     "frozen": false,
     "marked": false,
     "read_only": false
    },
    "scrolled": true
   },
   "outputs": [
    {
     "name": "stderr",
     "output_type": "stream",
     "text": [
      "Loading required package: plyr\n",
      "\n",
      "Attaching package: 'plyr'\n",
      "\n",
      "The following objects are masked from 'package:Hmisc':\n",
      "\n",
      "    is.discrete, summarize\n",
      "\n",
      "Loading required package: reshape2\n",
      "Loading required package: RColorBrewer\n",
      "Loading required package: scales\n",
      "\n",
      "Attaching package: 'scales'\n",
      "\n",
      "The following objects are masked from 'package:psych':\n",
      "\n",
      "    alpha, rescale\n",
      "\n",
      "Loading required package: grid\n",
      "Loading required package: AbSim\n",
      "Warning message:\n",
      "\"package 'AbSim' was built under R version 3.3.3\"Loading required package: ape\n",
      "Warning message:\n",
      "\"package 'ape' was built under R version 3.3.3\"\n",
      "Attaching package: 'ape'\n",
      "\n",
      "The following object is masked from 'package:Hmisc':\n",
      "\n",
      "    zoom\n",
      "\n",
      "Loading required package: poweRlaw\n",
      "Warning message:\n",
      "\"package 'poweRlaw' was built under R version 3.3.3\""
     ]
    },
    {
     "data": {
      "text/html": [
       "<dl class=dl-horizontal>\n",
       "\t<dt>ggplot2</dt>\n",
       "\t\t<dd>TRUE</dd>\n",
       "\t<dt>plyr</dt>\n",
       "\t\t<dd>TRUE</dd>\n",
       "\t<dt>reshape2</dt>\n",
       "\t\t<dd>TRUE</dd>\n",
       "\t<dt>RColorBrewer</dt>\n",
       "\t\t<dd>TRUE</dd>\n",
       "\t<dt>scales</dt>\n",
       "\t\t<dd>TRUE</dd>\n",
       "\t<dt>grid</dt>\n",
       "\t\t<dd>TRUE</dd>\n",
       "\t<dt>AbSim</dt>\n",
       "\t\t<dd>TRUE</dd>\n",
       "</dl>\n"
      ],
      "text/latex": [
       "\\begin{description*}\n",
       "\\item[ggplot2] TRUE\n",
       "\\item[plyr] TRUE\n",
       "\\item[reshape2] TRUE\n",
       "\\item[RColorBrewer] TRUE\n",
       "\\item[scales] TRUE\n",
       "\\item[grid] TRUE\n",
       "\\item[AbSim] TRUE\n",
       "\\end{description*}\n"
      ],
      "text/markdown": [
       "ggplot2\n",
       ":   TRUEplyr\n",
       ":   TRUEreshape2\n",
       ":   TRUERColorBrewer\n",
       ":   TRUEscales\n",
       ":   TRUEgrid\n",
       ":   TRUEAbSim\n",
       ":   TRUE\n",
       "\n"
      ],
      "text/plain": [
       "     ggplot2         plyr     reshape2 RColorBrewer       scales         grid \n",
       "        TRUE         TRUE         TRUE         TRUE         TRUE         TRUE \n",
       "       AbSim \n",
       "        TRUE "
      ]
     },
     "metadata": {},
     "output_type": "display_data"
    }
   ],
   "source": [
    "# usage loading of bulk packages all at once feature:\n",
    "packages <- c(\"ggplot2\", \"plyr\", \"reshape2\", \"RColorBrewer\", \"scales\", \"grid\",\"AbSim\")\n",
    "ipak(packages)"
   ]
  },
  {
   "cell_type": "code",
   "execution_count": 6,
   "metadata": {
    "run_control": {
     "frozen": false,
     "read_only": false
    }
   },
   "outputs": [
    {
     "data": {
      "text/html": [
       "TRUE"
      ],
      "text/latex": [
       "TRUE"
      ],
      "text/markdown": [
       "TRUE"
      ],
      "text/plain": [
       "[1] TRUE"
      ]
     },
     "metadata": {},
     "output_type": "display_data"
    }
   ],
   "source": [
    "# to check whether a perticular package installed or not\n",
    "any(grepl(\"AbSim\", installed.packages()))"
   ]
  },
  {
   "cell_type": "code",
   "execution_count": 7,
   "metadata": {
    "collapsed": true,
    "run_control": {
     "frozen": false,
     "read_only": false
    }
   },
   "outputs": [],
   "source": [
    "typos.draft1 = c(2,3,0,3,1,0,0,1)\n",
    "typos.draft2 = c(0,3,0,3,1,0,0,1)\n"
   ]
  },
  {
   "cell_type": "code",
   "execution_count": 8,
   "metadata": {
    "run_control": {
     "frozen": false,
     "read_only": false
    }
   },
   "outputs": [
    {
     "data": {
      "text/html": [
       "<ol class=list-inline>\n",
       "\t<li>0</li>\n",
       "\t<li>3</li>\n",
       "\t<li>0</li>\n",
       "\t<li>3</li>\n",
       "\t<li>1</li>\n",
       "\t<li>0</li>\n",
       "\t<li>0</li>\n",
       "\t<li>1</li>\n",
       "</ol>\n"
      ],
      "text/latex": [
       "\\begin{enumerate*}\n",
       "\\item 0\n",
       "\\item 3\n",
       "\\item 0\n",
       "\\item 3\n",
       "\\item 1\n",
       "\\item 0\n",
       "\\item 0\n",
       "\\item 1\n",
       "\\end{enumerate*}\n"
      ],
      "text/markdown": [
       "1. 0\n",
       "2. 3\n",
       "3. 0\n",
       "4. 3\n",
       "5. 1\n",
       "6. 0\n",
       "7. 0\n",
       "8. 1\n",
       "\n",
       "\n"
      ],
      "text/plain": [
       "[1] 0 3 0 3 1 0 0 1"
      ]
     },
     "metadata": {},
     "output_type": "display_data"
    }
   ],
   "source": [
    "typos.draft1 = c(2,3,0,3,1,0,0,1)\n",
    "typos.draft2 = typos.draft1 # make a copy\n",
    "typos.draft2[1] = 0 # assign the first page 0 typos\n",
    "typos.draft2"
   ]
  },
  {
   "cell_type": "code",
   "execution_count": 9,
   "metadata": {
    "run_control": {
     "frozen": false,
     "read_only": false
    }
   },
   "outputs": [
    {
     "data": {
      "text/html": [
       "<ol class=list-inline>\n",
       "\t<li>2</li>\n",
       "\t<li>4</li>\n",
       "</ol>\n"
      ],
      "text/latex": [
       "\\begin{enumerate*}\n",
       "\\item 2\n",
       "\\item 4\n",
       "\\end{enumerate*}\n"
      ],
      "text/markdown": [
       "1. 2\n",
       "2. 4\n",
       "\n",
       "\n"
      ],
      "text/plain": [
       "[1] 2 4"
      ]
     },
     "metadata": {},
     "output_type": "display_data"
    }
   ],
   "source": [
    "which(typos.draft2 == 3)"
   ]
  },
  {
   "cell_type": "code",
   "execution_count": 10,
   "metadata": {
    "run_control": {
     "frozen": false,
     "marked": false,
     "read_only": false
    }
   },
   "outputs": [
    {
     "data": {
      "text/html": [
       "<ol class=list-inline>\n",
       "\t<li>0</li>\n",
       "\t<li>3</li>\n",
       "\t<li>0</li>\n",
       "\t<li>3</li>\n",
       "\t<li>1</li>\n",
       "\t<li>0</li>\n",
       "\t<li>0</li>\n",
       "\t<li>1</li>\n",
       "</ol>\n"
      ],
      "text/latex": [
       "\\begin{enumerate*}\n",
       "\\item 0\n",
       "\\item 3\n",
       "\\item 0\n",
       "\\item 3\n",
       "\\item 1\n",
       "\\item 0\n",
       "\\item 0\n",
       "\\item 1\n",
       "\\end{enumerate*}\n"
      ],
      "text/markdown": [
       "1. 0\n",
       "2. 3\n",
       "3. 0\n",
       "4. 3\n",
       "5. 1\n",
       "6. 0\n",
       "7. 0\n",
       "8. 1\n",
       "\n",
       "\n"
      ],
      "text/plain": [
       "[1] 0 3 0 3 1 0 0 1"
      ]
     },
     "metadata": {},
     "output_type": "display_data"
    },
    {
     "data": {
      "text/html": [
       "4"
      ],
      "text/latex": [
       "4"
      ],
      "text/markdown": [
       "4"
      ],
      "text/plain": [
       "[1] 4"
      ]
     },
     "metadata": {},
     "output_type": "display_data"
    }
   ],
   "source": [
    "typos.draft2\n",
    "sum(typos.draft2>0)"
   ]
  },
  {
   "cell_type": "code",
   "execution_count": 11,
   "metadata": {
    "run_control": {
     "frozen": false,
     "read_only": false
    }
   },
   "outputs": [
    {
     "data": {
      "text/html": [
       "15"
      ],
      "text/latex": [
       "15"
      ],
      "text/markdown": [
       "15"
      ],
      "text/plain": [
       "[1] 15"
      ]
     },
     "metadata": {},
     "output_type": "display_data"
    }
   ],
   "source": [
    "x = c(45,43,46,48,51,46,50,47,46,45)\n",
    "x = c(x,48,49,51,50,49) # append values to x\n",
    "length(x) # how long is x now (it was 10)\n",
    "x[16] = 41 # add to a specified index\n",
    "x[17:20] = c(40,38,35,40) # add to many specified indices\n"
   ]
  },
  {
   "cell_type": "code",
   "execution_count": 12,
   "metadata": {
    "collapsed": true,
    "run_control": {
     "frozen": false,
     "marked": false,
     "read_only": false
    }
   },
   "outputs": [],
   "source": [
    "data.entry(x) # Pops up spreadsheet to edit data\n"
   ]
  },
  {
   "cell_type": "code",
   "execution_count": 13,
   "metadata": {
    "run_control": {
     "frozen": false,
     "read_only": false
    }
   },
   "outputs": [
    {
     "data": {
      "text/html": [
       "<ol class=list-inline>\n",
       "\t<li>45</li>\n",
       "\t<li>43</li>\n",
       "\t<li>46</li>\n",
       "\t<li>48</li>\n",
       "\t<li>51</li>\n",
       "\t<li>46</li>\n",
       "\t<li>50</li>\n",
       "\t<li>47</li>\n",
       "\t<li>46</li>\n",
       "\t<li>45</li>\n",
       "\t<li>48</li>\n",
       "\t<li>49</li>\n",
       "\t<li>51</li>\n",
       "\t<li>50</li>\n",
       "\t<li>49</li>\n",
       "\t<li>41</li>\n",
       "\t<li>40</li>\n",
       "\t<li>38</li>\n",
       "\t<li>35</li>\n",
       "\t<li>40</li>\n",
       "</ol>\n"
      ],
      "text/latex": [
       "\\begin{enumerate*}\n",
       "\\item 45\n",
       "\\item 43\n",
       "\\item 46\n",
       "\\item 48\n",
       "\\item 51\n",
       "\\item 46\n",
       "\\item 50\n",
       "\\item 47\n",
       "\\item 46\n",
       "\\item 45\n",
       "\\item 48\n",
       "\\item 49\n",
       "\\item 51\n",
       "\\item 50\n",
       "\\item 49\n",
       "\\item 41\n",
       "\\item 40\n",
       "\\item 38\n",
       "\\item 35\n",
       "\\item 40\n",
       "\\end{enumerate*}\n"
      ],
      "text/markdown": [
       "1. 45\n",
       "2. 43\n",
       "3. 46\n",
       "4. 48\n",
       "5. 51\n",
       "6. 46\n",
       "7. 50\n",
       "8. 47\n",
       "9. 46\n",
       "10. 45\n",
       "11. 48\n",
       "12. 49\n",
       "13. 51\n",
       "14. 50\n",
       "15. 49\n",
       "16. 41\n",
       "17. 40\n",
       "18. 38\n",
       "19. 35\n",
       "20. 40\n",
       "\n",
       "\n"
      ],
      "text/plain": [
       " [1] 45 43 46 48 51 46 50 47 46 45 48 49 51 50 49 41 40 38 35 40"
      ]
     },
     "metadata": {},
     "output_type": "display_data"
    }
   ],
   "source": [
    "x"
   ]
  },
  {
   "cell_type": "code",
   "execution_count": 14,
   "metadata": {
    "run_control": {
     "frozen": false,
     "read_only": false
    }
   },
   "outputs": [
    {
     "data": {
      "text/html": [
       "48"
      ],
      "text/latex": [
       "48"
      ],
      "text/markdown": [
       "48"
      ],
      "text/plain": [
       "[1] 48"
      ]
     },
     "metadata": {},
     "output_type": "display_data"
    },
    {
     "data": {
      "text/html": [
       "<ol class=list-inline>\n",
       "\t<li>5</li>\n",
       "\t<li>6</li>\n",
       "\t<li>7</li>\n",
       "\t<li>8</li>\n",
       "\t<li>9</li>\n",
       "</ol>\n"
      ],
      "text/latex": [
       "\\begin{enumerate*}\n",
       "\\item 5\n",
       "\\item 6\n",
       "\\item 7\n",
       "\\item 8\n",
       "\\item 9\n",
       "\\end{enumerate*}\n"
      ],
      "text/markdown": [
       "1. 5\n",
       "2. 6\n",
       "3. 7\n",
       "4. 8\n",
       "5. 9\n",
       "\n",
       "\n"
      ],
      "text/plain": [
       "[1] 5 6 7 8 9"
      ]
     },
     "metadata": {},
     "output_type": "display_data"
    }
   ],
   "source": [
    "day = 5;\n",
    "mean(x[day:(day+4)])\n",
    "day:(day+4)"
   ]
  },
  {
   "cell_type": "code",
   "execution_count": 15,
   "metadata": {
    "collapsed": true,
    "run_control": {
     "frozen": false,
     "marked": false,
     "read_only": false
    }
   },
   "outputs": [],
   "source": [
    "#x = de(x) # same only, doesn’t save changes"
   ]
  },
  {
   "cell_type": "code",
   "execution_count": 16,
   "metadata": {
    "run_control": {
     "frozen": false,
     "read_only": false
    },
    "scrolled": true
   },
   "outputs": [
    {
     "data": {
      "text/html": [
       "<ol class=list-inline>\n",
       "\t<li>45</li>\n",
       "\t<li>43</li>\n",
       "\t<li>46</li>\n",
       "\t<li>48</li>\n",
       "\t<li>51</li>\n",
       "\t<li>46</li>\n",
       "\t<li>50</li>\n",
       "\t<li>47</li>\n",
       "\t<li>46</li>\n",
       "\t<li>45</li>\n",
       "\t<li>48</li>\n",
       "\t<li>49</li>\n",
       "\t<li>51</li>\n",
       "\t<li>50</li>\n",
       "\t<li>49</li>\n",
       "\t<li>41</li>\n",
       "\t<li>40</li>\n",
       "\t<li>38</li>\n",
       "\t<li>35</li>\n",
       "\t<li>40</li>\n",
       "</ol>\n"
      ],
      "text/latex": [
       "\\begin{enumerate*}\n",
       "\\item 45\n",
       "\\item 43\n",
       "\\item 46\n",
       "\\item 48\n",
       "\\item 51\n",
       "\\item 46\n",
       "\\item 50\n",
       "\\item 47\n",
       "\\item 46\n",
       "\\item 45\n",
       "\\item 48\n",
       "\\item 49\n",
       "\\item 51\n",
       "\\item 50\n",
       "\\item 49\n",
       "\\item 41\n",
       "\\item 40\n",
       "\\item 38\n",
       "\\item 35\n",
       "\\item 40\n",
       "\\end{enumerate*}\n"
      ],
      "text/markdown": [
       "1. 45\n",
       "2. 43\n",
       "3. 46\n",
       "4. 48\n",
       "5. 51\n",
       "6. 46\n",
       "7. 50\n",
       "8. 47\n",
       "9. 46\n",
       "10. 45\n",
       "11. 48\n",
       "12. 49\n",
       "13. 51\n",
       "14. 50\n",
       "15. 49\n",
       "16. 41\n",
       "17. 40\n",
       "18. 38\n",
       "19. 35\n",
       "20. 40\n",
       "\n",
       "\n"
      ],
      "text/plain": [
       " [1] 45 43 46 48 51 46 50 47 46 45 48 49 51 50 49 41 40 38 35 40"
      ]
     },
     "metadata": {},
     "output_type": "display_data"
    }
   ],
   "source": [
    "x"
   ]
  },
  {
   "cell_type": "code",
   "execution_count": 17,
   "metadata": {
    "run_control": {
     "frozen": false,
     "read_only": false
    }
   },
   "outputs": [
    {
     "data": {
      "text/html": [
       "<ol class=list-inline>\n",
       "\t<li>45</li>\n",
       "\t<li>45</li>\n",
       "\t<li>46</li>\n",
       "\t<li>48</li>\n",
       "\t<li>51</li>\n",
       "\t<li>51</li>\n",
       "\t<li>51</li>\n",
       "\t<li>51</li>\n",
       "\t<li>51</li>\n",
       "\t<li>51</li>\n",
       "\t<li>51</li>\n",
       "\t<li>51</li>\n",
       "\t<li>51</li>\n",
       "\t<li>51</li>\n",
       "\t<li>51</li>\n",
       "\t<li>51</li>\n",
       "\t<li>51</li>\n",
       "\t<li>51</li>\n",
       "\t<li>51</li>\n",
       "\t<li>51</li>\n",
       "</ol>\n"
      ],
      "text/latex": [
       "\\begin{enumerate*}\n",
       "\\item 45\n",
       "\\item 45\n",
       "\\item 46\n",
       "\\item 48\n",
       "\\item 51\n",
       "\\item 51\n",
       "\\item 51\n",
       "\\item 51\n",
       "\\item 51\n",
       "\\item 51\n",
       "\\item 51\n",
       "\\item 51\n",
       "\\item 51\n",
       "\\item 51\n",
       "\\item 51\n",
       "\\item 51\n",
       "\\item 51\n",
       "\\item 51\n",
       "\\item 51\n",
       "\\item 51\n",
       "\\end{enumerate*}\n"
      ],
      "text/markdown": [
       "1. 45\n",
       "2. 45\n",
       "3. 46\n",
       "4. 48\n",
       "5. 51\n",
       "6. 51\n",
       "7. 51\n",
       "8. 51\n",
       "9. 51\n",
       "10. 51\n",
       "11. 51\n",
       "12. 51\n",
       "13. 51\n",
       "14. 51\n",
       "15. 51\n",
       "16. 51\n",
       "17. 51\n",
       "18. 51\n",
       "19. 51\n",
       "20. 51\n",
       "\n",
       "\n"
      ],
      "text/plain": [
       " [1] 45 45 46 48 51 51 51 51 51 51 51 51 51 51 51 51 51 51 51 51"
      ]
     },
     "metadata": {},
     "output_type": "display_data"
    }
   ],
   "source": [
    " cummax(x)"
   ]
  },
  {
   "cell_type": "code",
   "execution_count": 18,
   "metadata": {
    "run_control": {
     "frozen": false,
     "read_only": false
    }
   },
   "outputs": [
    {
     "data": {
      "text/html": [
       "<ol class=list-inline>\n",
       "\t<li>45</li>\n",
       "\t<li>43</li>\n",
       "\t<li>43</li>\n",
       "\t<li>43</li>\n",
       "\t<li>43</li>\n",
       "\t<li>43</li>\n",
       "\t<li>43</li>\n",
       "\t<li>43</li>\n",
       "\t<li>43</li>\n",
       "\t<li>43</li>\n",
       "\t<li>43</li>\n",
       "\t<li>43</li>\n",
       "\t<li>43</li>\n",
       "\t<li>43</li>\n",
       "\t<li>43</li>\n",
       "\t<li>41</li>\n",
       "\t<li>40</li>\n",
       "\t<li>38</li>\n",
       "\t<li>35</li>\n",
       "\t<li>35</li>\n",
       "</ol>\n"
      ],
      "text/latex": [
       "\\begin{enumerate*}\n",
       "\\item 45\n",
       "\\item 43\n",
       "\\item 43\n",
       "\\item 43\n",
       "\\item 43\n",
       "\\item 43\n",
       "\\item 43\n",
       "\\item 43\n",
       "\\item 43\n",
       "\\item 43\n",
       "\\item 43\n",
       "\\item 43\n",
       "\\item 43\n",
       "\\item 43\n",
       "\\item 43\n",
       "\\item 41\n",
       "\\item 40\n",
       "\\item 38\n",
       "\\item 35\n",
       "\\item 35\n",
       "\\end{enumerate*}\n"
      ],
      "text/markdown": [
       "1. 45\n",
       "2. 43\n",
       "3. 43\n",
       "4. 43\n",
       "5. 43\n",
       "6. 43\n",
       "7. 43\n",
       "8. 43\n",
       "9. 43\n",
       "10. 43\n",
       "11. 43\n",
       "12. 43\n",
       "13. 43\n",
       "14. 43\n",
       "15. 43\n",
       "16. 41\n",
       "17. 40\n",
       "18. 38\n",
       "19. 35\n",
       "20. 35\n",
       "\n",
       "\n"
      ],
      "text/plain": [
       " [1] 45 43 43 43 43 43 43 43 43 43 43 43 43 43 43 41 40 38 35 35"
      ]
     },
     "metadata": {},
     "output_type": "display_data"
    }
   ],
   "source": [
    "cummin(x)"
   ]
  },
  {
   "cell_type": "code",
   "execution_count": 19,
   "metadata": {
    "run_control": {
     "frozen": false,
     "read_only": false
    }
   },
   "outputs": [
    {
     "data": {
      "text/html": [
       "43"
      ],
      "text/latex": [
       "43"
      ],
      "text/markdown": [
       "43"
      ],
      "text/plain": [
       "[1] 43"
      ]
     },
     "metadata": {},
     "output_type": "display_data"
    }
   ],
   "source": [
    "x[2] #(i = 2)\n"
   ]
  },
  {
   "cell_type": "code",
   "execution_count": 20,
   "metadata": {
    "collapsed": true,
    "run_control": {
     "frozen": false,
     "read_only": false
    }
   },
   "outputs": [],
   "source": [
    "x = c(1,3,5,7,9)\n",
    "y = c(2,3,5,7,11,13)"
   ]
  },
  {
   "cell_type": "code",
   "execution_count": 21,
   "metadata": {
    "run_control": {
     "frozen": false,
     "read_only": false
    }
   },
   "outputs": [
    {
     "data": {
      "text/html": [
       "2"
      ],
      "text/latex": [
       "2"
      ],
      "text/markdown": [
       "2"
      ],
      "text/plain": [
       "[1] 2"
      ]
     },
     "metadata": {},
     "output_type": "display_data"
    }
   ],
   "source": [
    "sum(x>5)"
   ]
  },
  {
   "cell_type": "code",
   "execution_count": 22,
   "metadata": {
    "run_control": {
     "frozen": false,
     "read_only": false
    }
   },
   "outputs": [
    {
     "data": {
      "text/html": [
       "<ol class=list-inline>\n",
       "\t<li>7</li>\n",
       "\t<li>9</li>\n",
       "</ol>\n"
      ],
      "text/latex": [
       "\\begin{enumerate*}\n",
       "\\item 7\n",
       "\\item 9\n",
       "\\end{enumerate*}\n"
      ],
      "text/markdown": [
       "1. 7\n",
       "2. 9\n",
       "\n",
       "\n"
      ],
      "text/plain": [
       "[1] 7 9"
      ]
     },
     "metadata": {},
     "output_type": "display_data"
    }
   ],
   "source": [
    "x[x>5]"
   ]
  },
  {
   "cell_type": "code",
   "execution_count": 23,
   "metadata": {
    "run_control": {
     "frozen": false,
     "read_only": false
    },
    "scrolled": true
   },
   "outputs": [
    {
     "data": {
      "text/html": [
       "16"
      ],
      "text/latex": [
       "16"
      ],
      "text/markdown": [
       "16"
      ],
      "text/plain": [
       "[1] 16"
      ]
     },
     "metadata": {},
     "output_type": "display_data"
    }
   ],
   "source": [
    "sum(x[x>5])"
   ]
  },
  {
   "cell_type": "code",
   "execution_count": 24,
   "metadata": {
    "run_control": {
     "frozen": false,
     "read_only": false
    }
   },
   "outputs": [
    {
     "data": {
      "text/html": [
       "<ol class=list-inline>\n",
       "\t<li>1</li>\n",
       "\t<li>3</li>\n",
       "\t<li>5</li>\n",
       "\t<li>7</li>\n",
       "\t<li>9</li>\n",
       "</ol>\n"
      ],
      "text/latex": [
       "\\begin{enumerate*}\n",
       "\\item 1\n",
       "\\item 3\n",
       "\\item 5\n",
       "\\item 7\n",
       "\\item 9\n",
       "\\end{enumerate*}\n"
      ],
      "text/markdown": [
       "1. 1\n",
       "2. 3\n",
       "3. 5\n",
       "4. 7\n",
       "5. 9\n",
       "\n",
       "\n"
      ],
      "text/plain": [
       "[1] 1 3 5 7 9"
      ]
     },
     "metadata": {},
     "output_type": "display_data"
    },
    {
     "data": {
      "text/html": [
       "3"
      ],
      "text/latex": [
       "3"
      ],
      "text/markdown": [
       "3"
      ],
      "text/plain": [
       "[1] 3"
      ]
     },
     "metadata": {},
     "output_type": "display_data"
    }
   ],
   "source": [
    "x\n",
    "sum(x>5 | x< 3)"
   ]
  },
  {
   "cell_type": "code",
   "execution_count": 25,
   "metadata": {
    "run_control": {
     "frozen": false,
     "read_only": false
    }
   },
   "outputs": [
    {
     "data": {
      "text/html": [
       "1"
      ],
      "text/latex": [
       "1"
      ],
      "text/markdown": [
       "1"
      ],
      "text/plain": [
       "[1] 1"
      ]
     },
     "metadata": {},
     "output_type": "display_data"
    }
   ],
   "source": [
    "sum(x>3 & x< 7)"
   ]
  },
  {
   "cell_type": "code",
   "execution_count": 26,
   "metadata": {
    "run_control": {
     "frozen": false,
     "read_only": false
    }
   },
   "outputs": [
    {
     "data": {
      "text/html": [
       "<ol class=list-inline>\n",
       "\t<li>2</li>\n",
       "\t<li>5</li>\n",
       "\t<li>11</li>\n",
       "\t<li>NA</li>\n",
       "\t<li>NA</li>\n",
       "</ol>\n"
      ],
      "text/latex": [
       "\\begin{enumerate*}\n",
       "\\item 2\n",
       "\\item 5\n",
       "\\item 11\n",
       "\\item NA\n",
       "\\item NA\n",
       "\\end{enumerate*}\n"
      ],
      "text/markdown": [
       "1. 2\n",
       "2. 5\n",
       "3. 11\n",
       "4. NA\n",
       "5. NA\n",
       "\n",
       "\n"
      ],
      "text/plain": [
       "[1]  2  5 11 NA NA"
      ]
     },
     "metadata": {},
     "output_type": "display_data"
    },
    {
     "data": {
      "text/html": [
       "<ol class=list-inline>\n",
       "\t<li>1</li>\n",
       "\t<li>3</li>\n",
       "\t<li>5</li>\n",
       "\t<li>7</li>\n",
       "\t<li>9</li>\n",
       "</ol>\n"
      ],
      "text/latex": [
       "\\begin{enumerate*}\n",
       "\\item 1\n",
       "\\item 3\n",
       "\\item 5\n",
       "\\item 7\n",
       "\\item 9\n",
       "\\end{enumerate*}\n"
      ],
      "text/markdown": [
       "1. 1\n",
       "2. 3\n",
       "3. 5\n",
       "4. 7\n",
       "5. 9\n",
       "\n",
       "\n"
      ],
      "text/plain": [
       "[1] 1 3 5 7 9"
      ]
     },
     "metadata": {},
     "output_type": "display_data"
    }
   ],
   "source": [
    "y[x]\n",
    "x"
   ]
  },
  {
   "cell_type": "code",
   "execution_count": 27,
   "metadata": {
    "collapsed": true,
    "run_control": {
     "frozen": false,
     "read_only": false
    }
   },
   "outputs": [],
   "source": [
    "x = c(1, 8, 2, 6, 3, 8, 5, 5, 5, 5)"
   ]
  },
  {
   "cell_type": "code",
   "execution_count": 28,
   "metadata": {
    "run_control": {
     "frozen": false,
     "read_only": false
    }
   },
   "outputs": [
    {
     "data": {
      "text/html": [
       "48"
      ],
      "text/latex": [
       "48"
      ],
      "text/markdown": [
       "48"
      ],
      "text/plain": [
       "[1] 48"
      ]
     },
     "metadata": {},
     "output_type": "display_data"
    },
    {
     "data": {
      "text/html": [
       "4.8"
      ],
      "text/latex": [
       "4.8"
      ],
      "text/markdown": [
       "4.8"
      ],
      "text/plain": [
       "[1] 4.8"
      ]
     },
     "metadata": {},
     "output_type": "display_data"
    }
   ],
   "source": [
    "sum(x)\n",
    "sum(x)/length(x)"
   ]
  },
  {
   "cell_type": "code",
   "execution_count": 29,
   "metadata": {
    "collapsed": true,
    "run_control": {
     "frozen": false,
     "read_only": false
    }
   },
   "outputs": [],
   "source": [
    "x=c(\"Yes\",\"No\",\"No\",\"Yes\",\"Yes\")"
   ]
  },
  {
   "cell_type": "code",
   "execution_count": 30,
   "metadata": {
    "run_control": {
     "frozen": false,
     "read_only": false
    }
   },
   "outputs": [
    {
     "data": {
      "text/plain": [
       "x\n",
       " No Yes \n",
       "  2   3 "
      ]
     },
     "metadata": {},
     "output_type": "display_data"
    }
   ],
   "source": [
    "table(x)"
   ]
  },
  {
   "cell_type": "code",
   "execution_count": 31,
   "metadata": {
    "run_control": {
     "frozen": false,
     "read_only": false
    },
    "scrolled": true
   },
   "outputs": [
    {
     "data": {
      "text/html": [
       "<ol class=list-inline>\n",
       "\t<li>Yes</li>\n",
       "\t<li>No</li>\n",
       "\t<li>No</li>\n",
       "\t<li>Yes</li>\n",
       "\t<li>Yes</li>\n",
       "</ol>\n"
      ],
      "text/latex": [
       "\\begin{enumerate*}\n",
       "\\item Yes\n",
       "\\item No\n",
       "\\item No\n",
       "\\item Yes\n",
       "\\item Yes\n",
       "\\end{enumerate*}\n"
      ],
      "text/markdown": [
       "1. Yes\n",
       "2. No\n",
       "3. No\n",
       "4. Yes\n",
       "5. Yes\n",
       "\n",
       "\n"
      ],
      "text/plain": [
       "[1] Yes No  No  Yes Yes\n",
       "Levels: No Yes"
      ]
     },
     "metadata": {},
     "output_type": "display_data"
    }
   ],
   "source": [
    "factor(x)"
   ]
  },
  {
   "cell_type": "code",
   "execution_count": 32,
   "metadata": {
    "collapsed": true,
    "run_control": {
     "frozen": false,
     "read_only": false
    }
   },
   "outputs": [],
   "source": [
    "beer = scan()"
   ]
  },
  {
   "cell_type": "code",
   "execution_count": 33,
   "metadata": {
    "collapsed": true,
    "run_control": {
     "frozen": false,
     "read_only": false
    }
   },
   "outputs": [],
   "source": [
    "x<-c(3,4,1,1,3,4,3,3,1,3,2,1,2,1,2,3,2,3,1,1,1,1,4,3,1)"
   ]
  },
  {
   "cell_type": "code",
   "execution_count": 34,
   "metadata": {
    "run_control": {
     "frozen": false,
     "read_only": false
    }
   },
   "outputs": [
    {
     "data": {
      "text/html": [
       "25"
      ],
      "text/latex": [
       "25"
      ],
      "text/markdown": [
       "25"
      ],
      "text/plain": [
       "[1] 25"
      ]
     },
     "metadata": {},
     "output_type": "display_data"
    }
   ],
   "source": [
    "length(x)"
   ]
  },
  {
   "cell_type": "code",
   "execution_count": 35,
   "metadata": {
    "collapsed": true,
    "run_control": {
     "frozen": false,
     "read_only": false
    }
   },
   "outputs": [],
   "source": [
    "beer <- x"
   ]
  },
  {
   "cell_type": "code",
   "execution_count": 36,
   "metadata": {
    "run_control": {
     "frozen": false,
     "read_only": false
    },
    "scrolled": true
   },
   "outputs": [
    {
     "data": {
      "text/html": [
       "<ol class=list-inline>\n",
       "\t<li>3</li>\n",
       "\t<li>4</li>\n",
       "\t<li>1</li>\n",
       "\t<li>1</li>\n",
       "\t<li>3</li>\n",
       "\t<li>4</li>\n",
       "\t<li>3</li>\n",
       "\t<li>3</li>\n",
       "\t<li>1</li>\n",
       "\t<li>3</li>\n",
       "\t<li>2</li>\n",
       "\t<li>1</li>\n",
       "\t<li>2</li>\n",
       "\t<li>1</li>\n",
       "\t<li>2</li>\n",
       "\t<li>3</li>\n",
       "\t<li>2</li>\n",
       "\t<li>3</li>\n",
       "\t<li>1</li>\n",
       "\t<li>1</li>\n",
       "\t<li>1</li>\n",
       "\t<li>1</li>\n",
       "\t<li>4</li>\n",
       "\t<li>3</li>\n",
       "\t<li>1</li>\n",
       "</ol>\n"
      ],
      "text/latex": [
       "\\begin{enumerate*}\n",
       "\\item 3\n",
       "\\item 4\n",
       "\\item 1\n",
       "\\item 1\n",
       "\\item 3\n",
       "\\item 4\n",
       "\\item 3\n",
       "\\item 3\n",
       "\\item 1\n",
       "\\item 3\n",
       "\\item 2\n",
       "\\item 1\n",
       "\\item 2\n",
       "\\item 1\n",
       "\\item 2\n",
       "\\item 3\n",
       "\\item 2\n",
       "\\item 3\n",
       "\\item 1\n",
       "\\item 1\n",
       "\\item 1\n",
       "\\item 1\n",
       "\\item 4\n",
       "\\item 3\n",
       "\\item 1\n",
       "\\end{enumerate*}\n"
      ],
      "text/markdown": [
       "1. 3\n",
       "2. 4\n",
       "3. 1\n",
       "4. 1\n",
       "5. 3\n",
       "6. 4\n",
       "7. 3\n",
       "8. 3\n",
       "9. 1\n",
       "10. 3\n",
       "11. 2\n",
       "12. 1\n",
       "13. 2\n",
       "14. 1\n",
       "15. 2\n",
       "16. 3\n",
       "17. 2\n",
       "18. 3\n",
       "19. 1\n",
       "20. 1\n",
       "21. 1\n",
       "22. 1\n",
       "23. 4\n",
       "24. 3\n",
       "25. 1\n",
       "\n",
       "\n"
      ],
      "text/plain": [
       " [1] 3 4 1 1 3 4 3 3 1 3 2 1 2 1 2 3 2 3 1 1 1 1 4 3 1"
      ]
     },
     "metadata": {},
     "output_type": "display_data"
    }
   ],
   "source": [
    "beer"
   ]
  },
  {
   "cell_type": "code",
   "execution_count": 37,
   "metadata": {
    "run_control": {
     "frozen": false,
     "read_only": false
    },
    "scrolled": true
   },
   "outputs": [
    {
     "data": {
      "text/plain": [
       "beer\n",
       " 1  2  3  4 \n",
       "10  4  8  3 "
      ]
     },
     "metadata": {},
     "output_type": "display_data"
    }
   ],
   "source": [
    "table(beer)"
   ]
  },
  {
   "cell_type": "code",
   "execution_count": 38,
   "metadata": {
    "run_control": {
     "frozen": false,
     "read_only": false
    },
    "scrolled": true
   },
   "outputs": [
    {
     "data": {
      "text/html": [
       "<ol class=list-inline>\n",
       "\t<li>0.0555555555555556</li>\n",
       "\t<li>0.0740740740740741</li>\n",
       "\t<li>0.0185185185185185</li>\n",
       "\t<li>0.0185185185185185</li>\n",
       "\t<li>0.0555555555555556</li>\n",
       "\t<li>0.0740740740740741</li>\n",
       "\t<li>0.0555555555555556</li>\n",
       "\t<li>0.0555555555555556</li>\n",
       "\t<li>0.0185185185185185</li>\n",
       "\t<li>0.0555555555555556</li>\n",
       "\t<li>0.037037037037037</li>\n",
       "\t<li>0.0185185185185185</li>\n",
       "\t<li>0.037037037037037</li>\n",
       "\t<li>0.0185185185185185</li>\n",
       "\t<li>0.037037037037037</li>\n",
       "\t<li>0.0555555555555556</li>\n",
       "\t<li>0.037037037037037</li>\n",
       "\t<li>0.0555555555555556</li>\n",
       "\t<li>0.0185185185185185</li>\n",
       "\t<li>0.0185185185185185</li>\n",
       "\t<li>0.0185185185185185</li>\n",
       "\t<li>0.0185185185185185</li>\n",
       "\t<li>0.0740740740740741</li>\n",
       "\t<li>0.0555555555555556</li>\n",
       "\t<li>0.0185185185185185</li>\n",
       "</ol>\n"
      ],
      "text/latex": [
       "\\begin{enumerate*}\n",
       "\\item 0.0555555555555556\n",
       "\\item 0.0740740740740741\n",
       "\\item 0.0185185185185185\n",
       "\\item 0.0185185185185185\n",
       "\\item 0.0555555555555556\n",
       "\\item 0.0740740740740741\n",
       "\\item 0.0555555555555556\n",
       "\\item 0.0555555555555556\n",
       "\\item 0.0185185185185185\n",
       "\\item 0.0555555555555556\n",
       "\\item 0.037037037037037\n",
       "\\item 0.0185185185185185\n",
       "\\item 0.037037037037037\n",
       "\\item 0.0185185185185185\n",
       "\\item 0.037037037037037\n",
       "\\item 0.0555555555555556\n",
       "\\item 0.037037037037037\n",
       "\\item 0.0555555555555556\n",
       "\\item 0.0185185185185185\n",
       "\\item 0.0185185185185185\n",
       "\\item 0.0185185185185185\n",
       "\\item 0.0185185185185185\n",
       "\\item 0.0740740740740741\n",
       "\\item 0.0555555555555556\n",
       "\\item 0.0185185185185185\n",
       "\\end{enumerate*}\n"
      ],
      "text/markdown": [
       "1. 0.0555555555555556\n",
       "2. 0.0740740740740741\n",
       "3. 0.0185185185185185\n",
       "4. 0.0185185185185185\n",
       "5. 0.0555555555555556\n",
       "6. 0.0740740740740741\n",
       "7. 0.0555555555555556\n",
       "8. 0.0555555555555556\n",
       "9. 0.0185185185185185\n",
       "10. 0.0555555555555556\n",
       "11. 0.037037037037037\n",
       "12. 0.0185185185185185\n",
       "13. 0.037037037037037\n",
       "14. 0.0185185185185185\n",
       "15. 0.037037037037037\n",
       "16. 0.0555555555555556\n",
       "17. 0.037037037037037\n",
       "18. 0.0555555555555556\n",
       "19. 0.0185185185185185\n",
       "20. 0.0185185185185185\n",
       "21. 0.0185185185185185\n",
       "22. 0.0185185185185185\n",
       "23. 0.0740740740740741\n",
       "24. 0.0555555555555556\n",
       "25. 0.0185185185185185\n",
       "\n",
       "\n"
      ],
      "text/plain": [
       " [1] 0.05555556 0.07407407 0.01851852 0.01851852 0.05555556 0.07407407\n",
       " [7] 0.05555556 0.05555556 0.01851852 0.05555556 0.03703704 0.01851852\n",
       "[13] 0.03703704 0.01851852 0.03703704 0.05555556 0.03703704 0.05555556\n",
       "[19] 0.01851852 0.01851852 0.01851852 0.01851852 0.07407407 0.05555556\n",
       "[25] 0.01851852"
      ]
     },
     "metadata": {},
     "output_type": "display_data"
    }
   ],
   "source": [
    "prop.table(beer)"
   ]
  },
  {
   "cell_type": "code",
   "execution_count": 39,
   "metadata": {
    "run_control": {
     "frozen": false,
     "read_only": false
    }
   },
   "outputs": [
    {
     "data": {
      "text/plain": [
       "beer\n",
       "   1    2    3    4 \n",
       "0.40 0.16 0.32 0.12 "
      ]
     },
     "metadata": {},
     "output_type": "display_data"
    }
   ],
   "source": [
    "prop.table(table(beer))"
   ]
  },
  {
   "cell_type": "code",
   "execution_count": 40,
   "metadata": {
    "run_control": {
     "frozen": false,
     "read_only": false
    }
   },
   "outputs": [
    {
     "data": {
      "image/png": "[encoded data removed]",
      "text/plain": [
       "plot without title"
      ]
     },
     "metadata": {},
     "output_type": "display_data"
    }
   ],
   "source": [
    "barplot(table(beer))"
   ]
  },
  {
   "cell_type": "code",
   "execution_count": 41,
   "metadata": {
    "run_control": {
     "frozen": false,
     "read_only": false
    }
   },
   "outputs": [
    {
     "data": {
      "text/plain": [
       "beer \n",
       "       n  missing distinct     Info     Mean      Gmd \n",
       "      25        0        4    0.899     2.16    1.233 \n",
       "                              \n",
       "Value         1    2    3    4\n",
       "Frequency    10    4    8    3\n",
       "Proportion 0.40 0.16 0.32 0.12"
      ]
     },
     "metadata": {},
     "output_type": "display_data"
    }
   ],
   "source": [
    "describe(beer) # from psych package"
   ]
  },
  {
   "cell_type": "code",
   "execution_count": 42,
   "metadata": {
    "run_control": {
     "frozen": false,
     "read_only": false
    },
    "scrolled": true
   },
   "outputs": [
    {
     "data": {
      "text/plain": [
       "beer\n",
       "   1    2    3    4 \n",
       "0.40 0.16 0.32 0.12 "
      ]
     },
     "metadata": {},
     "output_type": "display_data"
    }
   ],
   "source": [
    "prop.table(table(beer))\n"
   ]
  },
  {
   "cell_type": "code",
   "execution_count": 43,
   "metadata": {
    "run_control": {
     "frozen": false,
     "read_only": false
    }
   },
   "outputs": [
    {
     "data": {
      "text/plain": [
       "beer\n",
       "   1    2    3    4 \n",
       "0.40 0.16 0.32 0.12 "
      ]
     },
     "metadata": {},
     "output_type": "display_data"
    }
   ],
   "source": [
    "table(beer)/length(beer)"
   ]
  },
  {
   "cell_type": "code",
   "execution_count": 44,
   "metadata": {
    "run_control": {
     "frozen": false,
     "read_only": false
    }
   },
   "outputs": [
    {
     "data": {
      "text/plain": [
       "beer\n",
       " 1  2  3  4 \n",
       "10  4  8  3 "
      ]
     },
     "metadata": {},
     "output_type": "display_data"
    }
   ],
   "source": [
    "table(beer)"
   ]
  },
  {
   "cell_type": "code",
   "execution_count": 45,
   "metadata": {
    "run_control": {
     "frozen": false,
     "read_only": false
    }
   },
   "outputs": [
    {
     "data": {
      "text/html": [
       "25"
      ],
      "text/latex": [
       "25"
      ],
      "text/markdown": [
       "25"
      ],
      "text/plain": [
       "[1] 25"
      ]
     },
     "metadata": {},
     "output_type": "display_data"
    }
   ],
   "source": [
    "length(beer)"
   ]
  },
  {
   "cell_type": "code",
   "execution_count": 46,
   "metadata": {
    "collapsed": true,
    "run_control": {
     "frozen": false,
     "read_only": false
    }
   },
   "outputs": [],
   "source": [
    "beer1 <- c(\"hwllo\",\"hwllo\",\"haui\",\"hai\",\"haui\",\"how\",\"hai\",\"Are\")"
   ]
  },
  {
   "cell_type": "code",
   "execution_count": 47,
   "metadata": {
    "run_control": {
     "frozen": false,
     "read_only": false
    }
   },
   "outputs": [
    {
     "data": {
      "text/plain": [
       "beer1\n",
       "  Are   hai  haui   how hwllo \n",
       "    1     2     2     1     2 "
      ]
     },
     "metadata": {},
     "output_type": "display_data"
    }
   ],
   "source": [
    "table(beer1)"
   ]
  },
  {
   "cell_type": "code",
   "execution_count": 48,
   "metadata": {
    "run_control": {
     "frozen": false,
     "read_only": false
    }
   },
   "outputs": [
    {
     "data": {
      "text/html": [
       "'haui'"
      ],
      "text/latex": [
       "'haui'"
      ],
      "text/markdown": [
       "'haui'"
      ],
      "text/plain": [
       "[1] \"haui\""
      ]
     },
     "metadata": {},
     "output_type": "display_data"
    }
   ],
   "source": [
    "beer1[3]"
   ]
  },
  {
   "cell_type": "code",
   "execution_count": 49,
   "metadata": {
    "run_control": {
     "frozen": false,
     "read_only": false
    }
   },
   "outputs": [
    {
     "data": {
      "text/plain": [
       "beer1\n",
       "  Are   hai  haui   how hwllo \n",
       "0.125 0.250 0.250 0.125 0.250 "
      ]
     },
     "metadata": {},
     "output_type": "display_data"
    }
   ],
   "source": [
    "table(beer1)/length(beer1)"
   ]
  },
  {
   "cell_type": "code",
   "execution_count": 50,
   "metadata": {
    "run_control": {
     "frozen": false,
     "read_only": false
    },
    "scrolled": true
   },
   "outputs": [
    {
     "data": {
      "image/png": "[encoded data removed]",
      "text/plain": [
       "plot without title"
      ]
     },
     "metadata": {},
     "output_type": "display_data"
    }
   ],
   "source": [
    "barplot(table(beer)/length(beer))"
   ]
  },
  {
   "cell_type": "code",
   "execution_count": 51,
   "metadata": {
    "run_control": {
     "frozen": false,
     "read_only": false
    }
   },
   "outputs": [
    {
     "data": {
      "image/png": "[encoded data removed]",
      "text/plain": [
       "plot without title"
      ]
     },
     "metadata": {},
     "output_type": "display_data"
    }
   ],
   "source": [
    "barplot(prop.table(table(beer)))"
   ]
  },
  {
   "cell_type": "code",
   "execution_count": 52,
   "metadata": {
    "run_control": {
     "frozen": false,
     "read_only": false
    }
   },
   "outputs": [
    {
     "data": {
      "text/html": [
       "TRUE"
      ],
      "text/latex": [
       "TRUE"
      ],
      "text/markdown": [
       "TRUE"
      ],
      "text/plain": [
       "[1] TRUE"
      ]
     },
     "metadata": {},
     "output_type": "display_data"
    }
   ],
   "source": [
    "is.array(table(beer1))"
   ]
  },
  {
   "cell_type": "code",
   "execution_count": 53,
   "metadata": {
    "collapsed": true,
    "run_control": {
     "frozen": false,
     "read_only": false
    }
   },
   "outputs": [],
   "source": [
    "beer.counts <- table(beer)"
   ]
  },
  {
   "cell_type": "code",
   "execution_count": 54,
   "metadata": {
    "run_control": {
     "frozen": false,
     "marked": false,
     "read_only": false
    }
   },
   "outputs": [
    {
     "data": {
      "image/png": "[encoded data removed]",
      "text/plain": [
       "plot without title"
      ]
     },
     "metadata": {},
     "output_type": "display_data"
    }
   ],
   "source": [
    "pie(beer.counts)"
   ]
  },
  {
   "cell_type": "code",
   "execution_count": 55,
   "metadata": {
    "collapsed": true,
    "run_control": {
     "frozen": false,
     "read_only": false
    }
   },
   "outputs": [],
   "source": [
    "names(beer.counts) = c(\"domestic\\n can\",\"Domestic\\n bottle\",\n",
    "\"Microbrew\",\"Import\") # give names"
   ]
  },
  {
   "cell_type": "code",
   "execution_count": 56,
   "metadata": {
    "run_control": {
     "frozen": false,
     "read_only": false
    }
   },
   "outputs": [
    {
     "data": {
      "image/png": "[encoded data removed]",
      "text/plain": [
       "plot without title"
      ]
     },
     "metadata": {},
     "output_type": "display_data"
    }
   ],
   "source": [
    " pie(beer.counts)"
   ]
  },
  {
   "cell_type": "code",
   "execution_count": 57,
   "metadata": {
    "run_control": {
     "frozen": false,
     "read_only": false
    }
   },
   "outputs": [
    {
     "data": {
      "image/png": "[encoded data removed]",
      "text/plain": [
       "plot without title"
      ]
     },
     "metadata": {},
     "output_type": "display_data"
    }
   ],
   "source": [
    "pie(beer.counts,col=c(\"purple\",\"green2\",\"cyan\",\"white\"))\n",
    "# now with colors\n"
   ]
  },
  {
   "cell_type": "code",
   "execution_count": 58,
   "metadata": {
    "collapsed": true,
    "run_control": {
     "frozen": false,
     "read_only": false
    }
   },
   "outputs": [],
   "source": [
    "sals <- c(12, .4, 5,2, 50, 8, 3, 1, 4, 0.25)"
   ]
  },
  {
   "cell_type": "code",
   "execution_count": 59,
   "metadata": {
    "run_control": {
     "frozen": false,
     "read_only": false
    }
   },
   "outputs": [
    {
     "data": {
      "text/html": [
       "10"
      ],
      "text/latex": [
       "10"
      ],
      "text/markdown": [
       "10"
      ],
      "text/plain": [
       "[1] 10"
      ]
     },
     "metadata": {},
     "output_type": "display_data"
    }
   ],
   "source": [
    "length(sals)"
   ]
  },
  {
   "cell_type": "code",
   "execution_count": 60,
   "metadata": {
    "run_control": {
     "frozen": false,
     "read_only": false
    }
   },
   "outputs": [
    {
     "data": {
      "text/html": [
       "8.565"
      ],
      "text/latex": [
       "8.565"
      ],
      "text/markdown": [
       "8.565"
      ],
      "text/plain": [
       "[1] 8.565"
      ]
     },
     "metadata": {},
     "output_type": "display_data"
    }
   ],
   "source": [
    "mean(sals)"
   ]
  },
  {
   "cell_type": "code",
   "execution_count": 61,
   "metadata": {
    "run_control": {
     "frozen": false,
     "read_only": false
    }
   },
   "outputs": [
    {
     "data": {
      "text/html": [
       "<ol class=list-inline>\n",
       "\t<li>0.25</li>\n",
       "\t<li>1</li>\n",
       "\t<li>3.5</li>\n",
       "\t<li>8</li>\n",
       "\t<li>50</li>\n",
       "</ol>\n"
      ],
      "text/latex": [
       "\\begin{enumerate*}\n",
       "\\item 0.25\n",
       "\\item 1\n",
       "\\item 3.5\n",
       "\\item 8\n",
       "\\item 50\n",
       "\\end{enumerate*}\n"
      ],
      "text/markdown": [
       "1. 0.25\n",
       "2. 1\n",
       "3. 3.5\n",
       "4. 8\n",
       "5. 50\n",
       "\n",
       "\n"
      ],
      "text/plain": [
       "[1]  0.25  1.00  3.50  8.00 50.00"
      ]
     },
     "metadata": {},
     "output_type": "display_data"
    }
   ],
   "source": [
    "fivenum(sals)"
   ]
  },
  {
   "cell_type": "code",
   "execution_count": 62,
   "metadata": {
    "run_control": {
     "frozen": false,
     "read_only": false
    }
   },
   "outputs": [
    {
     "data": {
      "text/html": [
       "<ol class=list-inline>\n",
       "\t<li>0.25</li>\n",
       "\t<li>0.4</li>\n",
       "\t<li>1</li>\n",
       "\t<li>2</li>\n",
       "\t<li>3</li>\n",
       "\t<li>4</li>\n",
       "\t<li>5</li>\n",
       "\t<li>8</li>\n",
       "\t<li>12</li>\n",
       "\t<li>50</li>\n",
       "</ol>\n"
      ],
      "text/latex": [
       "\\begin{enumerate*}\n",
       "\\item 0.25\n",
       "\\item 0.4\n",
       "\\item 1\n",
       "\\item 2\n",
       "\\item 3\n",
       "\\item 4\n",
       "\\item 5\n",
       "\\item 8\n",
       "\\item 12\n",
       "\\item 50\n",
       "\\end{enumerate*}\n"
      ],
      "text/markdown": [
       "1. 0.25\n",
       "2. 0.4\n",
       "3. 1\n",
       "4. 2\n",
       "5. 3\n",
       "6. 4\n",
       "7. 5\n",
       "8. 8\n",
       "9. 12\n",
       "10. 50\n",
       "\n",
       "\n"
      ],
      "text/plain": [
       " [1]  0.25  0.40  1.00  2.00  3.00  4.00  5.00  8.00 12.00 50.00"
      ]
     },
     "metadata": {},
     "output_type": "display_data"
    }
   ],
   "source": [
    "sort(sals)"
   ]
  },
  {
   "cell_type": "code",
   "execution_count": 63,
   "metadata": {
    "run_control": {
     "frozen": false,
     "read_only": false
    }
   },
   "outputs": [
    {
     "data": {
      "text/html": [
       "8.565"
      ],
      "text/latex": [
       "8.565"
      ],
      "text/markdown": [
       "8.565"
      ],
      "text/plain": [
       "[1] 8.565"
      ]
     },
     "metadata": {},
     "output_type": "display_data"
    },
    {
     "data": {
      "text/html": [
       "4.425"
      ],
      "text/latex": [
       "4.425"
      ],
      "text/markdown": [
       "4.425"
      ],
      "text/plain": [
       "[1] 4.425"
      ]
     },
     "metadata": {},
     "output_type": "display_data"
    }
   ],
   "source": [
    "mean(sals)\n",
    "mean(sals,trim=1/10) "
   ]
  },
  {
   "cell_type": "code",
   "execution_count": 64,
   "metadata": {
    "run_control": {
     "frozen": false,
     "read_only": false
    }
   },
   "outputs": [
    {
     "data": {
      "text/html": [
       "3.5"
      ],
      "text/latex": [
       "3.5"
      ],
      "text/markdown": [
       "3.5"
      ],
      "text/plain": [
       "[1] 3.5"
      ]
     },
     "metadata": {},
     "output_type": "display_data"
    },
    {
     "data": {
      "text/html": [
       "3.5"
      ],
      "text/latex": [
       "3.5"
      ],
      "text/markdown": [
       "3.5"
      ],
      "text/plain": [
       "[1] 3.5"
      ]
     },
     "metadata": {},
     "output_type": "display_data"
    }
   ],
   "source": [
    "mean(sals,trim=1/2)\n",
    "median(sals)"
   ]
  },
  {
   "cell_type": "code",
   "execution_count": 65,
   "metadata": {
    "run_control": {
     "frozen": false,
     "read_only": false
    }
   },
   "outputs": [
    {
     "data": {
      "text/html": [
       "4.15128"
      ],
      "text/latex": [
       "4.15128"
      ],
      "text/markdown": [
       "4.15128"
      ],
      "text/plain": [
       "[1] 4.15128"
      ]
     },
     "metadata": {},
     "output_type": "display_data"
    }
   ],
   "source": [
    "mad(sals)"
   ]
  },
  {
   "cell_type": "code",
   "execution_count": 66,
   "metadata": {
    "collapsed": true,
    "run_control": {
     "frozen": false,
     "read_only": false
    }
   },
   "outputs": [],
   "source": [
    "scores<-c(2,3,16,23,14,12,4,13,2,0,0,0,6,28,31,14,4,8,2,5)"
   ]
  },
  {
   "cell_type": "code",
   "execution_count": 67,
   "metadata": {
    "run_control": {
     "frozen": false,
     "read_only": false
    }
   },
   "outputs": [
    {
     "name": "stdout",
     "output_type": "stream",
     "text": [
      "\n",
      "  The decimal point is 1 digit(s) to the right of the |\n",
      "\n",
      "  0 | 000222344568\n",
      "  1 | 23446\n",
      "  2 | 38\n",
      "  3 | 1\n",
      "\n"
     ]
    }
   ],
   "source": [
    "stem(scores)"
   ]
  },
  {
   "cell_type": "code",
   "execution_count": 68,
   "metadata": {
    "run_control": {
     "frozen": false,
     "read_only": false
    }
   },
   "outputs": [
    {
     "name": "stdout",
     "output_type": "stream",
     "text": [
      "\n",
      "  The decimal point is 1 digit(s) to the right of the |\n",
      "\n",
      "  0 | 000222344\n",
      "  0 | 568\n",
      "  1 | 2344\n",
      "  1 | 6\n",
      "  2 | 3\n",
      "  2 | 8\n",
      "  3 | 1\n",
      "\n"
     ]
    }
   ],
   "source": [
    "stem(scores,scale=2)"
   ]
  },
  {
   "cell_type": "markdown",
   "metadata": {},
   "source": [
    "#### Categorical variables can come from numeric variables by aggregating values"
   ]
  },
  {
   "cell_type": "code",
   "execution_count": 69,
   "metadata": {
    "collapsed": true,
    "run_control": {
     "frozen": false,
     "read_only": false
    }
   },
   "outputs": [],
   "source": [
    "sals = c(12, .4, 5, 2, 50, 8, 3, 1, 4, .25) # enter data"
   ]
  },
  {
   "cell_type": "code",
   "execution_count": 70,
   "metadata": {
    "collapsed": true,
    "run_control": {
     "frozen": false,
     "read_only": false
    }
   },
   "outputs": [],
   "source": [
    "cats = cut(sals,breaks=c(0,1,5,max(sals))) # specify the breaksb\n"
   ]
  },
  {
   "cell_type": "code",
   "execution_count": 71,
   "metadata": {
    "run_control": {
     "frozen": false,
     "read_only": false
    },
    "scrolled": true
   },
   "outputs": [
    {
     "data": {
      "text/html": [
       "<ol class=list-inline>\n",
       "\t<li>2</li>\n",
       "\t<li>9</li>\n",
       "\t<li>19</li>\n",
       "\t<li>5</li>\n",
       "\t<li>0</li>\n",
       "\t<li>20</li>\n",
       "\t<li>14</li>\n",
       "\t<li>9</li>\n",
       "\t<li>11</li>\n",
       "\t<li>17</li>\n",
       "\t<li>18</li>\n",
       "\t<li>14</li>\n",
       "\t<li>16</li>\n",
       "\t<li>0</li>\n",
       "\t<li>5</li>\n",
       "\t<li>18</li>\n",
       "\t<li>15</li>\n",
       "\t<li>0</li>\n",
       "\t<li>18</li>\n",
       "\t<li>14</li>\n",
       "\t<li>11</li>\n",
       "\t<li>6</li>\n",
       "\t<li>2</li>\n",
       "\t<li>4</li>\n",
       "\t<li>10</li>\n",
       "\t<li>12</li>\n",
       "\t<li>19</li>\n",
       "\t<li>18</li>\n",
       "\t<li>2</li>\n",
       "\t<li>15</li>\n",
       "\t<li>7</li>\n",
       "\t<li>16</li>\n",
       "\t<li>18</li>\n",
       "\t<li>13</li>\n",
       "\t<li>17</li>\n",
       "\t<li>3</li>\n",
       "\t<li>18</li>\n",
       "\t<li>19</li>\n",
       "\t<li>14</li>\n",
       "\t<li>7</li>\n",
       "\t<li>3</li>\n",
       "\t<li>15</li>\n",
       "\t<li>9</li>\n",
       "\t<li>1</li>\n",
       "\t<li>7</li>\n",
       "\t<li>18</li>\n",
       "\t<li>18</li>\n",
       "\t<li>3</li>\n",
       "\t<li>7</li>\n",
       "\t<li>17</li>\n",
       "\t<li>10</li>\n",
       "\t<li>10</li>\n",
       "\t<li>14</li>\n",
       "\t<li>20</li>\n",
       "\t<li>2</li>\n",
       "\t<li>12</li>\n",
       "\t<li>19</li>\n",
       "\t<li>16</li>\n",
       "\t<li>17</li>\n",
       "\t<li>9</li>\n",
       "\t<li>6</li>\n",
       "\t<li>4</li>\n",
       "\t<li>5</li>\n",
       "\t<li>18</li>\n",
       "\t<li>10</li>\n",
       "\t<li>11</li>\n",
       "\t<li>4</li>\n",
       "\t<li>8</li>\n",
       "\t<li>6</li>\n",
       "\t<li>7</li>\n",
       "\t<li>2</li>\n",
       "\t<li>8</li>\n",
       "\t<li>18</li>\n",
       "\t<li>5</li>\n",
       "\t<li>2</li>\n",
       "\t<li>3</li>\n",
       "\t<li>20</li>\n",
       "\t<li>19</li>\n",
       "\t<li>2</li>\n",
       "\t<li>16</li>\n",
       "\t<li>8</li>\n",
       "\t<li>17</li>\n",
       "\t<li>8</li>\n",
       "\t<li>7</li>\n",
       "\t<li>16</li>\n",
       "\t<li>15</li>\n",
       "\t<li>15</li>\n",
       "\t<li>12</li>\n",
       "\t<li>1</li>\n",
       "\t<li>1</li>\n",
       "\t<li>13</li>\n",
       "\t<li>2</li>\n",
       "\t<li>1</li>\n",
       "\t<li>10</li>\n",
       "\t<li>20</li>\n",
       "\t<li>12</li>\n",
       "\t<li>8</li>\n",
       "\t<li>1</li>\n",
       "\t<li>11</li>\n",
       "\t<li>17</li>\n",
       "</ol>\n"
      ],
      "text/latex": [
       "\\begin{enumerate*}\n",
       "\\item 2\n",
       "\\item 9\n",
       "\\item 19\n",
       "\\item 5\n",
       "\\item 0\n",
       "\\item 20\n",
       "\\item 14\n",
       "\\item 9\n",
       "\\item 11\n",
       "\\item 17\n",
       "\\item 18\n",
       "\\item 14\n",
       "\\item 16\n",
       "\\item 0\n",
       "\\item 5\n",
       "\\item 18\n",
       "\\item 15\n",
       "\\item 0\n",
       "\\item 18\n",
       "\\item 14\n",
       "\\item 11\n",
       "\\item 6\n",
       "\\item 2\n",
       "\\item 4\n",
       "\\item 10\n",
       "\\item 12\n",
       "\\item 19\n",
       "\\item 18\n",
       "\\item 2\n",
       "\\item 15\n",
       "\\item 7\n",
       "\\item 16\n",
       "\\item 18\n",
       "\\item 13\n",
       "\\item 17\n",
       "\\item 3\n",
       "\\item 18\n",
       "\\item 19\n",
       "\\item 14\n",
       "\\item 7\n",
       "\\item 3\n",
       "\\item 15\n",
       "\\item 9\n",
       "\\item 1\n",
       "\\item 7\n",
       "\\item 18\n",
       "\\item 18\n",
       "\\item 3\n",
       "\\item 7\n",
       "\\item 17\n",
       "\\item 10\n",
       "\\item 10\n",
       "\\item 14\n",
       "\\item 20\n",
       "\\item 2\n",
       "\\item 12\n",
       "\\item 19\n",
       "\\item 16\n",
       "\\item 17\n",
       "\\item 9\n",
       "\\item 6\n",
       "\\item 4\n",
       "\\item 5\n",
       "\\item 18\n",
       "\\item 10\n",
       "\\item 11\n",
       "\\item 4\n",
       "\\item 8\n",
       "\\item 6\n",
       "\\item 7\n",
       "\\item 2\n",
       "\\item 8\n",
       "\\item 18\n",
       "\\item 5\n",
       "\\item 2\n",
       "\\item 3\n",
       "\\item 20\n",
       "\\item 19\n",
       "\\item 2\n",
       "\\item 16\n",
       "\\item 8\n",
       "\\item 17\n",
       "\\item 8\n",
       "\\item 7\n",
       "\\item 16\n",
       "\\item 15\n",
       "\\item 15\n",
       "\\item 12\n",
       "\\item 1\n",
       "\\item 1\n",
       "\\item 13\n",
       "\\item 2\n",
       "\\item 1\n",
       "\\item 10\n",
       "\\item 20\n",
       "\\item 12\n",
       "\\item 8\n",
       "\\item 1\n",
       "\\item 11\n",
       "\\item 17\n",
       "\\end{enumerate*}\n"
      ],
      "text/markdown": [
       "1. 2\n",
       "2. 9\n",
       "3. 19\n",
       "4. 5\n",
       "5. 0\n",
       "6. 20\n",
       "7. 14\n",
       "8. 9\n",
       "9. 11\n",
       "10. 17\n",
       "11. 18\n",
       "12. 14\n",
       "13. 16\n",
       "14. 0\n",
       "15. 5\n",
       "16. 18\n",
       "17. 15\n",
       "18. 0\n",
       "19. 18\n",
       "20. 14\n",
       "21. 11\n",
       "22. 6\n",
       "23. 2\n",
       "24. 4\n",
       "25. 10\n",
       "26. 12\n",
       "27. 19\n",
       "28. 18\n",
       "29. 2\n",
       "30. 15\n",
       "31. 7\n",
       "32. 16\n",
       "33. 18\n",
       "34. 13\n",
       "35. 17\n",
       "36. 3\n",
       "37. 18\n",
       "38. 19\n",
       "39. 14\n",
       "40. 7\n",
       "41. 3\n",
       "42. 15\n",
       "43. 9\n",
       "44. 1\n",
       "45. 7\n",
       "46. 18\n",
       "47. 18\n",
       "48. 3\n",
       "49. 7\n",
       "50. 17\n",
       "51. 10\n",
       "52. 10\n",
       "53. 14\n",
       "54. 20\n",
       "55. 2\n",
       "56. 12\n",
       "57. 19\n",
       "58. 16\n",
       "59. 17\n",
       "60. 9\n",
       "61. 6\n",
       "62. 4\n",
       "63. 5\n",
       "64. 18\n",
       "65. 10\n",
       "66. 11\n",
       "67. 4\n",
       "68. 8\n",
       "69. 6\n",
       "70. 7\n",
       "71. 2\n",
       "72. 8\n",
       "73. 18\n",
       "74. 5\n",
       "75. 2\n",
       "76. 3\n",
       "77. 20\n",
       "78. 19\n",
       "79. 2\n",
       "80. 16\n",
       "81. 8\n",
       "82. 17\n",
       "83. 8\n",
       "84. 7\n",
       "85. 16\n",
       "86. 15\n",
       "87. 15\n",
       "88. 12\n",
       "89. 1\n",
       "90. 1\n",
       "91. 13\n",
       "92. 2\n",
       "93. 1\n",
       "94. 10\n",
       "95. 20\n",
       "96. 12\n",
       "97. 8\n",
       "98. 1\n",
       "99. 11\n",
       "100. 17\n",
       "\n",
       "\n"
      ],
      "text/plain": [
       "  [1]  2  9 19  5  0 20 14  9 11 17 18 14 16  0  5 18 15  0 18 14 11  6  2  4 10\n",
       " [26] 12 19 18  2 15  7 16 18 13 17  3 18 19 14  7  3 15  9  1  7 18 18  3  7 17\n",
       " [51] 10 10 14 20  2 12 19 16 17  9  6  4  5 18 10 11  4  8  6  7  2  8 18  5  2\n",
       " [76]  3 20 19  2 16  8 17  8  7 16 15 15 12  1  1 13  2  1 10 20 12  8  1 11 17"
      ]
     },
     "metadata": {},
     "output_type": "display_data"
    }
   ],
   "source": [
    "x <- sample(0:20, 100, replace=TRUE)\n",
    "x"
   ]
  },
  {
   "cell_type": "code",
   "execution_count": 72,
   "metadata": {
    "run_control": {
     "frozen": false,
     "read_only": false
    }
   },
   "outputs": [
    {
     "data": {
      "text/plain": [
       "\n",
       "  [0,5]  (5,10] (10,20] \n",
       "     27      23      50 "
      ]
     },
     "metadata": {},
     "output_type": "display_data"
    }
   ],
   "source": [
    "table(cut(x, breaks=c(0, 5, 10, 20), include.lowest=TRUE))"
   ]
  },
  {
   "cell_type": "code",
   "execution_count": 73,
   "metadata": {
    "run_control": {
     "frozen": false,
     "read_only": false
    }
   },
   "outputs": [
    {
     "data": {
      "text/plain": [
       "\n",
       "[-0.02,3.33]  (3.33,6.67]    (6.67,10]    (10,13.3]  (13.3,16.7]    (16.7,20] \n",
       "          20           10           20           10           15           25 "
      ]
     },
     "metadata": {},
     "output_type": "display_data"
    }
   ],
   "source": [
    "table(cut(x, breaks=6, include.lowest=TRUE))"
   ]
  },
  {
   "cell_type": "code",
   "execution_count": 74,
   "metadata": {
    "run_control": {
     "frozen": false,
     "read_only": false
    },
    "scrolled": true
   },
   "outputs": [
    {
     "data": {
      "text/html": [
       "<ol class=list-inline>\n",
       "\t<li>16</li>\n",
       "\t<li>3</li>\n",
       "\t<li>9</li>\n",
       "\t<li>9</li>\n",
       "\t<li>16</li>\n",
       "\t<li>9</li>\n",
       "\t<li>9</li>\n",
       "\t<li>13</li>\n",
       "\t<li>20</li>\n",
       "\t<li>17</li>\n",
       "\t<li>6</li>\n",
       "\t<li>19</li>\n",
       "\t<li>12</li>\n",
       "\t<li>7</li>\n",
       "\t<li>8</li>\n",
       "\t<li>10</li>\n",
       "\t<li>12</li>\n",
       "\t<li>14</li>\n",
       "\t<li>16</li>\n",
       "\t<li>3</li>\n",
       "\t<li>15</li>\n",
       "\t<li>6</li>\n",
       "\t<li>4</li>\n",
       "\t<li>9</li>\n",
       "\t<li>5</li>\n",
       "\t<li>2</li>\n",
       "\t<li>18</li>\n",
       "\t<li>8</li>\n",
       "\t<li>13</li>\n",
       "\t<li>4</li>\n",
       "\t<li>9</li>\n",
       "\t<li>12</li>\n",
       "\t<li>7</li>\n",
       "\t<li>2</li>\n",
       "\t<li>19</li>\n",
       "\t<li>6</li>\n",
       "\t<li>12</li>\n",
       "\t<li>4</li>\n",
       "\t<li>13</li>\n",
       "\t<li>13</li>\n",
       "\t<li>11</li>\n",
       "\t<li>12</li>\n",
       "\t<li>2</li>\n",
       "\t<li>8</li>\n",
       "\t<li>4</li>\n",
       "\t<li>11</li>\n",
       "\t<li>20</li>\n",
       "\t<li>9</li>\n",
       "\t<li>1</li>\n",
       "\t<li>7</li>\n",
       "\t<li>3</li>\n",
       "\t<li>20</li>\n",
       "\t<li>6</li>\n",
       "\t<li>11</li>\n",
       "\t<li>10</li>\n",
       "\t<li>0</li>\n",
       "\t<li>7</li>\n",
       "\t<li>7</li>\n",
       "\t<li>0</li>\n",
       "\t<li>8</li>\n",
       "\t<li>5</li>\n",
       "\t<li>11</li>\n",
       "\t<li>2</li>\n",
       "\t<li>15</li>\n",
       "\t<li>1</li>\n",
       "\t<li>16</li>\n",
       "\t<li>9</li>\n",
       "\t<li>9</li>\n",
       "\t<li>12</li>\n",
       "\t<li>18</li>\n",
       "\t<li>13</li>\n",
       "\t<li>18</li>\n",
       "\t<li>18</li>\n",
       "\t<li>12</li>\n",
       "\t<li>9</li>\n",
       "\t<li>11</li>\n",
       "\t<li>7</li>\n",
       "\t<li>16</li>\n",
       "\t<li>7</li>\n",
       "\t<li>15</li>\n",
       "\t<li>14</li>\n",
       "\t<li>8</li>\n",
       "\t<li>16</li>\n",
       "\t<li>9</li>\n",
       "\t<li>16</li>\n",
       "\t<li>7</li>\n",
       "\t<li>2</li>\n",
       "\t<li>7</li>\n",
       "\t<li>14</li>\n",
       "\t<li>0</li>\n",
       "\t<li>15</li>\n",
       "\t<li>15</li>\n",
       "\t<li>6</li>\n",
       "\t<li>6</li>\n",
       "\t<li>13</li>\n",
       "\t<li>10</li>\n",
       "\t<li>1</li>\n",
       "\t<li>13</li>\n",
       "\t<li>14</li>\n",
       "\t<li>15</li>\n",
       "</ol>\n"
      ],
      "text/latex": [
       "\\begin{enumerate*}\n",
       "\\item 16\n",
       "\\item 3\n",
       "\\item 9\n",
       "\\item 9\n",
       "\\item 16\n",
       "\\item 9\n",
       "\\item 9\n",
       "\\item 13\n",
       "\\item 20\n",
       "\\item 17\n",
       "\\item 6\n",
       "\\item 19\n",
       "\\item 12\n",
       "\\item 7\n",
       "\\item 8\n",
       "\\item 10\n",
       "\\item 12\n",
       "\\item 14\n",
       "\\item 16\n",
       "\\item 3\n",
       "\\item 15\n",
       "\\item 6\n",
       "\\item 4\n",
       "\\item 9\n",
       "\\item 5\n",
       "\\item 2\n",
       "\\item 18\n",
       "\\item 8\n",
       "\\item 13\n",
       "\\item 4\n",
       "\\item 9\n",
       "\\item 12\n",
       "\\item 7\n",
       "\\item 2\n",
       "\\item 19\n",
       "\\item 6\n",
       "\\item 12\n",
       "\\item 4\n",
       "\\item 13\n",
       "\\item 13\n",
       "\\item 11\n",
       "\\item 12\n",
       "\\item 2\n",
       "\\item 8\n",
       "\\item 4\n",
       "\\item 11\n",
       "\\item 20\n",
       "\\item 9\n",
       "\\item 1\n",
       "\\item 7\n",
       "\\item 3\n",
       "\\item 20\n",
       "\\item 6\n",
       "\\item 11\n",
       "\\item 10\n",
       "\\item 0\n",
       "\\item 7\n",
       "\\item 7\n",
       "\\item 0\n",
       "\\item 8\n",
       "\\item 5\n",
       "\\item 11\n",
       "\\item 2\n",
       "\\item 15\n",
       "\\item 1\n",
       "\\item 16\n",
       "\\item 9\n",
       "\\item 9\n",
       "\\item 12\n",
       "\\item 18\n",
       "\\item 13\n",
       "\\item 18\n",
       "\\item 18\n",
       "\\item 12\n",
       "\\item 9\n",
       "\\item 11\n",
       "\\item 7\n",
       "\\item 16\n",
       "\\item 7\n",
       "\\item 15\n",
       "\\item 14\n",
       "\\item 8\n",
       "\\item 16\n",
       "\\item 9\n",
       "\\item 16\n",
       "\\item 7\n",
       "\\item 2\n",
       "\\item 7\n",
       "\\item 14\n",
       "\\item 0\n",
       "\\item 15\n",
       "\\item 15\n",
       "\\item 6\n",
       "\\item 6\n",
       "\\item 13\n",
       "\\item 10\n",
       "\\item 1\n",
       "\\item 13\n",
       "\\item 14\n",
       "\\item 15\n",
       "\\end{enumerate*}\n"
      ],
      "text/markdown": [
       "1. 16\n",
       "2. 3\n",
       "3. 9\n",
       "4. 9\n",
       "5. 16\n",
       "6. 9\n",
       "7. 9\n",
       "8. 13\n",
       "9. 20\n",
       "10. 17\n",
       "11. 6\n",
       "12. 19\n",
       "13. 12\n",
       "14. 7\n",
       "15. 8\n",
       "16. 10\n",
       "17. 12\n",
       "18. 14\n",
       "19. 16\n",
       "20. 3\n",
       "21. 15\n",
       "22. 6\n",
       "23. 4\n",
       "24. 9\n",
       "25. 5\n",
       "26. 2\n",
       "27. 18\n",
       "28. 8\n",
       "29. 13\n",
       "30. 4\n",
       "31. 9\n",
       "32. 12\n",
       "33. 7\n",
       "34. 2\n",
       "35. 19\n",
       "36. 6\n",
       "37. 12\n",
       "38. 4\n",
       "39. 13\n",
       "40. 13\n",
       "41. 11\n",
       "42. 12\n",
       "43. 2\n",
       "44. 8\n",
       "45. 4\n",
       "46. 11\n",
       "47. 20\n",
       "48. 9\n",
       "49. 1\n",
       "50. 7\n",
       "51. 3\n",
       "52. 20\n",
       "53. 6\n",
       "54. 11\n",
       "55. 10\n",
       "56. 0\n",
       "57. 7\n",
       "58. 7\n",
       "59. 0\n",
       "60. 8\n",
       "61. 5\n",
       "62. 11\n",
       "63. 2\n",
       "64. 15\n",
       "65. 1\n",
       "66. 16\n",
       "67. 9\n",
       "68. 9\n",
       "69. 12\n",
       "70. 18\n",
       "71. 13\n",
       "72. 18\n",
       "73. 18\n",
       "74. 12\n",
       "75. 9\n",
       "76. 11\n",
       "77. 7\n",
       "78. 16\n",
       "79. 7\n",
       "80. 15\n",
       "81. 14\n",
       "82. 8\n",
       "83. 16\n",
       "84. 9\n",
       "85. 16\n",
       "86. 7\n",
       "87. 2\n",
       "88. 7\n",
       "89. 14\n",
       "90. 0\n",
       "91. 15\n",
       "92. 15\n",
       "93. 6\n",
       "94. 6\n",
       "95. 13\n",
       "96. 10\n",
       "97. 1\n",
       "98. 13\n",
       "99. 14\n",
       "100. 15\n",
       "\n",
       "\n"
      ],
      "text/plain": [
       "  [1] 16  3  9  9 16  9  9 13 20 17  6 19 12  7  8 10 12 14 16  3 15  6  4  9  5\n",
       " [26]  2 18  8 13  4  9 12  7  2 19  6 12  4 13 13 11 12  2  8  4 11 20  9  1  7\n",
       " [51]  3 20  6 11 10  0  7  7  0  8  5 11  2 15  1 16  9  9 12 18 13 18 18 12  9\n",
       " [76] 11  7 16  7 15 14  8 16  9 16  7  2  7 14  0 15 15  6  6 13 10  1 13 14 15"
      ]
     },
     "metadata": {},
     "output_type": "display_data"
    }
   ],
   "source": [
    "x <- sample(0:20, 100, replace=TRUE)\n",
    "x"
   ]
  },
  {
   "cell_type": "code",
   "execution_count": 75,
   "metadata": {
    "run_control": {
     "frozen": false,
     "read_only": false
    },
    "scrolled": true
   },
   "outputs": [
    {
     "data": {
      "text/html": [
       "<ol class=list-inline>\n",
       "\t<li>[15,20]</li>\n",
       "\t<li>[ 0, 5)</li>\n",
       "\t<li>[ 5,15)</li>\n",
       "\t<li>[ 5,15)</li>\n",
       "\t<li>[15,20]</li>\n",
       "\t<li>[ 5,15)</li>\n",
       "\t<li>[ 5,15)</li>\n",
       "\t<li>[ 5,15)</li>\n",
       "\t<li>[15,20]</li>\n",
       "\t<li>[15,20]</li>\n",
       "\t<li>[ 5,15)</li>\n",
       "\t<li>[15,20]</li>\n",
       "\t<li>[ 5,15)</li>\n",
       "\t<li>[ 5,15)</li>\n",
       "\t<li>[ 5,15)</li>\n",
       "\t<li>[ 5,15)</li>\n",
       "\t<li>[ 5,15)</li>\n",
       "\t<li>[ 5,15)</li>\n",
       "\t<li>[15,20]</li>\n",
       "\t<li>[ 0, 5)</li>\n",
       "\t<li>[15,20]</li>\n",
       "\t<li>[ 5,15)</li>\n",
       "\t<li>[ 0, 5)</li>\n",
       "\t<li>[ 5,15)</li>\n",
       "\t<li>[ 5,15)</li>\n",
       "\t<li>[ 0, 5)</li>\n",
       "\t<li>[15,20]</li>\n",
       "\t<li>[ 5,15)</li>\n",
       "\t<li>[ 5,15)</li>\n",
       "\t<li>[ 0, 5)</li>\n",
       "\t<li>[ 5,15)</li>\n",
       "\t<li>[ 5,15)</li>\n",
       "\t<li>[ 5,15)</li>\n",
       "\t<li>[ 0, 5)</li>\n",
       "\t<li>[15,20]</li>\n",
       "\t<li>[ 5,15)</li>\n",
       "\t<li>[ 5,15)</li>\n",
       "\t<li>[ 0, 5)</li>\n",
       "\t<li>[ 5,15)</li>\n",
       "\t<li>[ 5,15)</li>\n",
       "\t<li>[ 5,15)</li>\n",
       "\t<li>[ 5,15)</li>\n",
       "\t<li>[ 0, 5)</li>\n",
       "\t<li>[ 5,15)</li>\n",
       "\t<li>[ 0, 5)</li>\n",
       "\t<li>[ 5,15)</li>\n",
       "\t<li>[15,20]</li>\n",
       "\t<li>[ 5,15)</li>\n",
       "\t<li>[ 0, 5)</li>\n",
       "\t<li>[ 5,15)</li>\n",
       "\t<li>[ 0, 5)</li>\n",
       "\t<li>[15,20]</li>\n",
       "\t<li>[ 5,15)</li>\n",
       "\t<li>[ 5,15)</li>\n",
       "\t<li>[ 5,15)</li>\n",
       "\t<li>[ 0, 5)</li>\n",
       "\t<li>[ 5,15)</li>\n",
       "\t<li>[ 5,15)</li>\n",
       "\t<li>[ 0, 5)</li>\n",
       "\t<li>[ 5,15)</li>\n",
       "\t<li>[ 5,15)</li>\n",
       "\t<li>[ 5,15)</li>\n",
       "\t<li>[ 0, 5)</li>\n",
       "\t<li>[15,20]</li>\n",
       "\t<li>[ 0, 5)</li>\n",
       "\t<li>[15,20]</li>\n",
       "\t<li>[ 5,15)</li>\n",
       "\t<li>[ 5,15)</li>\n",
       "\t<li>[ 5,15)</li>\n",
       "\t<li>[15,20]</li>\n",
       "\t<li>[ 5,15)</li>\n",
       "\t<li>[15,20]</li>\n",
       "\t<li>[15,20]</li>\n",
       "\t<li>[ 5,15)</li>\n",
       "\t<li>[ 5,15)</li>\n",
       "\t<li>[ 5,15)</li>\n",
       "\t<li>[ 5,15)</li>\n",
       "\t<li>[15,20]</li>\n",
       "\t<li>[ 5,15)</li>\n",
       "\t<li>[15,20]</li>\n",
       "\t<li>[ 5,15)</li>\n",
       "\t<li>[ 5,15)</li>\n",
       "\t<li>[15,20]</li>\n",
       "\t<li>[ 5,15)</li>\n",
       "\t<li>[15,20]</li>\n",
       "\t<li>[ 5,15)</li>\n",
       "\t<li>[ 0, 5)</li>\n",
       "\t<li>[ 5,15)</li>\n",
       "\t<li>[ 5,15)</li>\n",
       "\t<li>[ 0, 5)</li>\n",
       "\t<li>[15,20]</li>\n",
       "\t<li>[15,20]</li>\n",
       "\t<li>[ 5,15)</li>\n",
       "\t<li>[ 5,15)</li>\n",
       "\t<li>[ 5,15)</li>\n",
       "\t<li>[ 5,15)</li>\n",
       "\t<li>[ 0, 5)</li>\n",
       "\t<li>[ 5,15)</li>\n",
       "\t<li>[ 5,15)</li>\n",
       "\t<li>[15,20]</li>\n",
       "</ol>\n"
      ],
      "text/latex": [
       "\\begin{enumerate*}\n",
       "\\item {[}15,20{]}\n",
       "\\item {[} 0, 5)\n",
       "\\item {[} 5,15)\n",
       "\\item {[} 5,15)\n",
       "\\item {[}15,20{]}\n",
       "\\item {[} 5,15)\n",
       "\\item {[} 5,15)\n",
       "\\item {[} 5,15)\n",
       "\\item {[}15,20{]}\n",
       "\\item {[}15,20{]}\n",
       "\\item {[} 5,15)\n",
       "\\item {[}15,20{]}\n",
       "\\item {[} 5,15)\n",
       "\\item {[} 5,15)\n",
       "\\item {[} 5,15)\n",
       "\\item {[} 5,15)\n",
       "\\item {[} 5,15)\n",
       "\\item {[} 5,15)\n",
       "\\item {[}15,20{]}\n",
       "\\item {[} 0, 5)\n",
       "\\item {[}15,20{]}\n",
       "\\item {[} 5,15)\n",
       "\\item {[} 0, 5)\n",
       "\\item {[} 5,15)\n",
       "\\item {[} 5,15)\n",
       "\\item {[} 0, 5)\n",
       "\\item {[}15,20{]}\n",
       "\\item {[} 5,15)\n",
       "\\item {[} 5,15)\n",
       "\\item {[} 0, 5)\n",
       "\\item {[} 5,15)\n",
       "\\item {[} 5,15)\n",
       "\\item {[} 5,15)\n",
       "\\item {[} 0, 5)\n",
       "\\item {[}15,20{]}\n",
       "\\item {[} 5,15)\n",
       "\\item {[} 5,15)\n",
       "\\item {[} 0, 5)\n",
       "\\item {[} 5,15)\n",
       "\\item {[} 5,15)\n",
       "\\item {[} 5,15)\n",
       "\\item {[} 5,15)\n",
       "\\item {[} 0, 5)\n",
       "\\item {[} 5,15)\n",
       "\\item {[} 0, 5)\n",
       "\\item {[} 5,15)\n",
       "\\item {[}15,20{]}\n",
       "\\item {[} 5,15)\n",
       "\\item {[} 0, 5)\n",
       "\\item {[} 5,15)\n",
       "\\item {[} 0, 5)\n",
       "\\item {[}15,20{]}\n",
       "\\item {[} 5,15)\n",
       "\\item {[} 5,15)\n",
       "\\item {[} 5,15)\n",
       "\\item {[} 0, 5)\n",
       "\\item {[} 5,15)\n",
       "\\item {[} 5,15)\n",
       "\\item {[} 0, 5)\n",
       "\\item {[} 5,15)\n",
       "\\item {[} 5,15)\n",
       "\\item {[} 5,15)\n",
       "\\item {[} 0, 5)\n",
       "\\item {[}15,20{]}\n",
       "\\item {[} 0, 5)\n",
       "\\item {[}15,20{]}\n",
       "\\item {[} 5,15)\n",
       "\\item {[} 5,15)\n",
       "\\item {[} 5,15)\n",
       "\\item {[}15,20{]}\n",
       "\\item {[} 5,15)\n",
       "\\item {[}15,20{]}\n",
       "\\item {[}15,20{]}\n",
       "\\item {[} 5,15)\n",
       "\\item {[} 5,15)\n",
       "\\item {[} 5,15)\n",
       "\\item {[} 5,15)\n",
       "\\item {[}15,20{]}\n",
       "\\item {[} 5,15)\n",
       "\\item {[}15,20{]}\n",
       "\\item {[} 5,15)\n",
       "\\item {[} 5,15)\n",
       "\\item {[}15,20{]}\n",
       "\\item {[} 5,15)\n",
       "\\item {[}15,20{]}\n",
       "\\item {[} 5,15)\n",
       "\\item {[} 0, 5)\n",
       "\\item {[} 5,15)\n",
       "\\item {[} 5,15)\n",
       "\\item {[} 0, 5)\n",
       "\\item {[}15,20{]}\n",
       "\\item {[}15,20{]}\n",
       "\\item {[} 5,15)\n",
       "\\item {[} 5,15)\n",
       "\\item {[} 5,15)\n",
       "\\item {[} 5,15)\n",
       "\\item {[} 0, 5)\n",
       "\\item {[} 5,15)\n",
       "\\item {[} 5,15)\n",
       "\\item {[}15,20{]}\n",
       "\\end{enumerate*}\n"
      ],
      "text/markdown": [
       "1. [15,20]\n",
       "2. [ 0, 5)\n",
       "3. [ 5,15)\n",
       "4. [ 5,15)\n",
       "5. [15,20]\n",
       "6. [ 5,15)\n",
       "7. [ 5,15)\n",
       "8. [ 5,15)\n",
       "9. [15,20]\n",
       "10. [15,20]\n",
       "11. [ 5,15)\n",
       "12. [15,20]\n",
       "13. [ 5,15)\n",
       "14. [ 5,15)\n",
       "15. [ 5,15)\n",
       "16. [ 5,15)\n",
       "17. [ 5,15)\n",
       "18. [ 5,15)\n",
       "19. [15,20]\n",
       "20. [ 0, 5)\n",
       "21. [15,20]\n",
       "22. [ 5,15)\n",
       "23. [ 0, 5)\n",
       "24. [ 5,15)\n",
       "25. [ 5,15)\n",
       "26. [ 0, 5)\n",
       "27. [15,20]\n",
       "28. [ 5,15)\n",
       "29. [ 5,15)\n",
       "30. [ 0, 5)\n",
       "31. [ 5,15)\n",
       "32. [ 5,15)\n",
       "33. [ 5,15)\n",
       "34. [ 0, 5)\n",
       "35. [15,20]\n",
       "36. [ 5,15)\n",
       "37. [ 5,15)\n",
       "38. [ 0, 5)\n",
       "39. [ 5,15)\n",
       "40. [ 5,15)\n",
       "41. [ 5,15)\n",
       "42. [ 5,15)\n",
       "43. [ 0, 5)\n",
       "44. [ 5,15)\n",
       "45. [ 0, 5)\n",
       "46. [ 5,15)\n",
       "47. [15,20]\n",
       "48. [ 5,15)\n",
       "49. [ 0, 5)\n",
       "50. [ 5,15)\n",
       "51. [ 0, 5)\n",
       "52. [15,20]\n",
       "53. [ 5,15)\n",
       "54. [ 5,15)\n",
       "55. [ 5,15)\n",
       "56. [ 0, 5)\n",
       "57. [ 5,15)\n",
       "58. [ 5,15)\n",
       "59. [ 0, 5)\n",
       "60. [ 5,15)\n",
       "61. [ 5,15)\n",
       "62. [ 5,15)\n",
       "63. [ 0, 5)\n",
       "64. [15,20]\n",
       "65. [ 0, 5)\n",
       "66. [15,20]\n",
       "67. [ 5,15)\n",
       "68. [ 5,15)\n",
       "69. [ 5,15)\n",
       "70. [15,20]\n",
       "71. [ 5,15)\n",
       "72. [15,20]\n",
       "73. [15,20]\n",
       "74. [ 5,15)\n",
       "75. [ 5,15)\n",
       "76. [ 5,15)\n",
       "77. [ 5,15)\n",
       "78. [15,20]\n",
       "79. [ 5,15)\n",
       "80. [15,20]\n",
       "81. [ 5,15)\n",
       "82. [ 5,15)\n",
       "83. [15,20]\n",
       "84. [ 5,15)\n",
       "85. [15,20]\n",
       "86. [ 5,15)\n",
       "87. [ 0, 5)\n",
       "88. [ 5,15)\n",
       "89. [ 5,15)\n",
       "90. [ 0, 5)\n",
       "91. [15,20]\n",
       "92. [15,20]\n",
       "93. [ 5,15)\n",
       "94. [ 5,15)\n",
       "95. [ 5,15)\n",
       "96. [ 5,15)\n",
       "97. [ 0, 5)\n",
       "98. [ 5,15)\n",
       "99. [ 5,15)\n",
       "100. [15,20]\n",
       "\n",
       "\n"
      ],
      "text/plain": [
       "  [1] [15,20] [ 0, 5) [ 5,15) [ 5,15) [15,20] [ 5,15) [ 5,15) [ 5,15) [15,20]\n",
       " [10] [15,20] [ 5,15) [15,20] [ 5,15) [ 5,15) [ 5,15) [ 5,15) [ 5,15) [ 5,15)\n",
       " [19] [15,20] [ 0, 5) [15,20] [ 5,15) [ 0, 5) [ 5,15) [ 5,15) [ 0, 5) [15,20]\n",
       " [28] [ 5,15) [ 5,15) [ 0, 5) [ 5,15) [ 5,15) [ 5,15) [ 0, 5) [15,20] [ 5,15)\n",
       " [37] [ 5,15) [ 0, 5) [ 5,15) [ 5,15) [ 5,15) [ 5,15) [ 0, 5) [ 5,15) [ 0, 5)\n",
       " [46] [ 5,15) [15,20] [ 5,15) [ 0, 5) [ 5,15) [ 0, 5) [15,20] [ 5,15) [ 5,15)\n",
       " [55] [ 5,15) [ 0, 5) [ 5,15) [ 5,15) [ 0, 5) [ 5,15) [ 5,15) [ 5,15) [ 0, 5)\n",
       " [64] [15,20] [ 0, 5) [15,20] [ 5,15) [ 5,15) [ 5,15) [15,20] [ 5,15) [15,20]\n",
       " [73] [15,20] [ 5,15) [ 5,15) [ 5,15) [ 5,15) [15,20] [ 5,15) [15,20] [ 5,15)\n",
       " [82] [ 5,15) [15,20] [ 5,15) [15,20] [ 5,15) [ 0, 5) [ 5,15) [ 5,15) [ 0, 5)\n",
       " [91] [15,20] [15,20] [ 5,15) [ 5,15) [ 5,15) [ 5,15) [ 0, 5) [ 5,15) [ 5,15)\n",
       "[100] [15,20]\n",
       "Levels: [ 0, 5) [ 5,15) [15,20]"
      ]
     },
     "metadata": {},
     "output_type": "display_data"
    },
    {
     "data": {
      "text/plain": [
       "z\n",
       "[ 0, 5) [ 5,15) [15,20] \n",
       "     18      59      23 "
      ]
     },
     "metadata": {},
     "output_type": "display_data"
    }
   ],
   "source": [
    "z <- cut2(x, cuts=c(5,15))\n",
    "z\n",
    "table(z)"
   ]
  },
  {
   "cell_type": "code",
   "execution_count": 76,
   "metadata": {
    "run_control": {
     "frozen": false,
     "read_only": false
    }
   },
   "outputs": [
    {
     "data": {
      "text/plain": [
       "\n",
       "[ 0, 3) [ 3, 6) [ 6, 8)       8       9 [10,13)      13 [14,16)      16 [17,20] \n",
       "     11       9      15       5      11      15       7      10       7      10 "
      ]
     },
     "metadata": {},
     "output_type": "display_data"
    }
   ],
   "source": [
    "table(cut2(x, g=10))      # quantile groups"
   ]
  },
  {
   "cell_type": "code",
   "execution_count": 77,
   "metadata": {
    "collapsed": true,
    "run_control": {
     "frozen": false,
     "read_only": false
    }
   },
   "outputs": [],
   "source": [
    "sals <- c(12, .4, 5, 2, 50, 8, 3, 1, 4, .25)"
   ]
  },
  {
   "cell_type": "code",
   "execution_count": 78,
   "metadata": {
    "run_control": {
     "frozen": false,
     "read_only": false
    }
   },
   "outputs": [
    {
     "data": {
      "text/html": [
       "<ol class=list-inline>\n",
       "\t<li>12</li>\n",
       "\t<li>0.4</li>\n",
       "\t<li>5</li>\n",
       "\t<li>2</li>\n",
       "\t<li>50</li>\n",
       "\t<li>8</li>\n",
       "\t<li>3</li>\n",
       "\t<li>1</li>\n",
       "\t<li>4</li>\n",
       "\t<li>0.25</li>\n",
       "</ol>\n"
      ],
      "text/latex": [
       "\\begin{enumerate*}\n",
       "\\item 12\n",
       "\\item 0.4\n",
       "\\item 5\n",
       "\\item 2\n",
       "\\item 50\n",
       "\\item 8\n",
       "\\item 3\n",
       "\\item 1\n",
       "\\item 4\n",
       "\\item 0.25\n",
       "\\end{enumerate*}\n"
      ],
      "text/markdown": [
       "1. 12\n",
       "2. 0.4\n",
       "3. 5\n",
       "4. 2\n",
       "5. 50\n",
       "6. 8\n",
       "7. 3\n",
       "8. 1\n",
       "9. 4\n",
       "10. 0.25\n",
       "\n",
       "\n"
      ],
      "text/plain": [
       " [1] 12.00  0.40  5.00  2.00 50.00  8.00  3.00  1.00  4.00  0.25"
      ]
     },
     "metadata": {},
     "output_type": "display_data"
    }
   ],
   "source": [
    "sals"
   ]
  },
  {
   "cell_type": "code",
   "execution_count": 79,
   "metadata": {
    "run_control": {
     "frozen": false,
     "read_only": false
    }
   },
   "outputs": [
    {
     "data": {
      "text/html": [
       "'factor'"
      ],
      "text/latex": [
       "'factor'"
      ],
      "text/markdown": [
       "'factor'"
      ],
      "text/plain": [
       "[1] \"factor\""
      ]
     },
     "metadata": {},
     "output_type": "display_data"
    },
    {
     "data": {
      "text/html": [
       "<dl>\n",
       "\t<dt>$levels</dt>\n",
       "\t\t<dd><ol class=list-inline>\n",
       "\t<li>'(0,1]'</li>\n",
       "\t<li>'(1,5]'</li>\n",
       "\t<li>'(5,50]'</li>\n",
       "</ol>\n",
       "</dd>\n",
       "\t<dt>$class</dt>\n",
       "\t\t<dd>'factor'</dd>\n",
       "</dl>\n"
      ],
      "text/latex": [
       "\\begin{description}\n",
       "\\item[\\$levels] \\begin{enumerate*}\n",
       "\\item '(0,1{]}'\n",
       "\\item '(1,5{]}'\n",
       "\\item '(5,50{]}'\n",
       "\\end{enumerate*}\n",
       "\n",
       "\\item[\\$class] 'factor'\n",
       "\\end{description}\n"
      ],
      "text/markdown": [
       "$levels\n",
       ":   1. '(0,1]'\n",
       "2. '(1,5]'\n",
       "3. '(5,50]'\n",
       "\n",
       "\n",
       "\n",
       "$class\n",
       ":   'factor'\n",
       "\n",
       "\n"
      ],
      "text/plain": [
       "$levels\n",
       "[1] \"(0,1]\"  \"(1,5]\"  \"(5,50]\"\n",
       "\n",
       "$class\n",
       "[1] \"factor\"\n"
      ]
     },
     "metadata": {},
     "output_type": "display_data"
    },
    {
     "data": {
      "text/html": [
       "'integer'"
      ],
      "text/latex": [
       "'integer'"
      ],
      "text/markdown": [
       "'integer'"
      ],
      "text/plain": [
       "[1] \"integer\""
      ]
     },
     "metadata": {},
     "output_type": "display_data"
    },
    {
     "data": {
      "text/html": [
       "'numeric'"
      ],
      "text/latex": [
       "'numeric'"
      ],
      "text/markdown": [
       "'numeric'"
      ],
      "text/plain": [
       "[1] \"numeric\""
      ]
     },
     "metadata": {},
     "output_type": "display_data"
    }
   ],
   "source": [
    "cats <- cut(sals, breaks= c(0,1,5,max(sals))) # specify the breaks\n",
    "class(cats)\n",
    "attributes(cats)\n",
    "typeof(cats)\n",
    "mode(cats)"
   ]
  },
  {
   "cell_type": "code",
   "execution_count": 80,
   "metadata": {
    "run_control": {
     "frozen": false,
     "read_only": false
    }
   },
   "outputs": [
    {
     "data": {
      "text/html": [
       "<ol class=list-inline>\n",
       "\t<li>(5,50]</li>\n",
       "\t<li>(0,1]</li>\n",
       "\t<li>(1,5]</li>\n",
       "\t<li>(1,5]</li>\n",
       "\t<li>(5,50]</li>\n",
       "\t<li>(5,50]</li>\n",
       "\t<li>(1,5]</li>\n",
       "\t<li>(0,1]</li>\n",
       "\t<li>(1,5]</li>\n",
       "\t<li>(0,1]</li>\n",
       "</ol>\n"
      ],
      "text/latex": [
       "\\begin{enumerate*}\n",
       "\\item (5,50{]}\n",
       "\\item (0,1{]}\n",
       "\\item (1,5{]}\n",
       "\\item (1,5{]}\n",
       "\\item (5,50{]}\n",
       "\\item (5,50{]}\n",
       "\\item (1,5{]}\n",
       "\\item (0,1{]}\n",
       "\\item (1,5{]}\n",
       "\\item (0,1{]}\n",
       "\\end{enumerate*}\n"
      ],
      "text/markdown": [
       "1. (5,50]\n",
       "2. (0,1]\n",
       "3. (1,5]\n",
       "4. (1,5]\n",
       "5. (5,50]\n",
       "6. (5,50]\n",
       "7. (1,5]\n",
       "8. (0,1]\n",
       "9. (1,5]\n",
       "10. (0,1]\n",
       "\n",
       "\n"
      ],
      "text/plain": [
       " [1] (5,50] (0,1]  (1,5]  (1,5]  (5,50] (5,50] (1,5]  (0,1]  (1,5]  (0,1] \n",
       "Levels: (0,1] (1,5] (5,50]"
      ]
     },
     "metadata": {},
     "output_type": "display_data"
    }
   ],
   "source": [
    "cats"
   ]
  },
  {
   "cell_type": "code",
   "execution_count": 81,
   "metadata": {
    "run_control": {
     "frozen": false,
     "read_only": false
    }
   },
   "outputs": [
    {
     "data": {
      "text/html": [
       "<ol class=list-inline>\n",
       "\t<li>'(0,1]'</li>\n",
       "\t<li>'(1,5]'</li>\n",
       "\t<li>'(5,50]'</li>\n",
       "</ol>\n"
      ],
      "text/latex": [
       "\\begin{enumerate*}\n",
       "\\item '(0,1{]}'\n",
       "\\item '(1,5{]}'\n",
       "\\item '(5,50{]}'\n",
       "\\end{enumerate*}\n"
      ],
      "text/markdown": [
       "1. '(0,1]'\n",
       "2. '(1,5]'\n",
       "3. '(5,50]'\n",
       "\n",
       "\n"
      ],
      "text/plain": [
       "[1] \"(0,1]\"  \"(1,5]\"  \"(5,50]\""
      ]
     },
     "metadata": {},
     "output_type": "display_data"
    }
   ],
   "source": [
    "levels(cats)"
   ]
  },
  {
   "cell_type": "code",
   "execution_count": 82,
   "metadata": {
    "run_control": {
     "frozen": false,
     "read_only": false
    }
   },
   "outputs": [
    {
     "data": {
      "text/plain": [
       "cats\n",
       " (0,1]  (1,5] (5,50] \n",
       "     3      4      3 "
      ]
     },
     "metadata": {},
     "output_type": "display_data"
    }
   ],
   "source": [
    "table(cats)"
   ]
  },
  {
   "cell_type": "code",
   "execution_count": 83,
   "metadata": {
    "collapsed": true,
    "run_control": {
     "frozen": false,
     "read_only": false
    }
   },
   "outputs": [],
   "source": [
    "levels(cats) <- c(\"poor\", \"rich\", \"rolling in it\") # change labels"
   ]
  },
  {
   "cell_type": "code",
   "execution_count": 84,
   "metadata": {
    "run_control": {
     "frozen": false,
     "read_only": false
    }
   },
   "outputs": [
    {
     "data": {
      "text/plain": [
       "cats\n",
       "         poor          rich rolling in it \n",
       "            3             4             3 "
      ]
     },
     "metadata": {},
     "output_type": "display_data"
    }
   ],
   "source": [
    "table(cats)"
   ]
  },
  {
   "cell_type": "code",
   "execution_count": 85,
   "metadata": {
    "run_control": {
     "frozen": false,
     "read_only": false
    }
   },
   "outputs": [
    {
     "data": {
      "text/html": [
       "26"
      ],
      "text/latex": [
       "26"
      ],
      "text/markdown": [
       "26"
      ],
      "text/plain": [
       "[1] 26"
      ]
     },
     "metadata": {},
     "output_type": "display_data"
    }
   ],
   "source": [
    "x <- c(29.6, 28.2, 19.6, 13.7, 13, 7.8, 3.4, 2, 1.9, 1, 0.7, 0.4, 0.4, 0.3, 0.3, \n",
    "    0.3, 0.3, 0.3, 0.2, 0.2, 0.2, 0.1, 0.1, 0.1, 0.1, 0.1)\n",
    "length(x)\n"
   ]
  },
  {
   "cell_type": "markdown",
   "metadata": {},
   "source": [
    "**chekout full details about breaks bins of histogram**  \n",
    "https://www.r-bloggers.com/basics-of-histograms/  \n",
    "https://www.datacamp.com/community/tutorials/tutorial-how-to-make-histograms-in-r#gs.r2R1Ksk  \n",
    "**Adding Measures of Central Tendency to Histograms in R**  \n",
    "https://www.r-bloggers.com/adding-measures-of-central-tendency-to-histograms-in-r/ "
   ]
  },
  {
   "cell_type": "code",
   "execution_count": 86,
   "metadata": {
    "run_control": {
     "frozen": false,
     "read_only": false
    },
    "scrolled": true
   },
   "outputs": [
    {
     "data": {
      "image/png": "[encoded data removed]",
      "text/plain": [
       "Plot with title \"Histogram of x\""
      ]
     },
     "metadata": {},
     "output_type": "display_data"
    },
    {
     "data": {
      "image/png": "[encoded data removed]",
      "text/plain": [
       "Plot with title \"Histogram of x\""
      ]
     },
     "metadata": {},
     "output_type": "display_data"
    }
   ],
   "source": [
    "hist(x)\n",
    "hist(x,probability=TRUE)\n",
    "rug(jitter(x))"
   ]
  },
  {
   "cell_type": "code",
   "execution_count": 87,
   "metadata": {
    "run_control": {
     "frozen": false,
     "read_only": false
    }
   },
   "outputs": [
    {
     "data": {
      "image/png": "[encoded data removed]",
      "text/plain": [
       "Plot with title \"Histogram of x\""
      ]
     },
     "metadata": {},
     "output_type": "display_data"
    }
   ],
   "source": [
    "myhist<-hist(x, breaks=10, col = \"yellow\", # column color\n",
    "               prob=TRUE)# show densities instead of frequencies\n",
    "\n",
    "# density plot\n",
    "lines(density(x), \n",
    " lwd = 2, # thickness of line\n",
    " col = \"chocolate3\")\n",
    "\n",
    "#Next we’ll add a line for the mean:\n",
    "abline(v=mean(x),\n",
    " col = \"royalblue\",\n",
    " lwd = 5)\n",
    "\n",
    "#And a line for the median:\n",
    "abline(v = median(x),\n",
    " col = \"red\",\n",
    " lwd = 3)\n",
    "\n",
    "#And a line for the sd:\n",
    "abline(v = sd(x),\n",
    " col = \"green\",\n",
    " lwd = 2)\n",
    "\n",
    "#we can also add a legend, so it will be easy to tell which line is which\n",
    "legend(x = \"topright\", # location of legend within plot area\n",
    " c(\"Density plot\", \"Mean\", \"Median\", \"sd\"),\n",
    " col = c(\"chocolate3\", \"royalblue\", \"red\", \"green\"),\n",
    " lwd = c(2, 2, 2, 2))\n",
    " rug(jitter(x))\n",
    "       "
   ]
  },
  {
   "cell_type": "code",
   "execution_count": 88,
   "metadata": {
    "run_control": {
     "frozen": false,
     "read_only": false
    },
    "scrolled": true
   },
   "outputs": [
    {
     "data": {
      "text/html": [
       "<dl>\n",
       "\t<dt>$names</dt>\n",
       "\t\t<dd><ol class=list-inline>\n",
       "\t<li>'breaks'</li>\n",
       "\t<li>'counts'</li>\n",
       "\t<li>'density'</li>\n",
       "\t<li>'mids'</li>\n",
       "\t<li>'xname'</li>\n",
       "\t<li>'equidist'</li>\n",
       "</ol>\n",
       "</dd>\n",
       "\t<dt>$class</dt>\n",
       "\t\t<dd>'histogram'</dd>\n",
       "</dl>\n"
      ],
      "text/latex": [
       "\\begin{description}\n",
       "\\item[\\$names] \\begin{enumerate*}\n",
       "\\item 'breaks'\n",
       "\\item 'counts'\n",
       "\\item 'density'\n",
       "\\item 'mids'\n",
       "\\item 'xname'\n",
       "\\item 'equidist'\n",
       "\\end{enumerate*}\n",
       "\n",
       "\\item[\\$class] 'histogram'\n",
       "\\end{description}\n"
      ],
      "text/markdown": [
       "$names\n",
       ":   1. 'breaks'\n",
       "2. 'counts'\n",
       "3. 'density'\n",
       "4. 'mids'\n",
       "5. 'xname'\n",
       "6. 'equidist'\n",
       "\n",
       "\n",
       "\n",
       "$class\n",
       ":   'histogram'\n",
       "\n",
       "\n"
      ],
      "text/plain": [
       "$names\n",
       "[1] \"breaks\"   \"counts\"   \"density\"  \"mids\"     \"xname\"    \"equidist\"\n",
       "\n",
       "$class\n",
       "[1] \"histogram\"\n"
      ]
     },
     "metadata": {},
     "output_type": "display_data"
    }
   ],
   "source": [
    "attributes(myhist)"
   ]
  },
  {
   "cell_type": "code",
   "execution_count": 89,
   "metadata": {
    "run_control": {
     "frozen": false,
     "read_only": false
    }
   },
   "outputs": [
    {
     "data": {
      "text/plain": [
       "$breaks\n",
       "[1]  0  5 10 15 20 25 30\n",
       "\n",
       "$counts\n",
       "[1] 20  1  2  1  0  2\n",
       "\n",
       "$density\n",
       "[1] 0.153846154 0.007692308 0.015384615 0.007692308 0.000000000 0.015384615\n",
       "\n",
       "$mids\n",
       "[1]  2.5  7.5 12.5 17.5 22.5 27.5\n",
       "\n",
       "$xname\n",
       "[1] \"x\"\n",
       "\n",
       "$equidist\n",
       "[1] TRUE\n",
       "\n",
       "attr(,\"class\")\n",
       "[1] \"histogram\""
      ]
     },
     "metadata": {},
     "output_type": "display_data"
    }
   ],
   "source": [
    "myhist"
   ]
  },
  {
   "cell_type": "code",
   "execution_count": 90,
   "metadata": {
    "run_control": {
     "frozen": false,
     "read_only": false
    }
   },
   "outputs": [
    {
     "data": {
      "text/html": [
       "<ol class=list-inline>\n",
       "\t<li>29.6</li>\n",
       "\t<li>28.2</li>\n",
       "\t<li>19.6</li>\n",
       "\t<li>13.7</li>\n",
       "\t<li>13</li>\n",
       "\t<li>7.8</li>\n",
       "\t<li>3.4</li>\n",
       "\t<li>2</li>\n",
       "\t<li>1.9</li>\n",
       "\t<li>1</li>\n",
       "\t<li>0.7</li>\n",
       "\t<li>0.4</li>\n",
       "\t<li>0.4</li>\n",
       "\t<li>0.3</li>\n",
       "\t<li>0.3</li>\n",
       "\t<li>0.3</li>\n",
       "\t<li>0.3</li>\n",
       "\t<li>0.3</li>\n",
       "\t<li>0.2</li>\n",
       "\t<li>0.2</li>\n",
       "\t<li>0.2</li>\n",
       "\t<li>0.1</li>\n",
       "\t<li>0.1</li>\n",
       "\t<li>0.1</li>\n",
       "\t<li>0.1</li>\n",
       "\t<li>0.1</li>\n",
       "</ol>\n"
      ],
      "text/latex": [
       "\\begin{enumerate*}\n",
       "\\item 29.6\n",
       "\\item 28.2\n",
       "\\item 19.6\n",
       "\\item 13.7\n",
       "\\item 13\n",
       "\\item 7.8\n",
       "\\item 3.4\n",
       "\\item 2\n",
       "\\item 1.9\n",
       "\\item 1\n",
       "\\item 0.7\n",
       "\\item 0.4\n",
       "\\item 0.4\n",
       "\\item 0.3\n",
       "\\item 0.3\n",
       "\\item 0.3\n",
       "\\item 0.3\n",
       "\\item 0.3\n",
       "\\item 0.2\n",
       "\\item 0.2\n",
       "\\item 0.2\n",
       "\\item 0.1\n",
       "\\item 0.1\n",
       "\\item 0.1\n",
       "\\item 0.1\n",
       "\\item 0.1\n",
       "\\end{enumerate*}\n"
      ],
      "text/markdown": [
       "1. 29.6\n",
       "2. 28.2\n",
       "3. 19.6\n",
       "4. 13.7\n",
       "5. 13\n",
       "6. 7.8\n",
       "7. 3.4\n",
       "8. 2\n",
       "9. 1.9\n",
       "10. 1\n",
       "11. 0.7\n",
       "12. 0.4\n",
       "13. 0.4\n",
       "14. 0.3\n",
       "15. 0.3\n",
       "16. 0.3\n",
       "17. 0.3\n",
       "18. 0.3\n",
       "19. 0.2\n",
       "20. 0.2\n",
       "21. 0.2\n",
       "22. 0.1\n",
       "23. 0.1\n",
       "24. 0.1\n",
       "25. 0.1\n",
       "26. 0.1\n",
       "\n",
       "\n"
      ],
      "text/plain": [
       " [1] 29.6 28.2 19.6 13.7 13.0  7.8  3.4  2.0  1.9  1.0  0.7  0.4  0.4  0.3  0.3\n",
       "[16]  0.3  0.3  0.3  0.2  0.2  0.2  0.1  0.1  0.1  0.1  0.1"
      ]
     },
     "metadata": {},
     "output_type": "display_data"
    }
   ],
   "source": [
    "x"
   ]
  },
  {
   "cell_type": "code",
   "execution_count": 91,
   "metadata": {
    "collapsed": true,
    "run_control": {
     "frozen": false,
     "read_only": false
    }
   },
   "outputs": [],
   "source": [
    "data(movies)"
   ]
  },
  {
   "cell_type": "code",
   "execution_count": 92,
   "metadata": {
    "run_control": {
     "frozen": false,
     "read_only": false
    }
   },
   "outputs": [
    {
     "data": {
      "text/html": [
       "<ol class=list-inline>\n",
       "\t<li>'title'</li>\n",
       "\t<li>'current'</li>\n",
       "\t<li>'previous'</li>\n",
       "\t<li>'gross'</li>\n",
       "</ol>\n"
      ],
      "text/latex": [
       "\\begin{enumerate*}\n",
       "\\item 'title'\n",
       "\\item 'current'\n",
       "\\item 'previous'\n",
       "\\item 'gross'\n",
       "\\end{enumerate*}\n"
      ],
      "text/markdown": [
       "1. 'title'\n",
       "2. 'current'\n",
       "3. 'previous'\n",
       "4. 'gross'\n",
       "\n",
       "\n"
      ],
      "text/plain": [
       "[1] \"title\"    \"current\"  \"previous\" \"gross\"   "
      ]
     },
     "metadata": {},
     "output_type": "display_data"
    }
   ],
   "source": [
    "names(movies)"
   ]
  },
  {
   "cell_type": "code",
   "execution_count": 93,
   "metadata": {
    "run_control": {
     "frozen": false,
     "read_only": false
    }
   },
   "outputs": [
    {
     "data": {
      "text/html": [
       "<ol class=list-inline>\n",
       "\t<li>26</li>\n",
       "\t<li>4</li>\n",
       "</ol>\n"
      ],
      "text/latex": [
       "\\begin{enumerate*}\n",
       "\\item 26\n",
       "\\item 4\n",
       "\\end{enumerate*}\n"
      ],
      "text/markdown": [
       "1. 26\n",
       "2. 4\n",
       "\n",
       "\n"
      ],
      "text/plain": [
       "[1] 26  4"
      ]
     },
     "metadata": {},
     "output_type": "display_data"
    }
   ],
   "source": [
    "dim(movies)"
   ]
  },
  {
   "cell_type": "code",
   "execution_count": 94,
   "metadata": {
    "run_control": {
     "frozen": false,
     "read_only": false
    }
   },
   "outputs": [
    {
     "data": {
      "text/html": [
       "<dl class=dl-horizontal>\n",
       "\t<dt>title</dt>\n",
       "\t\t<dd>'factor'</dd>\n",
       "\t<dt>current</dt>\n",
       "\t\t<dd>'numeric'</dd>\n",
       "\t<dt>previous</dt>\n",
       "\t\t<dd>'numeric'</dd>\n",
       "\t<dt>gross</dt>\n",
       "\t\t<dd>'numeric'</dd>\n",
       "</dl>\n"
      ],
      "text/latex": [
       "\\begin{description*}\n",
       "\\item[title] 'factor'\n",
       "\\item[current] 'numeric'\n",
       "\\item[previous] 'numeric'\n",
       "\\item[gross] 'numeric'\n",
       "\\end{description*}\n"
      ],
      "text/markdown": [
       "title\n",
       ":   'factor'current\n",
       ":   'numeric'previous\n",
       ":   'numeric'gross\n",
       ":   'numeric'\n",
       "\n"
      ],
      "text/plain": [
       "    title   current  previous     gross \n",
       " \"factor\" \"numeric\" \"numeric\" \"numeric\" "
      ]
     },
     "metadata": {},
     "output_type": "display_data"
    },
    {
     "data": {
      "text/html": [
       "<dl class=dl-horizontal>\n",
       "\t<dt>title</dt>\n",
       "\t\t<dd>'numeric'</dd>\n",
       "\t<dt>current</dt>\n",
       "\t\t<dd>'numeric'</dd>\n",
       "\t<dt>previous</dt>\n",
       "\t\t<dd>'numeric'</dd>\n",
       "\t<dt>gross</dt>\n",
       "\t\t<dd>'numeric'</dd>\n",
       "</dl>\n"
      ],
      "text/latex": [
       "\\begin{description*}\n",
       "\\item[title] 'numeric'\n",
       "\\item[current] 'numeric'\n",
       "\\item[previous] 'numeric'\n",
       "\\item[gross] 'numeric'\n",
       "\\end{description*}\n"
      ],
      "text/markdown": [
       "title\n",
       ":   'numeric'current\n",
       ":   'numeric'previous\n",
       ":   'numeric'gross\n",
       ":   'numeric'\n",
       "\n"
      ],
      "text/plain": [
       "    title   current  previous     gross \n",
       "\"numeric\" \"numeric\" \"numeric\" \"numeric\" "
      ]
     },
     "metadata": {},
     "output_type": "display_data"
    },
    {
     "data": {
      "text/html": [
       "<dl class=dl-horizontal>\n",
       "\t<dt>title</dt>\n",
       "\t\t<dd>'integer'</dd>\n",
       "\t<dt>current</dt>\n",
       "\t\t<dd>'double'</dd>\n",
       "\t<dt>previous</dt>\n",
       "\t\t<dd>'double'</dd>\n",
       "\t<dt>gross</dt>\n",
       "\t\t<dd>'double'</dd>\n",
       "</dl>\n"
      ],
      "text/latex": [
       "\\begin{description*}\n",
       "\\item[title] 'integer'\n",
       "\\item[current] 'double'\n",
       "\\item[previous] 'double'\n",
       "\\item[gross] 'double'\n",
       "\\end{description*}\n"
      ],
      "text/markdown": [
       "title\n",
       ":   'integer'current\n",
       ":   'double'previous\n",
       ":   'double'gross\n",
       ":   'double'\n",
       "\n"
      ],
      "text/plain": [
       "    title   current  previous     gross \n",
       "\"integer\"  \"double\"  \"double\"  \"double\" "
      ]
     },
     "metadata": {},
     "output_type": "display_data"
    }
   ],
   "source": [
    "attach(movies)\n",
    "sapply(movies, class)\n",
    "sapply(movies, mode)\n",
    "sapply(movies, typeof)"
   ]
  },
  {
   "cell_type": "code",
   "execution_count": 95,
   "metadata": {
    "run_control": {
     "frozen": false,
     "read_only": false
    }
   },
   "outputs": [
    {
     "data": {
      "image/png": "[encoded data removed]",
      "text/plain": [
       "Plot with title \"current receipts\""
      ]
     },
     "metadata": {},
     "output_type": "display_data"
    }
   ],
   "source": [
    "boxplot(current, main=\"current receipts\", horizontal=TRUE)"
   ]
  },
  {
   "cell_type": "code",
   "execution_count": 96,
   "metadata": {
    "run_control": {
     "frozen": false,
     "read_only": false
    }
   },
   "outputs": [
    {
     "data": {
      "image/png": "[encoded data removed]",
      "text/plain": [
       "Plot with title \"gross receipts\""
      ]
     },
     "metadata": {},
     "output_type": "display_data"
    }
   ],
   "source": [
    "boxplot(gross,main=\"gross receipts\",horizontal=TRUE)"
   ]
  },
  {
   "cell_type": "code",
   "execution_count": 97,
   "metadata": {
    "collapsed": true,
    "run_control": {
     "frozen": false,
     "read_only": false
    }
   },
   "outputs": [],
   "source": [
    "detach(movies) # tidy up"
   ]
  },
  {
   "cell_type": "code",
   "execution_count": 98,
   "metadata": {
    "collapsed": true,
    "run_control": {
     "frozen": false,
     "read_only": false
    }
   },
   "outputs": [],
   "source": [
    "data(\"lynx\") "
   ]
  },
  {
   "cell_type": "code",
   "execution_count": 99,
   "metadata": {
    "run_control": {
     "frozen": false,
     "read_only": false
    },
    "scrolled": true
   },
   "outputs": [
    {
     "name": "stdout",
     "output_type": "stream",
     "text": [
      "Time Series:\n",
      "Start = 1821 \n",
      "End = 1934 \n",
      "Frequency = 1 \n",
      "  [1]  269  321  585  871 1475 2821 3928 5943 4950 2577  523   98  184  279  409\n",
      " [16] 2285 2685 3409 1824  409  151   45   68  213  546 1033 2129 2536  957  361\n",
      " [31]  377  225  360  731 1638 2725 2871 2119  684  299  236  245  552 1623 3311\n",
      " [46] 6721 4254  687  255  473  358  784 1594 1676 2251 1426  756  299  201  229\n",
      " [61]  469  736 2042 2811 4431 2511  389   73   39   49   59  188  377 1292 4031\n",
      " [76] 3495  587  105  153  387  758 1307 3465 6991 6313 3794 1836  345  382  808\n",
      " [91] 1388 2713 3800 3091 2985 3790  674   81   80  108  229  399 1132 2432 3574\n",
      "[106] 2935 1537  529  485  662 1000 1590 2657 3396\n"
     ]
    },
    {
     "data": {
      "text/html": [
       "'ts'"
      ],
      "text/latex": [
       "'ts'"
      ],
      "text/markdown": [
       "'ts'"
      ],
      "text/plain": [
       "[1] \"ts\""
      ]
     },
     "metadata": {},
     "output_type": "display_data"
    }
   ],
   "source": [
    "#attach(\"lynx\")\n",
    "print(lynx)\n",
    "class(lynx)"
   ]
  },
  {
   "cell_type": "code",
   "execution_count": 100,
   "metadata": {
    "run_control": {
     "frozen": false,
     "read_only": false
    }
   },
   "outputs": [
    {
     "data": {
      "text/html": [
       "<ol class=list-inline>\n",
       "\t<li>1821</li>\n",
       "\t<li>1934</li>\n",
       "\t<li>1</li>\n",
       "</ol>\n"
      ],
      "text/latex": [
       "\\begin{enumerate*}\n",
       "\\item 1821\n",
       "\\item 1934\n",
       "\\item 1\n",
       "\\end{enumerate*}\n"
      ],
      "text/markdown": [
       "1. 1821\n",
       "2. 1934\n",
       "3. 1\n",
       "\n",
       "\n"
      ],
      "text/plain": [
       "[1] 1821 1934    1"
      ]
     },
     "metadata": {},
     "output_type": "display_data"
    }
   ],
   "source": [
    "tsp(lynx)"
   ]
  },
  {
   "cell_type": "code",
   "execution_count": 101,
   "metadata": {
    "run_control": {
     "frozen": false,
     "read_only": false
    },
    "scrolled": false
   },
   "outputs": [
    {
     "data": {
      "text/html": [
       "114"
      ],
      "text/latex": [
       "114"
      ],
      "text/markdown": [
       "114"
      ],
      "text/plain": [
       "[1] 114"
      ]
     },
     "metadata": {},
     "output_type": "display_data"
    }
   ],
   "source": [
    "length(lynx)"
   ]
  },
  {
   "cell_type": "code",
   "execution_count": 102,
   "metadata": {
    "run_control": {
     "frozen": false,
     "read_only": false
    },
    "scrolled": true
   },
   "outputs": [
    {
     "data": {
      "image/png": "[encoded data removed]",
      "text/plain": [
       "Plot with title \"Histogram of lynx\""
      ]
     },
     "metadata": {},
     "output_type": "display_data"
    }
   ],
   "source": [
    "hist(lynx)"
   ]
  },
  {
   "cell_type": "code",
   "execution_count": 103,
   "metadata": {
    "run_control": {
     "frozen": false,
     "read_only": false
    }
   },
   "outputs": [
    {
     "data": {
      "text/plain": [
       "   Min. 1st Qu.  Median    Mean 3rd Qu.    Max. \n",
       "   39.0   348.2   771.0  1538.0  2567.0  6991.0 "
      ]
     },
     "metadata": {},
     "output_type": "display_data"
    }
   ],
   "source": [
    "summary(lynx)"
   ]
  },
  {
   "cell_type": "code",
   "execution_count": null,
   "metadata": {
    "collapsed": true,
    "run_control": {
     "frozen": false,
     "read_only": false
    }
   },
   "outputs": [],
   "source": []
  },
  {
   "cell_type": "code",
   "execution_count": 104,
   "metadata": {
    "collapsed": true,
    "run_control": {
     "frozen": false,
     "read_only": false
    }
   },
   "outputs": [],
   "source": [
    "data(AirPassengers)"
   ]
  },
  {
   "cell_type": "code",
   "execution_count": 105,
   "metadata": {
    "collapsed": true,
    "run_control": {
     "frozen": false,
     "read_only": false
    }
   },
   "outputs": [],
   "source": [
    "AP<-AirPassengers"
   ]
  },
  {
   "cell_type": "code",
   "execution_count": 106,
   "metadata": {
    "run_control": {
     "frozen": false,
     "read_only": false
    },
    "scrolled": true
   },
   "outputs": [
    {
     "data": {
      "text/html": [
       "<ol class=list-inline>\n",
       "\t<li>1949</li>\n",
       "\t<li>1</li>\n",
       "</ol>\n"
      ],
      "text/latex": [
       "\\begin{enumerate*}\n",
       "\\item 1949\n",
       "\\item 1\n",
       "\\end{enumerate*}\n"
      ],
      "text/markdown": [
       "1. 1949\n",
       "2. 1\n",
       "\n",
       "\n"
      ],
      "text/plain": [
       "[1] 1949    1"
      ]
     },
     "metadata": {},
     "output_type": "display_data"
    },
    {
     "data": {
      "text/html": [
       "<ol class=list-inline>\n",
       "\t<li>1960</li>\n",
       "\t<li>12</li>\n",
       "</ol>\n"
      ],
      "text/latex": [
       "\\begin{enumerate*}\n",
       "\\item 1960\n",
       "\\item 12\n",
       "\\end{enumerate*}\n"
      ],
      "text/markdown": [
       "1. 1960\n",
       "2. 12\n",
       "\n",
       "\n"
      ],
      "text/plain": [
       "[1] 1960   12"
      ]
     },
     "metadata": {},
     "output_type": "display_data"
    },
    {
     "data": {
      "text/html": [
       "12"
      ],
      "text/latex": [
       "12"
      ],
      "text/markdown": [
       "12"
      ],
      "text/plain": [
       "[1] 12"
      ]
     },
     "metadata": {},
     "output_type": "display_data"
    },
    {
     "data": {
      "text/plain": [
       "   Min. 1st Qu.  Median    Mean 3rd Qu.    Max. \n",
       "  104.0   180.0   265.5   280.3   360.5   622.0 "
      ]
     },
     "metadata": {},
     "output_type": "display_data"
    }
   ],
   "source": [
    "start(AP)\n",
    "end(AP)\n",
    "frequency(AP)\n",
    "summary(AP)"
   ]
  },
  {
   "cell_type": "code",
   "execution_count": 107,
   "metadata": {
    "run_control": {
     "frozen": false,
     "read_only": false
    }
   },
   "outputs": [
    {
     "data": {
      "image/png": "[encoded data removed]",
      "text/plain": [
       "plot without title"
      ]
     },
     "metadata": {},
     "output_type": "display_data"
    }
   ],
   "source": [
    "plot(AP)"
   ]
  },
  {
   "cell_type": "code",
   "execution_count": 108,
   "metadata": {
    "run_control": {
     "frozen": false,
     "read_only": false
    }
   },
   "outputs": [
    {
     "data": {
      "text/plain": [
       "     Jan Feb Mar Apr May Jun Jul Aug Sep Oct Nov Dec\n",
       "1949   1   2   3   4   5   6   7   8   9  10  11  12\n",
       "1950   1   2   3   4   5   6   7   8   9  10  11  12\n",
       "1951   1   2   3   4   5   6   7   8   9  10  11  12\n",
       "1952   1   2   3   4   5   6   7   8   9  10  11  12\n",
       "1953   1   2   3   4   5   6   7   8   9  10  11  12\n",
       "1954   1   2   3   4   5   6   7   8   9  10  11  12\n",
       "1955   1   2   3   4   5   6   7   8   9  10  11  12\n",
       "1956   1   2   3   4   5   6   7   8   9  10  11  12\n",
       "1957   1   2   3   4   5   6   7   8   9  10  11  12\n",
       "1958   1   2   3   4   5   6   7   8   9  10  11  12\n",
       "1959   1   2   3   4   5   6   7   8   9  10  11  12\n",
       "1960   1   2   3   4   5   6   7   8   9  10  11  12"
      ]
     },
     "metadata": {},
     "output_type": "display_data"
    }
   ],
   "source": [
    "cycle(AP)"
   ]
  },
  {
   "cell_type": "code",
   "execution_count": 109,
   "metadata": {
    "run_control": {
     "frozen": false,
     "read_only": false
    }
   },
   "outputs": [
    {
     "data": {
      "text/plain": [
       "Time Series:\n",
       "Start = 1949 \n",
       "End = 1960 \n",
       "Frequency = 1 \n",
       " [1] 1520 1676 2042 2364 2700 2867 3408 3939 4421 4572 5140 5714"
      ]
     },
     "metadata": {},
     "output_type": "display_data"
    }
   ],
   "source": [
    "aggregate(AP)"
   ]
  },
  {
   "cell_type": "code",
   "execution_count": 110,
   "metadata": {
    "run_control": {
     "frozen": false,
     "read_only": false
    }
   },
   "outputs": [
    {
     "data": {
      "text/plain": [
       "Time Series:\n",
       "Start = 1949 \n",
       "End = 1960 \n",
       "Frequency = 1 \n",
       " [1] 126.6667 139.6667 170.1667 197.0000 225.0000 238.9167 284.0000 328.2500\n",
       " [9] 368.4167 381.0000 428.3333 476.1667"
      ]
     },
     "metadata": {},
     "output_type": "display_data"
    }
   ],
   "source": [
    "aggregate(AP, FUN=mean)"
   ]
  },
  {
   "cell_type": "code",
   "execution_count": 111,
   "metadata": {
    "run_control": {
     "frozen": false,
     "read_only": false
    }
   },
   "outputs": [
    {
     "data": {
      "image/png": "[encoded data removed]",
      "text/plain": [
       "plot without title"
      ]
     },
     "metadata": {},
     "output_type": "display_data"
    }
   ],
   "source": [
    "plot(aggregate(AP))"
   ]
  },
  {
   "cell_type": "code",
   "execution_count": 112,
   "metadata": {
    "run_control": {
     "frozen": false,
     "read_only": false
    }
   },
   "outputs": [
    {
     "data": {
      "image/png": "[encoded data removed]",
      "text/plain": [
       "plot without title"
      ]
     },
     "metadata": {},
     "output_type": "display_data"
    }
   ],
   "source": [
    "boxplot(AP~cycle(AP))"
   ]
  },
  {
   "cell_type": "code",
   "execution_count": 113,
   "metadata": {
    "run_control": {
     "frozen": false,
     "read_only": false
    },
    "scrolled": false
   },
   "outputs": [
    {
     "data": {
      "text/html": [
       "'data.frame'"
      ],
      "text/latex": [
       "'data.frame'"
      ],
      "text/markdown": [
       "'data.frame'"
      ],
      "text/plain": [
       "[1] \"data.frame\""
      ]
     },
     "metadata": {},
     "output_type": "display_data"
    },
    {
     "name": "stdout",
     "output_type": "stream",
     "text": [
      "           VALUE\n",
      "1948-01-01   3.4\n",
      "1948-02-01   3.8\n",
      "1948-03-01   4.0\n",
      "1948-04-01   3.9\n",
      "1948-05-01   3.5\n",
      "1948-06-01   3.6\n",
      "1948-07-01   3.6\n",
      "1948-08-01   3.9\n",
      "1948-09-01   3.8\n",
      "1948-10-01   3.7\n",
      "1948-11-01   3.8\n",
      "1948-12-01   4.0\n",
      "1949-01-01   4.3\n",
      "1949-02-01   4.7\n",
      "1949-03-01   5.0\n",
      "1949-04-01   5.3\n",
      "1949-05-01   6.1\n",
      "1949-06-01   6.2\n",
      "1949-07-01   6.7\n",
      "1949-08-01   6.8\n",
      "1949-09-01   6.6\n",
      "1949-10-01   7.9\n",
      "1949-11-01   6.4\n",
      "1949-12-01   6.6\n",
      "1950-01-01   6.5\n",
      "1950-02-01   6.4\n",
      "1950-03-01   6.3\n",
      "1950-04-01   5.8\n",
      "1950-05-01   5.5\n",
      "1950-06-01   5.4\n",
      "1950-07-01   5.0\n",
      "1950-08-01   4.5\n",
      "1950-09-01   4.4\n",
      "1950-10-01   4.2\n",
      "1950-11-01   4.2\n",
      "1950-12-01   4.3\n",
      "1951-01-01   3.7\n",
      "1951-02-01   3.4\n",
      "1951-03-01   3.4\n",
      "1951-04-01   3.1\n",
      "1951-05-01   3.0\n",
      "1951-06-01   3.2\n",
      "1951-07-01   3.1\n",
      "1951-08-01   3.1\n",
      "1951-09-01   3.3\n",
      "1951-10-01   3.5\n",
      "1951-11-01   3.5\n",
      "1951-12-01   3.1\n",
      "1952-01-01   3.2\n",
      "1952-02-01   3.1\n",
      "1952-03-01   2.9\n",
      "1952-04-01   2.9\n",
      "1952-05-01   3.0\n",
      "1952-06-01   3.0\n",
      "1952-07-01   3.2\n",
      "1952-08-01   3.4\n",
      "1952-09-01   3.1\n",
      "1952-10-01   3.0\n",
      "1952-11-01   2.8\n",
      "1952-12-01   2.7\n",
      "1953-01-01   2.9\n",
      "1953-02-01   2.6\n",
      "1953-03-01   2.6\n",
      "1953-04-01   2.7\n",
      "1953-05-01   2.5\n",
      "1953-06-01   2.5\n",
      "1953-07-01   2.6\n",
      "1953-08-01   2.7\n",
      "1953-09-01   2.9\n",
      "1953-10-01   3.1\n",
      "1953-11-01   3.5\n",
      "1953-12-01   4.5\n",
      "1954-01-01   4.9\n",
      "1954-02-01   5.2\n",
      "1954-03-01   5.7\n",
      "1954-04-01   5.9\n",
      "1954-05-01   5.9\n",
      "1954-06-01   5.6\n",
      "1954-07-01   5.8\n",
      "1954-08-01   6.0\n",
      "1954-09-01   6.1\n",
      "1954-10-01   5.7\n",
      "1954-11-01   5.3\n",
      "1954-12-01   5.0\n",
      "1955-01-01   4.9\n",
      "1955-02-01   4.7\n",
      "1955-03-01   4.6\n",
      "1955-04-01   4.7\n",
      "1955-05-01   4.3\n",
      "1955-06-01   4.2\n",
      "1955-07-01   4.0\n",
      "1955-08-01   4.2\n",
      "1955-09-01   4.1\n",
      "1955-10-01   4.3\n",
      "1955-11-01   4.2\n",
      "1955-12-01   4.2\n",
      "1956-01-01   4.0\n",
      "1956-02-01   3.9\n",
      "1956-03-01   4.2\n",
      "1956-04-01   4.0\n",
      "1956-05-01   4.3\n",
      "1956-06-01   4.3\n",
      "1956-07-01   4.4\n",
      "1956-08-01   4.1\n",
      "1956-09-01   3.9\n",
      "1956-10-01   3.9\n",
      "1956-11-01   4.3\n",
      "1956-12-01   4.2\n",
      "1957-01-01   4.2\n",
      "1957-02-01   3.9\n",
      "1957-03-01   3.7\n",
      "1957-04-01   3.9\n",
      "1957-05-01   4.1\n",
      "1957-06-01   4.3\n",
      "1957-07-01   4.2\n",
      "1957-08-01   4.1\n",
      "1957-09-01   4.4\n",
      "1957-10-01   4.5\n",
      "1957-11-01   5.1\n",
      "1957-12-01   5.2\n",
      "1958-01-01   5.8\n",
      "1958-02-01   6.4\n",
      "1958-03-01   6.7\n",
      "1958-04-01   7.4\n",
      "1958-05-01   7.4\n",
      "1958-06-01   7.3\n",
      "1958-07-01   7.5\n",
      "1958-08-01   7.4\n",
      "1958-09-01   7.1\n",
      "1958-10-01   6.7\n",
      "1958-11-01   6.2\n",
      "1958-12-01   6.2\n",
      "1959-01-01   6.0\n",
      "1959-02-01   5.9\n",
      "1959-03-01   5.6\n",
      "1959-04-01   5.2\n",
      "1959-05-01   5.1\n",
      "1959-06-01   5.0\n",
      "1959-07-01   5.1\n",
      "1959-08-01   5.2\n",
      "1959-09-01   5.5\n",
      "1959-10-01   5.7\n",
      "1959-11-01   5.8\n",
      "1959-12-01   5.3\n",
      "1960-01-01   5.2\n",
      "1960-02-01   4.8\n",
      "1960-03-01   5.4\n",
      "1960-04-01   5.2\n",
      "1960-05-01   5.1\n",
      "1960-06-01   5.4\n",
      "1960-07-01   5.5\n",
      "1960-08-01   5.6\n",
      "1960-09-01   5.5\n",
      "1960-10-01   6.1\n",
      "1960-11-01   6.1\n",
      "1960-12-01   6.6\n",
      "1961-01-01   6.6\n",
      "1961-02-01   6.9\n",
      "1961-03-01   6.9\n",
      "1961-04-01   7.0\n",
      "1961-05-01   7.1\n",
      "1961-06-01   6.9\n",
      "1961-07-01   7.0\n",
      "1961-08-01   6.6\n",
      "1961-09-01   6.7\n",
      "1961-10-01   6.5\n",
      "1961-11-01   6.1\n",
      "1961-12-01   6.0\n",
      "1962-01-01   5.8\n",
      "1962-02-01   5.5\n",
      "1962-03-01   5.6\n",
      "1962-04-01   5.6\n",
      "1962-05-01   5.5\n",
      "1962-06-01   5.5\n",
      "1962-07-01   5.4\n",
      "1962-08-01   5.7\n",
      "1962-09-01   5.6\n",
      "1962-10-01   5.4\n",
      "1962-11-01   5.7\n",
      "1962-12-01   5.5\n",
      "1963-01-01   5.7\n",
      "1963-02-01   5.9\n",
      "1963-03-01   5.7\n",
      "1963-04-01   5.7\n",
      "1963-05-01   5.9\n",
      "1963-06-01   5.6\n",
      "1963-07-01   5.6\n",
      "1963-08-01   5.4\n",
      "1963-09-01   5.5\n",
      "1963-10-01   5.5\n",
      "1963-11-01   5.7\n",
      "1963-12-01   5.5\n",
      "1964-01-01   5.6\n",
      "1964-02-01   5.4\n",
      "1964-03-01   5.4\n",
      "1964-04-01   5.3\n",
      "1964-05-01   5.1\n",
      "1964-06-01   5.2\n",
      "1964-07-01   4.9\n",
      "1964-08-01   5.0\n",
      "1964-09-01   5.1\n",
      "1964-10-01   5.1\n",
      "1964-11-01   4.8\n",
      "1964-12-01   5.0\n",
      "1965-01-01   4.9\n",
      "1965-02-01   5.1\n",
      "1965-03-01   4.7\n",
      "1965-04-01   4.8\n",
      "1965-05-01   4.6\n",
      "1965-06-01   4.6\n",
      "1965-07-01   4.4\n",
      "1965-08-01   4.4\n",
      "1965-09-01   4.3\n",
      "1965-10-01   4.2\n",
      "1965-11-01   4.1\n",
      "1965-12-01   4.0\n",
      "1966-01-01   4.0\n",
      "1966-02-01   3.8\n",
      "1966-03-01   3.8\n",
      "1966-04-01   3.8\n",
      "1966-05-01   3.9\n",
      "1966-06-01   3.8\n",
      "1966-07-01   3.8\n",
      "1966-08-01   3.8\n",
      "1966-09-01   3.7\n",
      "1966-10-01   3.7\n",
      "1966-11-01   3.6\n",
      "1966-12-01   3.8\n",
      "1967-01-01   3.9\n",
      "1967-02-01   3.8\n",
      "1967-03-01   3.8\n",
      "1967-04-01   3.8\n",
      "1967-05-01   3.8\n",
      "1967-06-01   3.9\n",
      "1967-07-01   3.8\n",
      "1967-08-01   3.8\n",
      "1967-09-01   3.8\n",
      "1967-10-01   4.0\n",
      "1967-11-01   3.9\n",
      "1967-12-01   3.8\n",
      "1968-01-01   3.7\n",
      "1968-02-01   3.8\n",
      "1968-03-01   3.7\n",
      "1968-04-01   3.5\n",
      "1968-05-01   3.5\n",
      "1968-06-01   3.7\n",
      "1968-07-01   3.7\n",
      "1968-08-01   3.5\n",
      "1968-09-01   3.4\n",
      "1968-10-01   3.4\n",
      "1968-11-01   3.4\n",
      "1968-12-01   3.4\n",
      "1969-01-01   3.4\n",
      "1969-02-01   3.4\n",
      "1969-03-01   3.4\n",
      "1969-04-01   3.4\n",
      "1969-05-01   3.4\n",
      "1969-06-01   3.5\n",
      "1969-07-01   3.5\n",
      "1969-08-01   3.5\n",
      "1969-09-01   3.7\n",
      "1969-10-01   3.7\n",
      "1969-11-01   3.5\n",
      "1969-12-01   3.5\n",
      "1970-01-01   3.9\n",
      "1970-02-01   4.2\n",
      "1970-03-01   4.4\n",
      "1970-04-01   4.6\n",
      "1970-05-01   4.8\n",
      "1970-06-01   4.9\n",
      "1970-07-01   5.0\n",
      "1970-08-01   5.1\n",
      "1970-09-01   5.4\n",
      "1970-10-01   5.5\n",
      "1970-11-01   5.9\n",
      "1970-12-01   6.1\n",
      "1971-01-01   5.9\n",
      "1971-02-01   5.9\n",
      "1971-03-01   6.0\n",
      "1971-04-01   5.9\n",
      "1971-05-01   5.9\n",
      "1971-06-01   5.9\n",
      "1971-07-01   6.0\n",
      "1971-08-01   6.1\n",
      "1971-09-01   6.0\n",
      "1971-10-01   5.8\n",
      "1971-11-01   6.0\n",
      "1971-12-01   6.0\n",
      "1972-01-01   5.8\n",
      "1972-02-01   5.7\n",
      "1972-03-01   5.8\n",
      "1972-04-01   5.7\n",
      "1972-05-01   5.7\n",
      "1972-06-01   5.7\n",
      "1972-07-01   5.6\n",
      "1972-08-01   5.6\n",
      "1972-09-01   5.5\n",
      "1972-10-01   5.6\n",
      "1972-11-01   5.3\n",
      "1972-12-01   5.2\n",
      "1973-01-01   4.9\n",
      "1973-02-01   5.0\n",
      "1973-03-01   4.9\n",
      "1973-04-01   5.0\n",
      "1973-05-01   4.9\n",
      "1973-06-01   4.9\n",
      "1973-07-01   4.8\n",
      "1973-08-01   4.8\n",
      "1973-09-01   4.8\n",
      "1973-10-01   4.6\n",
      "1973-11-01   4.8\n",
      "1973-12-01   4.9\n",
      "1974-01-01   5.1\n",
      "1974-02-01   5.2\n",
      "1974-03-01   5.1\n",
      "1974-04-01   5.1\n",
      "1974-05-01   5.1\n",
      "1974-06-01   5.4\n",
      "1974-07-01   5.5\n",
      "1974-08-01   5.5\n",
      "1974-09-01   5.9\n",
      "1974-10-01   6.0\n",
      "1974-11-01   6.6\n",
      "1974-12-01   7.2\n",
      "1975-01-01   8.1\n",
      "1975-02-01   8.1\n",
      "1975-03-01   8.6\n",
      "1975-04-01   8.8\n",
      "1975-05-01   9.0\n",
      "1975-06-01   8.8\n",
      "1975-07-01   8.6\n",
      "1975-08-01   8.4\n",
      "1975-09-01   8.4\n",
      "1975-10-01   8.4\n",
      "1975-11-01   8.3\n",
      "1975-12-01   8.2\n",
      "1976-01-01   7.9\n",
      "1976-02-01   7.7\n",
      "1976-03-01   7.6\n",
      "1976-04-01   7.7\n",
      "1976-05-01   7.4\n",
      "1976-06-01   7.6\n",
      "1976-07-01   7.8\n",
      "1976-08-01   7.8\n",
      "1976-09-01   7.6\n",
      "1976-10-01   7.7\n",
      "1976-11-01   7.8\n",
      "1976-12-01   7.8\n",
      "1977-01-01   7.5\n",
      "1977-02-01   7.6\n",
      "1977-03-01   7.4\n",
      "1977-04-01   7.2\n",
      "1977-05-01   7.0\n",
      "1977-06-01   7.2\n",
      "1977-07-01   6.9\n",
      "1977-08-01   7.0\n",
      "1977-09-01   6.8\n",
      "1977-10-01   6.8\n",
      "1977-11-01   6.8\n",
      "1977-12-01   6.4\n",
      "1978-01-01   6.4\n",
      "1978-02-01   6.3\n",
      "1978-03-01   6.3\n",
      "1978-04-01   6.1\n",
      "1978-05-01   6.0\n",
      "1978-06-01   5.9\n",
      "1978-07-01   6.2\n",
      "1978-08-01   5.9\n",
      "1978-09-01   6.0\n",
      "1978-10-01   5.8\n",
      "1978-11-01   5.9\n",
      "1978-12-01   6.0\n",
      "1979-01-01   5.9\n",
      "1979-02-01   5.9\n",
      "1979-03-01   5.8\n",
      "1979-04-01   5.8\n",
      "1979-05-01   5.6\n",
      "1979-06-01   5.7\n",
      "1979-07-01   5.7\n",
      "1979-08-01   6.0\n",
      "1979-09-01   5.9\n",
      "1979-10-01   6.0\n",
      "1979-11-01   5.9\n",
      "1979-12-01   6.0\n",
      "1980-01-01   6.3\n",
      "1980-02-01   6.3\n",
      "1980-03-01   6.3\n",
      "1980-04-01   6.9\n",
      "1980-05-01   7.5\n",
      "1980-06-01   7.6\n",
      "1980-07-01   7.8\n",
      "1980-08-01   7.7\n",
      "1980-09-01   7.5\n",
      "1980-10-01   7.5\n",
      "1980-11-01   7.5\n",
      "1980-12-01   7.2\n",
      "1981-01-01   7.5\n",
      "1981-02-01   7.4\n",
      "1981-03-01   7.4\n",
      "1981-04-01   7.2\n",
      "1981-05-01   7.5\n",
      "1981-06-01   7.5\n",
      "1981-07-01   7.2\n",
      "1981-08-01   7.4\n",
      "1981-09-01   7.6\n",
      "1981-10-01   7.9\n",
      "1981-11-01   8.3\n",
      "1981-12-01   8.5\n",
      "1982-01-01   8.6\n",
      "1982-02-01   8.9\n",
      "1982-03-01   9.0\n",
      "1982-04-01   9.3\n",
      "1982-05-01   9.4\n",
      "1982-06-01   9.6\n",
      "1982-07-01   9.8\n",
      "1982-08-01   9.8\n",
      "1982-09-01  10.1\n",
      "1982-10-01  10.4\n",
      "1982-11-01  10.8\n",
      "1982-12-01  10.8\n",
      "1983-01-01  10.4\n",
      "1983-02-01  10.4\n",
      "1983-03-01  10.3\n",
      "1983-04-01  10.2\n",
      "1983-05-01  10.1\n",
      "1983-06-01  10.1\n",
      "1983-07-01   9.4\n",
      "1983-08-01   9.5\n",
      "1983-09-01   9.2\n",
      "1983-10-01   8.8\n",
      "1983-11-01   8.5\n",
      "1983-12-01   8.3\n",
      "1984-01-01   8.0\n",
      "1984-02-01   7.8\n",
      "1984-03-01   7.8\n",
      "1984-04-01   7.7\n",
      "1984-05-01   7.4\n",
      "1984-06-01   7.2\n",
      "1984-07-01   7.5\n",
      "1984-08-01   7.5\n",
      "1984-09-01   7.3\n",
      "1984-10-01   7.4\n",
      "1984-11-01   7.2\n",
      "1984-12-01   7.3\n",
      "1985-01-01   7.3\n",
      "1985-02-01   7.2\n",
      "1985-03-01   7.2\n",
      "1985-04-01   7.3\n",
      "1985-05-01   7.2\n",
      "1985-06-01   7.4\n",
      "1985-07-01   7.4\n",
      "1985-08-01   7.1\n",
      "1985-09-01   7.1\n",
      "1985-10-01   7.1\n",
      "1985-11-01   7.0\n",
      "1985-12-01   7.0\n",
      "1986-01-01   6.7\n",
      "1986-02-01   7.2\n",
      "1986-03-01   7.2\n",
      "1986-04-01   7.1\n",
      "1986-05-01   7.2\n",
      "1986-06-01   7.2\n",
      "1986-07-01   7.0\n",
      "1986-08-01   6.9\n",
      "1986-09-01   7.0\n",
      "1986-10-01   7.0\n",
      "1986-11-01   6.9\n",
      "1986-12-01   6.6\n",
      "1987-01-01   6.6\n",
      "1987-02-01   6.6\n",
      "1987-03-01   6.6\n",
      "1987-04-01   6.3\n",
      "1987-05-01   6.3\n",
      "1987-06-01   6.2\n",
      "1987-07-01   6.1\n",
      "1987-08-01   6.0\n",
      "1987-09-01   5.9\n",
      "1987-10-01   6.0\n",
      "1987-11-01   5.8\n",
      "1987-12-01   5.7\n",
      "1988-01-01   5.7\n",
      "1988-02-01   5.7\n",
      "1988-03-01   5.7\n",
      "1988-04-01   5.4\n",
      "1988-05-01   5.6\n",
      "1988-06-01   5.4\n",
      "1988-07-01   5.4\n",
      "1988-08-01   5.6\n",
      "1988-09-01   5.4\n",
      "1988-10-01   5.4\n",
      "1988-11-01   5.3\n",
      "1988-12-01   5.3\n",
      "1989-01-01   5.4\n",
      "1989-02-01   5.2\n",
      "1989-03-01   5.0\n",
      "1989-04-01   5.2\n",
      "1989-05-01   5.2\n",
      "1989-06-01   5.3\n",
      "1989-07-01   5.2\n",
      "1989-08-01   5.2\n",
      "1989-09-01   5.3\n",
      "1989-10-01   5.3\n",
      "1989-11-01   5.4\n",
      "1989-12-01   5.4\n",
      "1990-01-01   5.4\n",
      "1990-02-01   5.3\n",
      "1990-03-01   5.2\n",
      "1990-04-01   5.4\n",
      "1990-05-01   5.4\n",
      "1990-06-01   5.2\n",
      "1990-07-01   5.5\n",
      "1990-08-01   5.7\n",
      "1990-09-01   5.9\n",
      "1990-10-01   5.9\n",
      "1990-11-01   6.2\n",
      "1990-12-01   6.3\n",
      "1991-01-01   6.4\n",
      "1991-02-01   6.6\n",
      "1991-03-01   6.8\n",
      "1991-04-01   6.7\n",
      "1991-05-01   6.9\n",
      "1991-06-01   6.9\n",
      "1991-07-01   6.8\n",
      "1991-08-01   6.9\n",
      "1991-09-01   6.9\n",
      "1991-10-01   7.0\n",
      "1991-11-01   7.0\n",
      "1991-12-01   7.3\n",
      "1992-01-01   7.3\n",
      "1992-02-01   7.4\n",
      "1992-03-01   7.4\n",
      "1992-04-01   7.4\n",
      "1992-05-01   7.6\n",
      "1992-06-01   7.8\n",
      "1992-07-01   7.7\n",
      "1992-08-01   7.6\n",
      "1992-09-01   7.6\n",
      "1992-10-01   7.3\n",
      "1992-11-01   7.4\n",
      "1992-12-01   7.4\n",
      "1993-01-01   7.3\n",
      "1993-02-01   7.1\n",
      "1993-03-01   7.0\n",
      "1993-04-01   7.1\n",
      "1993-05-01   7.1\n",
      "1993-06-01   7.0\n",
      "1993-07-01   6.9\n",
      "1993-08-01   6.8\n",
      "1993-09-01   6.7\n",
      "1993-10-01   6.8\n",
      "1993-11-01   6.6\n",
      "1993-12-01   6.5\n",
      "1994-01-01   6.6\n",
      "1994-02-01   6.6\n",
      "1994-03-01   6.5\n",
      "1994-04-01   6.4\n",
      "1994-05-01   6.1\n",
      "1994-06-01   6.1\n",
      "1994-07-01   6.1\n",
      "1994-08-01   6.0\n",
      "1994-09-01   5.9\n",
      "1994-10-01   5.8\n",
      "1994-11-01   5.6\n",
      "1994-12-01   5.5\n",
      "1995-01-01   5.6\n",
      "1995-02-01   5.4\n",
      "1995-03-01   5.4\n",
      "1995-04-01   5.8\n",
      "1995-05-01   5.6\n",
      "1995-06-01   5.6\n",
      "1995-07-01   5.7\n",
      "1995-08-01   5.7\n",
      "1995-09-01   5.6\n",
      "1995-10-01   5.5\n",
      "1995-11-01   5.6\n",
      "1995-12-01   5.6\n",
      "1996-01-01   5.6\n",
      "1996-02-01   5.5\n",
      "1996-03-01   5.5\n",
      "1996-04-01   5.6\n",
      "1996-05-01   5.6\n",
      "1996-06-01   5.3\n",
      "1996-07-01   5.5\n",
      "1996-08-01   5.1\n",
      "1996-09-01   5.2\n",
      "1996-10-01   5.2\n",
      "1996-11-01   5.4\n",
      "1996-12-01   5.4\n",
      "1997-01-01   5.3\n",
      "1997-02-01   5.2\n",
      "1997-03-01   5.2\n",
      "1997-04-01   5.1\n",
      "1997-05-01   4.9\n",
      "1997-06-01   5.0\n",
      "1997-07-01   4.9\n",
      "1997-08-01   4.8\n",
      "1997-09-01   4.9\n",
      "1997-10-01   4.7\n",
      "1997-11-01   4.6\n",
      "1997-12-01   4.7\n",
      "1998-01-01   4.6\n",
      "1998-02-01   4.6\n",
      "1998-03-01   4.7\n",
      "1998-04-01   4.3\n",
      "1998-05-01   4.4\n",
      "1998-06-01   4.5\n",
      "1998-07-01   4.5\n",
      "1998-08-01   4.5\n",
      "1998-09-01   4.6\n",
      "1998-10-01   4.5\n",
      "1998-11-01   4.4\n",
      "1998-12-01   4.4\n",
      "1999-01-01   4.3\n",
      "1999-02-01   4.4\n",
      "1999-03-01   4.2\n",
      "1999-04-01   4.3\n",
      "1999-05-01   4.2\n",
      "1999-06-01   4.3\n",
      "1999-07-01   4.3\n",
      "1999-08-01   4.2\n",
      "1999-09-01   4.2\n",
      "1999-10-01   4.1\n",
      "1999-11-01   4.1\n",
      "1999-12-01   4.0\n",
      "2000-01-01   4.0\n",
      "2000-02-01   4.1\n",
      "2000-03-01   4.0\n",
      "2000-04-01   3.8\n",
      "2000-05-01   4.0\n",
      "2000-06-01   4.0\n",
      "2000-07-01   4.0\n",
      "2000-08-01   4.1\n",
      "2000-09-01   3.9\n",
      "2000-10-01   3.9\n",
      "2000-11-01   3.9\n",
      "2000-12-01   3.9\n",
      "2001-01-01   4.2\n",
      "2001-02-01   4.2\n",
      "2001-03-01   4.3\n",
      "2001-04-01   4.4\n",
      "2001-05-01   4.3\n",
      "2001-06-01   4.5\n",
      "2001-07-01   4.6\n",
      "2001-08-01   4.9\n",
      "2001-09-01   5.0\n",
      "2001-10-01   5.3\n",
      "2001-11-01   5.5\n",
      "2001-12-01   5.7\n",
      "2002-01-01   5.7\n",
      "2002-02-01   5.7\n",
      "2002-03-01   5.7\n",
      "2002-04-01   5.9\n",
      "2002-05-01   5.8\n",
      "2002-06-01   5.8\n",
      "2002-07-01   5.8\n",
      "2002-08-01   5.7\n",
      "2002-09-01   5.7\n",
      "2002-10-01   5.7\n",
      "2002-11-01   5.9\n",
      "2002-12-01   6.0\n",
      "2003-01-01   5.8\n",
      "2003-02-01   5.9\n",
      "2003-03-01   5.9\n",
      "2003-04-01   6.0\n",
      "2003-05-01   6.1\n",
      "2003-06-01   6.3\n",
      "2003-07-01   6.2\n",
      "2003-08-01   6.1\n",
      "2003-09-01   6.1\n",
      "2003-10-01   6.0\n",
      "2003-11-01   5.8\n",
      "2003-12-01   5.7\n",
      "2004-01-01   5.7\n",
      "2004-02-01   5.6\n",
      "2004-03-01   5.8\n",
      "2004-04-01   5.6\n",
      "2004-05-01   5.6\n",
      "2004-06-01   5.6\n",
      "2004-07-01   5.5\n",
      "2004-08-01   5.4\n",
      "2004-09-01   5.4\n",
      "2004-10-01   5.5\n",
      "2004-11-01   5.4\n",
      "2004-12-01   5.4\n",
      "2005-01-01   5.3\n",
      "2005-02-01   5.4\n",
      "2005-03-01   5.2\n",
      "2005-04-01   5.2\n",
      "2005-05-01   5.1\n",
      "2005-06-01   5.0\n",
      "2005-07-01   5.0\n",
      "2005-08-01   4.9\n",
      "2005-09-01   5.0\n",
      "2005-10-01   5.0\n",
      "2005-11-01   5.0\n",
      "2005-12-01   4.9\n",
      "2006-01-01   4.7\n",
      "2006-02-01   4.8\n",
      "2006-03-01   4.7\n",
      "2006-04-01   4.7\n",
      "2006-05-01   4.6\n",
      "2006-06-01   4.6\n",
      "2006-07-01   4.7\n",
      "2006-08-01   4.7\n",
      "2006-09-01   4.5\n",
      "2006-10-01   4.4\n",
      "2006-11-01   4.5\n",
      "2006-12-01   4.4\n",
      "2007-01-01   4.6\n",
      "2007-02-01   4.5\n",
      "2007-03-01   4.4\n",
      "2007-04-01   4.5\n",
      "2007-05-01   4.4\n",
      "2007-06-01   4.6\n",
      "2007-07-01   4.7\n",
      "2007-08-01   4.6\n",
      "2007-09-01   4.7\n",
      "2007-10-01   4.7\n",
      "2007-11-01   4.7\n",
      "2007-12-01   5.0\n",
      "2008-01-01   5.0\n",
      "2008-02-01   4.9\n",
      "2008-03-01   5.1\n",
      "2008-04-01   5.0\n",
      "2008-05-01   5.4\n",
      "2008-06-01   5.6\n",
      "2008-07-01   5.8\n",
      "2008-08-01   6.1\n",
      "2008-09-01   6.1\n",
      "2008-10-01   6.5\n",
      "2008-11-01   6.8\n",
      "2008-12-01   7.3\n",
      "2009-01-01   7.8\n",
      "2009-02-01   8.3\n",
      "2009-03-01   8.7\n",
      "2009-04-01   8.9\n",
      "2009-05-01   9.4\n",
      "2009-06-01   9.5\n",
      "2009-07-01   9.5\n",
      "2009-08-01   9.6\n",
      "2009-09-01   9.8\n",
      "2009-10-01  10.0\n",
      "2009-11-01   9.9\n",
      "2009-12-01   9.9\n",
      "2010-01-01   9.7\n",
      "2010-02-01   9.8\n",
      "2010-03-01   9.8\n",
      "2010-04-01   9.9\n",
      "2010-05-01   9.6\n",
      "2010-06-01   9.4\n",
      "2010-07-01   9.5\n",
      "2010-08-01   9.6\n",
      "2010-09-01   9.5\n",
      "2010-10-01   9.5\n",
      "2010-11-01   9.8\n",
      "2010-12-01   9.4\n",
      "2011-01-01   9.1\n",
      "2011-02-01   9.0\n",
      "2011-03-01   8.9\n",
      "2011-04-01   9.0\n",
      "2011-05-01   9.0\n",
      "2011-06-01   9.1\n",
      "2011-07-01   9.1\n",
      "2011-08-01   9.1\n",
      "2011-09-01   9.0\n",
      "2011-10-01   8.9\n",
      "2011-11-01   8.7\n",
      "2011-12-01   8.5\n",
      "2012-01-01   8.3\n"
     ]
    },
    {
     "data": {
      "text/html": [
       "<ol class=list-inline>\n",
       "\t<li>'1948-01-01'</li>\n",
       "\t<li>'1948-02-01'</li>\n",
       "\t<li>'1948-03-01'</li>\n",
       "\t<li>'1948-04-01'</li>\n",
       "\t<li>'1948-05-01'</li>\n",
       "\t<li>'1948-06-01'</li>\n",
       "\t<li>'1948-07-01'</li>\n",
       "\t<li>'1948-08-01'</li>\n",
       "\t<li>'1948-09-01'</li>\n",
       "\t<li>'1948-10-01'</li>\n",
       "\t<li>'1948-11-01'</li>\n",
       "\t<li>'1948-12-01'</li>\n",
       "\t<li>'1949-01-01'</li>\n",
       "\t<li>'1949-02-01'</li>\n",
       "\t<li>'1949-03-01'</li>\n",
       "\t<li>'1949-04-01'</li>\n",
       "\t<li>'1949-05-01'</li>\n",
       "\t<li>'1949-06-01'</li>\n",
       "\t<li>'1949-07-01'</li>\n",
       "\t<li>'1949-08-01'</li>\n",
       "\t<li>'1949-09-01'</li>\n",
       "\t<li>'1949-10-01'</li>\n",
       "\t<li>'1949-11-01'</li>\n",
       "\t<li>'1949-12-01'</li>\n",
       "\t<li>'1950-01-01'</li>\n",
       "\t<li>'1950-02-01'</li>\n",
       "\t<li>'1950-03-01'</li>\n",
       "\t<li>'1950-04-01'</li>\n",
       "\t<li>'1950-05-01'</li>\n",
       "\t<li>'1950-06-01'</li>\n",
       "\t<li>'1950-07-01'</li>\n",
       "\t<li>'1950-08-01'</li>\n",
       "\t<li>'1950-09-01'</li>\n",
       "\t<li>'1950-10-01'</li>\n",
       "\t<li>'1950-11-01'</li>\n",
       "\t<li>'1950-12-01'</li>\n",
       "\t<li>'1951-01-01'</li>\n",
       "\t<li>'1951-02-01'</li>\n",
       "\t<li>'1951-03-01'</li>\n",
       "\t<li>'1951-04-01'</li>\n",
       "\t<li>'1951-05-01'</li>\n",
       "\t<li>'1951-06-01'</li>\n",
       "\t<li>'1951-07-01'</li>\n",
       "\t<li>'1951-08-01'</li>\n",
       "\t<li>'1951-09-01'</li>\n",
       "\t<li>'1951-10-01'</li>\n",
       "\t<li>'1951-11-01'</li>\n",
       "\t<li>'1951-12-01'</li>\n",
       "\t<li>'1952-01-01'</li>\n",
       "\t<li>'1952-02-01'</li>\n",
       "\t<li>'1952-03-01'</li>\n",
       "\t<li>'1952-04-01'</li>\n",
       "\t<li>'1952-05-01'</li>\n",
       "\t<li>'1952-06-01'</li>\n",
       "\t<li>'1952-07-01'</li>\n",
       "\t<li>'1952-08-01'</li>\n",
       "\t<li>'1952-09-01'</li>\n",
       "\t<li>'1952-10-01'</li>\n",
       "\t<li>'1952-11-01'</li>\n",
       "\t<li>'1952-12-01'</li>\n",
       "\t<li>'1953-01-01'</li>\n",
       "\t<li>'1953-02-01'</li>\n",
       "\t<li>'1953-03-01'</li>\n",
       "\t<li>'1953-04-01'</li>\n",
       "\t<li>'1953-05-01'</li>\n",
       "\t<li>'1953-06-01'</li>\n",
       "\t<li>'1953-07-01'</li>\n",
       "\t<li>'1953-08-01'</li>\n",
       "\t<li>'1953-09-01'</li>\n",
       "\t<li>'1953-10-01'</li>\n",
       "\t<li>'1953-11-01'</li>\n",
       "\t<li>'1953-12-01'</li>\n",
       "\t<li>'1954-01-01'</li>\n",
       "\t<li>'1954-02-01'</li>\n",
       "\t<li>'1954-03-01'</li>\n",
       "\t<li>'1954-04-01'</li>\n",
       "\t<li>'1954-05-01'</li>\n",
       "\t<li>'1954-06-01'</li>\n",
       "\t<li>'1954-07-01'</li>\n",
       "\t<li>'1954-08-01'</li>\n",
       "\t<li>'1954-09-01'</li>\n",
       "\t<li>'1954-10-01'</li>\n",
       "\t<li>'1954-11-01'</li>\n",
       "\t<li>'1954-12-01'</li>\n",
       "\t<li>'1955-01-01'</li>\n",
       "\t<li>'1955-02-01'</li>\n",
       "\t<li>'1955-03-01'</li>\n",
       "\t<li>'1955-04-01'</li>\n",
       "\t<li>'1955-05-01'</li>\n",
       "\t<li>'1955-06-01'</li>\n",
       "\t<li>'1955-07-01'</li>\n",
       "\t<li>'1955-08-01'</li>\n",
       "\t<li>'1955-09-01'</li>\n",
       "\t<li>'1955-10-01'</li>\n",
       "\t<li>'1955-11-01'</li>\n",
       "\t<li>'1955-12-01'</li>\n",
       "\t<li>'1956-01-01'</li>\n",
       "\t<li>'1956-02-01'</li>\n",
       "\t<li>'1956-03-01'</li>\n",
       "\t<li>'1956-04-01'</li>\n",
       "\t<li>'1956-05-01'</li>\n",
       "\t<li>'1956-06-01'</li>\n",
       "\t<li>'1956-07-01'</li>\n",
       "\t<li>'1956-08-01'</li>\n",
       "\t<li>'1956-09-01'</li>\n",
       "\t<li>'1956-10-01'</li>\n",
       "\t<li>'1956-11-01'</li>\n",
       "\t<li>'1956-12-01'</li>\n",
       "\t<li>'1957-01-01'</li>\n",
       "\t<li>'1957-02-01'</li>\n",
       "\t<li>'1957-03-01'</li>\n",
       "\t<li>'1957-04-01'</li>\n",
       "\t<li>'1957-05-01'</li>\n",
       "\t<li>'1957-06-01'</li>\n",
       "\t<li>'1957-07-01'</li>\n",
       "\t<li>'1957-08-01'</li>\n",
       "\t<li>'1957-09-01'</li>\n",
       "\t<li>'1957-10-01'</li>\n",
       "\t<li>'1957-11-01'</li>\n",
       "\t<li>'1957-12-01'</li>\n",
       "\t<li>'1958-01-01'</li>\n",
       "\t<li>'1958-02-01'</li>\n",
       "\t<li>'1958-03-01'</li>\n",
       "\t<li>'1958-04-01'</li>\n",
       "\t<li>'1958-05-01'</li>\n",
       "\t<li>'1958-06-01'</li>\n",
       "\t<li>'1958-07-01'</li>\n",
       "\t<li>'1958-08-01'</li>\n",
       "\t<li>'1958-09-01'</li>\n",
       "\t<li>'1958-10-01'</li>\n",
       "\t<li>'1958-11-01'</li>\n",
       "\t<li>'1958-12-01'</li>\n",
       "\t<li>'1959-01-01'</li>\n",
       "\t<li>'1959-02-01'</li>\n",
       "\t<li>'1959-03-01'</li>\n",
       "\t<li>'1959-04-01'</li>\n",
       "\t<li>'1959-05-01'</li>\n",
       "\t<li>'1959-06-01'</li>\n",
       "\t<li>'1959-07-01'</li>\n",
       "\t<li>'1959-08-01'</li>\n",
       "\t<li>'1959-09-01'</li>\n",
       "\t<li>'1959-10-01'</li>\n",
       "\t<li>'1959-11-01'</li>\n",
       "\t<li>'1959-12-01'</li>\n",
       "\t<li>'1960-01-01'</li>\n",
       "\t<li>'1960-02-01'</li>\n",
       "\t<li>'1960-03-01'</li>\n",
       "\t<li>'1960-04-01'</li>\n",
       "\t<li>'1960-05-01'</li>\n",
       "\t<li>'1960-06-01'</li>\n",
       "\t<li>'1960-07-01'</li>\n",
       "\t<li>'1960-08-01'</li>\n",
       "\t<li>'1960-09-01'</li>\n",
       "\t<li>'1960-10-01'</li>\n",
       "\t<li>'1960-11-01'</li>\n",
       "\t<li>'1960-12-01'</li>\n",
       "\t<li>'1961-01-01'</li>\n",
       "\t<li>'1961-02-01'</li>\n",
       "\t<li>'1961-03-01'</li>\n",
       "\t<li>'1961-04-01'</li>\n",
       "\t<li>'1961-05-01'</li>\n",
       "\t<li>'1961-06-01'</li>\n",
       "\t<li>'1961-07-01'</li>\n",
       "\t<li>'1961-08-01'</li>\n",
       "\t<li>'1961-09-01'</li>\n",
       "\t<li>'1961-10-01'</li>\n",
       "\t<li>'1961-11-01'</li>\n",
       "\t<li>'1961-12-01'</li>\n",
       "\t<li>'1962-01-01'</li>\n",
       "\t<li>'1962-02-01'</li>\n",
       "\t<li>'1962-03-01'</li>\n",
       "\t<li>'1962-04-01'</li>\n",
       "\t<li>'1962-05-01'</li>\n",
       "\t<li>'1962-06-01'</li>\n",
       "\t<li>'1962-07-01'</li>\n",
       "\t<li>'1962-08-01'</li>\n",
       "\t<li>'1962-09-01'</li>\n",
       "\t<li>'1962-10-01'</li>\n",
       "\t<li>'1962-11-01'</li>\n",
       "\t<li>'1962-12-01'</li>\n",
       "\t<li>'1963-01-01'</li>\n",
       "\t<li>'1963-02-01'</li>\n",
       "\t<li>'1963-03-01'</li>\n",
       "\t<li>'1963-04-01'</li>\n",
       "\t<li>'1963-05-01'</li>\n",
       "\t<li>'1963-06-01'</li>\n",
       "\t<li>'1963-07-01'</li>\n",
       "\t<li>'1963-08-01'</li>\n",
       "\t<li>'1963-09-01'</li>\n",
       "\t<li>'1963-10-01'</li>\n",
       "\t<li>'1963-11-01'</li>\n",
       "\t<li>'1963-12-01'</li>\n",
       "\t<li>'1964-01-01'</li>\n",
       "\t<li>'1964-02-01'</li>\n",
       "\t<li>'1964-03-01'</li>\n",
       "\t<li>'1964-04-01'</li>\n",
       "\t<li>'1964-05-01'</li>\n",
       "\t<li>'1964-06-01'</li>\n",
       "\t<li>'1964-07-01'</li>\n",
       "\t<li>'1964-08-01'</li>\n",
       "\t<li>'1964-09-01'</li>\n",
       "\t<li>'1964-10-01'</li>\n",
       "\t<li>'1964-11-01'</li>\n",
       "\t<li>'1964-12-01'</li>\n",
       "\t<li>'1965-01-01'</li>\n",
       "\t<li>'1965-02-01'</li>\n",
       "\t<li>'1965-03-01'</li>\n",
       "\t<li>'1965-04-01'</li>\n",
       "\t<li>'1965-05-01'</li>\n",
       "\t<li>'1965-06-01'</li>\n",
       "\t<li>'1965-07-01'</li>\n",
       "\t<li>'1965-08-01'</li>\n",
       "\t<li>'1965-09-01'</li>\n",
       "\t<li>'1965-10-01'</li>\n",
       "\t<li>'1965-11-01'</li>\n",
       "\t<li>'1965-12-01'</li>\n",
       "\t<li>'1966-01-01'</li>\n",
       "\t<li>'1966-02-01'</li>\n",
       "\t<li>'1966-03-01'</li>\n",
       "\t<li>'1966-04-01'</li>\n",
       "\t<li>'1966-05-01'</li>\n",
       "\t<li>'1966-06-01'</li>\n",
       "\t<li>'1966-07-01'</li>\n",
       "\t<li>'1966-08-01'</li>\n",
       "\t<li>'1966-09-01'</li>\n",
       "\t<li>'1966-10-01'</li>\n",
       "\t<li>'1966-11-01'</li>\n",
       "\t<li>'1966-12-01'</li>\n",
       "\t<li>'1967-01-01'</li>\n",
       "\t<li>'1967-02-01'</li>\n",
       "\t<li>'1967-03-01'</li>\n",
       "\t<li>'1967-04-01'</li>\n",
       "\t<li>'1967-05-01'</li>\n",
       "\t<li>'1967-06-01'</li>\n",
       "\t<li>'1967-07-01'</li>\n",
       "\t<li>'1967-08-01'</li>\n",
       "\t<li>'1967-09-01'</li>\n",
       "\t<li>'1967-10-01'</li>\n",
       "\t<li>'1967-11-01'</li>\n",
       "\t<li>'1967-12-01'</li>\n",
       "\t<li>'1968-01-01'</li>\n",
       "\t<li>'1968-02-01'</li>\n",
       "\t<li>'1968-03-01'</li>\n",
       "\t<li>'1968-04-01'</li>\n",
       "\t<li>'1968-05-01'</li>\n",
       "\t<li>'1968-06-01'</li>\n",
       "\t<li>'1968-07-01'</li>\n",
       "\t<li>'1968-08-01'</li>\n",
       "\t<li>'1968-09-01'</li>\n",
       "\t<li>'1968-10-01'</li>\n",
       "\t<li>'1968-11-01'</li>\n",
       "\t<li>'1968-12-01'</li>\n",
       "\t<li>'1969-01-01'</li>\n",
       "\t<li>'1969-02-01'</li>\n",
       "\t<li>'1969-03-01'</li>\n",
       "\t<li>'1969-04-01'</li>\n",
       "\t<li>'1969-05-01'</li>\n",
       "\t<li>'1969-06-01'</li>\n",
       "\t<li>'1969-07-01'</li>\n",
       "\t<li>'1969-08-01'</li>\n",
       "\t<li>'1969-09-01'</li>\n",
       "\t<li>'1969-10-01'</li>\n",
       "\t<li>'1969-11-01'</li>\n",
       "\t<li>'1969-12-01'</li>\n",
       "\t<li>'1970-01-01'</li>\n",
       "\t<li>'1970-02-01'</li>\n",
       "\t<li>'1970-03-01'</li>\n",
       "\t<li>'1970-04-01'</li>\n",
       "\t<li>'1970-05-01'</li>\n",
       "\t<li>'1970-06-01'</li>\n",
       "\t<li>'1970-07-01'</li>\n",
       "\t<li>'1970-08-01'</li>\n",
       "\t<li>'1970-09-01'</li>\n",
       "\t<li>'1970-10-01'</li>\n",
       "\t<li>'1970-11-01'</li>\n",
       "\t<li>'1970-12-01'</li>\n",
       "\t<li>'1971-01-01'</li>\n",
       "\t<li>'1971-02-01'</li>\n",
       "\t<li>'1971-03-01'</li>\n",
       "\t<li>'1971-04-01'</li>\n",
       "\t<li>'1971-05-01'</li>\n",
       "\t<li>'1971-06-01'</li>\n",
       "\t<li>'1971-07-01'</li>\n",
       "\t<li>'1971-08-01'</li>\n",
       "\t<li>'1971-09-01'</li>\n",
       "\t<li>'1971-10-01'</li>\n",
       "\t<li>'1971-11-01'</li>\n",
       "\t<li>'1971-12-01'</li>\n",
       "\t<li>'1972-01-01'</li>\n",
       "\t<li>'1972-02-01'</li>\n",
       "\t<li>'1972-03-01'</li>\n",
       "\t<li>'1972-04-01'</li>\n",
       "\t<li>'1972-05-01'</li>\n",
       "\t<li>'1972-06-01'</li>\n",
       "\t<li>'1972-07-01'</li>\n",
       "\t<li>'1972-08-01'</li>\n",
       "\t<li>'1972-09-01'</li>\n",
       "\t<li>'1972-10-01'</li>\n",
       "\t<li>'1972-11-01'</li>\n",
       "\t<li>'1972-12-01'</li>\n",
       "\t<li>'1973-01-01'</li>\n",
       "\t<li>'1973-02-01'</li>\n",
       "\t<li>'1973-03-01'</li>\n",
       "\t<li>'1973-04-01'</li>\n",
       "\t<li>'1973-05-01'</li>\n",
       "\t<li>'1973-06-01'</li>\n",
       "\t<li>'1973-07-01'</li>\n",
       "\t<li>'1973-08-01'</li>\n",
       "\t<li>'1973-09-01'</li>\n",
       "\t<li>'1973-10-01'</li>\n",
       "\t<li>'1973-11-01'</li>\n",
       "\t<li>'1973-12-01'</li>\n",
       "\t<li>'1974-01-01'</li>\n",
       "\t<li>'1974-02-01'</li>\n",
       "\t<li>'1974-03-01'</li>\n",
       "\t<li>'1974-04-01'</li>\n",
       "\t<li>'1974-05-01'</li>\n",
       "\t<li>'1974-06-01'</li>\n",
       "\t<li>'1974-07-01'</li>\n",
       "\t<li>'1974-08-01'</li>\n",
       "\t<li>'1974-09-01'</li>\n",
       "\t<li>'1974-10-01'</li>\n",
       "\t<li>'1974-11-01'</li>\n",
       "\t<li>'1974-12-01'</li>\n",
       "\t<li>'1975-01-01'</li>\n",
       "\t<li>'1975-02-01'</li>\n",
       "\t<li>'1975-03-01'</li>\n",
       "\t<li>'1975-04-01'</li>\n",
       "\t<li>'1975-05-01'</li>\n",
       "\t<li>'1975-06-01'</li>\n",
       "\t<li>'1975-07-01'</li>\n",
       "\t<li>'1975-08-01'</li>\n",
       "\t<li>'1975-09-01'</li>\n",
       "\t<li>'1975-10-01'</li>\n",
       "\t<li>'1975-11-01'</li>\n",
       "\t<li>'1975-12-01'</li>\n",
       "\t<li>'1976-01-01'</li>\n",
       "\t<li>'1976-02-01'</li>\n",
       "\t<li>'1976-03-01'</li>\n",
       "\t<li>'1976-04-01'</li>\n",
       "\t<li>'1976-05-01'</li>\n",
       "\t<li>'1976-06-01'</li>\n",
       "\t<li>'1976-07-01'</li>\n",
       "\t<li>'1976-08-01'</li>\n",
       "\t<li>'1976-09-01'</li>\n",
       "\t<li>'1976-10-01'</li>\n",
       "\t<li>'1976-11-01'</li>\n",
       "\t<li>'1976-12-01'</li>\n",
       "\t<li>'1977-01-01'</li>\n",
       "\t<li>'1977-02-01'</li>\n",
       "\t<li>'1977-03-01'</li>\n",
       "\t<li>'1977-04-01'</li>\n",
       "\t<li>'1977-05-01'</li>\n",
       "\t<li>'1977-06-01'</li>\n",
       "\t<li>'1977-07-01'</li>\n",
       "\t<li>'1977-08-01'</li>\n",
       "\t<li>'1977-09-01'</li>\n",
       "\t<li>'1977-10-01'</li>\n",
       "\t<li>'1977-11-01'</li>\n",
       "\t<li>'1977-12-01'</li>\n",
       "\t<li>'1978-01-01'</li>\n",
       "\t<li>'1978-02-01'</li>\n",
       "\t<li>'1978-03-01'</li>\n",
       "\t<li>'1978-04-01'</li>\n",
       "\t<li>'1978-05-01'</li>\n",
       "\t<li>'1978-06-01'</li>\n",
       "\t<li>'1978-07-01'</li>\n",
       "\t<li>'1978-08-01'</li>\n",
       "\t<li>'1978-09-01'</li>\n",
       "\t<li>'1978-10-01'</li>\n",
       "\t<li>'1978-11-01'</li>\n",
       "\t<li>'1978-12-01'</li>\n",
       "\t<li>'1979-01-01'</li>\n",
       "\t<li>'1979-02-01'</li>\n",
       "\t<li>'1979-03-01'</li>\n",
       "\t<li>'1979-04-01'</li>\n",
       "\t<li>'1979-05-01'</li>\n",
       "\t<li>'1979-06-01'</li>\n",
       "\t<li>'1979-07-01'</li>\n",
       "\t<li>'1979-08-01'</li>\n",
       "\t<li>'1979-09-01'</li>\n",
       "\t<li>'1979-10-01'</li>\n",
       "\t<li>'1979-11-01'</li>\n",
       "\t<li>'1979-12-01'</li>\n",
       "\t<li>'1980-01-01'</li>\n",
       "\t<li>'1980-02-01'</li>\n",
       "\t<li>'1980-03-01'</li>\n",
       "\t<li>'1980-04-01'</li>\n",
       "\t<li>'1980-05-01'</li>\n",
       "\t<li>'1980-06-01'</li>\n",
       "\t<li>'1980-07-01'</li>\n",
       "\t<li>'1980-08-01'</li>\n",
       "\t<li>'1980-09-01'</li>\n",
       "\t<li>'1980-10-01'</li>\n",
       "\t<li>'1980-11-01'</li>\n",
       "\t<li>'1980-12-01'</li>\n",
       "\t<li>'1981-01-01'</li>\n",
       "\t<li>'1981-02-01'</li>\n",
       "\t<li>'1981-03-01'</li>\n",
       "\t<li>'1981-04-01'</li>\n",
       "\t<li>'1981-05-01'</li>\n",
       "\t<li>'1981-06-01'</li>\n",
       "\t<li>'1981-07-01'</li>\n",
       "\t<li>'1981-08-01'</li>\n",
       "\t<li>'1981-09-01'</li>\n",
       "\t<li>'1981-10-01'</li>\n",
       "\t<li>'1981-11-01'</li>\n",
       "\t<li>'1981-12-01'</li>\n",
       "\t<li>'1982-01-01'</li>\n",
       "\t<li>'1982-02-01'</li>\n",
       "\t<li>'1982-03-01'</li>\n",
       "\t<li>'1982-04-01'</li>\n",
       "\t<li>'1982-05-01'</li>\n",
       "\t<li>'1982-06-01'</li>\n",
       "\t<li>'1982-07-01'</li>\n",
       "\t<li>'1982-08-01'</li>\n",
       "\t<li>'1982-09-01'</li>\n",
       "\t<li>'1982-10-01'</li>\n",
       "\t<li>'1982-11-01'</li>\n",
       "\t<li>'1982-12-01'</li>\n",
       "\t<li>'1983-01-01'</li>\n",
       "\t<li>'1983-02-01'</li>\n",
       "\t<li>'1983-03-01'</li>\n",
       "\t<li>'1983-04-01'</li>\n",
       "\t<li>'1983-05-01'</li>\n",
       "\t<li>'1983-06-01'</li>\n",
       "\t<li>'1983-07-01'</li>\n",
       "\t<li>'1983-08-01'</li>\n",
       "\t<li>'1983-09-01'</li>\n",
       "\t<li>'1983-10-01'</li>\n",
       "\t<li>'1983-11-01'</li>\n",
       "\t<li>'1983-12-01'</li>\n",
       "\t<li>'1984-01-01'</li>\n",
       "\t<li>'1984-02-01'</li>\n",
       "\t<li>'1984-03-01'</li>\n",
       "\t<li>'1984-04-01'</li>\n",
       "\t<li>'1984-05-01'</li>\n",
       "\t<li>'1984-06-01'</li>\n",
       "\t<li>'1984-07-01'</li>\n",
       "\t<li>'1984-08-01'</li>\n",
       "\t<li>'1984-09-01'</li>\n",
       "\t<li>'1984-10-01'</li>\n",
       "\t<li>'1984-11-01'</li>\n",
       "\t<li>'1984-12-01'</li>\n",
       "\t<li>'1985-01-01'</li>\n",
       "\t<li>'1985-02-01'</li>\n",
       "\t<li>'1985-03-01'</li>\n",
       "\t<li>'1985-04-01'</li>\n",
       "\t<li>'1985-05-01'</li>\n",
       "\t<li>'1985-06-01'</li>\n",
       "\t<li>'1985-07-01'</li>\n",
       "\t<li>'1985-08-01'</li>\n",
       "\t<li>'1985-09-01'</li>\n",
       "\t<li>'1985-10-01'</li>\n",
       "\t<li>'1985-11-01'</li>\n",
       "\t<li>'1985-12-01'</li>\n",
       "\t<li>'1986-01-01'</li>\n",
       "\t<li>'1986-02-01'</li>\n",
       "\t<li>'1986-03-01'</li>\n",
       "\t<li>'1986-04-01'</li>\n",
       "\t<li>'1986-05-01'</li>\n",
       "\t<li>'1986-06-01'</li>\n",
       "\t<li>'1986-07-01'</li>\n",
       "\t<li>'1986-08-01'</li>\n",
       "\t<li>'1986-09-01'</li>\n",
       "\t<li>'1986-10-01'</li>\n",
       "\t<li>'1986-11-01'</li>\n",
       "\t<li>'1986-12-01'</li>\n",
       "\t<li>'1987-01-01'</li>\n",
       "\t<li>'1987-02-01'</li>\n",
       "\t<li>'1987-03-01'</li>\n",
       "\t<li>'1987-04-01'</li>\n",
       "\t<li>'1987-05-01'</li>\n",
       "\t<li>'1987-06-01'</li>\n",
       "\t<li>'1987-07-01'</li>\n",
       "\t<li>'1987-08-01'</li>\n",
       "\t<li>'1987-09-01'</li>\n",
       "\t<li>'1987-10-01'</li>\n",
       "\t<li>'1987-11-01'</li>\n",
       "\t<li>'1987-12-01'</li>\n",
       "\t<li>'1988-01-01'</li>\n",
       "\t<li>'1988-02-01'</li>\n",
       "\t<li>'1988-03-01'</li>\n",
       "\t<li>'1988-04-01'</li>\n",
       "\t<li>'1988-05-01'</li>\n",
       "\t<li>'1988-06-01'</li>\n",
       "\t<li>'1988-07-01'</li>\n",
       "\t<li>'1988-08-01'</li>\n",
       "\t<li>'1988-09-01'</li>\n",
       "\t<li>'1988-10-01'</li>\n",
       "\t<li>'1988-11-01'</li>\n",
       "\t<li>'1988-12-01'</li>\n",
       "\t<li>'1989-01-01'</li>\n",
       "\t<li>'1989-02-01'</li>\n",
       "\t<li>'1989-03-01'</li>\n",
       "\t<li>'1989-04-01'</li>\n",
       "\t<li>'1989-05-01'</li>\n",
       "\t<li>'1989-06-01'</li>\n",
       "\t<li>'1989-07-01'</li>\n",
       "\t<li>'1989-08-01'</li>\n",
       "\t<li>'1989-09-01'</li>\n",
       "\t<li>'1989-10-01'</li>\n",
       "\t<li>'1989-11-01'</li>\n",
       "\t<li>'1989-12-01'</li>\n",
       "\t<li>'1990-01-01'</li>\n",
       "\t<li>'1990-02-01'</li>\n",
       "\t<li>'1990-03-01'</li>\n",
       "\t<li>'1990-04-01'</li>\n",
       "\t<li>'1990-05-01'</li>\n",
       "\t<li>'1990-06-01'</li>\n",
       "\t<li>'1990-07-01'</li>\n",
       "\t<li>'1990-08-01'</li>\n",
       "\t<li>'1990-09-01'</li>\n",
       "\t<li>'1990-10-01'</li>\n",
       "\t<li>'1990-11-01'</li>\n",
       "\t<li>'1990-12-01'</li>\n",
       "\t<li>'1991-01-01'</li>\n",
       "\t<li>'1991-02-01'</li>\n",
       "\t<li>'1991-03-01'</li>\n",
       "\t<li>'1991-04-01'</li>\n",
       "\t<li>'1991-05-01'</li>\n",
       "\t<li>'1991-06-01'</li>\n",
       "\t<li>'1991-07-01'</li>\n",
       "\t<li>'1991-08-01'</li>\n",
       "\t<li>'1991-09-01'</li>\n",
       "\t<li>'1991-10-01'</li>\n",
       "\t<li>'1991-11-01'</li>\n",
       "\t<li>'1991-12-01'</li>\n",
       "\t<li>'1992-01-01'</li>\n",
       "\t<li>'1992-02-01'</li>\n",
       "\t<li>'1992-03-01'</li>\n",
       "\t<li>'1992-04-01'</li>\n",
       "\t<li>'1992-05-01'</li>\n",
       "\t<li>'1992-06-01'</li>\n",
       "\t<li>'1992-07-01'</li>\n",
       "\t<li>'1992-08-01'</li>\n",
       "\t<li>'1992-09-01'</li>\n",
       "\t<li>'1992-10-01'</li>\n",
       "\t<li>'1992-11-01'</li>\n",
       "\t<li>'1992-12-01'</li>\n",
       "\t<li>'1993-01-01'</li>\n",
       "\t<li>'1993-02-01'</li>\n",
       "\t<li>'1993-03-01'</li>\n",
       "\t<li>'1993-04-01'</li>\n",
       "\t<li>'1993-05-01'</li>\n",
       "\t<li>'1993-06-01'</li>\n",
       "\t<li>'1993-07-01'</li>\n",
       "\t<li>'1993-08-01'</li>\n",
       "\t<li>'1993-09-01'</li>\n",
       "\t<li>'1993-10-01'</li>\n",
       "\t<li>'1993-11-01'</li>\n",
       "\t<li>'1993-12-01'</li>\n",
       "\t<li>'1994-01-01'</li>\n",
       "\t<li>'1994-02-01'</li>\n",
       "\t<li>'1994-03-01'</li>\n",
       "\t<li>'1994-04-01'</li>\n",
       "\t<li>'1994-05-01'</li>\n",
       "\t<li>'1994-06-01'</li>\n",
       "\t<li>'1994-07-01'</li>\n",
       "\t<li>'1994-08-01'</li>\n",
       "\t<li>'1994-09-01'</li>\n",
       "\t<li>'1994-10-01'</li>\n",
       "\t<li>'1994-11-01'</li>\n",
       "\t<li>'1994-12-01'</li>\n",
       "\t<li>'1995-01-01'</li>\n",
       "\t<li>'1995-02-01'</li>\n",
       "\t<li>'1995-03-01'</li>\n",
       "\t<li>'1995-04-01'</li>\n",
       "\t<li>'1995-05-01'</li>\n",
       "\t<li>'1995-06-01'</li>\n",
       "\t<li>'1995-07-01'</li>\n",
       "\t<li>'1995-08-01'</li>\n",
       "\t<li>'1995-09-01'</li>\n",
       "\t<li>'1995-10-01'</li>\n",
       "\t<li>'1995-11-01'</li>\n",
       "\t<li>'1995-12-01'</li>\n",
       "\t<li>'1996-01-01'</li>\n",
       "\t<li>'1996-02-01'</li>\n",
       "\t<li>'1996-03-01'</li>\n",
       "\t<li>'1996-04-01'</li>\n",
       "\t<li>'1996-05-01'</li>\n",
       "\t<li>'1996-06-01'</li>\n",
       "\t<li>'1996-07-01'</li>\n",
       "\t<li>'1996-08-01'</li>\n",
       "\t<li>'1996-09-01'</li>\n",
       "\t<li>'1996-10-01'</li>\n",
       "\t<li>'1996-11-01'</li>\n",
       "\t<li>'1996-12-01'</li>\n",
       "\t<li>'1997-01-01'</li>\n",
       "\t<li>'1997-02-01'</li>\n",
       "\t<li>'1997-03-01'</li>\n",
       "\t<li>'1997-04-01'</li>\n",
       "\t<li>'1997-05-01'</li>\n",
       "\t<li>'1997-06-01'</li>\n",
       "\t<li>'1997-07-01'</li>\n",
       "\t<li>'1997-08-01'</li>\n",
       "\t<li>'1997-09-01'</li>\n",
       "\t<li>'1997-10-01'</li>\n",
       "\t<li>'1997-11-01'</li>\n",
       "\t<li>'1997-12-01'</li>\n",
       "\t<li>'1998-01-01'</li>\n",
       "\t<li>'1998-02-01'</li>\n",
       "\t<li>'1998-03-01'</li>\n",
       "\t<li>'1998-04-01'</li>\n",
       "\t<li>'1998-05-01'</li>\n",
       "\t<li>'1998-06-01'</li>\n",
       "\t<li>'1998-07-01'</li>\n",
       "\t<li>'1998-08-01'</li>\n",
       "\t<li>'1998-09-01'</li>\n",
       "\t<li>'1998-10-01'</li>\n",
       "\t<li>'1998-11-01'</li>\n",
       "\t<li>'1998-12-01'</li>\n",
       "\t<li>'1999-01-01'</li>\n",
       "\t<li>'1999-02-01'</li>\n",
       "\t<li>'1999-03-01'</li>\n",
       "\t<li>'1999-04-01'</li>\n",
       "\t<li>'1999-05-01'</li>\n",
       "\t<li>'1999-06-01'</li>\n",
       "\t<li>'1999-07-01'</li>\n",
       "\t<li>'1999-08-01'</li>\n",
       "\t<li>'1999-09-01'</li>\n",
       "\t<li>'1999-10-01'</li>\n",
       "\t<li>'1999-11-01'</li>\n",
       "\t<li>'1999-12-01'</li>\n",
       "\t<li>'2000-01-01'</li>\n",
       "\t<li>'2000-02-01'</li>\n",
       "\t<li>'2000-03-01'</li>\n",
       "\t<li>'2000-04-01'</li>\n",
       "\t<li>'2000-05-01'</li>\n",
       "\t<li>'2000-06-01'</li>\n",
       "\t<li>'2000-07-01'</li>\n",
       "\t<li>'2000-08-01'</li>\n",
       "\t<li>'2000-09-01'</li>\n",
       "\t<li>'2000-10-01'</li>\n",
       "\t<li>'2000-11-01'</li>\n",
       "\t<li>'2000-12-01'</li>\n",
       "\t<li>'2001-01-01'</li>\n",
       "\t<li>'2001-02-01'</li>\n",
       "\t<li>'2001-03-01'</li>\n",
       "\t<li>'2001-04-01'</li>\n",
       "\t<li>'2001-05-01'</li>\n",
       "\t<li>'2001-06-01'</li>\n",
       "\t<li>'2001-07-01'</li>\n",
       "\t<li>'2001-08-01'</li>\n",
       "\t<li>'2001-09-01'</li>\n",
       "\t<li>'2001-10-01'</li>\n",
       "\t<li>'2001-11-01'</li>\n",
       "\t<li>'2001-12-01'</li>\n",
       "\t<li>'2002-01-01'</li>\n",
       "\t<li>'2002-02-01'</li>\n",
       "\t<li>'2002-03-01'</li>\n",
       "\t<li>'2002-04-01'</li>\n",
       "\t<li>'2002-05-01'</li>\n",
       "\t<li>'2002-06-01'</li>\n",
       "\t<li>'2002-07-01'</li>\n",
       "\t<li>'2002-08-01'</li>\n",
       "\t<li>'2002-09-01'</li>\n",
       "\t<li>'2002-10-01'</li>\n",
       "\t<li>'2002-11-01'</li>\n",
       "\t<li>'2002-12-01'</li>\n",
       "\t<li>'2003-01-01'</li>\n",
       "\t<li>'2003-02-01'</li>\n",
       "\t<li>'2003-03-01'</li>\n",
       "\t<li>'2003-04-01'</li>\n",
       "\t<li>'2003-05-01'</li>\n",
       "\t<li>'2003-06-01'</li>\n",
       "\t<li>'2003-07-01'</li>\n",
       "\t<li>'2003-08-01'</li>\n",
       "\t<li>'2003-09-01'</li>\n",
       "\t<li>'2003-10-01'</li>\n",
       "\t<li>'2003-11-01'</li>\n",
       "\t<li>'2003-12-01'</li>\n",
       "\t<li>'2004-01-01'</li>\n",
       "\t<li>'2004-02-01'</li>\n",
       "\t<li>'2004-03-01'</li>\n",
       "\t<li>'2004-04-01'</li>\n",
       "\t<li>'2004-05-01'</li>\n",
       "\t<li>'2004-06-01'</li>\n",
       "\t<li>'2004-07-01'</li>\n",
       "\t<li>'2004-08-01'</li>\n",
       "\t<li>'2004-09-01'</li>\n",
       "\t<li>'2004-10-01'</li>\n",
       "\t<li>'2004-11-01'</li>\n",
       "\t<li>'2004-12-01'</li>\n",
       "\t<li>'2005-01-01'</li>\n",
       "\t<li>'2005-02-01'</li>\n",
       "\t<li>'2005-03-01'</li>\n",
       "\t<li>'2005-04-01'</li>\n",
       "\t<li>'2005-05-01'</li>\n",
       "\t<li>'2005-06-01'</li>\n",
       "\t<li>'2005-07-01'</li>\n",
       "\t<li>'2005-08-01'</li>\n",
       "\t<li>'2005-09-01'</li>\n",
       "\t<li>'2005-10-01'</li>\n",
       "\t<li>'2005-11-01'</li>\n",
       "\t<li>'2005-12-01'</li>\n",
       "\t<li>'2006-01-01'</li>\n",
       "\t<li>'2006-02-01'</li>\n",
       "\t<li>'2006-03-01'</li>\n",
       "\t<li>'2006-04-01'</li>\n",
       "\t<li>'2006-05-01'</li>\n",
       "\t<li>'2006-06-01'</li>\n",
       "\t<li>'2006-07-01'</li>\n",
       "\t<li>'2006-08-01'</li>\n",
       "\t<li>'2006-09-01'</li>\n",
       "\t<li>'2006-10-01'</li>\n",
       "\t<li>'2006-11-01'</li>\n",
       "\t<li>'2006-12-01'</li>\n",
       "\t<li>'2007-01-01'</li>\n",
       "\t<li>'2007-02-01'</li>\n",
       "\t<li>'2007-03-01'</li>\n",
       "\t<li>'2007-04-01'</li>\n",
       "\t<li>'2007-05-01'</li>\n",
       "\t<li>'2007-06-01'</li>\n",
       "\t<li>'2007-07-01'</li>\n",
       "\t<li>'2007-08-01'</li>\n",
       "\t<li>'2007-09-01'</li>\n",
       "\t<li>'2007-10-01'</li>\n",
       "\t<li>'2007-11-01'</li>\n",
       "\t<li>'2007-12-01'</li>\n",
       "\t<li>'2008-01-01'</li>\n",
       "\t<li>'2008-02-01'</li>\n",
       "\t<li>'2008-03-01'</li>\n",
       "\t<li>'2008-04-01'</li>\n",
       "\t<li>'2008-05-01'</li>\n",
       "\t<li>'2008-06-01'</li>\n",
       "\t<li>'2008-07-01'</li>\n",
       "\t<li>'2008-08-01'</li>\n",
       "\t<li>'2008-09-01'</li>\n",
       "\t<li>'2008-10-01'</li>\n",
       "\t<li>'2008-11-01'</li>\n",
       "\t<li>'2008-12-01'</li>\n",
       "\t<li>'2009-01-01'</li>\n",
       "\t<li>'2009-02-01'</li>\n",
       "\t<li>'2009-03-01'</li>\n",
       "\t<li>'2009-04-01'</li>\n",
       "\t<li>'2009-05-01'</li>\n",
       "\t<li>'2009-06-01'</li>\n",
       "\t<li>'2009-07-01'</li>\n",
       "\t<li>'2009-08-01'</li>\n",
       "\t<li>'2009-09-01'</li>\n",
       "\t<li>'2009-10-01'</li>\n",
       "\t<li>'2009-11-01'</li>\n",
       "\t<li>'2009-12-01'</li>\n",
       "\t<li>'2010-01-01'</li>\n",
       "\t<li>'2010-02-01'</li>\n",
       "\t<li>'2010-03-01'</li>\n",
       "\t<li>'2010-04-01'</li>\n",
       "\t<li>'2010-05-01'</li>\n",
       "\t<li>'2010-06-01'</li>\n",
       "\t<li>'2010-07-01'</li>\n",
       "\t<li>'2010-08-01'</li>\n",
       "\t<li>'2010-09-01'</li>\n",
       "\t<li>'2010-10-01'</li>\n",
       "\t<li>'2010-11-01'</li>\n",
       "\t<li>'2010-12-01'</li>\n",
       "\t<li>'2011-01-01'</li>\n",
       "\t<li>'2011-02-01'</li>\n",
       "\t<li>'2011-03-01'</li>\n",
       "\t<li>'2011-04-01'</li>\n",
       "\t<li>'2011-05-01'</li>\n",
       "\t<li>'2011-06-01'</li>\n",
       "\t<li>'2011-07-01'</li>\n",
       "\t<li>'2011-08-01'</li>\n",
       "\t<li>'2011-09-01'</li>\n",
       "\t<li>'2011-10-01'</li>\n",
       "\t<li>'2011-11-01'</li>\n",
       "\t<li>'2011-12-01'</li>\n",
       "\t<li>'2012-01-01'</li>\n",
       "</ol>\n"
      ],
      "text/latex": [
       "\\begin{enumerate*}\n",
       "\\item '1948-01-01'\n",
       "\\item '1948-02-01'\n",
       "\\item '1948-03-01'\n",
       "\\item '1948-04-01'\n",
       "\\item '1948-05-01'\n",
       "\\item '1948-06-01'\n",
       "\\item '1948-07-01'\n",
       "\\item '1948-08-01'\n",
       "\\item '1948-09-01'\n",
       "\\item '1948-10-01'\n",
       "\\item '1948-11-01'\n",
       "\\item '1948-12-01'\n",
       "\\item '1949-01-01'\n",
       "\\item '1949-02-01'\n",
       "\\item '1949-03-01'\n",
       "\\item '1949-04-01'\n",
       "\\item '1949-05-01'\n",
       "\\item '1949-06-01'\n",
       "\\item '1949-07-01'\n",
       "\\item '1949-08-01'\n",
       "\\item '1949-09-01'\n",
       "\\item '1949-10-01'\n",
       "\\item '1949-11-01'\n",
       "\\item '1949-12-01'\n",
       "\\item '1950-01-01'\n",
       "\\item '1950-02-01'\n",
       "\\item '1950-03-01'\n",
       "\\item '1950-04-01'\n",
       "\\item '1950-05-01'\n",
       "\\item '1950-06-01'\n",
       "\\item '1950-07-01'\n",
       "\\item '1950-08-01'\n",
       "\\item '1950-09-01'\n",
       "\\item '1950-10-01'\n",
       "\\item '1950-11-01'\n",
       "\\item '1950-12-01'\n",
       "\\item '1951-01-01'\n",
       "\\item '1951-02-01'\n",
       "\\item '1951-03-01'\n",
       "\\item '1951-04-01'\n",
       "\\item '1951-05-01'\n",
       "\\item '1951-06-01'\n",
       "\\item '1951-07-01'\n",
       "\\item '1951-08-01'\n",
       "\\item '1951-09-01'\n",
       "\\item '1951-10-01'\n",
       "\\item '1951-11-01'\n",
       "\\item '1951-12-01'\n",
       "\\item '1952-01-01'\n",
       "\\item '1952-02-01'\n",
       "\\item '1952-03-01'\n",
       "\\item '1952-04-01'\n",
       "\\item '1952-05-01'\n",
       "\\item '1952-06-01'\n",
       "\\item '1952-07-01'\n",
       "\\item '1952-08-01'\n",
       "\\item '1952-09-01'\n",
       "\\item '1952-10-01'\n",
       "\\item '1952-11-01'\n",
       "\\item '1952-12-01'\n",
       "\\item '1953-01-01'\n",
       "\\item '1953-02-01'\n",
       "\\item '1953-03-01'\n",
       "\\item '1953-04-01'\n",
       "\\item '1953-05-01'\n",
       "\\item '1953-06-01'\n",
       "\\item '1953-07-01'\n",
       "\\item '1953-08-01'\n",
       "\\item '1953-09-01'\n",
       "\\item '1953-10-01'\n",
       "\\item '1953-11-01'\n",
       "\\item '1953-12-01'\n",
       "\\item '1954-01-01'\n",
       "\\item '1954-02-01'\n",
       "\\item '1954-03-01'\n",
       "\\item '1954-04-01'\n",
       "\\item '1954-05-01'\n",
       "\\item '1954-06-01'\n",
       "\\item '1954-07-01'\n",
       "\\item '1954-08-01'\n",
       "\\item '1954-09-01'\n",
       "\\item '1954-10-01'\n",
       "\\item '1954-11-01'\n",
       "\\item '1954-12-01'\n",
       "\\item '1955-01-01'\n",
       "\\item '1955-02-01'\n",
       "\\item '1955-03-01'\n",
       "\\item '1955-04-01'\n",
       "\\item '1955-05-01'\n",
       "\\item '1955-06-01'\n",
       "\\item '1955-07-01'\n",
       "\\item '1955-08-01'\n",
       "\\item '1955-09-01'\n",
       "\\item '1955-10-01'\n",
       "\\item '1955-11-01'\n",
       "\\item '1955-12-01'\n",
       "\\item '1956-01-01'\n",
       "\\item '1956-02-01'\n",
       "\\item '1956-03-01'\n",
       "\\item '1956-04-01'\n",
       "\\item '1956-05-01'\n",
       "\\item '1956-06-01'\n",
       "\\item '1956-07-01'\n",
       "\\item '1956-08-01'\n",
       "\\item '1956-09-01'\n",
       "\\item '1956-10-01'\n",
       "\\item '1956-11-01'\n",
       "\\item '1956-12-01'\n",
       "\\item '1957-01-01'\n",
       "\\item '1957-02-01'\n",
       "\\item '1957-03-01'\n",
       "\\item '1957-04-01'\n",
       "\\item '1957-05-01'\n",
       "\\item '1957-06-01'\n",
       "\\item '1957-07-01'\n",
       "\\item '1957-08-01'\n",
       "\\item '1957-09-01'\n",
       "\\item '1957-10-01'\n",
       "\\item '1957-11-01'\n",
       "\\item '1957-12-01'\n",
       "\\item '1958-01-01'\n",
       "\\item '1958-02-01'\n",
       "\\item '1958-03-01'\n",
       "\\item '1958-04-01'\n",
       "\\item '1958-05-01'\n",
       "\\item '1958-06-01'\n",
       "\\item '1958-07-01'\n",
       "\\item '1958-08-01'\n",
       "\\item '1958-09-01'\n",
       "\\item '1958-10-01'\n",
       "\\item '1958-11-01'\n",
       "\\item '1958-12-01'\n",
       "\\item '1959-01-01'\n",
       "\\item '1959-02-01'\n",
       "\\item '1959-03-01'\n",
       "\\item '1959-04-01'\n",
       "\\item '1959-05-01'\n",
       "\\item '1959-06-01'\n",
       "\\item '1959-07-01'\n",
       "\\item '1959-08-01'\n",
       "\\item '1959-09-01'\n",
       "\\item '1959-10-01'\n",
       "\\item '1959-11-01'\n",
       "\\item '1959-12-01'\n",
       "\\item '1960-01-01'\n",
       "\\item '1960-02-01'\n",
       "\\item '1960-03-01'\n",
       "\\item '1960-04-01'\n",
       "\\item '1960-05-01'\n",
       "\\item '1960-06-01'\n",
       "\\item '1960-07-01'\n",
       "\\item '1960-08-01'\n",
       "\\item '1960-09-01'\n",
       "\\item '1960-10-01'\n",
       "\\item '1960-11-01'\n",
       "\\item '1960-12-01'\n",
       "\\item '1961-01-01'\n",
       "\\item '1961-02-01'\n",
       "\\item '1961-03-01'\n",
       "\\item '1961-04-01'\n",
       "\\item '1961-05-01'\n",
       "\\item '1961-06-01'\n",
       "\\item '1961-07-01'\n",
       "\\item '1961-08-01'\n",
       "\\item '1961-09-01'\n",
       "\\item '1961-10-01'\n",
       "\\item '1961-11-01'\n",
       "\\item '1961-12-01'\n",
       "\\item '1962-01-01'\n",
       "\\item '1962-02-01'\n",
       "\\item '1962-03-01'\n",
       "\\item '1962-04-01'\n",
       "\\item '1962-05-01'\n",
       "\\item '1962-06-01'\n",
       "\\item '1962-07-01'\n",
       "\\item '1962-08-01'\n",
       "\\item '1962-09-01'\n",
       "\\item '1962-10-01'\n",
       "\\item '1962-11-01'\n",
       "\\item '1962-12-01'\n",
       "\\item '1963-01-01'\n",
       "\\item '1963-02-01'\n",
       "\\item '1963-03-01'\n",
       "\\item '1963-04-01'\n",
       "\\item '1963-05-01'\n",
       "\\item '1963-06-01'\n",
       "\\item '1963-07-01'\n",
       "\\item '1963-08-01'\n",
       "\\item '1963-09-01'\n",
       "\\item '1963-10-01'\n",
       "\\item '1963-11-01'\n",
       "\\item '1963-12-01'\n",
       "\\item '1964-01-01'\n",
       "\\item '1964-02-01'\n",
       "\\item '1964-03-01'\n",
       "\\item '1964-04-01'\n",
       "\\item '1964-05-01'\n",
       "\\item '1964-06-01'\n",
       "\\item '1964-07-01'\n",
       "\\item '1964-08-01'\n",
       "\\item '1964-09-01'\n",
       "\\item '1964-10-01'\n",
       "\\item '1964-11-01'\n",
       "\\item '1964-12-01'\n",
       "\\item '1965-01-01'\n",
       "\\item '1965-02-01'\n",
       "\\item '1965-03-01'\n",
       "\\item '1965-04-01'\n",
       "\\item '1965-05-01'\n",
       "\\item '1965-06-01'\n",
       "\\item '1965-07-01'\n",
       "\\item '1965-08-01'\n",
       "\\item '1965-09-01'\n",
       "\\item '1965-10-01'\n",
       "\\item '1965-11-01'\n",
       "\\item '1965-12-01'\n",
       "\\item '1966-01-01'\n",
       "\\item '1966-02-01'\n",
       "\\item '1966-03-01'\n",
       "\\item '1966-04-01'\n",
       "\\item '1966-05-01'\n",
       "\\item '1966-06-01'\n",
       "\\item '1966-07-01'\n",
       "\\item '1966-08-01'\n",
       "\\item '1966-09-01'\n",
       "\\item '1966-10-01'\n",
       "\\item '1966-11-01'\n",
       "\\item '1966-12-01'\n",
       "\\item '1967-01-01'\n",
       "\\item '1967-02-01'\n",
       "\\item '1967-03-01'\n",
       "\\item '1967-04-01'\n",
       "\\item '1967-05-01'\n",
       "\\item '1967-06-01'\n",
       "\\item '1967-07-01'\n",
       "\\item '1967-08-01'\n",
       "\\item '1967-09-01'\n",
       "\\item '1967-10-01'\n",
       "\\item '1967-11-01'\n",
       "\\item '1967-12-01'\n",
       "\\item '1968-01-01'\n",
       "\\item '1968-02-01'\n",
       "\\item '1968-03-01'\n",
       "\\item '1968-04-01'\n",
       "\\item '1968-05-01'\n",
       "\\item '1968-06-01'\n",
       "\\item '1968-07-01'\n",
       "\\item '1968-08-01'\n",
       "\\item '1968-09-01'\n",
       "\\item '1968-10-01'\n",
       "\\item '1968-11-01'\n",
       "\\item '1968-12-01'\n",
       "\\item '1969-01-01'\n",
       "\\item '1969-02-01'\n",
       "\\item '1969-03-01'\n",
       "\\item '1969-04-01'\n",
       "\\item '1969-05-01'\n",
       "\\item '1969-06-01'\n",
       "\\item '1969-07-01'\n",
       "\\item '1969-08-01'\n",
       "\\item '1969-09-01'\n",
       "\\item '1969-10-01'\n",
       "\\item '1969-11-01'\n",
       "\\item '1969-12-01'\n",
       "\\item '1970-01-01'\n",
       "\\item '1970-02-01'\n",
       "\\item '1970-03-01'\n",
       "\\item '1970-04-01'\n",
       "\\item '1970-05-01'\n",
       "\\item '1970-06-01'\n",
       "\\item '1970-07-01'\n",
       "\\item '1970-08-01'\n",
       "\\item '1970-09-01'\n",
       "\\item '1970-10-01'\n",
       "\\item '1970-11-01'\n",
       "\\item '1970-12-01'\n",
       "\\item '1971-01-01'\n",
       "\\item '1971-02-01'\n",
       "\\item '1971-03-01'\n",
       "\\item '1971-04-01'\n",
       "\\item '1971-05-01'\n",
       "\\item '1971-06-01'\n",
       "\\item '1971-07-01'\n",
       "\\item '1971-08-01'\n",
       "\\item '1971-09-01'\n",
       "\\item '1971-10-01'\n",
       "\\item '1971-11-01'\n",
       "\\item '1971-12-01'\n",
       "\\item '1972-01-01'\n",
       "\\item '1972-02-01'\n",
       "\\item '1972-03-01'\n",
       "\\item '1972-04-01'\n",
       "\\item '1972-05-01'\n",
       "\\item '1972-06-01'\n",
       "\\item '1972-07-01'\n",
       "\\item '1972-08-01'\n",
       "\\item '1972-09-01'\n",
       "\\item '1972-10-01'\n",
       "\\item '1972-11-01'\n",
       "\\item '1972-12-01'\n",
       "\\item '1973-01-01'\n",
       "\\item '1973-02-01'\n",
       "\\item '1973-03-01'\n",
       "\\item '1973-04-01'\n",
       "\\item '1973-05-01'\n",
       "\\item '1973-06-01'\n",
       "\\item '1973-07-01'\n",
       "\\item '1973-08-01'\n",
       "\\item '1973-09-01'\n",
       "\\item '1973-10-01'\n",
       "\\item '1973-11-01'\n",
       "\\item '1973-12-01'\n",
       "\\item '1974-01-01'\n",
       "\\item '1974-02-01'\n",
       "\\item '1974-03-01'\n",
       "\\item '1974-04-01'\n",
       "\\item '1974-05-01'\n",
       "\\item '1974-06-01'\n",
       "\\item '1974-07-01'\n",
       "\\item '1974-08-01'\n",
       "\\item '1974-09-01'\n",
       "\\item '1974-10-01'\n",
       "\\item '1974-11-01'\n",
       "\\item '1974-12-01'\n",
       "\\item '1975-01-01'\n",
       "\\item '1975-02-01'\n",
       "\\item '1975-03-01'\n",
       "\\item '1975-04-01'\n",
       "\\item '1975-05-01'\n",
       "\\item '1975-06-01'\n",
       "\\item '1975-07-01'\n",
       "\\item '1975-08-01'\n",
       "\\item '1975-09-01'\n",
       "\\item '1975-10-01'\n",
       "\\item '1975-11-01'\n",
       "\\item '1975-12-01'\n",
       "\\item '1976-01-01'\n",
       "\\item '1976-02-01'\n",
       "\\item '1976-03-01'\n",
       "\\item '1976-04-01'\n",
       "\\item '1976-05-01'\n",
       "\\item '1976-06-01'\n",
       "\\item '1976-07-01'\n",
       "\\item '1976-08-01'\n",
       "\\item '1976-09-01'\n",
       "\\item '1976-10-01'\n",
       "\\item '1976-11-01'\n",
       "\\item '1976-12-01'\n",
       "\\item '1977-01-01'\n",
       "\\item '1977-02-01'\n",
       "\\item '1977-03-01'\n",
       "\\item '1977-04-01'\n",
       "\\item '1977-05-01'\n",
       "\\item '1977-06-01'\n",
       "\\item '1977-07-01'\n",
       "\\item '1977-08-01'\n",
       "\\item '1977-09-01'\n",
       "\\item '1977-10-01'\n",
       "\\item '1977-11-01'\n",
       "\\item '1977-12-01'\n",
       "\\item '1978-01-01'\n",
       "\\item '1978-02-01'\n",
       "\\item '1978-03-01'\n",
       "\\item '1978-04-01'\n",
       "\\item '1978-05-01'\n",
       "\\item '1978-06-01'\n",
       "\\item '1978-07-01'\n",
       "\\item '1978-08-01'\n",
       "\\item '1978-09-01'\n",
       "\\item '1978-10-01'\n",
       "\\item '1978-11-01'\n",
       "\\item '1978-12-01'\n",
       "\\item '1979-01-01'\n",
       "\\item '1979-02-01'\n",
       "\\item '1979-03-01'\n",
       "\\item '1979-04-01'\n",
       "\\item '1979-05-01'\n",
       "\\item '1979-06-01'\n",
       "\\item '1979-07-01'\n",
       "\\item '1979-08-01'\n",
       "\\item '1979-09-01'\n",
       "\\item '1979-10-01'\n",
       "\\item '1979-11-01'\n",
       "\\item '1979-12-01'\n",
       "\\item '1980-01-01'\n",
       "\\item '1980-02-01'\n",
       "\\item '1980-03-01'\n",
       "\\item '1980-04-01'\n",
       "\\item '1980-05-01'\n",
       "\\item '1980-06-01'\n",
       "\\item '1980-07-01'\n",
       "\\item '1980-08-01'\n",
       "\\item '1980-09-01'\n",
       "\\item '1980-10-01'\n",
       "\\item '1980-11-01'\n",
       "\\item '1980-12-01'\n",
       "\\item '1981-01-01'\n",
       "\\item '1981-02-01'\n",
       "\\item '1981-03-01'\n",
       "\\item '1981-04-01'\n",
       "\\item '1981-05-01'\n",
       "\\item '1981-06-01'\n",
       "\\item '1981-07-01'\n",
       "\\item '1981-08-01'\n",
       "\\item '1981-09-01'\n",
       "\\item '1981-10-01'\n",
       "\\item '1981-11-01'\n",
       "\\item '1981-12-01'\n",
       "\\item '1982-01-01'\n",
       "\\item '1982-02-01'\n",
       "\\item '1982-03-01'\n",
       "\\item '1982-04-01'\n",
       "\\item '1982-05-01'\n",
       "\\item '1982-06-01'\n",
       "\\item '1982-07-01'\n",
       "\\item '1982-08-01'\n",
       "\\item '1982-09-01'\n",
       "\\item '1982-10-01'\n",
       "\\item '1982-11-01'\n",
       "\\item '1982-12-01'\n",
       "\\item '1983-01-01'\n",
       "\\item '1983-02-01'\n",
       "\\item '1983-03-01'\n",
       "\\item '1983-04-01'\n",
       "\\item '1983-05-01'\n",
       "\\item '1983-06-01'\n",
       "\\item '1983-07-01'\n",
       "\\item '1983-08-01'\n",
       "\\item '1983-09-01'\n",
       "\\item '1983-10-01'\n",
       "\\item '1983-11-01'\n",
       "\\item '1983-12-01'\n",
       "\\item '1984-01-01'\n",
       "\\item '1984-02-01'\n",
       "\\item '1984-03-01'\n",
       "\\item '1984-04-01'\n",
       "\\item '1984-05-01'\n",
       "\\item '1984-06-01'\n",
       "\\item '1984-07-01'\n",
       "\\item '1984-08-01'\n",
       "\\item '1984-09-01'\n",
       "\\item '1984-10-01'\n",
       "\\item '1984-11-01'\n",
       "\\item '1984-12-01'\n",
       "\\item '1985-01-01'\n",
       "\\item '1985-02-01'\n",
       "\\item '1985-03-01'\n",
       "\\item '1985-04-01'\n",
       "\\item '1985-05-01'\n",
       "\\item '1985-06-01'\n",
       "\\item '1985-07-01'\n",
       "\\item '1985-08-01'\n",
       "\\item '1985-09-01'\n",
       "\\item '1985-10-01'\n",
       "\\item '1985-11-01'\n",
       "\\item '1985-12-01'\n",
       "\\item '1986-01-01'\n",
       "\\item '1986-02-01'\n",
       "\\item '1986-03-01'\n",
       "\\item '1986-04-01'\n",
       "\\item '1986-05-01'\n",
       "\\item '1986-06-01'\n",
       "\\item '1986-07-01'\n",
       "\\item '1986-08-01'\n",
       "\\item '1986-09-01'\n",
       "\\item '1986-10-01'\n",
       "\\item '1986-11-01'\n",
       "\\item '1986-12-01'\n",
       "\\item '1987-01-01'\n",
       "\\item '1987-02-01'\n",
       "\\item '1987-03-01'\n",
       "\\item '1987-04-01'\n",
       "\\item '1987-05-01'\n",
       "\\item '1987-06-01'\n",
       "\\item '1987-07-01'\n",
       "\\item '1987-08-01'\n",
       "\\item '1987-09-01'\n",
       "\\item '1987-10-01'\n",
       "\\item '1987-11-01'\n",
       "\\item '1987-12-01'\n",
       "\\item '1988-01-01'\n",
       "\\item '1988-02-01'\n",
       "\\item '1988-03-01'\n",
       "\\item '1988-04-01'\n",
       "\\item '1988-05-01'\n",
       "\\item '1988-06-01'\n",
       "\\item '1988-07-01'\n",
       "\\item '1988-08-01'\n",
       "\\item '1988-09-01'\n",
       "\\item '1988-10-01'\n",
       "\\item '1988-11-01'\n",
       "\\item '1988-12-01'\n",
       "\\item '1989-01-01'\n",
       "\\item '1989-02-01'\n",
       "\\item '1989-03-01'\n",
       "\\item '1989-04-01'\n",
       "\\item '1989-05-01'\n",
       "\\item '1989-06-01'\n",
       "\\item '1989-07-01'\n",
       "\\item '1989-08-01'\n",
       "\\item '1989-09-01'\n",
       "\\item '1989-10-01'\n",
       "\\item '1989-11-01'\n",
       "\\item '1989-12-01'\n",
       "\\item '1990-01-01'\n",
       "\\item '1990-02-01'\n",
       "\\item '1990-03-01'\n",
       "\\item '1990-04-01'\n",
       "\\item '1990-05-01'\n",
       "\\item '1990-06-01'\n",
       "\\item '1990-07-01'\n",
       "\\item '1990-08-01'\n",
       "\\item '1990-09-01'\n",
       "\\item '1990-10-01'\n",
       "\\item '1990-11-01'\n",
       "\\item '1990-12-01'\n",
       "\\item '1991-01-01'\n",
       "\\item '1991-02-01'\n",
       "\\item '1991-03-01'\n",
       "\\item '1991-04-01'\n",
       "\\item '1991-05-01'\n",
       "\\item '1991-06-01'\n",
       "\\item '1991-07-01'\n",
       "\\item '1991-08-01'\n",
       "\\item '1991-09-01'\n",
       "\\item '1991-10-01'\n",
       "\\item '1991-11-01'\n",
       "\\item '1991-12-01'\n",
       "\\item '1992-01-01'\n",
       "\\item '1992-02-01'\n",
       "\\item '1992-03-01'\n",
       "\\item '1992-04-01'\n",
       "\\item '1992-05-01'\n",
       "\\item '1992-06-01'\n",
       "\\item '1992-07-01'\n",
       "\\item '1992-08-01'\n",
       "\\item '1992-09-01'\n",
       "\\item '1992-10-01'\n",
       "\\item '1992-11-01'\n",
       "\\item '1992-12-01'\n",
       "\\item '1993-01-01'\n",
       "\\item '1993-02-01'\n",
       "\\item '1993-03-01'\n",
       "\\item '1993-04-01'\n",
       "\\item '1993-05-01'\n",
       "\\item '1993-06-01'\n",
       "\\item '1993-07-01'\n",
       "\\item '1993-08-01'\n",
       "\\item '1993-09-01'\n",
       "\\item '1993-10-01'\n",
       "\\item '1993-11-01'\n",
       "\\item '1993-12-01'\n",
       "\\item '1994-01-01'\n",
       "\\item '1994-02-01'\n",
       "\\item '1994-03-01'\n",
       "\\item '1994-04-01'\n",
       "\\item '1994-05-01'\n",
       "\\item '1994-06-01'\n",
       "\\item '1994-07-01'\n",
       "\\item '1994-08-01'\n",
       "\\item '1994-09-01'\n",
       "\\item '1994-10-01'\n",
       "\\item '1994-11-01'\n",
       "\\item '1994-12-01'\n",
       "\\item '1995-01-01'\n",
       "\\item '1995-02-01'\n",
       "\\item '1995-03-01'\n",
       "\\item '1995-04-01'\n",
       "\\item '1995-05-01'\n",
       "\\item '1995-06-01'\n",
       "\\item '1995-07-01'\n",
       "\\item '1995-08-01'\n",
       "\\item '1995-09-01'\n",
       "\\item '1995-10-01'\n",
       "\\item '1995-11-01'\n",
       "\\item '1995-12-01'\n",
       "\\item '1996-01-01'\n",
       "\\item '1996-02-01'\n",
       "\\item '1996-03-01'\n",
       "\\item '1996-04-01'\n",
       "\\item '1996-05-01'\n",
       "\\item '1996-06-01'\n",
       "\\item '1996-07-01'\n",
       "\\item '1996-08-01'\n",
       "\\item '1996-09-01'\n",
       "\\item '1996-10-01'\n",
       "\\item '1996-11-01'\n",
       "\\item '1996-12-01'\n",
       "\\item '1997-01-01'\n",
       "\\item '1997-02-01'\n",
       "\\item '1997-03-01'\n",
       "\\item '1997-04-01'\n",
       "\\item '1997-05-01'\n",
       "\\item '1997-06-01'\n",
       "\\item '1997-07-01'\n",
       "\\item '1997-08-01'\n",
       "\\item '1997-09-01'\n",
       "\\item '1997-10-01'\n",
       "\\item '1997-11-01'\n",
       "\\item '1997-12-01'\n",
       "\\item '1998-01-01'\n",
       "\\item '1998-02-01'\n",
       "\\item '1998-03-01'\n",
       "\\item '1998-04-01'\n",
       "\\item '1998-05-01'\n",
       "\\item '1998-06-01'\n",
       "\\item '1998-07-01'\n",
       "\\item '1998-08-01'\n",
       "\\item '1998-09-01'\n",
       "\\item '1998-10-01'\n",
       "\\item '1998-11-01'\n",
       "\\item '1998-12-01'\n",
       "\\item '1999-01-01'\n",
       "\\item '1999-02-01'\n",
       "\\item '1999-03-01'\n",
       "\\item '1999-04-01'\n",
       "\\item '1999-05-01'\n",
       "\\item '1999-06-01'\n",
       "\\item '1999-07-01'\n",
       "\\item '1999-08-01'\n",
       "\\item '1999-09-01'\n",
       "\\item '1999-10-01'\n",
       "\\item '1999-11-01'\n",
       "\\item '1999-12-01'\n",
       "\\item '2000-01-01'\n",
       "\\item '2000-02-01'\n",
       "\\item '2000-03-01'\n",
       "\\item '2000-04-01'\n",
       "\\item '2000-05-01'\n",
       "\\item '2000-06-01'\n",
       "\\item '2000-07-01'\n",
       "\\item '2000-08-01'\n",
       "\\item '2000-09-01'\n",
       "\\item '2000-10-01'\n",
       "\\item '2000-11-01'\n",
       "\\item '2000-12-01'\n",
       "\\item '2001-01-01'\n",
       "\\item '2001-02-01'\n",
       "\\item '2001-03-01'\n",
       "\\item '2001-04-01'\n",
       "\\item '2001-05-01'\n",
       "\\item '2001-06-01'\n",
       "\\item '2001-07-01'\n",
       "\\item '2001-08-01'\n",
       "\\item '2001-09-01'\n",
       "\\item '2001-10-01'\n",
       "\\item '2001-11-01'\n",
       "\\item '2001-12-01'\n",
       "\\item '2002-01-01'\n",
       "\\item '2002-02-01'\n",
       "\\item '2002-03-01'\n",
       "\\item '2002-04-01'\n",
       "\\item '2002-05-01'\n",
       "\\item '2002-06-01'\n",
       "\\item '2002-07-01'\n",
       "\\item '2002-08-01'\n",
       "\\item '2002-09-01'\n",
       "\\item '2002-10-01'\n",
       "\\item '2002-11-01'\n",
       "\\item '2002-12-01'\n",
       "\\item '2003-01-01'\n",
       "\\item '2003-02-01'\n",
       "\\item '2003-03-01'\n",
       "\\item '2003-04-01'\n",
       "\\item '2003-05-01'\n",
       "\\item '2003-06-01'\n",
       "\\item '2003-07-01'\n",
       "\\item '2003-08-01'\n",
       "\\item '2003-09-01'\n",
       "\\item '2003-10-01'\n",
       "\\item '2003-11-01'\n",
       "\\item '2003-12-01'\n",
       "\\item '2004-01-01'\n",
       "\\item '2004-02-01'\n",
       "\\item '2004-03-01'\n",
       "\\item '2004-04-01'\n",
       "\\item '2004-05-01'\n",
       "\\item '2004-06-01'\n",
       "\\item '2004-07-01'\n",
       "\\item '2004-08-01'\n",
       "\\item '2004-09-01'\n",
       "\\item '2004-10-01'\n",
       "\\item '2004-11-01'\n",
       "\\item '2004-12-01'\n",
       "\\item '2005-01-01'\n",
       "\\item '2005-02-01'\n",
       "\\item '2005-03-01'\n",
       "\\item '2005-04-01'\n",
       "\\item '2005-05-01'\n",
       "\\item '2005-06-01'\n",
       "\\item '2005-07-01'\n",
       "\\item '2005-08-01'\n",
       "\\item '2005-09-01'\n",
       "\\item '2005-10-01'\n",
       "\\item '2005-11-01'\n",
       "\\item '2005-12-01'\n",
       "\\item '2006-01-01'\n",
       "\\item '2006-02-01'\n",
       "\\item '2006-03-01'\n",
       "\\item '2006-04-01'\n",
       "\\item '2006-05-01'\n",
       "\\item '2006-06-01'\n",
       "\\item '2006-07-01'\n",
       "\\item '2006-08-01'\n",
       "\\item '2006-09-01'\n",
       "\\item '2006-10-01'\n",
       "\\item '2006-11-01'\n",
       "\\item '2006-12-01'\n",
       "\\item '2007-01-01'\n",
       "\\item '2007-02-01'\n",
       "\\item '2007-03-01'\n",
       "\\item '2007-04-01'\n",
       "\\item '2007-05-01'\n",
       "\\item '2007-06-01'\n",
       "\\item '2007-07-01'\n",
       "\\item '2007-08-01'\n",
       "\\item '2007-09-01'\n",
       "\\item '2007-10-01'\n",
       "\\item '2007-11-01'\n",
       "\\item '2007-12-01'\n",
       "\\item '2008-01-01'\n",
       "\\item '2008-02-01'\n",
       "\\item '2008-03-01'\n",
       "\\item '2008-04-01'\n",
       "\\item '2008-05-01'\n",
       "\\item '2008-06-01'\n",
       "\\item '2008-07-01'\n",
       "\\item '2008-08-01'\n",
       "\\item '2008-09-01'\n",
       "\\item '2008-10-01'\n",
       "\\item '2008-11-01'\n",
       "\\item '2008-12-01'\n",
       "\\item '2009-01-01'\n",
       "\\item '2009-02-01'\n",
       "\\item '2009-03-01'\n",
       "\\item '2009-04-01'\n",
       "\\item '2009-05-01'\n",
       "\\item '2009-06-01'\n",
       "\\item '2009-07-01'\n",
       "\\item '2009-08-01'\n",
       "\\item '2009-09-01'\n",
       "\\item '2009-10-01'\n",
       "\\item '2009-11-01'\n",
       "\\item '2009-12-01'\n",
       "\\item '2010-01-01'\n",
       "\\item '2010-02-01'\n",
       "\\item '2010-03-01'\n",
       "\\item '2010-04-01'\n",
       "\\item '2010-05-01'\n",
       "\\item '2010-06-01'\n",
       "\\item '2010-07-01'\n",
       "\\item '2010-08-01'\n",
       "\\item '2010-09-01'\n",
       "\\item '2010-10-01'\n",
       "\\item '2010-11-01'\n",
       "\\item '2010-12-01'\n",
       "\\item '2011-01-01'\n",
       "\\item '2011-02-01'\n",
       "\\item '2011-03-01'\n",
       "\\item '2011-04-01'\n",
       "\\item '2011-05-01'\n",
       "\\item '2011-06-01'\n",
       "\\item '2011-07-01'\n",
       "\\item '2011-08-01'\n",
       "\\item '2011-09-01'\n",
       "\\item '2011-10-01'\n",
       "\\item '2011-11-01'\n",
       "\\item '2011-12-01'\n",
       "\\item '2012-01-01'\n",
       "\\end{enumerate*}\n"
      ],
      "text/markdown": [
       "1. '1948-01-01'\n",
       "2. '1948-02-01'\n",
       "3. '1948-03-01'\n",
       "4. '1948-04-01'\n",
       "5. '1948-05-01'\n",
       "6. '1948-06-01'\n",
       "7. '1948-07-01'\n",
       "8. '1948-08-01'\n",
       "9. '1948-09-01'\n",
       "10. '1948-10-01'\n",
       "11. '1948-11-01'\n",
       "12. '1948-12-01'\n",
       "13. '1949-01-01'\n",
       "14. '1949-02-01'\n",
       "15. '1949-03-01'\n",
       "16. '1949-04-01'\n",
       "17. '1949-05-01'\n",
       "18. '1949-06-01'\n",
       "19. '1949-07-01'\n",
       "20. '1949-08-01'\n",
       "21. '1949-09-01'\n",
       "22. '1949-10-01'\n",
       "23. '1949-11-01'\n",
       "24. '1949-12-01'\n",
       "25. '1950-01-01'\n",
       "26. '1950-02-01'\n",
       "27. '1950-03-01'\n",
       "28. '1950-04-01'\n",
       "29. '1950-05-01'\n",
       "30. '1950-06-01'\n",
       "31. '1950-07-01'\n",
       "32. '1950-08-01'\n",
       "33. '1950-09-01'\n",
       "34. '1950-10-01'\n",
       "35. '1950-11-01'\n",
       "36. '1950-12-01'\n",
       "37. '1951-01-01'\n",
       "38. '1951-02-01'\n",
       "39. '1951-03-01'\n",
       "40. '1951-04-01'\n",
       "41. '1951-05-01'\n",
       "42. '1951-06-01'\n",
       "43. '1951-07-01'\n",
       "44. '1951-08-01'\n",
       "45. '1951-09-01'\n",
       "46. '1951-10-01'\n",
       "47. '1951-11-01'\n",
       "48. '1951-12-01'\n",
       "49. '1952-01-01'\n",
       "50. '1952-02-01'\n",
       "51. '1952-03-01'\n",
       "52. '1952-04-01'\n",
       "53. '1952-05-01'\n",
       "54. '1952-06-01'\n",
       "55. '1952-07-01'\n",
       "56. '1952-08-01'\n",
       "57. '1952-09-01'\n",
       "58. '1952-10-01'\n",
       "59. '1952-11-01'\n",
       "60. '1952-12-01'\n",
       "61. '1953-01-01'\n",
       "62. '1953-02-01'\n",
       "63. '1953-03-01'\n",
       "64. '1953-04-01'\n",
       "65. '1953-05-01'\n",
       "66. '1953-06-01'\n",
       "67. '1953-07-01'\n",
       "68. '1953-08-01'\n",
       "69. '1953-09-01'\n",
       "70. '1953-10-01'\n",
       "71. '1953-11-01'\n",
       "72. '1953-12-01'\n",
       "73. '1954-01-01'\n",
       "74. '1954-02-01'\n",
       "75. '1954-03-01'\n",
       "76. '1954-04-01'\n",
       "77. '1954-05-01'\n",
       "78. '1954-06-01'\n",
       "79. '1954-07-01'\n",
       "80. '1954-08-01'\n",
       "81. '1954-09-01'\n",
       "82. '1954-10-01'\n",
       "83. '1954-11-01'\n",
       "84. '1954-12-01'\n",
       "85. '1955-01-01'\n",
       "86. '1955-02-01'\n",
       "87. '1955-03-01'\n",
       "88. '1955-04-01'\n",
       "89. '1955-05-01'\n",
       "90. '1955-06-01'\n",
       "91. '1955-07-01'\n",
       "92. '1955-08-01'\n",
       "93. '1955-09-01'\n",
       "94. '1955-10-01'\n",
       "95. '1955-11-01'\n",
       "96. '1955-12-01'\n",
       "97. '1956-01-01'\n",
       "98. '1956-02-01'\n",
       "99. '1956-03-01'\n",
       "100. '1956-04-01'\n",
       "101. '1956-05-01'\n",
       "102. '1956-06-01'\n",
       "103. '1956-07-01'\n",
       "104. '1956-08-01'\n",
       "105. '1956-09-01'\n",
       "106. '1956-10-01'\n",
       "107. '1956-11-01'\n",
       "108. '1956-12-01'\n",
       "109. '1957-01-01'\n",
       "110. '1957-02-01'\n",
       "111. '1957-03-01'\n",
       "112. '1957-04-01'\n",
       "113. '1957-05-01'\n",
       "114. '1957-06-01'\n",
       "115. '1957-07-01'\n",
       "116. '1957-08-01'\n",
       "117. '1957-09-01'\n",
       "118. '1957-10-01'\n",
       "119. '1957-11-01'\n",
       "120. '1957-12-01'\n",
       "121. '1958-01-01'\n",
       "122. '1958-02-01'\n",
       "123. '1958-03-01'\n",
       "124. '1958-04-01'\n",
       "125. '1958-05-01'\n",
       "126. '1958-06-01'\n",
       "127. '1958-07-01'\n",
       "128. '1958-08-01'\n",
       "129. '1958-09-01'\n",
       "130. '1958-10-01'\n",
       "131. '1958-11-01'\n",
       "132. '1958-12-01'\n",
       "133. '1959-01-01'\n",
       "134. '1959-02-01'\n",
       "135. '1959-03-01'\n",
       "136. '1959-04-01'\n",
       "137. '1959-05-01'\n",
       "138. '1959-06-01'\n",
       "139. '1959-07-01'\n",
       "140. '1959-08-01'\n",
       "141. '1959-09-01'\n",
       "142. '1959-10-01'\n",
       "143. '1959-11-01'\n",
       "144. '1959-12-01'\n",
       "145. '1960-01-01'\n",
       "146. '1960-02-01'\n",
       "147. '1960-03-01'\n",
       "148. '1960-04-01'\n",
       "149. '1960-05-01'\n",
       "150. '1960-06-01'\n",
       "151. '1960-07-01'\n",
       "152. '1960-08-01'\n",
       "153. '1960-09-01'\n",
       "154. '1960-10-01'\n",
       "155. '1960-11-01'\n",
       "156. '1960-12-01'\n",
       "157. '1961-01-01'\n",
       "158. '1961-02-01'\n",
       "159. '1961-03-01'\n",
       "160. '1961-04-01'\n",
       "161. '1961-05-01'\n",
       "162. '1961-06-01'\n",
       "163. '1961-07-01'\n",
       "164. '1961-08-01'\n",
       "165. '1961-09-01'\n",
       "166. '1961-10-01'\n",
       "167. '1961-11-01'\n",
       "168. '1961-12-01'\n",
       "169. '1962-01-01'\n",
       "170. '1962-02-01'\n",
       "171. '1962-03-01'\n",
       "172. '1962-04-01'\n",
       "173. '1962-05-01'\n",
       "174. '1962-06-01'\n",
       "175. '1962-07-01'\n",
       "176. '1962-08-01'\n",
       "177. '1962-09-01'\n",
       "178. '1962-10-01'\n",
       "179. '1962-11-01'\n",
       "180. '1962-12-01'\n",
       "181. '1963-01-01'\n",
       "182. '1963-02-01'\n",
       "183. '1963-03-01'\n",
       "184. '1963-04-01'\n",
       "185. '1963-05-01'\n",
       "186. '1963-06-01'\n",
       "187. '1963-07-01'\n",
       "188. '1963-08-01'\n",
       "189. '1963-09-01'\n",
       "190. '1963-10-01'\n",
       "191. '1963-11-01'\n",
       "192. '1963-12-01'\n",
       "193. '1964-01-01'\n",
       "194. '1964-02-01'\n",
       "195. '1964-03-01'\n",
       "196. '1964-04-01'\n",
       "197. '1964-05-01'\n",
       "198. '1964-06-01'\n",
       "199. '1964-07-01'\n",
       "200. '1964-08-01'\n",
       "201. '1964-09-01'\n",
       "202. '1964-10-01'\n",
       "203. '1964-11-01'\n",
       "204. '1964-12-01'\n",
       "205. '1965-01-01'\n",
       "206. '1965-02-01'\n",
       "207. '1965-03-01'\n",
       "208. '1965-04-01'\n",
       "209. '1965-05-01'\n",
       "210. '1965-06-01'\n",
       "211. '1965-07-01'\n",
       "212. '1965-08-01'\n",
       "213. '1965-09-01'\n",
       "214. '1965-10-01'\n",
       "215. '1965-11-01'\n",
       "216. '1965-12-01'\n",
       "217. '1966-01-01'\n",
       "218. '1966-02-01'\n",
       "219. '1966-03-01'\n",
       "220. '1966-04-01'\n",
       "221. '1966-05-01'\n",
       "222. '1966-06-01'\n",
       "223. '1966-07-01'\n",
       "224. '1966-08-01'\n",
       "225. '1966-09-01'\n",
       "226. '1966-10-01'\n",
       "227. '1966-11-01'\n",
       "228. '1966-12-01'\n",
       "229. '1967-01-01'\n",
       "230. '1967-02-01'\n",
       "231. '1967-03-01'\n",
       "232. '1967-04-01'\n",
       "233. '1967-05-01'\n",
       "234. '1967-06-01'\n",
       "235. '1967-07-01'\n",
       "236. '1967-08-01'\n",
       "237. '1967-09-01'\n",
       "238. '1967-10-01'\n",
       "239. '1967-11-01'\n",
       "240. '1967-12-01'\n",
       "241. '1968-01-01'\n",
       "242. '1968-02-01'\n",
       "243. '1968-03-01'\n",
       "244. '1968-04-01'\n",
       "245. '1968-05-01'\n",
       "246. '1968-06-01'\n",
       "247. '1968-07-01'\n",
       "248. '1968-08-01'\n",
       "249. '1968-09-01'\n",
       "250. '1968-10-01'\n",
       "251. '1968-11-01'\n",
       "252. '1968-12-01'\n",
       "253. '1969-01-01'\n",
       "254. '1969-02-01'\n",
       "255. '1969-03-01'\n",
       "256. '1969-04-01'\n",
       "257. '1969-05-01'\n",
       "258. '1969-06-01'\n",
       "259. '1969-07-01'\n",
       "260. '1969-08-01'\n",
       "261. '1969-09-01'\n",
       "262. '1969-10-01'\n",
       "263. '1969-11-01'\n",
       "264. '1969-12-01'\n",
       "265. '1970-01-01'\n",
       "266. '1970-02-01'\n",
       "267. '1970-03-01'\n",
       "268. '1970-04-01'\n",
       "269. '1970-05-01'\n",
       "270. '1970-06-01'\n",
       "271. '1970-07-01'\n",
       "272. '1970-08-01'\n",
       "273. '1970-09-01'\n",
       "274. '1970-10-01'\n",
       "275. '1970-11-01'\n",
       "276. '1970-12-01'\n",
       "277. '1971-01-01'\n",
       "278. '1971-02-01'\n",
       "279. '1971-03-01'\n",
       "280. '1971-04-01'\n",
       "281. '1971-05-01'\n",
       "282. '1971-06-01'\n",
       "283. '1971-07-01'\n",
       "284. '1971-08-01'\n",
       "285. '1971-09-01'\n",
       "286. '1971-10-01'\n",
       "287. '1971-11-01'\n",
       "288. '1971-12-01'\n",
       "289. '1972-01-01'\n",
       "290. '1972-02-01'\n",
       "291. '1972-03-01'\n",
       "292. '1972-04-01'\n",
       "293. '1972-05-01'\n",
       "294. '1972-06-01'\n",
       "295. '1972-07-01'\n",
       "296. '1972-08-01'\n",
       "297. '1972-09-01'\n",
       "298. '1972-10-01'\n",
       "299. '1972-11-01'\n",
       "300. '1972-12-01'\n",
       "301. '1973-01-01'\n",
       "302. '1973-02-01'\n",
       "303. '1973-03-01'\n",
       "304. '1973-04-01'\n",
       "305. '1973-05-01'\n",
       "306. '1973-06-01'\n",
       "307. '1973-07-01'\n",
       "308. '1973-08-01'\n",
       "309. '1973-09-01'\n",
       "310. '1973-10-01'\n",
       "311. '1973-11-01'\n",
       "312. '1973-12-01'\n",
       "313. '1974-01-01'\n",
       "314. '1974-02-01'\n",
       "315. '1974-03-01'\n",
       "316. '1974-04-01'\n",
       "317. '1974-05-01'\n",
       "318. '1974-06-01'\n",
       "319. '1974-07-01'\n",
       "320. '1974-08-01'\n",
       "321. '1974-09-01'\n",
       "322. '1974-10-01'\n",
       "323. '1974-11-01'\n",
       "324. '1974-12-01'\n",
       "325. '1975-01-01'\n",
       "326. '1975-02-01'\n",
       "327. '1975-03-01'\n",
       "328. '1975-04-01'\n",
       "329. '1975-05-01'\n",
       "330. '1975-06-01'\n",
       "331. '1975-07-01'\n",
       "332. '1975-08-01'\n",
       "333. '1975-09-01'\n",
       "334. '1975-10-01'\n",
       "335. '1975-11-01'\n",
       "336. '1975-12-01'\n",
       "337. '1976-01-01'\n",
       "338. '1976-02-01'\n",
       "339. '1976-03-01'\n",
       "340. '1976-04-01'\n",
       "341. '1976-05-01'\n",
       "342. '1976-06-01'\n",
       "343. '1976-07-01'\n",
       "344. '1976-08-01'\n",
       "345. '1976-09-01'\n",
       "346. '1976-10-01'\n",
       "347. '1976-11-01'\n",
       "348. '1976-12-01'\n",
       "349. '1977-01-01'\n",
       "350. '1977-02-01'\n",
       "351. '1977-03-01'\n",
       "352. '1977-04-01'\n",
       "353. '1977-05-01'\n",
       "354. '1977-06-01'\n",
       "355. '1977-07-01'\n",
       "356. '1977-08-01'\n",
       "357. '1977-09-01'\n",
       "358. '1977-10-01'\n",
       "359. '1977-11-01'\n",
       "360. '1977-12-01'\n",
       "361. '1978-01-01'\n",
       "362. '1978-02-01'\n",
       "363. '1978-03-01'\n",
       "364. '1978-04-01'\n",
       "365. '1978-05-01'\n",
       "366. '1978-06-01'\n",
       "367. '1978-07-01'\n",
       "368. '1978-08-01'\n",
       "369. '1978-09-01'\n",
       "370. '1978-10-01'\n",
       "371. '1978-11-01'\n",
       "372. '1978-12-01'\n",
       "373. '1979-01-01'\n",
       "374. '1979-02-01'\n",
       "375. '1979-03-01'\n",
       "376. '1979-04-01'\n",
       "377. '1979-05-01'\n",
       "378. '1979-06-01'\n",
       "379. '1979-07-01'\n",
       "380. '1979-08-01'\n",
       "381. '1979-09-01'\n",
       "382. '1979-10-01'\n",
       "383. '1979-11-01'\n",
       "384. '1979-12-01'\n",
       "385. '1980-01-01'\n",
       "386. '1980-02-01'\n",
       "387. '1980-03-01'\n",
       "388. '1980-04-01'\n",
       "389. '1980-05-01'\n",
       "390. '1980-06-01'\n",
       "391. '1980-07-01'\n",
       "392. '1980-08-01'\n",
       "393. '1980-09-01'\n",
       "394. '1980-10-01'\n",
       "395. '1980-11-01'\n",
       "396. '1980-12-01'\n",
       "397. '1981-01-01'\n",
       "398. '1981-02-01'\n",
       "399. '1981-03-01'\n",
       "400. '1981-04-01'\n",
       "401. '1981-05-01'\n",
       "402. '1981-06-01'\n",
       "403. '1981-07-01'\n",
       "404. '1981-08-01'\n",
       "405. '1981-09-01'\n",
       "406. '1981-10-01'\n",
       "407. '1981-11-01'\n",
       "408. '1981-12-01'\n",
       "409. '1982-01-01'\n",
       "410. '1982-02-01'\n",
       "411. '1982-03-01'\n",
       "412. '1982-04-01'\n",
       "413. '1982-05-01'\n",
       "414. '1982-06-01'\n",
       "415. '1982-07-01'\n",
       "416. '1982-08-01'\n",
       "417. '1982-09-01'\n",
       "418. '1982-10-01'\n",
       "419. '1982-11-01'\n",
       "420. '1982-12-01'\n",
       "421. '1983-01-01'\n",
       "422. '1983-02-01'\n",
       "423. '1983-03-01'\n",
       "424. '1983-04-01'\n",
       "425. '1983-05-01'\n",
       "426. '1983-06-01'\n",
       "427. '1983-07-01'\n",
       "428. '1983-08-01'\n",
       "429. '1983-09-01'\n",
       "430. '1983-10-01'\n",
       "431. '1983-11-01'\n",
       "432. '1983-12-01'\n",
       "433. '1984-01-01'\n",
       "434. '1984-02-01'\n",
       "435. '1984-03-01'\n",
       "436. '1984-04-01'\n",
       "437. '1984-05-01'\n",
       "438. '1984-06-01'\n",
       "439. '1984-07-01'\n",
       "440. '1984-08-01'\n",
       "441. '1984-09-01'\n",
       "442. '1984-10-01'\n",
       "443. '1984-11-01'\n",
       "444. '1984-12-01'\n",
       "445. '1985-01-01'\n",
       "446. '1985-02-01'\n",
       "447. '1985-03-01'\n",
       "448. '1985-04-01'\n",
       "449. '1985-05-01'\n",
       "450. '1985-06-01'\n",
       "451. '1985-07-01'\n",
       "452. '1985-08-01'\n",
       "453. '1985-09-01'\n",
       "454. '1985-10-01'\n",
       "455. '1985-11-01'\n",
       "456. '1985-12-01'\n",
       "457. '1986-01-01'\n",
       "458. '1986-02-01'\n",
       "459. '1986-03-01'\n",
       "460. '1986-04-01'\n",
       "461. '1986-05-01'\n",
       "462. '1986-06-01'\n",
       "463. '1986-07-01'\n",
       "464. '1986-08-01'\n",
       "465. '1986-09-01'\n",
       "466. '1986-10-01'\n",
       "467. '1986-11-01'\n",
       "468. '1986-12-01'\n",
       "469. '1987-01-01'\n",
       "470. '1987-02-01'\n",
       "471. '1987-03-01'\n",
       "472. '1987-04-01'\n",
       "473. '1987-05-01'\n",
       "474. '1987-06-01'\n",
       "475. '1987-07-01'\n",
       "476. '1987-08-01'\n",
       "477. '1987-09-01'\n",
       "478. '1987-10-01'\n",
       "479. '1987-11-01'\n",
       "480. '1987-12-01'\n",
       "481. '1988-01-01'\n",
       "482. '1988-02-01'\n",
       "483. '1988-03-01'\n",
       "484. '1988-04-01'\n",
       "485. '1988-05-01'\n",
       "486. '1988-06-01'\n",
       "487. '1988-07-01'\n",
       "488. '1988-08-01'\n",
       "489. '1988-09-01'\n",
       "490. '1988-10-01'\n",
       "491. '1988-11-01'\n",
       "492. '1988-12-01'\n",
       "493. '1989-01-01'\n",
       "494. '1989-02-01'\n",
       "495. '1989-03-01'\n",
       "496. '1989-04-01'\n",
       "497. '1989-05-01'\n",
       "498. '1989-06-01'\n",
       "499. '1989-07-01'\n",
       "500. '1989-08-01'\n",
       "501. '1989-09-01'\n",
       "502. '1989-10-01'\n",
       "503. '1989-11-01'\n",
       "504. '1989-12-01'\n",
       "505. '1990-01-01'\n",
       "506. '1990-02-01'\n",
       "507. '1990-03-01'\n",
       "508. '1990-04-01'\n",
       "509. '1990-05-01'\n",
       "510. '1990-06-01'\n",
       "511. '1990-07-01'\n",
       "512. '1990-08-01'\n",
       "513. '1990-09-01'\n",
       "514. '1990-10-01'\n",
       "515. '1990-11-01'\n",
       "516. '1990-12-01'\n",
       "517. '1991-01-01'\n",
       "518. '1991-02-01'\n",
       "519. '1991-03-01'\n",
       "520. '1991-04-01'\n",
       "521. '1991-05-01'\n",
       "522. '1991-06-01'\n",
       "523. '1991-07-01'\n",
       "524. '1991-08-01'\n",
       "525. '1991-09-01'\n",
       "526. '1991-10-01'\n",
       "527. '1991-11-01'\n",
       "528. '1991-12-01'\n",
       "529. '1992-01-01'\n",
       "530. '1992-02-01'\n",
       "531. '1992-03-01'\n",
       "532. '1992-04-01'\n",
       "533. '1992-05-01'\n",
       "534. '1992-06-01'\n",
       "535. '1992-07-01'\n",
       "536. '1992-08-01'\n",
       "537. '1992-09-01'\n",
       "538. '1992-10-01'\n",
       "539. '1992-11-01'\n",
       "540. '1992-12-01'\n",
       "541. '1993-01-01'\n",
       "542. '1993-02-01'\n",
       "543. '1993-03-01'\n",
       "544. '1993-04-01'\n",
       "545. '1993-05-01'\n",
       "546. '1993-06-01'\n",
       "547. '1993-07-01'\n",
       "548. '1993-08-01'\n",
       "549. '1993-09-01'\n",
       "550. '1993-10-01'\n",
       "551. '1993-11-01'\n",
       "552. '1993-12-01'\n",
       "553. '1994-01-01'\n",
       "554. '1994-02-01'\n",
       "555. '1994-03-01'\n",
       "556. '1994-04-01'\n",
       "557. '1994-05-01'\n",
       "558. '1994-06-01'\n",
       "559. '1994-07-01'\n",
       "560. '1994-08-01'\n",
       "561. '1994-09-01'\n",
       "562. '1994-10-01'\n",
       "563. '1994-11-01'\n",
       "564. '1994-12-01'\n",
       "565. '1995-01-01'\n",
       "566. '1995-02-01'\n",
       "567. '1995-03-01'\n",
       "568. '1995-04-01'\n",
       "569. '1995-05-01'\n",
       "570. '1995-06-01'\n",
       "571. '1995-07-01'\n",
       "572. '1995-08-01'\n",
       "573. '1995-09-01'\n",
       "574. '1995-10-01'\n",
       "575. '1995-11-01'\n",
       "576. '1995-12-01'\n",
       "577. '1996-01-01'\n",
       "578. '1996-02-01'\n",
       "579. '1996-03-01'\n",
       "580. '1996-04-01'\n",
       "581. '1996-05-01'\n",
       "582. '1996-06-01'\n",
       "583. '1996-07-01'\n",
       "584. '1996-08-01'\n",
       "585. '1996-09-01'\n",
       "586. '1996-10-01'\n",
       "587. '1996-11-01'\n",
       "588. '1996-12-01'\n",
       "589. '1997-01-01'\n",
       "590. '1997-02-01'\n",
       "591. '1997-03-01'\n",
       "592. '1997-04-01'\n",
       "593. '1997-05-01'\n",
       "594. '1997-06-01'\n",
       "595. '1997-07-01'\n",
       "596. '1997-08-01'\n",
       "597. '1997-09-01'\n",
       "598. '1997-10-01'\n",
       "599. '1997-11-01'\n",
       "600. '1997-12-01'\n",
       "601. '1998-01-01'\n",
       "602. '1998-02-01'\n",
       "603. '1998-03-01'\n",
       "604. '1998-04-01'\n",
       "605. '1998-05-01'\n",
       "606. '1998-06-01'\n",
       "607. '1998-07-01'\n",
       "608. '1998-08-01'\n",
       "609. '1998-09-01'\n",
       "610. '1998-10-01'\n",
       "611. '1998-11-01'\n",
       "612. '1998-12-01'\n",
       "613. '1999-01-01'\n",
       "614. '1999-02-01'\n",
       "615. '1999-03-01'\n",
       "616. '1999-04-01'\n",
       "617. '1999-05-01'\n",
       "618. '1999-06-01'\n",
       "619. '1999-07-01'\n",
       "620. '1999-08-01'\n",
       "621. '1999-09-01'\n",
       "622. '1999-10-01'\n",
       "623. '1999-11-01'\n",
       "624. '1999-12-01'\n",
       "625. '2000-01-01'\n",
       "626. '2000-02-01'\n",
       "627. '2000-03-01'\n",
       "628. '2000-04-01'\n",
       "629. '2000-05-01'\n",
       "630. '2000-06-01'\n",
       "631. '2000-07-01'\n",
       "632. '2000-08-01'\n",
       "633. '2000-09-01'\n",
       "634. '2000-10-01'\n",
       "635. '2000-11-01'\n",
       "636. '2000-12-01'\n",
       "637. '2001-01-01'\n",
       "638. '2001-02-01'\n",
       "639. '2001-03-01'\n",
       "640. '2001-04-01'\n",
       "641. '2001-05-01'\n",
       "642. '2001-06-01'\n",
       "643. '2001-07-01'\n",
       "644. '2001-08-01'\n",
       "645. '2001-09-01'\n",
       "646. '2001-10-01'\n",
       "647. '2001-11-01'\n",
       "648. '2001-12-01'\n",
       "649. '2002-01-01'\n",
       "650. '2002-02-01'\n",
       "651. '2002-03-01'\n",
       "652. '2002-04-01'\n",
       "653. '2002-05-01'\n",
       "654. '2002-06-01'\n",
       "655. '2002-07-01'\n",
       "656. '2002-08-01'\n",
       "657. '2002-09-01'\n",
       "658. '2002-10-01'\n",
       "659. '2002-11-01'\n",
       "660. '2002-12-01'\n",
       "661. '2003-01-01'\n",
       "662. '2003-02-01'\n",
       "663. '2003-03-01'\n",
       "664. '2003-04-01'\n",
       "665. '2003-05-01'\n",
       "666. '2003-06-01'\n",
       "667. '2003-07-01'\n",
       "668. '2003-08-01'\n",
       "669. '2003-09-01'\n",
       "670. '2003-10-01'\n",
       "671. '2003-11-01'\n",
       "672. '2003-12-01'\n",
       "673. '2004-01-01'\n",
       "674. '2004-02-01'\n",
       "675. '2004-03-01'\n",
       "676. '2004-04-01'\n",
       "677. '2004-05-01'\n",
       "678. '2004-06-01'\n",
       "679. '2004-07-01'\n",
       "680. '2004-08-01'\n",
       "681. '2004-09-01'\n",
       "682. '2004-10-01'\n",
       "683. '2004-11-01'\n",
       "684. '2004-12-01'\n",
       "685. '2005-01-01'\n",
       "686. '2005-02-01'\n",
       "687. '2005-03-01'\n",
       "688. '2005-04-01'\n",
       "689. '2005-05-01'\n",
       "690. '2005-06-01'\n",
       "691. '2005-07-01'\n",
       "692. '2005-08-01'\n",
       "693. '2005-09-01'\n",
       "694. '2005-10-01'\n",
       "695. '2005-11-01'\n",
       "696. '2005-12-01'\n",
       "697. '2006-01-01'\n",
       "698. '2006-02-01'\n",
       "699. '2006-03-01'\n",
       "700. '2006-04-01'\n",
       "701. '2006-05-01'\n",
       "702. '2006-06-01'\n",
       "703. '2006-07-01'\n",
       "704. '2006-08-01'\n",
       "705. '2006-09-01'\n",
       "706. '2006-10-01'\n",
       "707. '2006-11-01'\n",
       "708. '2006-12-01'\n",
       "709. '2007-01-01'\n",
       "710. '2007-02-01'\n",
       "711. '2007-03-01'\n",
       "712. '2007-04-01'\n",
       "713. '2007-05-01'\n",
       "714. '2007-06-01'\n",
       "715. '2007-07-01'\n",
       "716. '2007-08-01'\n",
       "717. '2007-09-01'\n",
       "718. '2007-10-01'\n",
       "719. '2007-11-01'\n",
       "720. '2007-12-01'\n",
       "721. '2008-01-01'\n",
       "722. '2008-02-01'\n",
       "723. '2008-03-01'\n",
       "724. '2008-04-01'\n",
       "725. '2008-05-01'\n",
       "726. '2008-06-01'\n",
       "727. '2008-07-01'\n",
       "728. '2008-08-01'\n",
       "729. '2008-09-01'\n",
       "730. '2008-10-01'\n",
       "731. '2008-11-01'\n",
       "732. '2008-12-01'\n",
       "733. '2009-01-01'\n",
       "734. '2009-02-01'\n",
       "735. '2009-03-01'\n",
       "736. '2009-04-01'\n",
       "737. '2009-05-01'\n",
       "738. '2009-06-01'\n",
       "739. '2009-07-01'\n",
       "740. '2009-08-01'\n",
       "741. '2009-09-01'\n",
       "742. '2009-10-01'\n",
       "743. '2009-11-01'\n",
       "744. '2009-12-01'\n",
       "745. '2010-01-01'\n",
       "746. '2010-02-01'\n",
       "747. '2010-03-01'\n",
       "748. '2010-04-01'\n",
       "749. '2010-05-01'\n",
       "750. '2010-06-01'\n",
       "751. '2010-07-01'\n",
       "752. '2010-08-01'\n",
       "753. '2010-09-01'\n",
       "754. '2010-10-01'\n",
       "755. '2010-11-01'\n",
       "756. '2010-12-01'\n",
       "757. '2011-01-01'\n",
       "758. '2011-02-01'\n",
       "759. '2011-03-01'\n",
       "760. '2011-04-01'\n",
       "761. '2011-05-01'\n",
       "762. '2011-06-01'\n",
       "763. '2011-07-01'\n",
       "764. '2011-08-01'\n",
       "765. '2011-09-01'\n",
       "766. '2011-10-01'\n",
       "767. '2011-11-01'\n",
       "768. '2011-12-01'\n",
       "769. '2012-01-01'\n",
       "\n",
       "\n"
      ],
      "text/plain": [
       "  [1] \"1948-01-01\" \"1948-02-01\" \"1948-03-01\" \"1948-04-01\" \"1948-05-01\"\n",
       "  [6] \"1948-06-01\" \"1948-07-01\" \"1948-08-01\" \"1948-09-01\" \"1948-10-01\"\n",
       " [11] \"1948-11-01\" \"1948-12-01\" \"1949-01-01\" \"1949-02-01\" \"1949-03-01\"\n",
       " [16] \"1949-04-01\" \"1949-05-01\" \"1949-06-01\" \"1949-07-01\" \"1949-08-01\"\n",
       " [21] \"1949-09-01\" \"1949-10-01\" \"1949-11-01\" \"1949-12-01\" \"1950-01-01\"\n",
       " [26] \"1950-02-01\" \"1950-03-01\" \"1950-04-01\" \"1950-05-01\" \"1950-06-01\"\n",
       " [31] \"1950-07-01\" \"1950-08-01\" \"1950-09-01\" \"1950-10-01\" \"1950-11-01\"\n",
       " [36] \"1950-12-01\" \"1951-01-01\" \"1951-02-01\" \"1951-03-01\" \"1951-04-01\"\n",
       " [41] \"1951-05-01\" \"1951-06-01\" \"1951-07-01\" \"1951-08-01\" \"1951-09-01\"\n",
       " [46] \"1951-10-01\" \"1951-11-01\" \"1951-12-01\" \"1952-01-01\" \"1952-02-01\"\n",
       " [51] \"1952-03-01\" \"1952-04-01\" \"1952-05-01\" \"1952-06-01\" \"1952-07-01\"\n",
       " [56] \"1952-08-01\" \"1952-09-01\" \"1952-10-01\" \"1952-11-01\" \"1952-12-01\"\n",
       " [61] \"1953-01-01\" \"1953-02-01\" \"1953-03-01\" \"1953-04-01\" \"1953-05-01\"\n",
       " [66] \"1953-06-01\" \"1953-07-01\" \"1953-08-01\" \"1953-09-01\" \"1953-10-01\"\n",
       " [71] \"1953-11-01\" \"1953-12-01\" \"1954-01-01\" \"1954-02-01\" \"1954-03-01\"\n",
       " [76] \"1954-04-01\" \"1954-05-01\" \"1954-06-01\" \"1954-07-01\" \"1954-08-01\"\n",
       " [81] \"1954-09-01\" \"1954-10-01\" \"1954-11-01\" \"1954-12-01\" \"1955-01-01\"\n",
       " [86] \"1955-02-01\" \"1955-03-01\" \"1955-04-01\" \"1955-05-01\" \"1955-06-01\"\n",
       " [91] \"1955-07-01\" \"1955-08-01\" \"1955-09-01\" \"1955-10-01\" \"1955-11-01\"\n",
       " [96] \"1955-12-01\" \"1956-01-01\" \"1956-02-01\" \"1956-03-01\" \"1956-04-01\"\n",
       "[101] \"1956-05-01\" \"1956-06-01\" \"1956-07-01\" \"1956-08-01\" \"1956-09-01\"\n",
       "[106] \"1956-10-01\" \"1956-11-01\" \"1956-12-01\" \"1957-01-01\" \"1957-02-01\"\n",
       "[111] \"1957-03-01\" \"1957-04-01\" \"1957-05-01\" \"1957-06-01\" \"1957-07-01\"\n",
       "[116] \"1957-08-01\" \"1957-09-01\" \"1957-10-01\" \"1957-11-01\" \"1957-12-01\"\n",
       "[121] \"1958-01-01\" \"1958-02-01\" \"1958-03-01\" \"1958-04-01\" \"1958-05-01\"\n",
       "[126] \"1958-06-01\" \"1958-07-01\" \"1958-08-01\" \"1958-09-01\" \"1958-10-01\"\n",
       "[131] \"1958-11-01\" \"1958-12-01\" \"1959-01-01\" \"1959-02-01\" \"1959-03-01\"\n",
       "[136] \"1959-04-01\" \"1959-05-01\" \"1959-06-01\" \"1959-07-01\" \"1959-08-01\"\n",
       "[141] \"1959-09-01\" \"1959-10-01\" \"1959-11-01\" \"1959-12-01\" \"1960-01-01\"\n",
       "[146] \"1960-02-01\" \"1960-03-01\" \"1960-04-01\" \"1960-05-01\" \"1960-06-01\"\n",
       "[151] \"1960-07-01\" \"1960-08-01\" \"1960-09-01\" \"1960-10-01\" \"1960-11-01\"\n",
       "[156] \"1960-12-01\" \"1961-01-01\" \"1961-02-01\" \"1961-03-01\" \"1961-04-01\"\n",
       "[161] \"1961-05-01\" \"1961-06-01\" \"1961-07-01\" \"1961-08-01\" \"1961-09-01\"\n",
       "[166] \"1961-10-01\" \"1961-11-01\" \"1961-12-01\" \"1962-01-01\" \"1962-02-01\"\n",
       "[171] \"1962-03-01\" \"1962-04-01\" \"1962-05-01\" \"1962-06-01\" \"1962-07-01\"\n",
       "[176] \"1962-08-01\" \"1962-09-01\" \"1962-10-01\" \"1962-11-01\" \"1962-12-01\"\n",
       "[181] \"1963-01-01\" \"1963-02-01\" \"1963-03-01\" \"1963-04-01\" \"1963-05-01\"\n",
       "[186] \"1963-06-01\" \"1963-07-01\" \"1963-08-01\" \"1963-09-01\" \"1963-10-01\"\n",
       "[191] \"1963-11-01\" \"1963-12-01\" \"1964-01-01\" \"1964-02-01\" \"1964-03-01\"\n",
       "[196] \"1964-04-01\" \"1964-05-01\" \"1964-06-01\" \"1964-07-01\" \"1964-08-01\"\n",
       "[201] \"1964-09-01\" \"1964-10-01\" \"1964-11-01\" \"1964-12-01\" \"1965-01-01\"\n",
       "[206] \"1965-02-01\" \"1965-03-01\" \"1965-04-01\" \"1965-05-01\" \"1965-06-01\"\n",
       "[211] \"1965-07-01\" \"1965-08-01\" \"1965-09-01\" \"1965-10-01\" \"1965-11-01\"\n",
       "[216] \"1965-12-01\" \"1966-01-01\" \"1966-02-01\" \"1966-03-01\" \"1966-04-01\"\n",
       "[221] \"1966-05-01\" \"1966-06-01\" \"1966-07-01\" \"1966-08-01\" \"1966-09-01\"\n",
       "[226] \"1966-10-01\" \"1966-11-01\" \"1966-12-01\" \"1967-01-01\" \"1967-02-01\"\n",
       "[231] \"1967-03-01\" \"1967-04-01\" \"1967-05-01\" \"1967-06-01\" \"1967-07-01\"\n",
       "[236] \"1967-08-01\" \"1967-09-01\" \"1967-10-01\" \"1967-11-01\" \"1967-12-01\"\n",
       "[241] \"1968-01-01\" \"1968-02-01\" \"1968-03-01\" \"1968-04-01\" \"1968-05-01\"\n",
       "[246] \"1968-06-01\" \"1968-07-01\" \"1968-08-01\" \"1968-09-01\" \"1968-10-01\"\n",
       "[251] \"1968-11-01\" \"1968-12-01\" \"1969-01-01\" \"1969-02-01\" \"1969-03-01\"\n",
       "[256] \"1969-04-01\" \"1969-05-01\" \"1969-06-01\" \"1969-07-01\" \"1969-08-01\"\n",
       "[261] \"1969-09-01\" \"1969-10-01\" \"1969-11-01\" \"1969-12-01\" \"1970-01-01\"\n",
       "[266] \"1970-02-01\" \"1970-03-01\" \"1970-04-01\" \"1970-05-01\" \"1970-06-01\"\n",
       "[271] \"1970-07-01\" \"1970-08-01\" \"1970-09-01\" \"1970-10-01\" \"1970-11-01\"\n",
       "[276] \"1970-12-01\" \"1971-01-01\" \"1971-02-01\" \"1971-03-01\" \"1971-04-01\"\n",
       "[281] \"1971-05-01\" \"1971-06-01\" \"1971-07-01\" \"1971-08-01\" \"1971-09-01\"\n",
       "[286] \"1971-10-01\" \"1971-11-01\" \"1971-12-01\" \"1972-01-01\" \"1972-02-01\"\n",
       "[291] \"1972-03-01\" \"1972-04-01\" \"1972-05-01\" \"1972-06-01\" \"1972-07-01\"\n",
       "[296] \"1972-08-01\" \"1972-09-01\" \"1972-10-01\" \"1972-11-01\" \"1972-12-01\"\n",
       "[301] \"1973-01-01\" \"1973-02-01\" \"1973-03-01\" \"1973-04-01\" \"1973-05-01\"\n",
       "[306] \"1973-06-01\" \"1973-07-01\" \"1973-08-01\" \"1973-09-01\" \"1973-10-01\"\n",
       "[311] \"1973-11-01\" \"1973-12-01\" \"1974-01-01\" \"1974-02-01\" \"1974-03-01\"\n",
       "[316] \"1974-04-01\" \"1974-05-01\" \"1974-06-01\" \"1974-07-01\" \"1974-08-01\"\n",
       "[321] \"1974-09-01\" \"1974-10-01\" \"1974-11-01\" \"1974-12-01\" \"1975-01-01\"\n",
       "[326] \"1975-02-01\" \"1975-03-01\" \"1975-04-01\" \"1975-05-01\" \"1975-06-01\"\n",
       "[331] \"1975-07-01\" \"1975-08-01\" \"1975-09-01\" \"1975-10-01\" \"1975-11-01\"\n",
       "[336] \"1975-12-01\" \"1976-01-01\" \"1976-02-01\" \"1976-03-01\" \"1976-04-01\"\n",
       "[341] \"1976-05-01\" \"1976-06-01\" \"1976-07-01\" \"1976-08-01\" \"1976-09-01\"\n",
       "[346] \"1976-10-01\" \"1976-11-01\" \"1976-12-01\" \"1977-01-01\" \"1977-02-01\"\n",
       "[351] \"1977-03-01\" \"1977-04-01\" \"1977-05-01\" \"1977-06-01\" \"1977-07-01\"\n",
       "[356] \"1977-08-01\" \"1977-09-01\" \"1977-10-01\" \"1977-11-01\" \"1977-12-01\"\n",
       "[361] \"1978-01-01\" \"1978-02-01\" \"1978-03-01\" \"1978-04-01\" \"1978-05-01\"\n",
       "[366] \"1978-06-01\" \"1978-07-01\" \"1978-08-01\" \"1978-09-01\" \"1978-10-01\"\n",
       "[371] \"1978-11-01\" \"1978-12-01\" \"1979-01-01\" \"1979-02-01\" \"1979-03-01\"\n",
       "[376] \"1979-04-01\" \"1979-05-01\" \"1979-06-01\" \"1979-07-01\" \"1979-08-01\"\n",
       "[381] \"1979-09-01\" \"1979-10-01\" \"1979-11-01\" \"1979-12-01\" \"1980-01-01\"\n",
       "[386] \"1980-02-01\" \"1980-03-01\" \"1980-04-01\" \"1980-05-01\" \"1980-06-01\"\n",
       "[391] \"1980-07-01\" \"1980-08-01\" \"1980-09-01\" \"1980-10-01\" \"1980-11-01\"\n",
       "[396] \"1980-12-01\" \"1981-01-01\" \"1981-02-01\" \"1981-03-01\" \"1981-04-01\"\n",
       "[401] \"1981-05-01\" \"1981-06-01\" \"1981-07-01\" \"1981-08-01\" \"1981-09-01\"\n",
       "[406] \"1981-10-01\" \"1981-11-01\" \"1981-12-01\" \"1982-01-01\" \"1982-02-01\"\n",
       "[411] \"1982-03-01\" \"1982-04-01\" \"1982-05-01\" \"1982-06-01\" \"1982-07-01\"\n",
       "[416] \"1982-08-01\" \"1982-09-01\" \"1982-10-01\" \"1982-11-01\" \"1982-12-01\"\n",
       "[421] \"1983-01-01\" \"1983-02-01\" \"1983-03-01\" \"1983-04-01\" \"1983-05-01\"\n",
       "[426] \"1983-06-01\" \"1983-07-01\" \"1983-08-01\" \"1983-09-01\" \"1983-10-01\"\n",
       "[431] \"1983-11-01\" \"1983-12-01\" \"1984-01-01\" \"1984-02-01\" \"1984-03-01\"\n",
       "[436] \"1984-04-01\" \"1984-05-01\" \"1984-06-01\" \"1984-07-01\" \"1984-08-01\"\n",
       "[441] \"1984-09-01\" \"1984-10-01\" \"1984-11-01\" \"1984-12-01\" \"1985-01-01\"\n",
       "[446] \"1985-02-01\" \"1985-03-01\" \"1985-04-01\" \"1985-05-01\" \"1985-06-01\"\n",
       "[451] \"1985-07-01\" \"1985-08-01\" \"1985-09-01\" \"1985-10-01\" \"1985-11-01\"\n",
       "[456] \"1985-12-01\" \"1986-01-01\" \"1986-02-01\" \"1986-03-01\" \"1986-04-01\"\n",
       "[461] \"1986-05-01\" \"1986-06-01\" \"1986-07-01\" \"1986-08-01\" \"1986-09-01\"\n",
       "[466] \"1986-10-01\" \"1986-11-01\" \"1986-12-01\" \"1987-01-01\" \"1987-02-01\"\n",
       "[471] \"1987-03-01\" \"1987-04-01\" \"1987-05-01\" \"1987-06-01\" \"1987-07-01\"\n",
       "[476] \"1987-08-01\" \"1987-09-01\" \"1987-10-01\" \"1987-11-01\" \"1987-12-01\"\n",
       "[481] \"1988-01-01\" \"1988-02-01\" \"1988-03-01\" \"1988-04-01\" \"1988-05-01\"\n",
       "[486] \"1988-06-01\" \"1988-07-01\" \"1988-08-01\" \"1988-09-01\" \"1988-10-01\"\n",
       "[491] \"1988-11-01\" \"1988-12-01\" \"1989-01-01\" \"1989-02-01\" \"1989-03-01\"\n",
       "[496] \"1989-04-01\" \"1989-05-01\" \"1989-06-01\" \"1989-07-01\" \"1989-08-01\"\n",
       "[501] \"1989-09-01\" \"1989-10-01\" \"1989-11-01\" \"1989-12-01\" \"1990-01-01\"\n",
       "[506] \"1990-02-01\" \"1990-03-01\" \"1990-04-01\" \"1990-05-01\" \"1990-06-01\"\n",
       "[511] \"1990-07-01\" \"1990-08-01\" \"1990-09-01\" \"1990-10-01\" \"1990-11-01\"\n",
       "[516] \"1990-12-01\" \"1991-01-01\" \"1991-02-01\" \"1991-03-01\" \"1991-04-01\"\n",
       "[521] \"1991-05-01\" \"1991-06-01\" \"1991-07-01\" \"1991-08-01\" \"1991-09-01\"\n",
       "[526] \"1991-10-01\" \"1991-11-01\" \"1991-12-01\" \"1992-01-01\" \"1992-02-01\"\n",
       "[531] \"1992-03-01\" \"1992-04-01\" \"1992-05-01\" \"1992-06-01\" \"1992-07-01\"\n",
       "[536] \"1992-08-01\" \"1992-09-01\" \"1992-10-01\" \"1992-11-01\" \"1992-12-01\"\n",
       "[541] \"1993-01-01\" \"1993-02-01\" \"1993-03-01\" \"1993-04-01\" \"1993-05-01\"\n",
       "[546] \"1993-06-01\" \"1993-07-01\" \"1993-08-01\" \"1993-09-01\" \"1993-10-01\"\n",
       "[551] \"1993-11-01\" \"1993-12-01\" \"1994-01-01\" \"1994-02-01\" \"1994-03-01\"\n",
       "[556] \"1994-04-01\" \"1994-05-01\" \"1994-06-01\" \"1994-07-01\" \"1994-08-01\"\n",
       "[561] \"1994-09-01\" \"1994-10-01\" \"1994-11-01\" \"1994-12-01\" \"1995-01-01\"\n",
       "[566] \"1995-02-01\" \"1995-03-01\" \"1995-04-01\" \"1995-05-01\" \"1995-06-01\"\n",
       "[571] \"1995-07-01\" \"1995-08-01\" \"1995-09-01\" \"1995-10-01\" \"1995-11-01\"\n",
       "[576] \"1995-12-01\" \"1996-01-01\" \"1996-02-01\" \"1996-03-01\" \"1996-04-01\"\n",
       "[581] \"1996-05-01\" \"1996-06-01\" \"1996-07-01\" \"1996-08-01\" \"1996-09-01\"\n",
       "[586] \"1996-10-01\" \"1996-11-01\" \"1996-12-01\" \"1997-01-01\" \"1997-02-01\"\n",
       "[591] \"1997-03-01\" \"1997-04-01\" \"1997-05-01\" \"1997-06-01\" \"1997-07-01\"\n",
       "[596] \"1997-08-01\" \"1997-09-01\" \"1997-10-01\" \"1997-11-01\" \"1997-12-01\"\n",
       "[601] \"1998-01-01\" \"1998-02-01\" \"1998-03-01\" \"1998-04-01\" \"1998-05-01\"\n",
       "[606] \"1998-06-01\" \"1998-07-01\" \"1998-08-01\" \"1998-09-01\" \"1998-10-01\"\n",
       "[611] \"1998-11-01\" \"1998-12-01\" \"1999-01-01\" \"1999-02-01\" \"1999-03-01\"\n",
       "[616] \"1999-04-01\" \"1999-05-01\" \"1999-06-01\" \"1999-07-01\" \"1999-08-01\"\n",
       "[621] \"1999-09-01\" \"1999-10-01\" \"1999-11-01\" \"1999-12-01\" \"2000-01-01\"\n",
       "[626] \"2000-02-01\" \"2000-03-01\" \"2000-04-01\" \"2000-05-01\" \"2000-06-01\"\n",
       "[631] \"2000-07-01\" \"2000-08-01\" \"2000-09-01\" \"2000-10-01\" \"2000-11-01\"\n",
       "[636] \"2000-12-01\" \"2001-01-01\" \"2001-02-01\" \"2001-03-01\" \"2001-04-01\"\n",
       "[641] \"2001-05-01\" \"2001-06-01\" \"2001-07-01\" \"2001-08-01\" \"2001-09-01\"\n",
       "[646] \"2001-10-01\" \"2001-11-01\" \"2001-12-01\" \"2002-01-01\" \"2002-02-01\"\n",
       "[651] \"2002-03-01\" \"2002-04-01\" \"2002-05-01\" \"2002-06-01\" \"2002-07-01\"\n",
       "[656] \"2002-08-01\" \"2002-09-01\" \"2002-10-01\" \"2002-11-01\" \"2002-12-01\"\n",
       "[661] \"2003-01-01\" \"2003-02-01\" \"2003-03-01\" \"2003-04-01\" \"2003-05-01\"\n",
       "[666] \"2003-06-01\" \"2003-07-01\" \"2003-08-01\" \"2003-09-01\" \"2003-10-01\"\n",
       "[671] \"2003-11-01\" \"2003-12-01\" \"2004-01-01\" \"2004-02-01\" \"2004-03-01\"\n",
       "[676] \"2004-04-01\" \"2004-05-01\" \"2004-06-01\" \"2004-07-01\" \"2004-08-01\"\n",
       "[681] \"2004-09-01\" \"2004-10-01\" \"2004-11-01\" \"2004-12-01\" \"2005-01-01\"\n",
       "[686] \"2005-02-01\" \"2005-03-01\" \"2005-04-01\" \"2005-05-01\" \"2005-06-01\"\n",
       "[691] \"2005-07-01\" \"2005-08-01\" \"2005-09-01\" \"2005-10-01\" \"2005-11-01\"\n",
       "[696] \"2005-12-01\" \"2006-01-01\" \"2006-02-01\" \"2006-03-01\" \"2006-04-01\"\n",
       "[701] \"2006-05-01\" \"2006-06-01\" \"2006-07-01\" \"2006-08-01\" \"2006-09-01\"\n",
       "[706] \"2006-10-01\" \"2006-11-01\" \"2006-12-01\" \"2007-01-01\" \"2007-02-01\"\n",
       "[711] \"2007-03-01\" \"2007-04-01\" \"2007-05-01\" \"2007-06-01\" \"2007-07-01\"\n",
       "[716] \"2007-08-01\" \"2007-09-01\" \"2007-10-01\" \"2007-11-01\" \"2007-12-01\"\n",
       "[721] \"2008-01-01\" \"2008-02-01\" \"2008-03-01\" \"2008-04-01\" \"2008-05-01\"\n",
       "[726] \"2008-06-01\" \"2008-07-01\" \"2008-08-01\" \"2008-09-01\" \"2008-10-01\"\n",
       "[731] \"2008-11-01\" \"2008-12-01\" \"2009-01-01\" \"2009-02-01\" \"2009-03-01\"\n",
       "[736] \"2009-04-01\" \"2009-05-01\" \"2009-06-01\" \"2009-07-01\" \"2009-08-01\"\n",
       "[741] \"2009-09-01\" \"2009-10-01\" \"2009-11-01\" \"2009-12-01\" \"2010-01-01\"\n",
       "[746] \"2010-02-01\" \"2010-03-01\" \"2010-04-01\" \"2010-05-01\" \"2010-06-01\"\n",
       "[751] \"2010-07-01\" \"2010-08-01\" \"2010-09-01\" \"2010-10-01\" \"2010-11-01\"\n",
       "[756] \"2010-12-01\" \"2011-01-01\" \"2011-02-01\" \"2011-03-01\" \"2011-04-01\"\n",
       "[761] \"2011-05-01\" \"2011-06-01\" \"2011-07-01\" \"2011-08-01\" \"2011-09-01\"\n",
       "[766] \"2011-10-01\" \"2011-11-01\" \"2011-12-01\" \"2012-01-01\""
      ]
     },
     "metadata": {},
     "output_type": "display_data"
    }
   ],
   "source": [
    "Unemployment<-read.csv(\"./data/UNRATE.csv\",row.names=1)\n",
    "mydata2<-read.csv(\"./data/CPIAUCSL.csv\")\n",
    "class(Unemployment)\n",
    "#Unemployment <- read.csv(mydata,row.names=T)\n",
    "print(Unemployment)\n",
    "row.names(Unemployment)"
   ]
  },
  {
   "cell_type": "code",
   "execution_count": 114,
   "metadata": {
    "run_control": {
     "frozen": false,
     "read_only": false
    }
   },
   "outputs": [
    {
     "name": "stdout",
     "output_type": "stream",
     "text": [
      "           VALUE\n",
      "1948-01-01 10.24\n",
      "1948-02-01  9.48\n",
      "1948-03-01  6.82\n",
      "1948-04-01  8.27\n",
      "1948-05-01  9.38\n",
      "1948-06-01  9.38\n",
      "1948-07-01  9.76\n",
      "1948-08-01  9.06\n",
      "1948-09-01  6.65\n",
      "1948-10-01  6.11\n",
      "1948-11-01  4.77\n",
      "1948-12-01  2.73\n",
      "1949-01-01  1.39\n",
      "1949-02-01  1.01\n",
      "1949-03-01  1.74\n",
      "1949-04-01  0.42\n",
      "1949-05-01 -0.42\n",
      "1949-06-01 -0.95\n",
      "1949-07-01 -2.87\n",
      "1949-08-01 -2.99\n",
      "1949-09-01 -2.50\n",
      "1949-10-01 -2.63\n",
      "1949-11-01 -1.90\n",
      "1949-12-01 -1.83\n",
      "1950-01-01 -2.08\n",
      "1950-02-01 -1.25\n",
      "1950-03-01 -1.13\n",
      "1950-04-01 -1.13\n",
      "1950-05-01 -0.59\n",
      "1950-06-01 -0.17\n",
      "1950-07-01  1.56\n",
      "1950-08-01  2.11\n",
      "1950-09-01  2.48\n",
      "1950-10-01  3.51\n",
      "1950-11-01  3.80\n",
      "1950-12-01  5.80\n",
      "1951-01-01  7.95\n",
      "1951-02-01  9.40\n",
      "1951-03-01  9.48\n",
      "1951-04-01  9.60\n",
      "1951-05-01  9.34\n",
      "1951-06-01  8.58\n",
      "1951-07-01  7.64\n",
      "1951-08-01  6.86\n",
      "1951-09-01  6.94\n",
      "1951-10-01  6.78\n",
      "1951-11-01  6.99\n",
      "1951-12-01  5.96\n",
      "1952-01-01  4.22\n",
      "1952-02-01  2.25\n",
      "1952-03-01  1.97\n",
      "1952-04-01  2.08\n",
      "1952-05-01  1.85\n",
      "1952-06-01  2.31\n",
      "1952-07-01  2.97\n",
      "1952-08-01  3.21\n",
      "1952-09-01  2.31\n",
      "1952-10-01  2.03\n",
      "1952-11-01  1.41\n",
      "1952-12-01  0.91\n",
      "1953-01-01  0.72\n",
      "1953-02-01  0.68\n",
      "1953-03-01  0.91\n",
      "1953-04-01  0.87\n",
      "1953-05-01  0.87\n",
      "1953-06-01  0.90\n",
      "1953-07-01  0.41\n",
      "1953-08-01  0.60\n",
      "1953-09-01  0.98\n",
      "1953-10-01  0.97\n",
      "1953-11-01  0.60\n",
      "1953-12-01  0.60\n",
      "1954-01-01  1.13\n",
      "1954-02-01  1.50\n",
      "1954-03-01  1.13\n",
      "1954-04-01  0.64\n",
      "1954-05-01  0.86\n",
      "1954-06-01  0.64\n",
      "1954-07-01  0.26\n",
      "1954-08-01  0.00\n",
      "1954-09-01 -0.30\n",
      "1954-10-01 -0.85\n",
      "1954-11-01 -0.26\n",
      "1954-12-01 -0.37\n",
      "1955-01-01 -0.63\n",
      "1955-02-01 -0.63\n",
      "1955-03-01 -0.52\n",
      "1955-04-01 -0.26\n",
      "1955-05-01 -0.59\n",
      "1955-06-01 -0.85\n",
      "1955-07-01 -0.37\n",
      "1955-08-01 -0.48\n",
      "1955-09-01  0.15\n",
      "1955-10-01  0.37\n",
      "1955-11-01  0.37\n",
      "1955-12-01  0.37\n",
      "1956-01-01  0.22\n",
      "1956-02-01  0.15\n",
      "1956-03-01  0.37\n",
      "1956-04-01  0.52\n",
      "1956-05-01  0.97\n",
      "1956-06-01  1.65\n",
      "1956-07-01  1.98\n",
      "1956-08-01  2.21\n",
      "1956-09-01  1.86\n",
      "1956-10-01  2.57\n",
      "1956-11-01  2.34\n",
      "1956-12-01  2.83\n",
      "1957-01-01  3.13\n",
      "1957-02-01  3.50\n",
      "1957-03-01  3.61\n",
      "1957-04-01  3.71\n",
      "1957-05-01  3.59\n",
      "1957-06-01  3.54\n",
      "1957-07-01  3.30\n",
      "1957-08-01  3.55\n",
      "1957-09-01  3.55\n",
      "1957-10-01  2.94\n",
      "1957-11-01  3.27\n",
      "1957-12-01  3.04\n",
      "1958-01-01  3.51\n",
      "1958-02-01  3.24\n",
      "1958-03-01  3.63\n",
      "1958-04-01  3.62\n",
      "1958-05-01  3.36\n",
      "1958-06-01  2.85\n",
      "1958-07-01  2.48\n",
      "1958-08-01  2.33\n",
      "1958-09-01  2.08\n",
      "1958-10-01  2.08\n",
      "1958-11-01  1.90\n",
      "1958-12-01  1.76\n",
      "1959-01-01  1.29\n",
      "1959-02-01  1.05\n",
      "1959-03-01  0.35\n",
      "1959-04-01  0.14\n",
      "1959-05-01  0.35\n",
      "1959-06-01  0.69\n",
      "1959-07-01  0.90\n",
      "1959-08-01  0.83\n",
      "1959-09-01  1.18\n",
      "1959-10-01  1.52\n",
      "1959-11-01  1.38\n",
      "1959-12-01  1.52\n",
      "1960-01-01  1.24\n",
      "1960-02-01  1.41\n",
      "1960-03-01  1.52\n",
      "1960-04-01  1.93\n",
      "1960-05-01  1.83\n",
      "1960-06-01  1.72\n",
      "1960-07-01  1.37\n",
      "1960-08-01  1.47\n",
      "1960-09-01  1.23\n",
      "1960-10-01  1.36\n",
      "1960-11-01  1.47\n",
      "1960-12-01  1.36\n",
      "1961-01-01  1.60\n",
      "1961-02-01  1.46\n",
      "1961-03-01  1.46\n",
      "1961-04-01  0.91\n",
      "1961-05-01  0.91\n",
      "1961-06-01  0.78\n",
      "1961-07-01  1.25\n",
      "1961-08-01  1.11\n",
      "1961-09-01  1.25\n",
      "1961-10-01  0.77\n",
      "1961-11-01  0.67\n",
      "1961-12-01  0.67\n",
      "1962-01-01  0.67\n",
      "1962-02-01  0.90\n",
      "1962-03-01  1.11\n",
      "1962-04-01  1.34\n",
      "1962-05-01  1.34\n",
      "1962-06-01  1.24\n",
      "1962-07-01  1.00\n",
      "1962-08-01  1.14\n",
      "1962-09-01  1.47\n",
      "1962-10-01  1.33\n",
      "1962-11-01  1.33\n",
      "1962-12-01  1.23\n",
      "1963-01-01  1.33\n",
      "1963-02-01  1.23\n",
      "1963-03-01  1.13\n",
      "1963-04-01  0.89\n",
      "1963-05-01  0.89\n",
      "1963-06-01  1.32\n",
      "1963-07-01  1.56\n",
      "1963-08-01  1.55\n",
      "1963-09-01  0.99\n",
      "1963-10-01  1.22\n",
      "1963-11-01  1.32\n",
      "1963-12-01  1.65\n",
      "1964-01-01  1.64\n",
      "1964-02-01  1.41\n",
      "1964-03-01  1.41\n",
      "1964-04-01  1.54\n",
      "1964-05-01  1.54\n",
      "1964-06-01  1.31\n",
      "1964-07-01  1.08\n",
      "1964-08-01  0.98\n",
      "1964-09-01  1.17\n",
      "1964-10-01  1.20\n",
      "1964-11-01  1.40\n",
      "1964-12-01  1.20\n",
      "1965-01-01  1.10\n",
      "1965-02-01  1.20\n",
      "1965-03-01  1.20\n",
      "1965-04-01  1.39\n",
      "1965-05-01  1.61\n",
      "1965-06-01  1.93\n",
      "1965-07-01  1.81\n",
      "1965-08-01  1.61\n",
      "1965-09-01  1.74\n",
      "1965-10-01  1.70\n",
      "1965-11-01  1.73\n",
      "1965-12-01  1.92\n",
      "1966-01-01  1.92\n",
      "1966-02-01  2.56\n",
      "1966-03-01  2.78\n",
      "1966-04-01  2.87\n",
      "1966-05-01  2.76\n",
      "1966-06-01  2.44\n",
      "1966-07-01  2.75\n",
      "1966-08-01  3.49\n",
      "1966-09-01  3.57\n",
      "1966-10-01  3.79\n",
      "1966-11-01  3.56\n",
      "1966-12-01  3.36\n",
      "1967-01-01  3.20\n",
      "1967-02-01  2.87\n",
      "1967-03-01  2.55\n",
      "1967-04-01  2.54\n",
      "1967-05-01  2.32\n",
      "1967-06-01  2.84\n",
      "1967-07-01  2.93\n",
      "1967-08-01  2.60\n",
      "1967-09-01  2.60\n",
      "1967-10-01  2.59\n",
      "1967-11-01  3.10\n",
      "1967-12-01  3.28\n",
      "1968-01-01  3.65\n",
      "1968-02-01  3.64\n",
      "1968-03-01  3.94\n",
      "1968-04-01  3.93\n",
      "1968-05-01  4.23\n",
      "1968-06-01  4.20\n",
      "1968-07-01  4.49\n",
      "1968-08-01  4.48\n",
      "1968-09-01  4.46\n",
      "1968-10-01  4.75\n",
      "1968-11-01  4.42\n",
      "1968-12-01  4.71\n",
      "1969-01-01  4.69\n",
      "1969-02-01  4.68\n",
      "1969-03-01  5.25\n",
      "1969-04-01  5.52\n",
      "1969-05-01  5.51\n",
      "1969-06-01  5.48\n",
      "1969-07-01  5.44\n",
      "1969-08-01  5.43\n",
      "1969-09-01  5.70\n",
      "1969-10-01  5.67\n",
      "1969-11-01  5.93\n",
      "1969-12-01  5.90\n",
      "1970-01-01  6.16\n",
      "1970-02-01  6.42\n",
      "1970-03-01  6.09\n",
      "1970-04-01  6.06\n",
      "1970-05-01  6.04\n",
      "1970-06-01  6.01\n",
      "1970-07-01  5.71\n",
      "1970-08-01  5.69\n",
      "1970-09-01  5.66\n",
      "1970-10-01  5.63\n",
      "1970-11-01  5.60\n",
      "1970-12-01  5.57\n",
      "1971-01-01  5.28\n",
      "1971-02-01  4.72\n",
      "1971-03-01  4.44\n",
      "1971-04-01  4.16\n",
      "1971-05-01  4.40\n",
      "1971-06-01  4.38\n",
      "1971-07-01  4.37\n",
      "1971-08-01  4.36\n",
      "1971-09-01  4.08\n",
      "1971-10-01  3.81\n",
      "1971-11-01  3.54\n",
      "1971-12-01  3.27\n",
      "1972-01-01  3.26\n",
      "1972-02-01  3.76\n",
      "1972-03-01  3.50\n",
      "1972-04-01  3.49\n",
      "1972-05-01  3.23\n",
      "1972-06-01  2.96\n",
      "1972-07-01  2.96\n",
      "1972-08-01  2.95\n",
      "1972-09-01  3.19\n",
      "1972-10-01  3.18\n",
      "1972-11-01  3.41\n",
      "1972-12-01  3.41\n",
      "1973-01-01  3.64\n",
      "1973-02-01  3.86\n",
      "1973-03-01  4.83\n",
      "1973-04-01  5.30\n",
      "1973-05-01  5.53\n",
      "1973-06-01  6.00\n",
      "1973-07-01  5.74\n",
      "1973-08-01  7.40\n",
      "1973-09-01  7.36\n",
      "1973-10-01  8.06\n",
      "1973-11-01  8.25\n",
      "1973-12-01  8.94\n",
      "1974-01-01  9.60\n",
      "1974-02-01 10.00\n",
      "1974-03-01 10.14\n",
      "1974-04-01 10.07\n",
      "1974-05-01 10.71\n",
      "1974-06-01 10.86\n",
      "1974-07-01 11.54\n",
      "1974-08-01 10.89\n",
      "1974-09-01 11.95\n",
      "1974-10-01 11.84\n",
      "1974-11-01 12.20\n",
      "1974-12-01 12.10\n",
      "1975-01-01 11.75\n",
      "1975-02-01 11.21\n",
      "1975-03-01 10.46\n",
      "1975-04-01 10.19\n",
      "1975-05-01  9.26\n",
      "1975-06-01  9.18\n",
      "1975-07-01  9.53\n",
      "1975-08-01  8.62\n",
      "1975-09-01  7.91\n",
      "1975-10-01  7.65\n",
      "1975-11-01  7.38\n",
      "1975-12-01  7.13\n",
      "1976-01-01  6.69\n",
      "1976-02-01  6.27\n",
      "1976-03-01  6.06\n",
      "1976-04-01  5.85\n",
      "1976-05-01  6.21\n",
      "1976-06-01  5.98\n",
      "1976-07-01  5.56\n",
      "1976-08-01  5.72\n",
      "1976-09-01  5.49\n",
      "1976-10-01  5.46\n",
      "1976-11-01  5.06\n",
      "1976-12-01  5.04\n",
      "1977-01-01  5.20\n",
      "1977-02-01  6.08\n",
      "1977-03-01  6.43\n",
      "1977-04-01  6.95\n",
      "1977-05-01  6.74\n",
      "1977-06-01  6.70\n",
      "1977-07-01  6.67\n",
      "1977-08-01  6.63\n",
      "1977-09-01  6.42\n",
      "1977-10-01  6.39\n",
      "1977-11-01  6.71\n",
      "1977-12-01  6.68\n",
      "1978-01-01  6.81\n",
      "1978-02-01  6.24\n",
      "1978-03-01  6.38\n",
      "1978-04-01  6.50\n",
      "1978-05-01  7.14\n",
      "1978-06-01  7.44\n",
      "1978-07-01  7.73\n",
      "1978-08-01  7.86\n",
      "1978-09-01  8.48\n",
      "1978-10-01  8.93\n",
      "1978-11-01  8.87\n",
      "1978-12-01  8.99\n",
      "1979-01-01  9.25\n",
      "1979-02-01  9.84\n",
      "1979-03-01 10.25\n",
      "1979-04-01 10.49\n",
      "1979-05-01 10.70\n",
      "1979-06-01 11.08\n",
      "1979-07-01 11.45\n",
      "1979-08-01 11.84\n",
      "1979-09-01 11.88\n",
      "1979-10-01 12.07\n",
      "1979-11-01 12.59\n",
      "1979-12-01 13.25\n",
      "1980-01-01 13.87\n",
      "1980-02-01 14.16\n",
      "1980-03-01 14.59\n",
      "1980-04-01 14.59\n",
      "1980-05-01 14.43\n",
      "1980-06-01 14.27\n",
      "1980-07-01 13.15\n",
      "1980-08-01 12.89\n",
      "1980-09-01 12.77\n",
      "1980-10-01 12.63\n",
      "1980-11-01 12.63\n",
      "1980-12-01 12.35\n",
      "1981-01-01 11.79\n",
      "1981-02-01 11.39\n",
      "1981-03-01 10.61\n",
      "1981-04-01 10.14\n",
      "1981-05-01  9.79\n",
      "1981-06-01  9.70\n",
      "1981-07-01 10.77\n",
      "1981-08-01 10.82\n",
      "1981-09-01 10.97\n",
      "1981-10-01 10.27\n",
      "1981-11-01  9.58\n",
      "1981-12-01  8.91\n",
      "1982-01-01  8.26\n",
      "1982-02-01  7.61\n",
      "1982-03-01  6.88\n",
      "1982-04-01  6.62\n",
      "1982-05-01  6.91\n",
      "1982-06-01  7.18\n",
      "1982-07-01  6.56\n",
      "1982-08-01  5.97\n",
      "1982-09-01  4.94\n",
      "1982-10-01  5.03\n",
      "1982-11-01  4.48\n",
      "1982-12-01  3.83\n",
      "1983-01-01  3.71\n",
      "1983-02-01  3.48\n",
      "1983-03-01  3.59\n",
      "1983-04-01  4.00\n",
      "1983-05-01  3.44\n",
      "1983-06-01  2.47\n",
      "1983-07-01  2.36\n",
      "1983-08-01  2.46\n",
      "1983-09-01  2.76\n",
      "1983-10-01  2.75\n",
      "1983-11-01  3.16\n",
      "1983-12-01  3.79\n",
      "1984-01-01  4.29\n",
      "1984-02-01  4.69\n",
      "1984-03-01  4.89\n",
      "1984-04-01  4.55\n",
      "1984-05-01  4.33\n",
      "1984-06-01  4.33\n",
      "1984-07-01  4.31\n",
      "1984-08-01  4.30\n",
      "1984-09-01  4.28\n",
      "1984-10-01  4.27\n",
      "1984-11-01  4.15\n",
      "1984-12-01  4.04\n",
      "1985-01-01  3.53\n",
      "1985-02-01  3.61\n",
      "1985-03-01  3.79\n",
      "1985-04-01  3.58\n",
      "1985-05-01  3.57\n",
      "1985-06-01  3.66\n",
      "1985-07-01  3.46\n",
      "1985-08-01  3.35\n",
      "1985-09-01  3.25\n",
      "1985-10-01  3.24\n",
      "1985-11-01  3.51\n",
      "1985-12-01  3.79\n",
      "1986-01-01  3.97\n",
      "1986-02-01  3.20\n",
      "1986-03-01  2.15\n",
      "1986-04-01  1.59\n",
      "1986-05-01  1.68\n",
      "1986-06-01  1.77\n",
      "1986-07-01  1.67\n",
      "1986-08-01  1.58\n",
      "1986-09-01  1.76\n",
      "1986-10-01  1.57\n",
      "1986-11-01  1.28\n",
      "1986-12-01  1.19\n",
      "1987-01-01  1.36\n",
      "1987-02-01  1.91\n",
      "1987-03-01  2.84\n",
      "1987-04-01  3.68\n",
      "1987-05-01  3.67\n",
      "1987-06-01  3.75\n",
      "1987-07-01  3.93\n",
      "1987-08-01  4.29\n",
      "1987-09-01  4.27\n",
      "1987-10-01  4.36\n",
      "1987-11-01  4.53\n",
      "1987-12-01  4.33\n",
      "1988-01-01  4.13\n",
      "1988-02-01  3.94\n",
      "1988-03-01  3.83\n",
      "1988-04-01  3.99\n",
      "1988-05-01  3.98\n",
      "1988-06-01  3.96\n",
      "1988-07-01  4.13\n",
      "1988-08-01  4.11\n",
      "1988-09-01  4.18\n",
      "1988-10-01  4.26\n",
      "1988-11-01  4.25\n",
      "1988-12-01  4.41\n",
      "1989-01-01  4.48\n",
      "1989-02-01  4.65\n",
      "1989-03-01  4.89\n",
      "1989-04-01  5.03\n",
      "1989-05-01  5.28\n",
      "1989-06-01  5.17\n",
      "1989-07-01  5.06\n",
      "1989-08-01  4.62\n",
      "1989-09-01  4.44\n",
      "1989-10-01  4.59\n",
      "1989-11-01  4.66\n",
      "1989-12-01  4.64\n",
      "1990-01-01  5.20\n",
      "1990-02-01  5.26\n",
      "1990-03-01  5.24\n",
      "1990-04-01  4.71\n",
      "1990-05-01  4.37\n",
      "1990-06-01  4.67\n",
      "1990-07-01  4.82\n",
      "1990-08-01  5.70\n",
      "1990-09-01  6.17\n",
      "1990-10-01  6.38\n",
      "1990-11-01  6.20\n",
      "1990-12-01  6.25\n",
      "1991-01-01  5.65\n",
      "1991-02-01  5.31\n",
      "1991-03-01  4.82\n",
      "1991-04-01  4.81\n",
      "1991-05-01  5.03\n",
      "1991-06-01  4.70\n",
      "1991-07-01  4.37\n",
      "1991-08-01  3.80\n",
      "1991-09-01  3.40\n",
      "1991-10-01  2.85\n",
      "1991-11-01  3.07\n",
      "1991-12-01  2.98\n",
      "1992-01-01  2.67\n",
      "1992-02-01  2.82\n",
      "1992-03-01  3.19\n",
      "1992-04-01  3.18\n",
      "1992-05-01  3.02\n",
      "1992-06-01  3.01\n",
      "1992-07-01  3.16\n",
      "1992-08-01  3.07\n",
      "1992-09-01  2.99\n",
      "1992-10-01  3.28\n",
      "1992-11-01  3.12\n",
      "1992-12-01  2.97\n",
      "1993-01-01  3.25\n",
      "1993-02-01  3.25\n",
      "1993-03-01  3.02\n",
      "1993-04-01  3.16\n",
      "1993-05-01  3.22\n",
      "1993-06-01  3.00\n",
      "1993-07-01  2.85\n",
      "1993-08-01  2.84\n",
      "1993-09-01  2.76\n",
      "1993-10-01  2.75\n",
      "1993-11-01  2.74\n",
      "1993-12-01  2.81\n",
      "1994-01-01  2.45\n",
      "1994-02-01  2.52\n",
      "1994-03-01  2.65\n",
      "1994-04-01  2.36\n",
      "1994-05-01  2.29\n",
      "1994-06-01  2.49\n",
      "1994-07-01  2.70\n",
      "1994-08-01  2.90\n",
      "1994-09-01  2.97\n",
      "1994-10-01  2.61\n",
      "1994-11-01  2.60\n",
      "1994-12-01  2.60\n",
      "1995-01-01  2.87\n",
      "1995-02-01  2.86\n",
      "1995-03-01  2.79\n",
      "1995-04-01  3.13\n",
      "1995-05-01  3.12\n",
      "1995-06-01  3.04\n",
      "1995-07-01  2.83\n",
      "1995-08-01  2.62\n",
      "1995-09-01  2.55\n",
      "1995-10-01  2.74\n",
      "1995-11-01  2.60\n",
      "1995-12-01  2.53\n",
      "1996-01-01  2.79\n",
      "1996-02-01  2.72\n",
      "1996-03-01  2.84\n",
      "1996-04-01  2.83\n",
      "1996-05-01  2.83\n",
      "1996-06-01  2.82\n",
      "1996-07-01  2.88\n",
      "1996-08-01  2.81\n",
      "1996-09-01  3.00\n",
      "1996-10-01  3.06\n",
      "1996-11-01  3.25\n",
      "1996-12-01  3.38\n",
      "1997-01-01  3.04\n",
      "1997-02-01  3.03\n",
      "1997-03-01  2.77\n",
      "1997-04-01  2.43\n",
      "1997-05-01  2.24\n",
      "1997-06-01  2.23\n",
      "1997-07-01  2.17\n",
      "1997-08-01  2.29\n",
      "1997-09-01  2.22\n",
      "1997-10-01  2.09\n",
      "1997-11-01  1.89\n",
      "1997-12-01  1.70\n",
      "1998-01-01  1.63\n",
      "1998-02-01  1.44\n",
      "1998-03-01  1.38\n",
      "1998-04-01  1.44\n",
      "1998-05-01  1.69\n",
      "1998-06-01  1.62\n",
      "1998-07-01  1.75\n",
      "1998-08-01  1.62\n",
      "1998-09-01  1.43\n",
      "1998-10-01  1.49\n",
      "1998-11-01  1.48\n",
      "1998-12-01  1.61\n",
      "1999-01-01  1.67\n",
      "1999-02-01  1.67\n",
      "1999-03-01  1.73\n",
      "1999-04-01  2.28\n",
      "1999-05-01  2.09\n",
      "1999-06-01  1.97\n",
      "1999-07-01  2.14\n",
      "1999-08-01  2.26\n",
      "1999-09-01  2.63\n",
      "1999-10-01  2.56\n",
      "1999-11-01  2.62\n",
      "1999-12-01  2.68\n",
      "2000-01-01  2.79\n",
      "2000-02-01  3.22\n",
      "2000-03-01  3.76\n",
      "2000-04-01  3.01\n",
      "2000-05-01  3.13\n",
      "2000-06-01  3.73\n",
      "2000-07-01  3.60\n",
      "2000-08-01  3.35\n",
      "2000-09-01  3.46\n",
      "2000-10-01  3.45\n",
      "2000-11-01  3.44\n",
      "2000-12-01  3.44\n",
      "2001-01-01  3.72\n",
      "2001-02-01  3.53\n",
      "2001-03-01  2.98\n",
      "2001-04-01  3.22\n",
      "2001-05-01  3.56\n",
      "2001-06-01  3.19\n",
      "2001-07-01  2.72\n",
      "2001-08-01  2.72\n",
      "2001-09-01  2.59\n",
      "2001-10-01  2.13\n",
      "2001-11-01  1.89\n",
      "2001-12-01  1.60\n",
      "2002-01-01  1.20\n",
      "2002-02-01  1.14\n",
      "2002-03-01  1.36\n",
      "2002-04-01  1.64\n",
      "2002-05-01  1.24\n",
      "2002-06-01  1.07\n",
      "2002-07-01  1.47\n",
      "2002-08-01  1.75\n",
      "2002-09-01  1.52\n",
      "2002-10-01  2.03\n",
      "2002-11-01  2.25\n",
      "2002-12-01  2.48\n",
      "2003-01-01  2.76\n",
      "2003-02-01  3.15\n",
      "2003-03-01  3.03\n",
      "2003-04-01  2.18\n",
      "2003-05-01  1.89\n",
      "2003-06-01  1.95\n",
      "2003-07-01  2.06\n",
      "2003-08-01  2.22\n",
      "2003-09-01  2.38\n",
      "2003-10-01  2.04\n",
      "2003-11-01  1.93\n",
      "2003-12-01  2.04\n",
      "2004-01-01  2.03\n",
      "2004-02-01  1.69\n",
      "2004-03-01  1.74\n",
      "2004-04-01  2.29\n",
      "2004-05-01  2.90\n",
      "2004-06-01  3.17\n",
      "2004-07-01  2.94\n",
      "2004-08-01  2.55\n",
      "2004-09-01  2.54\n",
      "2004-10-01  3.19\n",
      "2004-11-01  3.62\n",
      "2004-12-01  3.34\n",
      "2005-01-01  2.84\n",
      "2005-02-01  3.05\n",
      "2005-03-01  3.21\n",
      "2005-04-01  3.36\n",
      "2005-05-01  2.87\n",
      "2005-06-01  2.54\n",
      "2005-07-01  3.07\n",
      "2005-08-01  3.65\n",
      "2005-09-01  4.74\n",
      "2005-10-01  4.35\n",
      "2005-11-01  3.34\n",
      "2005-12-01  3.34\n",
      "2006-01-01  4.02\n",
      "2006-02-01  3.64\n",
      "2006-03-01  3.42\n",
      "2006-04-01  3.61\n",
      "2006-05-01  3.98\n",
      "2006-06-01  4.18\n",
      "2006-07-01  4.10\n",
      "2006-08-01  3.93\n",
      "2006-09-01  2.01\n",
      "2006-10-01  1.41\n",
      "2006-11-01  1.97\n",
      "2006-12-01  2.52\n",
      "2007-01-01  2.08\n",
      "2007-02-01  2.42\n",
      "2007-03-01  2.80\n",
      "2007-04-01  2.59\n",
      "2007-05-01  2.71\n",
      "2007-06-01  2.69\n",
      "2007-07-01  2.32\n",
      "2007-08-01  1.90\n",
      "2007-09-01  2.83\n",
      "2007-10-01  3.61\n",
      "2007-11-01  4.37\n",
      "2007-12-01  4.11\n",
      "2008-01-01  4.31\n",
      "2008-02-01  4.11\n",
      "2008-03-01  3.97\n",
      "2008-04-01  3.92\n",
      "2008-05-01  4.09\n",
      "2008-06-01  4.94\n",
      "2008-07-01  5.53\n",
      "2008-08-01  5.34\n",
      "2008-09-01  4.95\n",
      "2008-10-01  3.72\n",
      "2008-11-01  1.06\n",
      "2008-12-01 -0.02\n",
      "2009-01-01 -0.11\n",
      "2009-02-01  0.09\n",
      "2009-03-01 -0.41\n",
      "2009-04-01 -0.59\n",
      "2009-05-01 -1.04\n",
      "2009-06-01 -1.25\n",
      "2009-07-01 -1.99\n",
      "2009-08-01 -1.49\n",
      "2009-09-01 -1.37\n",
      "2009-10-01 -0.23\n",
      "2009-11-01  1.90\n",
      "2009-12-01  2.80\n",
      "2010-01-01  2.60\n",
      "2010-02-01  2.15\n",
      "2010-03-01  2.30\n",
      "2010-04-01  2.19\n",
      "2010-05-01  1.97\n",
      "2010-06-01  1.15\n",
      "2010-07-01  1.36\n",
      "2010-08-01  1.20\n",
      "2010-09-01  1.15\n",
      "2010-10-01  1.18\n",
      "2010-11-01  1.07\n",
      "2010-12-01  1.42\n",
      "2011-01-01  1.64\n",
      "2011-02-01  2.12\n",
      "2011-03-01  2.65\n",
      "2011-04-01  3.06\n",
      "2011-05-01  3.43\n",
      "2011-06-01  3.51\n",
      "2011-07-01  3.61\n",
      "2011-08-01  3.76\n",
      "2011-09-01  3.90\n",
      "2011-10-01  3.55\n",
      "2011-11-01  3.45\n",
      "2011-12-01  3.00\n",
      "2012-01-01  2.93\n"
     ]
    },
    {
     "data": {
      "text/html": [
       "<ol class=list-inline>\n",
       "\t<li>'1948-01-01'</li>\n",
       "\t<li>'1948-02-01'</li>\n",
       "\t<li>'1948-03-01'</li>\n",
       "\t<li>'1948-04-01'</li>\n",
       "\t<li>'1948-05-01'</li>\n",
       "\t<li>'1948-06-01'</li>\n",
       "\t<li>'1948-07-01'</li>\n",
       "\t<li>'1948-08-01'</li>\n",
       "\t<li>'1948-09-01'</li>\n",
       "\t<li>'1948-10-01'</li>\n",
       "\t<li>'1948-11-01'</li>\n",
       "\t<li>'1948-12-01'</li>\n",
       "\t<li>'1949-01-01'</li>\n",
       "\t<li>'1949-02-01'</li>\n",
       "\t<li>'1949-03-01'</li>\n",
       "\t<li>'1949-04-01'</li>\n",
       "\t<li>'1949-05-01'</li>\n",
       "\t<li>'1949-06-01'</li>\n",
       "\t<li>'1949-07-01'</li>\n",
       "\t<li>'1949-08-01'</li>\n",
       "\t<li>'1949-09-01'</li>\n",
       "\t<li>'1949-10-01'</li>\n",
       "\t<li>'1949-11-01'</li>\n",
       "\t<li>'1949-12-01'</li>\n",
       "\t<li>'1950-01-01'</li>\n",
       "\t<li>'1950-02-01'</li>\n",
       "\t<li>'1950-03-01'</li>\n",
       "\t<li>'1950-04-01'</li>\n",
       "\t<li>'1950-05-01'</li>\n",
       "\t<li>'1950-06-01'</li>\n",
       "\t<li>'1950-07-01'</li>\n",
       "\t<li>'1950-08-01'</li>\n",
       "\t<li>'1950-09-01'</li>\n",
       "\t<li>'1950-10-01'</li>\n",
       "\t<li>'1950-11-01'</li>\n",
       "\t<li>'1950-12-01'</li>\n",
       "\t<li>'1951-01-01'</li>\n",
       "\t<li>'1951-02-01'</li>\n",
       "\t<li>'1951-03-01'</li>\n",
       "\t<li>'1951-04-01'</li>\n",
       "\t<li>'1951-05-01'</li>\n",
       "\t<li>'1951-06-01'</li>\n",
       "\t<li>'1951-07-01'</li>\n",
       "\t<li>'1951-08-01'</li>\n",
       "\t<li>'1951-09-01'</li>\n",
       "\t<li>'1951-10-01'</li>\n",
       "\t<li>'1951-11-01'</li>\n",
       "\t<li>'1951-12-01'</li>\n",
       "\t<li>'1952-01-01'</li>\n",
       "\t<li>'1952-02-01'</li>\n",
       "\t<li>'1952-03-01'</li>\n",
       "\t<li>'1952-04-01'</li>\n",
       "\t<li>'1952-05-01'</li>\n",
       "\t<li>'1952-06-01'</li>\n",
       "\t<li>'1952-07-01'</li>\n",
       "\t<li>'1952-08-01'</li>\n",
       "\t<li>'1952-09-01'</li>\n",
       "\t<li>'1952-10-01'</li>\n",
       "\t<li>'1952-11-01'</li>\n",
       "\t<li>'1952-12-01'</li>\n",
       "\t<li>'1953-01-01'</li>\n",
       "\t<li>'1953-02-01'</li>\n",
       "\t<li>'1953-03-01'</li>\n",
       "\t<li>'1953-04-01'</li>\n",
       "\t<li>'1953-05-01'</li>\n",
       "\t<li>'1953-06-01'</li>\n",
       "\t<li>'1953-07-01'</li>\n",
       "\t<li>'1953-08-01'</li>\n",
       "\t<li>'1953-09-01'</li>\n",
       "\t<li>'1953-10-01'</li>\n",
       "\t<li>'1953-11-01'</li>\n",
       "\t<li>'1953-12-01'</li>\n",
       "\t<li>'1954-01-01'</li>\n",
       "\t<li>'1954-02-01'</li>\n",
       "\t<li>'1954-03-01'</li>\n",
       "\t<li>'1954-04-01'</li>\n",
       "\t<li>'1954-05-01'</li>\n",
       "\t<li>'1954-06-01'</li>\n",
       "\t<li>'1954-07-01'</li>\n",
       "\t<li>'1954-08-01'</li>\n",
       "\t<li>'1954-09-01'</li>\n",
       "\t<li>'1954-10-01'</li>\n",
       "\t<li>'1954-11-01'</li>\n",
       "\t<li>'1954-12-01'</li>\n",
       "\t<li>'1955-01-01'</li>\n",
       "\t<li>'1955-02-01'</li>\n",
       "\t<li>'1955-03-01'</li>\n",
       "\t<li>'1955-04-01'</li>\n",
       "\t<li>'1955-05-01'</li>\n",
       "\t<li>'1955-06-01'</li>\n",
       "\t<li>'1955-07-01'</li>\n",
       "\t<li>'1955-08-01'</li>\n",
       "\t<li>'1955-09-01'</li>\n",
       "\t<li>'1955-10-01'</li>\n",
       "\t<li>'1955-11-01'</li>\n",
       "\t<li>'1955-12-01'</li>\n",
       "\t<li>'1956-01-01'</li>\n",
       "\t<li>'1956-02-01'</li>\n",
       "\t<li>'1956-03-01'</li>\n",
       "\t<li>'1956-04-01'</li>\n",
       "\t<li>'1956-05-01'</li>\n",
       "\t<li>'1956-06-01'</li>\n",
       "\t<li>'1956-07-01'</li>\n",
       "\t<li>'1956-08-01'</li>\n",
       "\t<li>'1956-09-01'</li>\n",
       "\t<li>'1956-10-01'</li>\n",
       "\t<li>'1956-11-01'</li>\n",
       "\t<li>'1956-12-01'</li>\n",
       "\t<li>'1957-01-01'</li>\n",
       "\t<li>'1957-02-01'</li>\n",
       "\t<li>'1957-03-01'</li>\n",
       "\t<li>'1957-04-01'</li>\n",
       "\t<li>'1957-05-01'</li>\n",
       "\t<li>'1957-06-01'</li>\n",
       "\t<li>'1957-07-01'</li>\n",
       "\t<li>'1957-08-01'</li>\n",
       "\t<li>'1957-09-01'</li>\n",
       "\t<li>'1957-10-01'</li>\n",
       "\t<li>'1957-11-01'</li>\n",
       "\t<li>'1957-12-01'</li>\n",
       "\t<li>'1958-01-01'</li>\n",
       "\t<li>'1958-02-01'</li>\n",
       "\t<li>'1958-03-01'</li>\n",
       "\t<li>'1958-04-01'</li>\n",
       "\t<li>'1958-05-01'</li>\n",
       "\t<li>'1958-06-01'</li>\n",
       "\t<li>'1958-07-01'</li>\n",
       "\t<li>'1958-08-01'</li>\n",
       "\t<li>'1958-09-01'</li>\n",
       "\t<li>'1958-10-01'</li>\n",
       "\t<li>'1958-11-01'</li>\n",
       "\t<li>'1958-12-01'</li>\n",
       "\t<li>'1959-01-01'</li>\n",
       "\t<li>'1959-02-01'</li>\n",
       "\t<li>'1959-03-01'</li>\n",
       "\t<li>'1959-04-01'</li>\n",
       "\t<li>'1959-05-01'</li>\n",
       "\t<li>'1959-06-01'</li>\n",
       "\t<li>'1959-07-01'</li>\n",
       "\t<li>'1959-08-01'</li>\n",
       "\t<li>'1959-09-01'</li>\n",
       "\t<li>'1959-10-01'</li>\n",
       "\t<li>'1959-11-01'</li>\n",
       "\t<li>'1959-12-01'</li>\n",
       "\t<li>'1960-01-01'</li>\n",
       "\t<li>'1960-02-01'</li>\n",
       "\t<li>'1960-03-01'</li>\n",
       "\t<li>'1960-04-01'</li>\n",
       "\t<li>'1960-05-01'</li>\n",
       "\t<li>'1960-06-01'</li>\n",
       "\t<li>'1960-07-01'</li>\n",
       "\t<li>'1960-08-01'</li>\n",
       "\t<li>'1960-09-01'</li>\n",
       "\t<li>'1960-10-01'</li>\n",
       "\t<li>'1960-11-01'</li>\n",
       "\t<li>'1960-12-01'</li>\n",
       "\t<li>'1961-01-01'</li>\n",
       "\t<li>'1961-02-01'</li>\n",
       "\t<li>'1961-03-01'</li>\n",
       "\t<li>'1961-04-01'</li>\n",
       "\t<li>'1961-05-01'</li>\n",
       "\t<li>'1961-06-01'</li>\n",
       "\t<li>'1961-07-01'</li>\n",
       "\t<li>'1961-08-01'</li>\n",
       "\t<li>'1961-09-01'</li>\n",
       "\t<li>'1961-10-01'</li>\n",
       "\t<li>'1961-11-01'</li>\n",
       "\t<li>'1961-12-01'</li>\n",
       "\t<li>'1962-01-01'</li>\n",
       "\t<li>'1962-02-01'</li>\n",
       "\t<li>'1962-03-01'</li>\n",
       "\t<li>'1962-04-01'</li>\n",
       "\t<li>'1962-05-01'</li>\n",
       "\t<li>'1962-06-01'</li>\n",
       "\t<li>'1962-07-01'</li>\n",
       "\t<li>'1962-08-01'</li>\n",
       "\t<li>'1962-09-01'</li>\n",
       "\t<li>'1962-10-01'</li>\n",
       "\t<li>'1962-11-01'</li>\n",
       "\t<li>'1962-12-01'</li>\n",
       "\t<li>'1963-01-01'</li>\n",
       "\t<li>'1963-02-01'</li>\n",
       "\t<li>'1963-03-01'</li>\n",
       "\t<li>'1963-04-01'</li>\n",
       "\t<li>'1963-05-01'</li>\n",
       "\t<li>'1963-06-01'</li>\n",
       "\t<li>'1963-07-01'</li>\n",
       "\t<li>'1963-08-01'</li>\n",
       "\t<li>'1963-09-01'</li>\n",
       "\t<li>'1963-10-01'</li>\n",
       "\t<li>'1963-11-01'</li>\n",
       "\t<li>'1963-12-01'</li>\n",
       "\t<li>'1964-01-01'</li>\n",
       "\t<li>'1964-02-01'</li>\n",
       "\t<li>'1964-03-01'</li>\n",
       "\t<li>'1964-04-01'</li>\n",
       "\t<li>'1964-05-01'</li>\n",
       "\t<li>'1964-06-01'</li>\n",
       "\t<li>'1964-07-01'</li>\n",
       "\t<li>'1964-08-01'</li>\n",
       "\t<li>'1964-09-01'</li>\n",
       "\t<li>'1964-10-01'</li>\n",
       "\t<li>'1964-11-01'</li>\n",
       "\t<li>'1964-12-01'</li>\n",
       "\t<li>'1965-01-01'</li>\n",
       "\t<li>'1965-02-01'</li>\n",
       "\t<li>'1965-03-01'</li>\n",
       "\t<li>'1965-04-01'</li>\n",
       "\t<li>'1965-05-01'</li>\n",
       "\t<li>'1965-06-01'</li>\n",
       "\t<li>'1965-07-01'</li>\n",
       "\t<li>'1965-08-01'</li>\n",
       "\t<li>'1965-09-01'</li>\n",
       "\t<li>'1965-10-01'</li>\n",
       "\t<li>'1965-11-01'</li>\n",
       "\t<li>'1965-12-01'</li>\n",
       "\t<li>'1966-01-01'</li>\n",
       "\t<li>'1966-02-01'</li>\n",
       "\t<li>'1966-03-01'</li>\n",
       "\t<li>'1966-04-01'</li>\n",
       "\t<li>'1966-05-01'</li>\n",
       "\t<li>'1966-06-01'</li>\n",
       "\t<li>'1966-07-01'</li>\n",
       "\t<li>'1966-08-01'</li>\n",
       "\t<li>'1966-09-01'</li>\n",
       "\t<li>'1966-10-01'</li>\n",
       "\t<li>'1966-11-01'</li>\n",
       "\t<li>'1966-12-01'</li>\n",
       "\t<li>'1967-01-01'</li>\n",
       "\t<li>'1967-02-01'</li>\n",
       "\t<li>'1967-03-01'</li>\n",
       "\t<li>'1967-04-01'</li>\n",
       "\t<li>'1967-05-01'</li>\n",
       "\t<li>'1967-06-01'</li>\n",
       "\t<li>'1967-07-01'</li>\n",
       "\t<li>'1967-08-01'</li>\n",
       "\t<li>'1967-09-01'</li>\n",
       "\t<li>'1967-10-01'</li>\n",
       "\t<li>'1967-11-01'</li>\n",
       "\t<li>'1967-12-01'</li>\n",
       "\t<li>'1968-01-01'</li>\n",
       "\t<li>'1968-02-01'</li>\n",
       "\t<li>'1968-03-01'</li>\n",
       "\t<li>'1968-04-01'</li>\n",
       "\t<li>'1968-05-01'</li>\n",
       "\t<li>'1968-06-01'</li>\n",
       "\t<li>'1968-07-01'</li>\n",
       "\t<li>'1968-08-01'</li>\n",
       "\t<li>'1968-09-01'</li>\n",
       "\t<li>'1968-10-01'</li>\n",
       "\t<li>'1968-11-01'</li>\n",
       "\t<li>'1968-12-01'</li>\n",
       "\t<li>'1969-01-01'</li>\n",
       "\t<li>'1969-02-01'</li>\n",
       "\t<li>'1969-03-01'</li>\n",
       "\t<li>'1969-04-01'</li>\n",
       "\t<li>'1969-05-01'</li>\n",
       "\t<li>'1969-06-01'</li>\n",
       "\t<li>'1969-07-01'</li>\n",
       "\t<li>'1969-08-01'</li>\n",
       "\t<li>'1969-09-01'</li>\n",
       "\t<li>'1969-10-01'</li>\n",
       "\t<li>'1969-11-01'</li>\n",
       "\t<li>'1969-12-01'</li>\n",
       "\t<li>'1970-01-01'</li>\n",
       "\t<li>'1970-02-01'</li>\n",
       "\t<li>'1970-03-01'</li>\n",
       "\t<li>'1970-04-01'</li>\n",
       "\t<li>'1970-05-01'</li>\n",
       "\t<li>'1970-06-01'</li>\n",
       "\t<li>'1970-07-01'</li>\n",
       "\t<li>'1970-08-01'</li>\n",
       "\t<li>'1970-09-01'</li>\n",
       "\t<li>'1970-10-01'</li>\n",
       "\t<li>'1970-11-01'</li>\n",
       "\t<li>'1970-12-01'</li>\n",
       "\t<li>'1971-01-01'</li>\n",
       "\t<li>'1971-02-01'</li>\n",
       "\t<li>'1971-03-01'</li>\n",
       "\t<li>'1971-04-01'</li>\n",
       "\t<li>'1971-05-01'</li>\n",
       "\t<li>'1971-06-01'</li>\n",
       "\t<li>'1971-07-01'</li>\n",
       "\t<li>'1971-08-01'</li>\n",
       "\t<li>'1971-09-01'</li>\n",
       "\t<li>'1971-10-01'</li>\n",
       "\t<li>'1971-11-01'</li>\n",
       "\t<li>'1971-12-01'</li>\n",
       "\t<li>'1972-01-01'</li>\n",
       "\t<li>'1972-02-01'</li>\n",
       "\t<li>'1972-03-01'</li>\n",
       "\t<li>'1972-04-01'</li>\n",
       "\t<li>'1972-05-01'</li>\n",
       "\t<li>'1972-06-01'</li>\n",
       "\t<li>'1972-07-01'</li>\n",
       "\t<li>'1972-08-01'</li>\n",
       "\t<li>'1972-09-01'</li>\n",
       "\t<li>'1972-10-01'</li>\n",
       "\t<li>'1972-11-01'</li>\n",
       "\t<li>'1972-12-01'</li>\n",
       "\t<li>'1973-01-01'</li>\n",
       "\t<li>'1973-02-01'</li>\n",
       "\t<li>'1973-03-01'</li>\n",
       "\t<li>'1973-04-01'</li>\n",
       "\t<li>'1973-05-01'</li>\n",
       "\t<li>'1973-06-01'</li>\n",
       "\t<li>'1973-07-01'</li>\n",
       "\t<li>'1973-08-01'</li>\n",
       "\t<li>'1973-09-01'</li>\n",
       "\t<li>'1973-10-01'</li>\n",
       "\t<li>'1973-11-01'</li>\n",
       "\t<li>'1973-12-01'</li>\n",
       "\t<li>'1974-01-01'</li>\n",
       "\t<li>'1974-02-01'</li>\n",
       "\t<li>'1974-03-01'</li>\n",
       "\t<li>'1974-04-01'</li>\n",
       "\t<li>'1974-05-01'</li>\n",
       "\t<li>'1974-06-01'</li>\n",
       "\t<li>'1974-07-01'</li>\n",
       "\t<li>'1974-08-01'</li>\n",
       "\t<li>'1974-09-01'</li>\n",
       "\t<li>'1974-10-01'</li>\n",
       "\t<li>'1974-11-01'</li>\n",
       "\t<li>'1974-12-01'</li>\n",
       "\t<li>'1975-01-01'</li>\n",
       "\t<li>'1975-02-01'</li>\n",
       "\t<li>'1975-03-01'</li>\n",
       "\t<li>'1975-04-01'</li>\n",
       "\t<li>'1975-05-01'</li>\n",
       "\t<li>'1975-06-01'</li>\n",
       "\t<li>'1975-07-01'</li>\n",
       "\t<li>'1975-08-01'</li>\n",
       "\t<li>'1975-09-01'</li>\n",
       "\t<li>'1975-10-01'</li>\n",
       "\t<li>'1975-11-01'</li>\n",
       "\t<li>'1975-12-01'</li>\n",
       "\t<li>'1976-01-01'</li>\n",
       "\t<li>'1976-02-01'</li>\n",
       "\t<li>'1976-03-01'</li>\n",
       "\t<li>'1976-04-01'</li>\n",
       "\t<li>'1976-05-01'</li>\n",
       "\t<li>'1976-06-01'</li>\n",
       "\t<li>'1976-07-01'</li>\n",
       "\t<li>'1976-08-01'</li>\n",
       "\t<li>'1976-09-01'</li>\n",
       "\t<li>'1976-10-01'</li>\n",
       "\t<li>'1976-11-01'</li>\n",
       "\t<li>'1976-12-01'</li>\n",
       "\t<li>'1977-01-01'</li>\n",
       "\t<li>'1977-02-01'</li>\n",
       "\t<li>'1977-03-01'</li>\n",
       "\t<li>'1977-04-01'</li>\n",
       "\t<li>'1977-05-01'</li>\n",
       "\t<li>'1977-06-01'</li>\n",
       "\t<li>'1977-07-01'</li>\n",
       "\t<li>'1977-08-01'</li>\n",
       "\t<li>'1977-09-01'</li>\n",
       "\t<li>'1977-10-01'</li>\n",
       "\t<li>'1977-11-01'</li>\n",
       "\t<li>'1977-12-01'</li>\n",
       "\t<li>'1978-01-01'</li>\n",
       "\t<li>'1978-02-01'</li>\n",
       "\t<li>'1978-03-01'</li>\n",
       "\t<li>'1978-04-01'</li>\n",
       "\t<li>'1978-05-01'</li>\n",
       "\t<li>'1978-06-01'</li>\n",
       "\t<li>'1978-07-01'</li>\n",
       "\t<li>'1978-08-01'</li>\n",
       "\t<li>'1978-09-01'</li>\n",
       "\t<li>'1978-10-01'</li>\n",
       "\t<li>'1978-11-01'</li>\n",
       "\t<li>'1978-12-01'</li>\n",
       "\t<li>'1979-01-01'</li>\n",
       "\t<li>'1979-02-01'</li>\n",
       "\t<li>'1979-03-01'</li>\n",
       "\t<li>'1979-04-01'</li>\n",
       "\t<li>'1979-05-01'</li>\n",
       "\t<li>'1979-06-01'</li>\n",
       "\t<li>'1979-07-01'</li>\n",
       "\t<li>'1979-08-01'</li>\n",
       "\t<li>'1979-09-01'</li>\n",
       "\t<li>'1979-10-01'</li>\n",
       "\t<li>'1979-11-01'</li>\n",
       "\t<li>'1979-12-01'</li>\n",
       "\t<li>'1980-01-01'</li>\n",
       "\t<li>'1980-02-01'</li>\n",
       "\t<li>'1980-03-01'</li>\n",
       "\t<li>'1980-04-01'</li>\n",
       "\t<li>'1980-05-01'</li>\n",
       "\t<li>'1980-06-01'</li>\n",
       "\t<li>'1980-07-01'</li>\n",
       "\t<li>'1980-08-01'</li>\n",
       "\t<li>'1980-09-01'</li>\n",
       "\t<li>'1980-10-01'</li>\n",
       "\t<li>'1980-11-01'</li>\n",
       "\t<li>'1980-12-01'</li>\n",
       "\t<li>'1981-01-01'</li>\n",
       "\t<li>'1981-02-01'</li>\n",
       "\t<li>'1981-03-01'</li>\n",
       "\t<li>'1981-04-01'</li>\n",
       "\t<li>'1981-05-01'</li>\n",
       "\t<li>'1981-06-01'</li>\n",
       "\t<li>'1981-07-01'</li>\n",
       "\t<li>'1981-08-01'</li>\n",
       "\t<li>'1981-09-01'</li>\n",
       "\t<li>'1981-10-01'</li>\n",
       "\t<li>'1981-11-01'</li>\n",
       "\t<li>'1981-12-01'</li>\n",
       "\t<li>'1982-01-01'</li>\n",
       "\t<li>'1982-02-01'</li>\n",
       "\t<li>'1982-03-01'</li>\n",
       "\t<li>'1982-04-01'</li>\n",
       "\t<li>'1982-05-01'</li>\n",
       "\t<li>'1982-06-01'</li>\n",
       "\t<li>'1982-07-01'</li>\n",
       "\t<li>'1982-08-01'</li>\n",
       "\t<li>'1982-09-01'</li>\n",
       "\t<li>'1982-10-01'</li>\n",
       "\t<li>'1982-11-01'</li>\n",
       "\t<li>'1982-12-01'</li>\n",
       "\t<li>'1983-01-01'</li>\n",
       "\t<li>'1983-02-01'</li>\n",
       "\t<li>'1983-03-01'</li>\n",
       "\t<li>'1983-04-01'</li>\n",
       "\t<li>'1983-05-01'</li>\n",
       "\t<li>'1983-06-01'</li>\n",
       "\t<li>'1983-07-01'</li>\n",
       "\t<li>'1983-08-01'</li>\n",
       "\t<li>'1983-09-01'</li>\n",
       "\t<li>'1983-10-01'</li>\n",
       "\t<li>'1983-11-01'</li>\n",
       "\t<li>'1983-12-01'</li>\n",
       "\t<li>'1984-01-01'</li>\n",
       "\t<li>'1984-02-01'</li>\n",
       "\t<li>'1984-03-01'</li>\n",
       "\t<li>'1984-04-01'</li>\n",
       "\t<li>'1984-05-01'</li>\n",
       "\t<li>'1984-06-01'</li>\n",
       "\t<li>'1984-07-01'</li>\n",
       "\t<li>'1984-08-01'</li>\n",
       "\t<li>'1984-09-01'</li>\n",
       "\t<li>'1984-10-01'</li>\n",
       "\t<li>'1984-11-01'</li>\n",
       "\t<li>'1984-12-01'</li>\n",
       "\t<li>'1985-01-01'</li>\n",
       "\t<li>'1985-02-01'</li>\n",
       "\t<li>'1985-03-01'</li>\n",
       "\t<li>'1985-04-01'</li>\n",
       "\t<li>'1985-05-01'</li>\n",
       "\t<li>'1985-06-01'</li>\n",
       "\t<li>'1985-07-01'</li>\n",
       "\t<li>'1985-08-01'</li>\n",
       "\t<li>'1985-09-01'</li>\n",
       "\t<li>'1985-10-01'</li>\n",
       "\t<li>'1985-11-01'</li>\n",
       "\t<li>'1985-12-01'</li>\n",
       "\t<li>'1986-01-01'</li>\n",
       "\t<li>'1986-02-01'</li>\n",
       "\t<li>'1986-03-01'</li>\n",
       "\t<li>'1986-04-01'</li>\n",
       "\t<li>'1986-05-01'</li>\n",
       "\t<li>'1986-06-01'</li>\n",
       "\t<li>'1986-07-01'</li>\n",
       "\t<li>'1986-08-01'</li>\n",
       "\t<li>'1986-09-01'</li>\n",
       "\t<li>'1986-10-01'</li>\n",
       "\t<li>'1986-11-01'</li>\n",
       "\t<li>'1986-12-01'</li>\n",
       "\t<li>'1987-01-01'</li>\n",
       "\t<li>'1987-02-01'</li>\n",
       "\t<li>'1987-03-01'</li>\n",
       "\t<li>'1987-04-01'</li>\n",
       "\t<li>'1987-05-01'</li>\n",
       "\t<li>'1987-06-01'</li>\n",
       "\t<li>'1987-07-01'</li>\n",
       "\t<li>'1987-08-01'</li>\n",
       "\t<li>'1987-09-01'</li>\n",
       "\t<li>'1987-10-01'</li>\n",
       "\t<li>'1987-11-01'</li>\n",
       "\t<li>'1987-12-01'</li>\n",
       "\t<li>'1988-01-01'</li>\n",
       "\t<li>'1988-02-01'</li>\n",
       "\t<li>'1988-03-01'</li>\n",
       "\t<li>'1988-04-01'</li>\n",
       "\t<li>'1988-05-01'</li>\n",
       "\t<li>'1988-06-01'</li>\n",
       "\t<li>'1988-07-01'</li>\n",
       "\t<li>'1988-08-01'</li>\n",
       "\t<li>'1988-09-01'</li>\n",
       "\t<li>'1988-10-01'</li>\n",
       "\t<li>'1988-11-01'</li>\n",
       "\t<li>'1988-12-01'</li>\n",
       "\t<li>'1989-01-01'</li>\n",
       "\t<li>'1989-02-01'</li>\n",
       "\t<li>'1989-03-01'</li>\n",
       "\t<li>'1989-04-01'</li>\n",
       "\t<li>'1989-05-01'</li>\n",
       "\t<li>'1989-06-01'</li>\n",
       "\t<li>'1989-07-01'</li>\n",
       "\t<li>'1989-08-01'</li>\n",
       "\t<li>'1989-09-01'</li>\n",
       "\t<li>'1989-10-01'</li>\n",
       "\t<li>'1989-11-01'</li>\n",
       "\t<li>'1989-12-01'</li>\n",
       "\t<li>'1990-01-01'</li>\n",
       "\t<li>'1990-02-01'</li>\n",
       "\t<li>'1990-03-01'</li>\n",
       "\t<li>'1990-04-01'</li>\n",
       "\t<li>'1990-05-01'</li>\n",
       "\t<li>'1990-06-01'</li>\n",
       "\t<li>'1990-07-01'</li>\n",
       "\t<li>'1990-08-01'</li>\n",
       "\t<li>'1990-09-01'</li>\n",
       "\t<li>'1990-10-01'</li>\n",
       "\t<li>'1990-11-01'</li>\n",
       "\t<li>'1990-12-01'</li>\n",
       "\t<li>'1991-01-01'</li>\n",
       "\t<li>'1991-02-01'</li>\n",
       "\t<li>'1991-03-01'</li>\n",
       "\t<li>'1991-04-01'</li>\n",
       "\t<li>'1991-05-01'</li>\n",
       "\t<li>'1991-06-01'</li>\n",
       "\t<li>'1991-07-01'</li>\n",
       "\t<li>'1991-08-01'</li>\n",
       "\t<li>'1991-09-01'</li>\n",
       "\t<li>'1991-10-01'</li>\n",
       "\t<li>'1991-11-01'</li>\n",
       "\t<li>'1991-12-01'</li>\n",
       "\t<li>'1992-01-01'</li>\n",
       "\t<li>'1992-02-01'</li>\n",
       "\t<li>'1992-03-01'</li>\n",
       "\t<li>'1992-04-01'</li>\n",
       "\t<li>'1992-05-01'</li>\n",
       "\t<li>'1992-06-01'</li>\n",
       "\t<li>'1992-07-01'</li>\n",
       "\t<li>'1992-08-01'</li>\n",
       "\t<li>'1992-09-01'</li>\n",
       "\t<li>'1992-10-01'</li>\n",
       "\t<li>'1992-11-01'</li>\n",
       "\t<li>'1992-12-01'</li>\n",
       "\t<li>'1993-01-01'</li>\n",
       "\t<li>'1993-02-01'</li>\n",
       "\t<li>'1993-03-01'</li>\n",
       "\t<li>'1993-04-01'</li>\n",
       "\t<li>'1993-05-01'</li>\n",
       "\t<li>'1993-06-01'</li>\n",
       "\t<li>'1993-07-01'</li>\n",
       "\t<li>'1993-08-01'</li>\n",
       "\t<li>'1993-09-01'</li>\n",
       "\t<li>'1993-10-01'</li>\n",
       "\t<li>'1993-11-01'</li>\n",
       "\t<li>'1993-12-01'</li>\n",
       "\t<li>'1994-01-01'</li>\n",
       "\t<li>'1994-02-01'</li>\n",
       "\t<li>'1994-03-01'</li>\n",
       "\t<li>'1994-04-01'</li>\n",
       "\t<li>'1994-05-01'</li>\n",
       "\t<li>'1994-06-01'</li>\n",
       "\t<li>'1994-07-01'</li>\n",
       "\t<li>'1994-08-01'</li>\n",
       "\t<li>'1994-09-01'</li>\n",
       "\t<li>'1994-10-01'</li>\n",
       "\t<li>'1994-11-01'</li>\n",
       "\t<li>'1994-12-01'</li>\n",
       "\t<li>'1995-01-01'</li>\n",
       "\t<li>'1995-02-01'</li>\n",
       "\t<li>'1995-03-01'</li>\n",
       "\t<li>'1995-04-01'</li>\n",
       "\t<li>'1995-05-01'</li>\n",
       "\t<li>'1995-06-01'</li>\n",
       "\t<li>'1995-07-01'</li>\n",
       "\t<li>'1995-08-01'</li>\n",
       "\t<li>'1995-09-01'</li>\n",
       "\t<li>'1995-10-01'</li>\n",
       "\t<li>'1995-11-01'</li>\n",
       "\t<li>'1995-12-01'</li>\n",
       "\t<li>'1996-01-01'</li>\n",
       "\t<li>'1996-02-01'</li>\n",
       "\t<li>'1996-03-01'</li>\n",
       "\t<li>'1996-04-01'</li>\n",
       "\t<li>'1996-05-01'</li>\n",
       "\t<li>'1996-06-01'</li>\n",
       "\t<li>'1996-07-01'</li>\n",
       "\t<li>'1996-08-01'</li>\n",
       "\t<li>'1996-09-01'</li>\n",
       "\t<li>'1996-10-01'</li>\n",
       "\t<li>'1996-11-01'</li>\n",
       "\t<li>'1996-12-01'</li>\n",
       "\t<li>'1997-01-01'</li>\n",
       "\t<li>'1997-02-01'</li>\n",
       "\t<li>'1997-03-01'</li>\n",
       "\t<li>'1997-04-01'</li>\n",
       "\t<li>'1997-05-01'</li>\n",
       "\t<li>'1997-06-01'</li>\n",
       "\t<li>'1997-07-01'</li>\n",
       "\t<li>'1997-08-01'</li>\n",
       "\t<li>'1997-09-01'</li>\n",
       "\t<li>'1997-10-01'</li>\n",
       "\t<li>'1997-11-01'</li>\n",
       "\t<li>'1997-12-01'</li>\n",
       "\t<li>'1998-01-01'</li>\n",
       "\t<li>'1998-02-01'</li>\n",
       "\t<li>'1998-03-01'</li>\n",
       "\t<li>'1998-04-01'</li>\n",
       "\t<li>'1998-05-01'</li>\n",
       "\t<li>'1998-06-01'</li>\n",
       "\t<li>'1998-07-01'</li>\n",
       "\t<li>'1998-08-01'</li>\n",
       "\t<li>'1998-09-01'</li>\n",
       "\t<li>'1998-10-01'</li>\n",
       "\t<li>'1998-11-01'</li>\n",
       "\t<li>'1998-12-01'</li>\n",
       "\t<li>'1999-01-01'</li>\n",
       "\t<li>'1999-02-01'</li>\n",
       "\t<li>'1999-03-01'</li>\n",
       "\t<li>'1999-04-01'</li>\n",
       "\t<li>'1999-05-01'</li>\n",
       "\t<li>'1999-06-01'</li>\n",
       "\t<li>'1999-07-01'</li>\n",
       "\t<li>'1999-08-01'</li>\n",
       "\t<li>'1999-09-01'</li>\n",
       "\t<li>'1999-10-01'</li>\n",
       "\t<li>'1999-11-01'</li>\n",
       "\t<li>'1999-12-01'</li>\n",
       "\t<li>'2000-01-01'</li>\n",
       "\t<li>'2000-02-01'</li>\n",
       "\t<li>'2000-03-01'</li>\n",
       "\t<li>'2000-04-01'</li>\n",
       "\t<li>'2000-05-01'</li>\n",
       "\t<li>'2000-06-01'</li>\n",
       "\t<li>'2000-07-01'</li>\n",
       "\t<li>'2000-08-01'</li>\n",
       "\t<li>'2000-09-01'</li>\n",
       "\t<li>'2000-10-01'</li>\n",
       "\t<li>'2000-11-01'</li>\n",
       "\t<li>'2000-12-01'</li>\n",
       "\t<li>'2001-01-01'</li>\n",
       "\t<li>'2001-02-01'</li>\n",
       "\t<li>'2001-03-01'</li>\n",
       "\t<li>'2001-04-01'</li>\n",
       "\t<li>'2001-05-01'</li>\n",
       "\t<li>'2001-06-01'</li>\n",
       "\t<li>'2001-07-01'</li>\n",
       "\t<li>'2001-08-01'</li>\n",
       "\t<li>'2001-09-01'</li>\n",
       "\t<li>'2001-10-01'</li>\n",
       "\t<li>'2001-11-01'</li>\n",
       "\t<li>'2001-12-01'</li>\n",
       "\t<li>'2002-01-01'</li>\n",
       "\t<li>'2002-02-01'</li>\n",
       "\t<li>'2002-03-01'</li>\n",
       "\t<li>'2002-04-01'</li>\n",
       "\t<li>'2002-05-01'</li>\n",
       "\t<li>'2002-06-01'</li>\n",
       "\t<li>'2002-07-01'</li>\n",
       "\t<li>'2002-08-01'</li>\n",
       "\t<li>'2002-09-01'</li>\n",
       "\t<li>'2002-10-01'</li>\n",
       "\t<li>'2002-11-01'</li>\n",
       "\t<li>'2002-12-01'</li>\n",
       "\t<li>'2003-01-01'</li>\n",
       "\t<li>'2003-02-01'</li>\n",
       "\t<li>'2003-03-01'</li>\n",
       "\t<li>'2003-04-01'</li>\n",
       "\t<li>'2003-05-01'</li>\n",
       "\t<li>'2003-06-01'</li>\n",
       "\t<li>'2003-07-01'</li>\n",
       "\t<li>'2003-08-01'</li>\n",
       "\t<li>'2003-09-01'</li>\n",
       "\t<li>'2003-10-01'</li>\n",
       "\t<li>'2003-11-01'</li>\n",
       "\t<li>'2003-12-01'</li>\n",
       "\t<li>'2004-01-01'</li>\n",
       "\t<li>'2004-02-01'</li>\n",
       "\t<li>'2004-03-01'</li>\n",
       "\t<li>'2004-04-01'</li>\n",
       "\t<li>'2004-05-01'</li>\n",
       "\t<li>'2004-06-01'</li>\n",
       "\t<li>'2004-07-01'</li>\n",
       "\t<li>'2004-08-01'</li>\n",
       "\t<li>'2004-09-01'</li>\n",
       "\t<li>'2004-10-01'</li>\n",
       "\t<li>'2004-11-01'</li>\n",
       "\t<li>'2004-12-01'</li>\n",
       "\t<li>'2005-01-01'</li>\n",
       "\t<li>'2005-02-01'</li>\n",
       "\t<li>'2005-03-01'</li>\n",
       "\t<li>'2005-04-01'</li>\n",
       "\t<li>'2005-05-01'</li>\n",
       "\t<li>'2005-06-01'</li>\n",
       "\t<li>'2005-07-01'</li>\n",
       "\t<li>'2005-08-01'</li>\n",
       "\t<li>'2005-09-01'</li>\n",
       "\t<li>'2005-10-01'</li>\n",
       "\t<li>'2005-11-01'</li>\n",
       "\t<li>'2005-12-01'</li>\n",
       "\t<li>'2006-01-01'</li>\n",
       "\t<li>'2006-02-01'</li>\n",
       "\t<li>'2006-03-01'</li>\n",
       "\t<li>'2006-04-01'</li>\n",
       "\t<li>'2006-05-01'</li>\n",
       "\t<li>'2006-06-01'</li>\n",
       "\t<li>'2006-07-01'</li>\n",
       "\t<li>'2006-08-01'</li>\n",
       "\t<li>'2006-09-01'</li>\n",
       "\t<li>'2006-10-01'</li>\n",
       "\t<li>'2006-11-01'</li>\n",
       "\t<li>'2006-12-01'</li>\n",
       "\t<li>'2007-01-01'</li>\n",
       "\t<li>'2007-02-01'</li>\n",
       "\t<li>'2007-03-01'</li>\n",
       "\t<li>'2007-04-01'</li>\n",
       "\t<li>'2007-05-01'</li>\n",
       "\t<li>'2007-06-01'</li>\n",
       "\t<li>'2007-07-01'</li>\n",
       "\t<li>'2007-08-01'</li>\n",
       "\t<li>'2007-09-01'</li>\n",
       "\t<li>'2007-10-01'</li>\n",
       "\t<li>'2007-11-01'</li>\n",
       "\t<li>'2007-12-01'</li>\n",
       "\t<li>'2008-01-01'</li>\n",
       "\t<li>'2008-02-01'</li>\n",
       "\t<li>'2008-03-01'</li>\n",
       "\t<li>'2008-04-01'</li>\n",
       "\t<li>'2008-05-01'</li>\n",
       "\t<li>'2008-06-01'</li>\n",
       "\t<li>'2008-07-01'</li>\n",
       "\t<li>'2008-08-01'</li>\n",
       "\t<li>'2008-09-01'</li>\n",
       "\t<li>'2008-10-01'</li>\n",
       "\t<li>'2008-11-01'</li>\n",
       "\t<li>'2008-12-01'</li>\n",
       "\t<li>'2009-01-01'</li>\n",
       "\t<li>'2009-02-01'</li>\n",
       "\t<li>'2009-03-01'</li>\n",
       "\t<li>'2009-04-01'</li>\n",
       "\t<li>'2009-05-01'</li>\n",
       "\t<li>'2009-06-01'</li>\n",
       "\t<li>'2009-07-01'</li>\n",
       "\t<li>'2009-08-01'</li>\n",
       "\t<li>'2009-09-01'</li>\n",
       "\t<li>'2009-10-01'</li>\n",
       "\t<li>'2009-11-01'</li>\n",
       "\t<li>'2009-12-01'</li>\n",
       "\t<li>'2010-01-01'</li>\n",
       "\t<li>'2010-02-01'</li>\n",
       "\t<li>'2010-03-01'</li>\n",
       "\t<li>'2010-04-01'</li>\n",
       "\t<li>'2010-05-01'</li>\n",
       "\t<li>'2010-06-01'</li>\n",
       "\t<li>'2010-07-01'</li>\n",
       "\t<li>'2010-08-01'</li>\n",
       "\t<li>'2010-09-01'</li>\n",
       "\t<li>'2010-10-01'</li>\n",
       "\t<li>'2010-11-01'</li>\n",
       "\t<li>'2010-12-01'</li>\n",
       "\t<li>'2011-01-01'</li>\n",
       "\t<li>'2011-02-01'</li>\n",
       "\t<li>'2011-03-01'</li>\n",
       "\t<li>'2011-04-01'</li>\n",
       "\t<li>'2011-05-01'</li>\n",
       "\t<li>'2011-06-01'</li>\n",
       "\t<li>'2011-07-01'</li>\n",
       "\t<li>'2011-08-01'</li>\n",
       "\t<li>'2011-09-01'</li>\n",
       "\t<li>'2011-10-01'</li>\n",
       "\t<li>'2011-11-01'</li>\n",
       "\t<li>'2011-12-01'</li>\n",
       "\t<li>'2012-01-01'</li>\n",
       "</ol>\n"
      ],
      "text/latex": [
       "\\begin{enumerate*}\n",
       "\\item '1948-01-01'\n",
       "\\item '1948-02-01'\n",
       "\\item '1948-03-01'\n",
       "\\item '1948-04-01'\n",
       "\\item '1948-05-01'\n",
       "\\item '1948-06-01'\n",
       "\\item '1948-07-01'\n",
       "\\item '1948-08-01'\n",
       "\\item '1948-09-01'\n",
       "\\item '1948-10-01'\n",
       "\\item '1948-11-01'\n",
       "\\item '1948-12-01'\n",
       "\\item '1949-01-01'\n",
       "\\item '1949-02-01'\n",
       "\\item '1949-03-01'\n",
       "\\item '1949-04-01'\n",
       "\\item '1949-05-01'\n",
       "\\item '1949-06-01'\n",
       "\\item '1949-07-01'\n",
       "\\item '1949-08-01'\n",
       "\\item '1949-09-01'\n",
       "\\item '1949-10-01'\n",
       "\\item '1949-11-01'\n",
       "\\item '1949-12-01'\n",
       "\\item '1950-01-01'\n",
       "\\item '1950-02-01'\n",
       "\\item '1950-03-01'\n",
       "\\item '1950-04-01'\n",
       "\\item '1950-05-01'\n",
       "\\item '1950-06-01'\n",
       "\\item '1950-07-01'\n",
       "\\item '1950-08-01'\n",
       "\\item '1950-09-01'\n",
       "\\item '1950-10-01'\n",
       "\\item '1950-11-01'\n",
       "\\item '1950-12-01'\n",
       "\\item '1951-01-01'\n",
       "\\item '1951-02-01'\n",
       "\\item '1951-03-01'\n",
       "\\item '1951-04-01'\n",
       "\\item '1951-05-01'\n",
       "\\item '1951-06-01'\n",
       "\\item '1951-07-01'\n",
       "\\item '1951-08-01'\n",
       "\\item '1951-09-01'\n",
       "\\item '1951-10-01'\n",
       "\\item '1951-11-01'\n",
       "\\item '1951-12-01'\n",
       "\\item '1952-01-01'\n",
       "\\item '1952-02-01'\n",
       "\\item '1952-03-01'\n",
       "\\item '1952-04-01'\n",
       "\\item '1952-05-01'\n",
       "\\item '1952-06-01'\n",
       "\\item '1952-07-01'\n",
       "\\item '1952-08-01'\n",
       "\\item '1952-09-01'\n",
       "\\item '1952-10-01'\n",
       "\\item '1952-11-01'\n",
       "\\item '1952-12-01'\n",
       "\\item '1953-01-01'\n",
       "\\item '1953-02-01'\n",
       "\\item '1953-03-01'\n",
       "\\item '1953-04-01'\n",
       "\\item '1953-05-01'\n",
       "\\item '1953-06-01'\n",
       "\\item '1953-07-01'\n",
       "\\item '1953-08-01'\n",
       "\\item '1953-09-01'\n",
       "\\item '1953-10-01'\n",
       "\\item '1953-11-01'\n",
       "\\item '1953-12-01'\n",
       "\\item '1954-01-01'\n",
       "\\item '1954-02-01'\n",
       "\\item '1954-03-01'\n",
       "\\item '1954-04-01'\n",
       "\\item '1954-05-01'\n",
       "\\item '1954-06-01'\n",
       "\\item '1954-07-01'\n",
       "\\item '1954-08-01'\n",
       "\\item '1954-09-01'\n",
       "\\item '1954-10-01'\n",
       "\\item '1954-11-01'\n",
       "\\item '1954-12-01'\n",
       "\\item '1955-01-01'\n",
       "\\item '1955-02-01'\n",
       "\\item '1955-03-01'\n",
       "\\item '1955-04-01'\n",
       "\\item '1955-05-01'\n",
       "\\item '1955-06-01'\n",
       "\\item '1955-07-01'\n",
       "\\item '1955-08-01'\n",
       "\\item '1955-09-01'\n",
       "\\item '1955-10-01'\n",
       "\\item '1955-11-01'\n",
       "\\item '1955-12-01'\n",
       "\\item '1956-01-01'\n",
       "\\item '1956-02-01'\n",
       "\\item '1956-03-01'\n",
       "\\item '1956-04-01'\n",
       "\\item '1956-05-01'\n",
       "\\item '1956-06-01'\n",
       "\\item '1956-07-01'\n",
       "\\item '1956-08-01'\n",
       "\\item '1956-09-01'\n",
       "\\item '1956-10-01'\n",
       "\\item '1956-11-01'\n",
       "\\item '1956-12-01'\n",
       "\\item '1957-01-01'\n",
       "\\item '1957-02-01'\n",
       "\\item '1957-03-01'\n",
       "\\item '1957-04-01'\n",
       "\\item '1957-05-01'\n",
       "\\item '1957-06-01'\n",
       "\\item '1957-07-01'\n",
       "\\item '1957-08-01'\n",
       "\\item '1957-09-01'\n",
       "\\item '1957-10-01'\n",
       "\\item '1957-11-01'\n",
       "\\item '1957-12-01'\n",
       "\\item '1958-01-01'\n",
       "\\item '1958-02-01'\n",
       "\\item '1958-03-01'\n",
       "\\item '1958-04-01'\n",
       "\\item '1958-05-01'\n",
       "\\item '1958-06-01'\n",
       "\\item '1958-07-01'\n",
       "\\item '1958-08-01'\n",
       "\\item '1958-09-01'\n",
       "\\item '1958-10-01'\n",
       "\\item '1958-11-01'\n",
       "\\item '1958-12-01'\n",
       "\\item '1959-01-01'\n",
       "\\item '1959-02-01'\n",
       "\\item '1959-03-01'\n",
       "\\item '1959-04-01'\n",
       "\\item '1959-05-01'\n",
       "\\item '1959-06-01'\n",
       "\\item '1959-07-01'\n",
       "\\item '1959-08-01'\n",
       "\\item '1959-09-01'\n",
       "\\item '1959-10-01'\n",
       "\\item '1959-11-01'\n",
       "\\item '1959-12-01'\n",
       "\\item '1960-01-01'\n",
       "\\item '1960-02-01'\n",
       "\\item '1960-03-01'\n",
       "\\item '1960-04-01'\n",
       "\\item '1960-05-01'\n",
       "\\item '1960-06-01'\n",
       "\\item '1960-07-01'\n",
       "\\item '1960-08-01'\n",
       "\\item '1960-09-01'\n",
       "\\item '1960-10-01'\n",
       "\\item '1960-11-01'\n",
       "\\item '1960-12-01'\n",
       "\\item '1961-01-01'\n",
       "\\item '1961-02-01'\n",
       "\\item '1961-03-01'\n",
       "\\item '1961-04-01'\n",
       "\\item '1961-05-01'\n",
       "\\item '1961-06-01'\n",
       "\\item '1961-07-01'\n",
       "\\item '1961-08-01'\n",
       "\\item '1961-09-01'\n",
       "\\item '1961-10-01'\n",
       "\\item '1961-11-01'\n",
       "\\item '1961-12-01'\n",
       "\\item '1962-01-01'\n",
       "\\item '1962-02-01'\n",
       "\\item '1962-03-01'\n",
       "\\item '1962-04-01'\n",
       "\\item '1962-05-01'\n",
       "\\item '1962-06-01'\n",
       "\\item '1962-07-01'\n",
       "\\item '1962-08-01'\n",
       "\\item '1962-09-01'\n",
       "\\item '1962-10-01'\n",
       "\\item '1962-11-01'\n",
       "\\item '1962-12-01'\n",
       "\\item '1963-01-01'\n",
       "\\item '1963-02-01'\n",
       "\\item '1963-03-01'\n",
       "\\item '1963-04-01'\n",
       "\\item '1963-05-01'\n",
       "\\item '1963-06-01'\n",
       "\\item '1963-07-01'\n",
       "\\item '1963-08-01'\n",
       "\\item '1963-09-01'\n",
       "\\item '1963-10-01'\n",
       "\\item '1963-11-01'\n",
       "\\item '1963-12-01'\n",
       "\\item '1964-01-01'\n",
       "\\item '1964-02-01'\n",
       "\\item '1964-03-01'\n",
       "\\item '1964-04-01'\n",
       "\\item '1964-05-01'\n",
       "\\item '1964-06-01'\n",
       "\\item '1964-07-01'\n",
       "\\item '1964-08-01'\n",
       "\\item '1964-09-01'\n",
       "\\item '1964-10-01'\n",
       "\\item '1964-11-01'\n",
       "\\item '1964-12-01'\n",
       "\\item '1965-01-01'\n",
       "\\item '1965-02-01'\n",
       "\\item '1965-03-01'\n",
       "\\item '1965-04-01'\n",
       "\\item '1965-05-01'\n",
       "\\item '1965-06-01'\n",
       "\\item '1965-07-01'\n",
       "\\item '1965-08-01'\n",
       "\\item '1965-09-01'\n",
       "\\item '1965-10-01'\n",
       "\\item '1965-11-01'\n",
       "\\item '1965-12-01'\n",
       "\\item '1966-01-01'\n",
       "\\item '1966-02-01'\n",
       "\\item '1966-03-01'\n",
       "\\item '1966-04-01'\n",
       "\\item '1966-05-01'\n",
       "\\item '1966-06-01'\n",
       "\\item '1966-07-01'\n",
       "\\item '1966-08-01'\n",
       "\\item '1966-09-01'\n",
       "\\item '1966-10-01'\n",
       "\\item '1966-11-01'\n",
       "\\item '1966-12-01'\n",
       "\\item '1967-01-01'\n",
       "\\item '1967-02-01'\n",
       "\\item '1967-03-01'\n",
       "\\item '1967-04-01'\n",
       "\\item '1967-05-01'\n",
       "\\item '1967-06-01'\n",
       "\\item '1967-07-01'\n",
       "\\item '1967-08-01'\n",
       "\\item '1967-09-01'\n",
       "\\item '1967-10-01'\n",
       "\\item '1967-11-01'\n",
       "\\item '1967-12-01'\n",
       "\\item '1968-01-01'\n",
       "\\item '1968-02-01'\n",
       "\\item '1968-03-01'\n",
       "\\item '1968-04-01'\n",
       "\\item '1968-05-01'\n",
       "\\item '1968-06-01'\n",
       "\\item '1968-07-01'\n",
       "\\item '1968-08-01'\n",
       "\\item '1968-09-01'\n",
       "\\item '1968-10-01'\n",
       "\\item '1968-11-01'\n",
       "\\item '1968-12-01'\n",
       "\\item '1969-01-01'\n",
       "\\item '1969-02-01'\n",
       "\\item '1969-03-01'\n",
       "\\item '1969-04-01'\n",
       "\\item '1969-05-01'\n",
       "\\item '1969-06-01'\n",
       "\\item '1969-07-01'\n",
       "\\item '1969-08-01'\n",
       "\\item '1969-09-01'\n",
       "\\item '1969-10-01'\n",
       "\\item '1969-11-01'\n",
       "\\item '1969-12-01'\n",
       "\\item '1970-01-01'\n",
       "\\item '1970-02-01'\n",
       "\\item '1970-03-01'\n",
       "\\item '1970-04-01'\n",
       "\\item '1970-05-01'\n",
       "\\item '1970-06-01'\n",
       "\\item '1970-07-01'\n",
       "\\item '1970-08-01'\n",
       "\\item '1970-09-01'\n",
       "\\item '1970-10-01'\n",
       "\\item '1970-11-01'\n",
       "\\item '1970-12-01'\n",
       "\\item '1971-01-01'\n",
       "\\item '1971-02-01'\n",
       "\\item '1971-03-01'\n",
       "\\item '1971-04-01'\n",
       "\\item '1971-05-01'\n",
       "\\item '1971-06-01'\n",
       "\\item '1971-07-01'\n",
       "\\item '1971-08-01'\n",
       "\\item '1971-09-01'\n",
       "\\item '1971-10-01'\n",
       "\\item '1971-11-01'\n",
       "\\item '1971-12-01'\n",
       "\\item '1972-01-01'\n",
       "\\item '1972-02-01'\n",
       "\\item '1972-03-01'\n",
       "\\item '1972-04-01'\n",
       "\\item '1972-05-01'\n",
       "\\item '1972-06-01'\n",
       "\\item '1972-07-01'\n",
       "\\item '1972-08-01'\n",
       "\\item '1972-09-01'\n",
       "\\item '1972-10-01'\n",
       "\\item '1972-11-01'\n",
       "\\item '1972-12-01'\n",
       "\\item '1973-01-01'\n",
       "\\item '1973-02-01'\n",
       "\\item '1973-03-01'\n",
       "\\item '1973-04-01'\n",
       "\\item '1973-05-01'\n",
       "\\item '1973-06-01'\n",
       "\\item '1973-07-01'\n",
       "\\item '1973-08-01'\n",
       "\\item '1973-09-01'\n",
       "\\item '1973-10-01'\n",
       "\\item '1973-11-01'\n",
       "\\item '1973-12-01'\n",
       "\\item '1974-01-01'\n",
       "\\item '1974-02-01'\n",
       "\\item '1974-03-01'\n",
       "\\item '1974-04-01'\n",
       "\\item '1974-05-01'\n",
       "\\item '1974-06-01'\n",
       "\\item '1974-07-01'\n",
       "\\item '1974-08-01'\n",
       "\\item '1974-09-01'\n",
       "\\item '1974-10-01'\n",
       "\\item '1974-11-01'\n",
       "\\item '1974-12-01'\n",
       "\\item '1975-01-01'\n",
       "\\item '1975-02-01'\n",
       "\\item '1975-03-01'\n",
       "\\item '1975-04-01'\n",
       "\\item '1975-05-01'\n",
       "\\item '1975-06-01'\n",
       "\\item '1975-07-01'\n",
       "\\item '1975-08-01'\n",
       "\\item '1975-09-01'\n",
       "\\item '1975-10-01'\n",
       "\\item '1975-11-01'\n",
       "\\item '1975-12-01'\n",
       "\\item '1976-01-01'\n",
       "\\item '1976-02-01'\n",
       "\\item '1976-03-01'\n",
       "\\item '1976-04-01'\n",
       "\\item '1976-05-01'\n",
       "\\item '1976-06-01'\n",
       "\\item '1976-07-01'\n",
       "\\item '1976-08-01'\n",
       "\\item '1976-09-01'\n",
       "\\item '1976-10-01'\n",
       "\\item '1976-11-01'\n",
       "\\item '1976-12-01'\n",
       "\\item '1977-01-01'\n",
       "\\item '1977-02-01'\n",
       "\\item '1977-03-01'\n",
       "\\item '1977-04-01'\n",
       "\\item '1977-05-01'\n",
       "\\item '1977-06-01'\n",
       "\\item '1977-07-01'\n",
       "\\item '1977-08-01'\n",
       "\\item '1977-09-01'\n",
       "\\item '1977-10-01'\n",
       "\\item '1977-11-01'\n",
       "\\item '1977-12-01'\n",
       "\\item '1978-01-01'\n",
       "\\item '1978-02-01'\n",
       "\\item '1978-03-01'\n",
       "\\item '1978-04-01'\n",
       "\\item '1978-05-01'\n",
       "\\item '1978-06-01'\n",
       "\\item '1978-07-01'\n",
       "\\item '1978-08-01'\n",
       "\\item '1978-09-01'\n",
       "\\item '1978-10-01'\n",
       "\\item '1978-11-01'\n",
       "\\item '1978-12-01'\n",
       "\\item '1979-01-01'\n",
       "\\item '1979-02-01'\n",
       "\\item '1979-03-01'\n",
       "\\item '1979-04-01'\n",
       "\\item '1979-05-01'\n",
       "\\item '1979-06-01'\n",
       "\\item '1979-07-01'\n",
       "\\item '1979-08-01'\n",
       "\\item '1979-09-01'\n",
       "\\item '1979-10-01'\n",
       "\\item '1979-11-01'\n",
       "\\item '1979-12-01'\n",
       "\\item '1980-01-01'\n",
       "\\item '1980-02-01'\n",
       "\\item '1980-03-01'\n",
       "\\item '1980-04-01'\n",
       "\\item '1980-05-01'\n",
       "\\item '1980-06-01'\n",
       "\\item '1980-07-01'\n",
       "\\item '1980-08-01'\n",
       "\\item '1980-09-01'\n",
       "\\item '1980-10-01'\n",
       "\\item '1980-11-01'\n",
       "\\item '1980-12-01'\n",
       "\\item '1981-01-01'\n",
       "\\item '1981-02-01'\n",
       "\\item '1981-03-01'\n",
       "\\item '1981-04-01'\n",
       "\\item '1981-05-01'\n",
       "\\item '1981-06-01'\n",
       "\\item '1981-07-01'\n",
       "\\item '1981-08-01'\n",
       "\\item '1981-09-01'\n",
       "\\item '1981-10-01'\n",
       "\\item '1981-11-01'\n",
       "\\item '1981-12-01'\n",
       "\\item '1982-01-01'\n",
       "\\item '1982-02-01'\n",
       "\\item '1982-03-01'\n",
       "\\item '1982-04-01'\n",
       "\\item '1982-05-01'\n",
       "\\item '1982-06-01'\n",
       "\\item '1982-07-01'\n",
       "\\item '1982-08-01'\n",
       "\\item '1982-09-01'\n",
       "\\item '1982-10-01'\n",
       "\\item '1982-11-01'\n",
       "\\item '1982-12-01'\n",
       "\\item '1983-01-01'\n",
       "\\item '1983-02-01'\n",
       "\\item '1983-03-01'\n",
       "\\item '1983-04-01'\n",
       "\\item '1983-05-01'\n",
       "\\item '1983-06-01'\n",
       "\\item '1983-07-01'\n",
       "\\item '1983-08-01'\n",
       "\\item '1983-09-01'\n",
       "\\item '1983-10-01'\n",
       "\\item '1983-11-01'\n",
       "\\item '1983-12-01'\n",
       "\\item '1984-01-01'\n",
       "\\item '1984-02-01'\n",
       "\\item '1984-03-01'\n",
       "\\item '1984-04-01'\n",
       "\\item '1984-05-01'\n",
       "\\item '1984-06-01'\n",
       "\\item '1984-07-01'\n",
       "\\item '1984-08-01'\n",
       "\\item '1984-09-01'\n",
       "\\item '1984-10-01'\n",
       "\\item '1984-11-01'\n",
       "\\item '1984-12-01'\n",
       "\\item '1985-01-01'\n",
       "\\item '1985-02-01'\n",
       "\\item '1985-03-01'\n",
       "\\item '1985-04-01'\n",
       "\\item '1985-05-01'\n",
       "\\item '1985-06-01'\n",
       "\\item '1985-07-01'\n",
       "\\item '1985-08-01'\n",
       "\\item '1985-09-01'\n",
       "\\item '1985-10-01'\n",
       "\\item '1985-11-01'\n",
       "\\item '1985-12-01'\n",
       "\\item '1986-01-01'\n",
       "\\item '1986-02-01'\n",
       "\\item '1986-03-01'\n",
       "\\item '1986-04-01'\n",
       "\\item '1986-05-01'\n",
       "\\item '1986-06-01'\n",
       "\\item '1986-07-01'\n",
       "\\item '1986-08-01'\n",
       "\\item '1986-09-01'\n",
       "\\item '1986-10-01'\n",
       "\\item '1986-11-01'\n",
       "\\item '1986-12-01'\n",
       "\\item '1987-01-01'\n",
       "\\item '1987-02-01'\n",
       "\\item '1987-03-01'\n",
       "\\item '1987-04-01'\n",
       "\\item '1987-05-01'\n",
       "\\item '1987-06-01'\n",
       "\\item '1987-07-01'\n",
       "\\item '1987-08-01'\n",
       "\\item '1987-09-01'\n",
       "\\item '1987-10-01'\n",
       "\\item '1987-11-01'\n",
       "\\item '1987-12-01'\n",
       "\\item '1988-01-01'\n",
       "\\item '1988-02-01'\n",
       "\\item '1988-03-01'\n",
       "\\item '1988-04-01'\n",
       "\\item '1988-05-01'\n",
       "\\item '1988-06-01'\n",
       "\\item '1988-07-01'\n",
       "\\item '1988-08-01'\n",
       "\\item '1988-09-01'\n",
       "\\item '1988-10-01'\n",
       "\\item '1988-11-01'\n",
       "\\item '1988-12-01'\n",
       "\\item '1989-01-01'\n",
       "\\item '1989-02-01'\n",
       "\\item '1989-03-01'\n",
       "\\item '1989-04-01'\n",
       "\\item '1989-05-01'\n",
       "\\item '1989-06-01'\n",
       "\\item '1989-07-01'\n",
       "\\item '1989-08-01'\n",
       "\\item '1989-09-01'\n",
       "\\item '1989-10-01'\n",
       "\\item '1989-11-01'\n",
       "\\item '1989-12-01'\n",
       "\\item '1990-01-01'\n",
       "\\item '1990-02-01'\n",
       "\\item '1990-03-01'\n",
       "\\item '1990-04-01'\n",
       "\\item '1990-05-01'\n",
       "\\item '1990-06-01'\n",
       "\\item '1990-07-01'\n",
       "\\item '1990-08-01'\n",
       "\\item '1990-09-01'\n",
       "\\item '1990-10-01'\n",
       "\\item '1990-11-01'\n",
       "\\item '1990-12-01'\n",
       "\\item '1991-01-01'\n",
       "\\item '1991-02-01'\n",
       "\\item '1991-03-01'\n",
       "\\item '1991-04-01'\n",
       "\\item '1991-05-01'\n",
       "\\item '1991-06-01'\n",
       "\\item '1991-07-01'\n",
       "\\item '1991-08-01'\n",
       "\\item '1991-09-01'\n",
       "\\item '1991-10-01'\n",
       "\\item '1991-11-01'\n",
       "\\item '1991-12-01'\n",
       "\\item '1992-01-01'\n",
       "\\item '1992-02-01'\n",
       "\\item '1992-03-01'\n",
       "\\item '1992-04-01'\n",
       "\\item '1992-05-01'\n",
       "\\item '1992-06-01'\n",
       "\\item '1992-07-01'\n",
       "\\item '1992-08-01'\n",
       "\\item '1992-09-01'\n",
       "\\item '1992-10-01'\n",
       "\\item '1992-11-01'\n",
       "\\item '1992-12-01'\n",
       "\\item '1993-01-01'\n",
       "\\item '1993-02-01'\n",
       "\\item '1993-03-01'\n",
       "\\item '1993-04-01'\n",
       "\\item '1993-05-01'\n",
       "\\item '1993-06-01'\n",
       "\\item '1993-07-01'\n",
       "\\item '1993-08-01'\n",
       "\\item '1993-09-01'\n",
       "\\item '1993-10-01'\n",
       "\\item '1993-11-01'\n",
       "\\item '1993-12-01'\n",
       "\\item '1994-01-01'\n",
       "\\item '1994-02-01'\n",
       "\\item '1994-03-01'\n",
       "\\item '1994-04-01'\n",
       "\\item '1994-05-01'\n",
       "\\item '1994-06-01'\n",
       "\\item '1994-07-01'\n",
       "\\item '1994-08-01'\n",
       "\\item '1994-09-01'\n",
       "\\item '1994-10-01'\n",
       "\\item '1994-11-01'\n",
       "\\item '1994-12-01'\n",
       "\\item '1995-01-01'\n",
       "\\item '1995-02-01'\n",
       "\\item '1995-03-01'\n",
       "\\item '1995-04-01'\n",
       "\\item '1995-05-01'\n",
       "\\item '1995-06-01'\n",
       "\\item '1995-07-01'\n",
       "\\item '1995-08-01'\n",
       "\\item '1995-09-01'\n",
       "\\item '1995-10-01'\n",
       "\\item '1995-11-01'\n",
       "\\item '1995-12-01'\n",
       "\\item '1996-01-01'\n",
       "\\item '1996-02-01'\n",
       "\\item '1996-03-01'\n",
       "\\item '1996-04-01'\n",
       "\\item '1996-05-01'\n",
       "\\item '1996-06-01'\n",
       "\\item '1996-07-01'\n",
       "\\item '1996-08-01'\n",
       "\\item '1996-09-01'\n",
       "\\item '1996-10-01'\n",
       "\\item '1996-11-01'\n",
       "\\item '1996-12-01'\n",
       "\\item '1997-01-01'\n",
       "\\item '1997-02-01'\n",
       "\\item '1997-03-01'\n",
       "\\item '1997-04-01'\n",
       "\\item '1997-05-01'\n",
       "\\item '1997-06-01'\n",
       "\\item '1997-07-01'\n",
       "\\item '1997-08-01'\n",
       "\\item '1997-09-01'\n",
       "\\item '1997-10-01'\n",
       "\\item '1997-11-01'\n",
       "\\item '1997-12-01'\n",
       "\\item '1998-01-01'\n",
       "\\item '1998-02-01'\n",
       "\\item '1998-03-01'\n",
       "\\item '1998-04-01'\n",
       "\\item '1998-05-01'\n",
       "\\item '1998-06-01'\n",
       "\\item '1998-07-01'\n",
       "\\item '1998-08-01'\n",
       "\\item '1998-09-01'\n",
       "\\item '1998-10-01'\n",
       "\\item '1998-11-01'\n",
       "\\item '1998-12-01'\n",
       "\\item '1999-01-01'\n",
       "\\item '1999-02-01'\n",
       "\\item '1999-03-01'\n",
       "\\item '1999-04-01'\n",
       "\\item '1999-05-01'\n",
       "\\item '1999-06-01'\n",
       "\\item '1999-07-01'\n",
       "\\item '1999-08-01'\n",
       "\\item '1999-09-01'\n",
       "\\item '1999-10-01'\n",
       "\\item '1999-11-01'\n",
       "\\item '1999-12-01'\n",
       "\\item '2000-01-01'\n",
       "\\item '2000-02-01'\n",
       "\\item '2000-03-01'\n",
       "\\item '2000-04-01'\n",
       "\\item '2000-05-01'\n",
       "\\item '2000-06-01'\n",
       "\\item '2000-07-01'\n",
       "\\item '2000-08-01'\n",
       "\\item '2000-09-01'\n",
       "\\item '2000-10-01'\n",
       "\\item '2000-11-01'\n",
       "\\item '2000-12-01'\n",
       "\\item '2001-01-01'\n",
       "\\item '2001-02-01'\n",
       "\\item '2001-03-01'\n",
       "\\item '2001-04-01'\n",
       "\\item '2001-05-01'\n",
       "\\item '2001-06-01'\n",
       "\\item '2001-07-01'\n",
       "\\item '2001-08-01'\n",
       "\\item '2001-09-01'\n",
       "\\item '2001-10-01'\n",
       "\\item '2001-11-01'\n",
       "\\item '2001-12-01'\n",
       "\\item '2002-01-01'\n",
       "\\item '2002-02-01'\n",
       "\\item '2002-03-01'\n",
       "\\item '2002-04-01'\n",
       "\\item '2002-05-01'\n",
       "\\item '2002-06-01'\n",
       "\\item '2002-07-01'\n",
       "\\item '2002-08-01'\n",
       "\\item '2002-09-01'\n",
       "\\item '2002-10-01'\n",
       "\\item '2002-11-01'\n",
       "\\item '2002-12-01'\n",
       "\\item '2003-01-01'\n",
       "\\item '2003-02-01'\n",
       "\\item '2003-03-01'\n",
       "\\item '2003-04-01'\n",
       "\\item '2003-05-01'\n",
       "\\item '2003-06-01'\n",
       "\\item '2003-07-01'\n",
       "\\item '2003-08-01'\n",
       "\\item '2003-09-01'\n",
       "\\item '2003-10-01'\n",
       "\\item '2003-11-01'\n",
       "\\item '2003-12-01'\n",
       "\\item '2004-01-01'\n",
       "\\item '2004-02-01'\n",
       "\\item '2004-03-01'\n",
       "\\item '2004-04-01'\n",
       "\\item '2004-05-01'\n",
       "\\item '2004-06-01'\n",
       "\\item '2004-07-01'\n",
       "\\item '2004-08-01'\n",
       "\\item '2004-09-01'\n",
       "\\item '2004-10-01'\n",
       "\\item '2004-11-01'\n",
       "\\item '2004-12-01'\n",
       "\\item '2005-01-01'\n",
       "\\item '2005-02-01'\n",
       "\\item '2005-03-01'\n",
       "\\item '2005-04-01'\n",
       "\\item '2005-05-01'\n",
       "\\item '2005-06-01'\n",
       "\\item '2005-07-01'\n",
       "\\item '2005-08-01'\n",
       "\\item '2005-09-01'\n",
       "\\item '2005-10-01'\n",
       "\\item '2005-11-01'\n",
       "\\item '2005-12-01'\n",
       "\\item '2006-01-01'\n",
       "\\item '2006-02-01'\n",
       "\\item '2006-03-01'\n",
       "\\item '2006-04-01'\n",
       "\\item '2006-05-01'\n",
       "\\item '2006-06-01'\n",
       "\\item '2006-07-01'\n",
       "\\item '2006-08-01'\n",
       "\\item '2006-09-01'\n",
       "\\item '2006-10-01'\n",
       "\\item '2006-11-01'\n",
       "\\item '2006-12-01'\n",
       "\\item '2007-01-01'\n",
       "\\item '2007-02-01'\n",
       "\\item '2007-03-01'\n",
       "\\item '2007-04-01'\n",
       "\\item '2007-05-01'\n",
       "\\item '2007-06-01'\n",
       "\\item '2007-07-01'\n",
       "\\item '2007-08-01'\n",
       "\\item '2007-09-01'\n",
       "\\item '2007-10-01'\n",
       "\\item '2007-11-01'\n",
       "\\item '2007-12-01'\n",
       "\\item '2008-01-01'\n",
       "\\item '2008-02-01'\n",
       "\\item '2008-03-01'\n",
       "\\item '2008-04-01'\n",
       "\\item '2008-05-01'\n",
       "\\item '2008-06-01'\n",
       "\\item '2008-07-01'\n",
       "\\item '2008-08-01'\n",
       "\\item '2008-09-01'\n",
       "\\item '2008-10-01'\n",
       "\\item '2008-11-01'\n",
       "\\item '2008-12-01'\n",
       "\\item '2009-01-01'\n",
       "\\item '2009-02-01'\n",
       "\\item '2009-03-01'\n",
       "\\item '2009-04-01'\n",
       "\\item '2009-05-01'\n",
       "\\item '2009-06-01'\n",
       "\\item '2009-07-01'\n",
       "\\item '2009-08-01'\n",
       "\\item '2009-09-01'\n",
       "\\item '2009-10-01'\n",
       "\\item '2009-11-01'\n",
       "\\item '2009-12-01'\n",
       "\\item '2010-01-01'\n",
       "\\item '2010-02-01'\n",
       "\\item '2010-03-01'\n",
       "\\item '2010-04-01'\n",
       "\\item '2010-05-01'\n",
       "\\item '2010-06-01'\n",
       "\\item '2010-07-01'\n",
       "\\item '2010-08-01'\n",
       "\\item '2010-09-01'\n",
       "\\item '2010-10-01'\n",
       "\\item '2010-11-01'\n",
       "\\item '2010-12-01'\n",
       "\\item '2011-01-01'\n",
       "\\item '2011-02-01'\n",
       "\\item '2011-03-01'\n",
       "\\item '2011-04-01'\n",
       "\\item '2011-05-01'\n",
       "\\item '2011-06-01'\n",
       "\\item '2011-07-01'\n",
       "\\item '2011-08-01'\n",
       "\\item '2011-09-01'\n",
       "\\item '2011-10-01'\n",
       "\\item '2011-11-01'\n",
       "\\item '2011-12-01'\n",
       "\\item '2012-01-01'\n",
       "\\end{enumerate*}\n"
      ],
      "text/markdown": [
       "1. '1948-01-01'\n",
       "2. '1948-02-01'\n",
       "3. '1948-03-01'\n",
       "4. '1948-04-01'\n",
       "5. '1948-05-01'\n",
       "6. '1948-06-01'\n",
       "7. '1948-07-01'\n",
       "8. '1948-08-01'\n",
       "9. '1948-09-01'\n",
       "10. '1948-10-01'\n",
       "11. '1948-11-01'\n",
       "12. '1948-12-01'\n",
       "13. '1949-01-01'\n",
       "14. '1949-02-01'\n",
       "15. '1949-03-01'\n",
       "16. '1949-04-01'\n",
       "17. '1949-05-01'\n",
       "18. '1949-06-01'\n",
       "19. '1949-07-01'\n",
       "20. '1949-08-01'\n",
       "21. '1949-09-01'\n",
       "22. '1949-10-01'\n",
       "23. '1949-11-01'\n",
       "24. '1949-12-01'\n",
       "25. '1950-01-01'\n",
       "26. '1950-02-01'\n",
       "27. '1950-03-01'\n",
       "28. '1950-04-01'\n",
       "29. '1950-05-01'\n",
       "30. '1950-06-01'\n",
       "31. '1950-07-01'\n",
       "32. '1950-08-01'\n",
       "33. '1950-09-01'\n",
       "34. '1950-10-01'\n",
       "35. '1950-11-01'\n",
       "36. '1950-12-01'\n",
       "37. '1951-01-01'\n",
       "38. '1951-02-01'\n",
       "39. '1951-03-01'\n",
       "40. '1951-04-01'\n",
       "41. '1951-05-01'\n",
       "42. '1951-06-01'\n",
       "43. '1951-07-01'\n",
       "44. '1951-08-01'\n",
       "45. '1951-09-01'\n",
       "46. '1951-10-01'\n",
       "47. '1951-11-01'\n",
       "48. '1951-12-01'\n",
       "49. '1952-01-01'\n",
       "50. '1952-02-01'\n",
       "51. '1952-03-01'\n",
       "52. '1952-04-01'\n",
       "53. '1952-05-01'\n",
       "54. '1952-06-01'\n",
       "55. '1952-07-01'\n",
       "56. '1952-08-01'\n",
       "57. '1952-09-01'\n",
       "58. '1952-10-01'\n",
       "59. '1952-11-01'\n",
       "60. '1952-12-01'\n",
       "61. '1953-01-01'\n",
       "62. '1953-02-01'\n",
       "63. '1953-03-01'\n",
       "64. '1953-04-01'\n",
       "65. '1953-05-01'\n",
       "66. '1953-06-01'\n",
       "67. '1953-07-01'\n",
       "68. '1953-08-01'\n",
       "69. '1953-09-01'\n",
       "70. '1953-10-01'\n",
       "71. '1953-11-01'\n",
       "72. '1953-12-01'\n",
       "73. '1954-01-01'\n",
       "74. '1954-02-01'\n",
       "75. '1954-03-01'\n",
       "76. '1954-04-01'\n",
       "77. '1954-05-01'\n",
       "78. '1954-06-01'\n",
       "79. '1954-07-01'\n",
       "80. '1954-08-01'\n",
       "81. '1954-09-01'\n",
       "82. '1954-10-01'\n",
       "83. '1954-11-01'\n",
       "84. '1954-12-01'\n",
       "85. '1955-01-01'\n",
       "86. '1955-02-01'\n",
       "87. '1955-03-01'\n",
       "88. '1955-04-01'\n",
       "89. '1955-05-01'\n",
       "90. '1955-06-01'\n",
       "91. '1955-07-01'\n",
       "92. '1955-08-01'\n",
       "93. '1955-09-01'\n",
       "94. '1955-10-01'\n",
       "95. '1955-11-01'\n",
       "96. '1955-12-01'\n",
       "97. '1956-01-01'\n",
       "98. '1956-02-01'\n",
       "99. '1956-03-01'\n",
       "100. '1956-04-01'\n",
       "101. '1956-05-01'\n",
       "102. '1956-06-01'\n",
       "103. '1956-07-01'\n",
       "104. '1956-08-01'\n",
       "105. '1956-09-01'\n",
       "106. '1956-10-01'\n",
       "107. '1956-11-01'\n",
       "108. '1956-12-01'\n",
       "109. '1957-01-01'\n",
       "110. '1957-02-01'\n",
       "111. '1957-03-01'\n",
       "112. '1957-04-01'\n",
       "113. '1957-05-01'\n",
       "114. '1957-06-01'\n",
       "115. '1957-07-01'\n",
       "116. '1957-08-01'\n",
       "117. '1957-09-01'\n",
       "118. '1957-10-01'\n",
       "119. '1957-11-01'\n",
       "120. '1957-12-01'\n",
       "121. '1958-01-01'\n",
       "122. '1958-02-01'\n",
       "123. '1958-03-01'\n",
       "124. '1958-04-01'\n",
       "125. '1958-05-01'\n",
       "126. '1958-06-01'\n",
       "127. '1958-07-01'\n",
       "128. '1958-08-01'\n",
       "129. '1958-09-01'\n",
       "130. '1958-10-01'\n",
       "131. '1958-11-01'\n",
       "132. '1958-12-01'\n",
       "133. '1959-01-01'\n",
       "134. '1959-02-01'\n",
       "135. '1959-03-01'\n",
       "136. '1959-04-01'\n",
       "137. '1959-05-01'\n",
       "138. '1959-06-01'\n",
       "139. '1959-07-01'\n",
       "140. '1959-08-01'\n",
       "141. '1959-09-01'\n",
       "142. '1959-10-01'\n",
       "143. '1959-11-01'\n",
       "144. '1959-12-01'\n",
       "145. '1960-01-01'\n",
       "146. '1960-02-01'\n",
       "147. '1960-03-01'\n",
       "148. '1960-04-01'\n",
       "149. '1960-05-01'\n",
       "150. '1960-06-01'\n",
       "151. '1960-07-01'\n",
       "152. '1960-08-01'\n",
       "153. '1960-09-01'\n",
       "154. '1960-10-01'\n",
       "155. '1960-11-01'\n",
       "156. '1960-12-01'\n",
       "157. '1961-01-01'\n",
       "158. '1961-02-01'\n",
       "159. '1961-03-01'\n",
       "160. '1961-04-01'\n",
       "161. '1961-05-01'\n",
       "162. '1961-06-01'\n",
       "163. '1961-07-01'\n",
       "164. '1961-08-01'\n",
       "165. '1961-09-01'\n",
       "166. '1961-10-01'\n",
       "167. '1961-11-01'\n",
       "168. '1961-12-01'\n",
       "169. '1962-01-01'\n",
       "170. '1962-02-01'\n",
       "171. '1962-03-01'\n",
       "172. '1962-04-01'\n",
       "173. '1962-05-01'\n",
       "174. '1962-06-01'\n",
       "175. '1962-07-01'\n",
       "176. '1962-08-01'\n",
       "177. '1962-09-01'\n",
       "178. '1962-10-01'\n",
       "179. '1962-11-01'\n",
       "180. '1962-12-01'\n",
       "181. '1963-01-01'\n",
       "182. '1963-02-01'\n",
       "183. '1963-03-01'\n",
       "184. '1963-04-01'\n",
       "185. '1963-05-01'\n",
       "186. '1963-06-01'\n",
       "187. '1963-07-01'\n",
       "188. '1963-08-01'\n",
       "189. '1963-09-01'\n",
       "190. '1963-10-01'\n",
       "191. '1963-11-01'\n",
       "192. '1963-12-01'\n",
       "193. '1964-01-01'\n",
       "194. '1964-02-01'\n",
       "195. '1964-03-01'\n",
       "196. '1964-04-01'\n",
       "197. '1964-05-01'\n",
       "198. '1964-06-01'\n",
       "199. '1964-07-01'\n",
       "200. '1964-08-01'\n",
       "201. '1964-09-01'\n",
       "202. '1964-10-01'\n",
       "203. '1964-11-01'\n",
       "204. '1964-12-01'\n",
       "205. '1965-01-01'\n",
       "206. '1965-02-01'\n",
       "207. '1965-03-01'\n",
       "208. '1965-04-01'\n",
       "209. '1965-05-01'\n",
       "210. '1965-06-01'\n",
       "211. '1965-07-01'\n",
       "212. '1965-08-01'\n",
       "213. '1965-09-01'\n",
       "214. '1965-10-01'\n",
       "215. '1965-11-01'\n",
       "216. '1965-12-01'\n",
       "217. '1966-01-01'\n",
       "218. '1966-02-01'\n",
       "219. '1966-03-01'\n",
       "220. '1966-04-01'\n",
       "221. '1966-05-01'\n",
       "222. '1966-06-01'\n",
       "223. '1966-07-01'\n",
       "224. '1966-08-01'\n",
       "225. '1966-09-01'\n",
       "226. '1966-10-01'\n",
       "227. '1966-11-01'\n",
       "228. '1966-12-01'\n",
       "229. '1967-01-01'\n",
       "230. '1967-02-01'\n",
       "231. '1967-03-01'\n",
       "232. '1967-04-01'\n",
       "233. '1967-05-01'\n",
       "234. '1967-06-01'\n",
       "235. '1967-07-01'\n",
       "236. '1967-08-01'\n",
       "237. '1967-09-01'\n",
       "238. '1967-10-01'\n",
       "239. '1967-11-01'\n",
       "240. '1967-12-01'\n",
       "241. '1968-01-01'\n",
       "242. '1968-02-01'\n",
       "243. '1968-03-01'\n",
       "244. '1968-04-01'\n",
       "245. '1968-05-01'\n",
       "246. '1968-06-01'\n",
       "247. '1968-07-01'\n",
       "248. '1968-08-01'\n",
       "249. '1968-09-01'\n",
       "250. '1968-10-01'\n",
       "251. '1968-11-01'\n",
       "252. '1968-12-01'\n",
       "253. '1969-01-01'\n",
       "254. '1969-02-01'\n",
       "255. '1969-03-01'\n",
       "256. '1969-04-01'\n",
       "257. '1969-05-01'\n",
       "258. '1969-06-01'\n",
       "259. '1969-07-01'\n",
       "260. '1969-08-01'\n",
       "261. '1969-09-01'\n",
       "262. '1969-10-01'\n",
       "263. '1969-11-01'\n",
       "264. '1969-12-01'\n",
       "265. '1970-01-01'\n",
       "266. '1970-02-01'\n",
       "267. '1970-03-01'\n",
       "268. '1970-04-01'\n",
       "269. '1970-05-01'\n",
       "270. '1970-06-01'\n",
       "271. '1970-07-01'\n",
       "272. '1970-08-01'\n",
       "273. '1970-09-01'\n",
       "274. '1970-10-01'\n",
       "275. '1970-11-01'\n",
       "276. '1970-12-01'\n",
       "277. '1971-01-01'\n",
       "278. '1971-02-01'\n",
       "279. '1971-03-01'\n",
       "280. '1971-04-01'\n",
       "281. '1971-05-01'\n",
       "282. '1971-06-01'\n",
       "283. '1971-07-01'\n",
       "284. '1971-08-01'\n",
       "285. '1971-09-01'\n",
       "286. '1971-10-01'\n",
       "287. '1971-11-01'\n",
       "288. '1971-12-01'\n",
       "289. '1972-01-01'\n",
       "290. '1972-02-01'\n",
       "291. '1972-03-01'\n",
       "292. '1972-04-01'\n",
       "293. '1972-05-01'\n",
       "294. '1972-06-01'\n",
       "295. '1972-07-01'\n",
       "296. '1972-08-01'\n",
       "297. '1972-09-01'\n",
       "298. '1972-10-01'\n",
       "299. '1972-11-01'\n",
       "300. '1972-12-01'\n",
       "301. '1973-01-01'\n",
       "302. '1973-02-01'\n",
       "303. '1973-03-01'\n",
       "304. '1973-04-01'\n",
       "305. '1973-05-01'\n",
       "306. '1973-06-01'\n",
       "307. '1973-07-01'\n",
       "308. '1973-08-01'\n",
       "309. '1973-09-01'\n",
       "310. '1973-10-01'\n",
       "311. '1973-11-01'\n",
       "312. '1973-12-01'\n",
       "313. '1974-01-01'\n",
       "314. '1974-02-01'\n",
       "315. '1974-03-01'\n",
       "316. '1974-04-01'\n",
       "317. '1974-05-01'\n",
       "318. '1974-06-01'\n",
       "319. '1974-07-01'\n",
       "320. '1974-08-01'\n",
       "321. '1974-09-01'\n",
       "322. '1974-10-01'\n",
       "323. '1974-11-01'\n",
       "324. '1974-12-01'\n",
       "325. '1975-01-01'\n",
       "326. '1975-02-01'\n",
       "327. '1975-03-01'\n",
       "328. '1975-04-01'\n",
       "329. '1975-05-01'\n",
       "330. '1975-06-01'\n",
       "331. '1975-07-01'\n",
       "332. '1975-08-01'\n",
       "333. '1975-09-01'\n",
       "334. '1975-10-01'\n",
       "335. '1975-11-01'\n",
       "336. '1975-12-01'\n",
       "337. '1976-01-01'\n",
       "338. '1976-02-01'\n",
       "339. '1976-03-01'\n",
       "340. '1976-04-01'\n",
       "341. '1976-05-01'\n",
       "342. '1976-06-01'\n",
       "343. '1976-07-01'\n",
       "344. '1976-08-01'\n",
       "345. '1976-09-01'\n",
       "346. '1976-10-01'\n",
       "347. '1976-11-01'\n",
       "348. '1976-12-01'\n",
       "349. '1977-01-01'\n",
       "350. '1977-02-01'\n",
       "351. '1977-03-01'\n",
       "352. '1977-04-01'\n",
       "353. '1977-05-01'\n",
       "354. '1977-06-01'\n",
       "355. '1977-07-01'\n",
       "356. '1977-08-01'\n",
       "357. '1977-09-01'\n",
       "358. '1977-10-01'\n",
       "359. '1977-11-01'\n",
       "360. '1977-12-01'\n",
       "361. '1978-01-01'\n",
       "362. '1978-02-01'\n",
       "363. '1978-03-01'\n",
       "364. '1978-04-01'\n",
       "365. '1978-05-01'\n",
       "366. '1978-06-01'\n",
       "367. '1978-07-01'\n",
       "368. '1978-08-01'\n",
       "369. '1978-09-01'\n",
       "370. '1978-10-01'\n",
       "371. '1978-11-01'\n",
       "372. '1978-12-01'\n",
       "373. '1979-01-01'\n",
       "374. '1979-02-01'\n",
       "375. '1979-03-01'\n",
       "376. '1979-04-01'\n",
       "377. '1979-05-01'\n",
       "378. '1979-06-01'\n",
       "379. '1979-07-01'\n",
       "380. '1979-08-01'\n",
       "381. '1979-09-01'\n",
       "382. '1979-10-01'\n",
       "383. '1979-11-01'\n",
       "384. '1979-12-01'\n",
       "385. '1980-01-01'\n",
       "386. '1980-02-01'\n",
       "387. '1980-03-01'\n",
       "388. '1980-04-01'\n",
       "389. '1980-05-01'\n",
       "390. '1980-06-01'\n",
       "391. '1980-07-01'\n",
       "392. '1980-08-01'\n",
       "393. '1980-09-01'\n",
       "394. '1980-10-01'\n",
       "395. '1980-11-01'\n",
       "396. '1980-12-01'\n",
       "397. '1981-01-01'\n",
       "398. '1981-02-01'\n",
       "399. '1981-03-01'\n",
       "400. '1981-04-01'\n",
       "401. '1981-05-01'\n",
       "402. '1981-06-01'\n",
       "403. '1981-07-01'\n",
       "404. '1981-08-01'\n",
       "405. '1981-09-01'\n",
       "406. '1981-10-01'\n",
       "407. '1981-11-01'\n",
       "408. '1981-12-01'\n",
       "409. '1982-01-01'\n",
       "410. '1982-02-01'\n",
       "411. '1982-03-01'\n",
       "412. '1982-04-01'\n",
       "413. '1982-05-01'\n",
       "414. '1982-06-01'\n",
       "415. '1982-07-01'\n",
       "416. '1982-08-01'\n",
       "417. '1982-09-01'\n",
       "418. '1982-10-01'\n",
       "419. '1982-11-01'\n",
       "420. '1982-12-01'\n",
       "421. '1983-01-01'\n",
       "422. '1983-02-01'\n",
       "423. '1983-03-01'\n",
       "424. '1983-04-01'\n",
       "425. '1983-05-01'\n",
       "426. '1983-06-01'\n",
       "427. '1983-07-01'\n",
       "428. '1983-08-01'\n",
       "429. '1983-09-01'\n",
       "430. '1983-10-01'\n",
       "431. '1983-11-01'\n",
       "432. '1983-12-01'\n",
       "433. '1984-01-01'\n",
       "434. '1984-02-01'\n",
       "435. '1984-03-01'\n",
       "436. '1984-04-01'\n",
       "437. '1984-05-01'\n",
       "438. '1984-06-01'\n",
       "439. '1984-07-01'\n",
       "440. '1984-08-01'\n",
       "441. '1984-09-01'\n",
       "442. '1984-10-01'\n",
       "443. '1984-11-01'\n",
       "444. '1984-12-01'\n",
       "445. '1985-01-01'\n",
       "446. '1985-02-01'\n",
       "447. '1985-03-01'\n",
       "448. '1985-04-01'\n",
       "449. '1985-05-01'\n",
       "450. '1985-06-01'\n",
       "451. '1985-07-01'\n",
       "452. '1985-08-01'\n",
       "453. '1985-09-01'\n",
       "454. '1985-10-01'\n",
       "455. '1985-11-01'\n",
       "456. '1985-12-01'\n",
       "457. '1986-01-01'\n",
       "458. '1986-02-01'\n",
       "459. '1986-03-01'\n",
       "460. '1986-04-01'\n",
       "461. '1986-05-01'\n",
       "462. '1986-06-01'\n",
       "463. '1986-07-01'\n",
       "464. '1986-08-01'\n",
       "465. '1986-09-01'\n",
       "466. '1986-10-01'\n",
       "467. '1986-11-01'\n",
       "468. '1986-12-01'\n",
       "469. '1987-01-01'\n",
       "470. '1987-02-01'\n",
       "471. '1987-03-01'\n",
       "472. '1987-04-01'\n",
       "473. '1987-05-01'\n",
       "474. '1987-06-01'\n",
       "475. '1987-07-01'\n",
       "476. '1987-08-01'\n",
       "477. '1987-09-01'\n",
       "478. '1987-10-01'\n",
       "479. '1987-11-01'\n",
       "480. '1987-12-01'\n",
       "481. '1988-01-01'\n",
       "482. '1988-02-01'\n",
       "483. '1988-03-01'\n",
       "484. '1988-04-01'\n",
       "485. '1988-05-01'\n",
       "486. '1988-06-01'\n",
       "487. '1988-07-01'\n",
       "488. '1988-08-01'\n",
       "489. '1988-09-01'\n",
       "490. '1988-10-01'\n",
       "491. '1988-11-01'\n",
       "492. '1988-12-01'\n",
       "493. '1989-01-01'\n",
       "494. '1989-02-01'\n",
       "495. '1989-03-01'\n",
       "496. '1989-04-01'\n",
       "497. '1989-05-01'\n",
       "498. '1989-06-01'\n",
       "499. '1989-07-01'\n",
       "500. '1989-08-01'\n",
       "501. '1989-09-01'\n",
       "502. '1989-10-01'\n",
       "503. '1989-11-01'\n",
       "504. '1989-12-01'\n",
       "505. '1990-01-01'\n",
       "506. '1990-02-01'\n",
       "507. '1990-03-01'\n",
       "508. '1990-04-01'\n",
       "509. '1990-05-01'\n",
       "510. '1990-06-01'\n",
       "511. '1990-07-01'\n",
       "512. '1990-08-01'\n",
       "513. '1990-09-01'\n",
       "514. '1990-10-01'\n",
       "515. '1990-11-01'\n",
       "516. '1990-12-01'\n",
       "517. '1991-01-01'\n",
       "518. '1991-02-01'\n",
       "519. '1991-03-01'\n",
       "520. '1991-04-01'\n",
       "521. '1991-05-01'\n",
       "522. '1991-06-01'\n",
       "523. '1991-07-01'\n",
       "524. '1991-08-01'\n",
       "525. '1991-09-01'\n",
       "526. '1991-10-01'\n",
       "527. '1991-11-01'\n",
       "528. '1991-12-01'\n",
       "529. '1992-01-01'\n",
       "530. '1992-02-01'\n",
       "531. '1992-03-01'\n",
       "532. '1992-04-01'\n",
       "533. '1992-05-01'\n",
       "534. '1992-06-01'\n",
       "535. '1992-07-01'\n",
       "536. '1992-08-01'\n",
       "537. '1992-09-01'\n",
       "538. '1992-10-01'\n",
       "539. '1992-11-01'\n",
       "540. '1992-12-01'\n",
       "541. '1993-01-01'\n",
       "542. '1993-02-01'\n",
       "543. '1993-03-01'\n",
       "544. '1993-04-01'\n",
       "545. '1993-05-01'\n",
       "546. '1993-06-01'\n",
       "547. '1993-07-01'\n",
       "548. '1993-08-01'\n",
       "549. '1993-09-01'\n",
       "550. '1993-10-01'\n",
       "551. '1993-11-01'\n",
       "552. '1993-12-01'\n",
       "553. '1994-01-01'\n",
       "554. '1994-02-01'\n",
       "555. '1994-03-01'\n",
       "556. '1994-04-01'\n",
       "557. '1994-05-01'\n",
       "558. '1994-06-01'\n",
       "559. '1994-07-01'\n",
       "560. '1994-08-01'\n",
       "561. '1994-09-01'\n",
       "562. '1994-10-01'\n",
       "563. '1994-11-01'\n",
       "564. '1994-12-01'\n",
       "565. '1995-01-01'\n",
       "566. '1995-02-01'\n",
       "567. '1995-03-01'\n",
       "568. '1995-04-01'\n",
       "569. '1995-05-01'\n",
       "570. '1995-06-01'\n",
       "571. '1995-07-01'\n",
       "572. '1995-08-01'\n",
       "573. '1995-09-01'\n",
       "574. '1995-10-01'\n",
       "575. '1995-11-01'\n",
       "576. '1995-12-01'\n",
       "577. '1996-01-01'\n",
       "578. '1996-02-01'\n",
       "579. '1996-03-01'\n",
       "580. '1996-04-01'\n",
       "581. '1996-05-01'\n",
       "582. '1996-06-01'\n",
       "583. '1996-07-01'\n",
       "584. '1996-08-01'\n",
       "585. '1996-09-01'\n",
       "586. '1996-10-01'\n",
       "587. '1996-11-01'\n",
       "588. '1996-12-01'\n",
       "589. '1997-01-01'\n",
       "590. '1997-02-01'\n",
       "591. '1997-03-01'\n",
       "592. '1997-04-01'\n",
       "593. '1997-05-01'\n",
       "594. '1997-06-01'\n",
       "595. '1997-07-01'\n",
       "596. '1997-08-01'\n",
       "597. '1997-09-01'\n",
       "598. '1997-10-01'\n",
       "599. '1997-11-01'\n",
       "600. '1997-12-01'\n",
       "601. '1998-01-01'\n",
       "602. '1998-02-01'\n",
       "603. '1998-03-01'\n",
       "604. '1998-04-01'\n",
       "605. '1998-05-01'\n",
       "606. '1998-06-01'\n",
       "607. '1998-07-01'\n",
       "608. '1998-08-01'\n",
       "609. '1998-09-01'\n",
       "610. '1998-10-01'\n",
       "611. '1998-11-01'\n",
       "612. '1998-12-01'\n",
       "613. '1999-01-01'\n",
       "614. '1999-02-01'\n",
       "615. '1999-03-01'\n",
       "616. '1999-04-01'\n",
       "617. '1999-05-01'\n",
       "618. '1999-06-01'\n",
       "619. '1999-07-01'\n",
       "620. '1999-08-01'\n",
       "621. '1999-09-01'\n",
       "622. '1999-10-01'\n",
       "623. '1999-11-01'\n",
       "624. '1999-12-01'\n",
       "625. '2000-01-01'\n",
       "626. '2000-02-01'\n",
       "627. '2000-03-01'\n",
       "628. '2000-04-01'\n",
       "629. '2000-05-01'\n",
       "630. '2000-06-01'\n",
       "631. '2000-07-01'\n",
       "632. '2000-08-01'\n",
       "633. '2000-09-01'\n",
       "634. '2000-10-01'\n",
       "635. '2000-11-01'\n",
       "636. '2000-12-01'\n",
       "637. '2001-01-01'\n",
       "638. '2001-02-01'\n",
       "639. '2001-03-01'\n",
       "640. '2001-04-01'\n",
       "641. '2001-05-01'\n",
       "642. '2001-06-01'\n",
       "643. '2001-07-01'\n",
       "644. '2001-08-01'\n",
       "645. '2001-09-01'\n",
       "646. '2001-10-01'\n",
       "647. '2001-11-01'\n",
       "648. '2001-12-01'\n",
       "649. '2002-01-01'\n",
       "650. '2002-02-01'\n",
       "651. '2002-03-01'\n",
       "652. '2002-04-01'\n",
       "653. '2002-05-01'\n",
       "654. '2002-06-01'\n",
       "655. '2002-07-01'\n",
       "656. '2002-08-01'\n",
       "657. '2002-09-01'\n",
       "658. '2002-10-01'\n",
       "659. '2002-11-01'\n",
       "660. '2002-12-01'\n",
       "661. '2003-01-01'\n",
       "662. '2003-02-01'\n",
       "663. '2003-03-01'\n",
       "664. '2003-04-01'\n",
       "665. '2003-05-01'\n",
       "666. '2003-06-01'\n",
       "667. '2003-07-01'\n",
       "668. '2003-08-01'\n",
       "669. '2003-09-01'\n",
       "670. '2003-10-01'\n",
       "671. '2003-11-01'\n",
       "672. '2003-12-01'\n",
       "673. '2004-01-01'\n",
       "674. '2004-02-01'\n",
       "675. '2004-03-01'\n",
       "676. '2004-04-01'\n",
       "677. '2004-05-01'\n",
       "678. '2004-06-01'\n",
       "679. '2004-07-01'\n",
       "680. '2004-08-01'\n",
       "681. '2004-09-01'\n",
       "682. '2004-10-01'\n",
       "683. '2004-11-01'\n",
       "684. '2004-12-01'\n",
       "685. '2005-01-01'\n",
       "686. '2005-02-01'\n",
       "687. '2005-03-01'\n",
       "688. '2005-04-01'\n",
       "689. '2005-05-01'\n",
       "690. '2005-06-01'\n",
       "691. '2005-07-01'\n",
       "692. '2005-08-01'\n",
       "693. '2005-09-01'\n",
       "694. '2005-10-01'\n",
       "695. '2005-11-01'\n",
       "696. '2005-12-01'\n",
       "697. '2006-01-01'\n",
       "698. '2006-02-01'\n",
       "699. '2006-03-01'\n",
       "700. '2006-04-01'\n",
       "701. '2006-05-01'\n",
       "702. '2006-06-01'\n",
       "703. '2006-07-01'\n",
       "704. '2006-08-01'\n",
       "705. '2006-09-01'\n",
       "706. '2006-10-01'\n",
       "707. '2006-11-01'\n",
       "708. '2006-12-01'\n",
       "709. '2007-01-01'\n",
       "710. '2007-02-01'\n",
       "711. '2007-03-01'\n",
       "712. '2007-04-01'\n",
       "713. '2007-05-01'\n",
       "714. '2007-06-01'\n",
       "715. '2007-07-01'\n",
       "716. '2007-08-01'\n",
       "717. '2007-09-01'\n",
       "718. '2007-10-01'\n",
       "719. '2007-11-01'\n",
       "720. '2007-12-01'\n",
       "721. '2008-01-01'\n",
       "722. '2008-02-01'\n",
       "723. '2008-03-01'\n",
       "724. '2008-04-01'\n",
       "725. '2008-05-01'\n",
       "726. '2008-06-01'\n",
       "727. '2008-07-01'\n",
       "728. '2008-08-01'\n",
       "729. '2008-09-01'\n",
       "730. '2008-10-01'\n",
       "731. '2008-11-01'\n",
       "732. '2008-12-01'\n",
       "733. '2009-01-01'\n",
       "734. '2009-02-01'\n",
       "735. '2009-03-01'\n",
       "736. '2009-04-01'\n",
       "737. '2009-05-01'\n",
       "738. '2009-06-01'\n",
       "739. '2009-07-01'\n",
       "740. '2009-08-01'\n",
       "741. '2009-09-01'\n",
       "742. '2009-10-01'\n",
       "743. '2009-11-01'\n",
       "744. '2009-12-01'\n",
       "745. '2010-01-01'\n",
       "746. '2010-02-01'\n",
       "747. '2010-03-01'\n",
       "748. '2010-04-01'\n",
       "749. '2010-05-01'\n",
       "750. '2010-06-01'\n",
       "751. '2010-07-01'\n",
       "752. '2010-08-01'\n",
       "753. '2010-09-01'\n",
       "754. '2010-10-01'\n",
       "755. '2010-11-01'\n",
       "756. '2010-12-01'\n",
       "757. '2011-01-01'\n",
       "758. '2011-02-01'\n",
       "759. '2011-03-01'\n",
       "760. '2011-04-01'\n",
       "761. '2011-05-01'\n",
       "762. '2011-06-01'\n",
       "763. '2011-07-01'\n",
       "764. '2011-08-01'\n",
       "765. '2011-09-01'\n",
       "766. '2011-10-01'\n",
       "767. '2011-11-01'\n",
       "768. '2011-12-01'\n",
       "769. '2012-01-01'\n",
       "\n",
       "\n"
      ],
      "text/plain": [
       "  [1] \"1948-01-01\" \"1948-02-01\" \"1948-03-01\" \"1948-04-01\" \"1948-05-01\"\n",
       "  [6] \"1948-06-01\" \"1948-07-01\" \"1948-08-01\" \"1948-09-01\" \"1948-10-01\"\n",
       " [11] \"1948-11-01\" \"1948-12-01\" \"1949-01-01\" \"1949-02-01\" \"1949-03-01\"\n",
       " [16] \"1949-04-01\" \"1949-05-01\" \"1949-06-01\" \"1949-07-01\" \"1949-08-01\"\n",
       " [21] \"1949-09-01\" \"1949-10-01\" \"1949-11-01\" \"1949-12-01\" \"1950-01-01\"\n",
       " [26] \"1950-02-01\" \"1950-03-01\" \"1950-04-01\" \"1950-05-01\" \"1950-06-01\"\n",
       " [31] \"1950-07-01\" \"1950-08-01\" \"1950-09-01\" \"1950-10-01\" \"1950-11-01\"\n",
       " [36] \"1950-12-01\" \"1951-01-01\" \"1951-02-01\" \"1951-03-01\" \"1951-04-01\"\n",
       " [41] \"1951-05-01\" \"1951-06-01\" \"1951-07-01\" \"1951-08-01\" \"1951-09-01\"\n",
       " [46] \"1951-10-01\" \"1951-11-01\" \"1951-12-01\" \"1952-01-01\" \"1952-02-01\"\n",
       " [51] \"1952-03-01\" \"1952-04-01\" \"1952-05-01\" \"1952-06-01\" \"1952-07-01\"\n",
       " [56] \"1952-08-01\" \"1952-09-01\" \"1952-10-01\" \"1952-11-01\" \"1952-12-01\"\n",
       " [61] \"1953-01-01\" \"1953-02-01\" \"1953-03-01\" \"1953-04-01\" \"1953-05-01\"\n",
       " [66] \"1953-06-01\" \"1953-07-01\" \"1953-08-01\" \"1953-09-01\" \"1953-10-01\"\n",
       " [71] \"1953-11-01\" \"1953-12-01\" \"1954-01-01\" \"1954-02-01\" \"1954-03-01\"\n",
       " [76] \"1954-04-01\" \"1954-05-01\" \"1954-06-01\" \"1954-07-01\" \"1954-08-01\"\n",
       " [81] \"1954-09-01\" \"1954-10-01\" \"1954-11-01\" \"1954-12-01\" \"1955-01-01\"\n",
       " [86] \"1955-02-01\" \"1955-03-01\" \"1955-04-01\" \"1955-05-01\" \"1955-06-01\"\n",
       " [91] \"1955-07-01\" \"1955-08-01\" \"1955-09-01\" \"1955-10-01\" \"1955-11-01\"\n",
       " [96] \"1955-12-01\" \"1956-01-01\" \"1956-02-01\" \"1956-03-01\" \"1956-04-01\"\n",
       "[101] \"1956-05-01\" \"1956-06-01\" \"1956-07-01\" \"1956-08-01\" \"1956-09-01\"\n",
       "[106] \"1956-10-01\" \"1956-11-01\" \"1956-12-01\" \"1957-01-01\" \"1957-02-01\"\n",
       "[111] \"1957-03-01\" \"1957-04-01\" \"1957-05-01\" \"1957-06-01\" \"1957-07-01\"\n",
       "[116] \"1957-08-01\" \"1957-09-01\" \"1957-10-01\" \"1957-11-01\" \"1957-12-01\"\n",
       "[121] \"1958-01-01\" \"1958-02-01\" \"1958-03-01\" \"1958-04-01\" \"1958-05-01\"\n",
       "[126] \"1958-06-01\" \"1958-07-01\" \"1958-08-01\" \"1958-09-01\" \"1958-10-01\"\n",
       "[131] \"1958-11-01\" \"1958-12-01\" \"1959-01-01\" \"1959-02-01\" \"1959-03-01\"\n",
       "[136] \"1959-04-01\" \"1959-05-01\" \"1959-06-01\" \"1959-07-01\" \"1959-08-01\"\n",
       "[141] \"1959-09-01\" \"1959-10-01\" \"1959-11-01\" \"1959-12-01\" \"1960-01-01\"\n",
       "[146] \"1960-02-01\" \"1960-03-01\" \"1960-04-01\" \"1960-05-01\" \"1960-06-01\"\n",
       "[151] \"1960-07-01\" \"1960-08-01\" \"1960-09-01\" \"1960-10-01\" \"1960-11-01\"\n",
       "[156] \"1960-12-01\" \"1961-01-01\" \"1961-02-01\" \"1961-03-01\" \"1961-04-01\"\n",
       "[161] \"1961-05-01\" \"1961-06-01\" \"1961-07-01\" \"1961-08-01\" \"1961-09-01\"\n",
       "[166] \"1961-10-01\" \"1961-11-01\" \"1961-12-01\" \"1962-01-01\" \"1962-02-01\"\n",
       "[171] \"1962-03-01\" \"1962-04-01\" \"1962-05-01\" \"1962-06-01\" \"1962-07-01\"\n",
       "[176] \"1962-08-01\" \"1962-09-01\" \"1962-10-01\" \"1962-11-01\" \"1962-12-01\"\n",
       "[181] \"1963-01-01\" \"1963-02-01\" \"1963-03-01\" \"1963-04-01\" \"1963-05-01\"\n",
       "[186] \"1963-06-01\" \"1963-07-01\" \"1963-08-01\" \"1963-09-01\" \"1963-10-01\"\n",
       "[191] \"1963-11-01\" \"1963-12-01\" \"1964-01-01\" \"1964-02-01\" \"1964-03-01\"\n",
       "[196] \"1964-04-01\" \"1964-05-01\" \"1964-06-01\" \"1964-07-01\" \"1964-08-01\"\n",
       "[201] \"1964-09-01\" \"1964-10-01\" \"1964-11-01\" \"1964-12-01\" \"1965-01-01\"\n",
       "[206] \"1965-02-01\" \"1965-03-01\" \"1965-04-01\" \"1965-05-01\" \"1965-06-01\"\n",
       "[211] \"1965-07-01\" \"1965-08-01\" \"1965-09-01\" \"1965-10-01\" \"1965-11-01\"\n",
       "[216] \"1965-12-01\" \"1966-01-01\" \"1966-02-01\" \"1966-03-01\" \"1966-04-01\"\n",
       "[221] \"1966-05-01\" \"1966-06-01\" \"1966-07-01\" \"1966-08-01\" \"1966-09-01\"\n",
       "[226] \"1966-10-01\" \"1966-11-01\" \"1966-12-01\" \"1967-01-01\" \"1967-02-01\"\n",
       "[231] \"1967-03-01\" \"1967-04-01\" \"1967-05-01\" \"1967-06-01\" \"1967-07-01\"\n",
       "[236] \"1967-08-01\" \"1967-09-01\" \"1967-10-01\" \"1967-11-01\" \"1967-12-01\"\n",
       "[241] \"1968-01-01\" \"1968-02-01\" \"1968-03-01\" \"1968-04-01\" \"1968-05-01\"\n",
       "[246] \"1968-06-01\" \"1968-07-01\" \"1968-08-01\" \"1968-09-01\" \"1968-10-01\"\n",
       "[251] \"1968-11-01\" \"1968-12-01\" \"1969-01-01\" \"1969-02-01\" \"1969-03-01\"\n",
       "[256] \"1969-04-01\" \"1969-05-01\" \"1969-06-01\" \"1969-07-01\" \"1969-08-01\"\n",
       "[261] \"1969-09-01\" \"1969-10-01\" \"1969-11-01\" \"1969-12-01\" \"1970-01-01\"\n",
       "[266] \"1970-02-01\" \"1970-03-01\" \"1970-04-01\" \"1970-05-01\" \"1970-06-01\"\n",
       "[271] \"1970-07-01\" \"1970-08-01\" \"1970-09-01\" \"1970-10-01\" \"1970-11-01\"\n",
       "[276] \"1970-12-01\" \"1971-01-01\" \"1971-02-01\" \"1971-03-01\" \"1971-04-01\"\n",
       "[281] \"1971-05-01\" \"1971-06-01\" \"1971-07-01\" \"1971-08-01\" \"1971-09-01\"\n",
       "[286] \"1971-10-01\" \"1971-11-01\" \"1971-12-01\" \"1972-01-01\" \"1972-02-01\"\n",
       "[291] \"1972-03-01\" \"1972-04-01\" \"1972-05-01\" \"1972-06-01\" \"1972-07-01\"\n",
       "[296] \"1972-08-01\" \"1972-09-01\" \"1972-10-01\" \"1972-11-01\" \"1972-12-01\"\n",
       "[301] \"1973-01-01\" \"1973-02-01\" \"1973-03-01\" \"1973-04-01\" \"1973-05-01\"\n",
       "[306] \"1973-06-01\" \"1973-07-01\" \"1973-08-01\" \"1973-09-01\" \"1973-10-01\"\n",
       "[311] \"1973-11-01\" \"1973-12-01\" \"1974-01-01\" \"1974-02-01\" \"1974-03-01\"\n",
       "[316] \"1974-04-01\" \"1974-05-01\" \"1974-06-01\" \"1974-07-01\" \"1974-08-01\"\n",
       "[321] \"1974-09-01\" \"1974-10-01\" \"1974-11-01\" \"1974-12-01\" \"1975-01-01\"\n",
       "[326] \"1975-02-01\" \"1975-03-01\" \"1975-04-01\" \"1975-05-01\" \"1975-06-01\"\n",
       "[331] \"1975-07-01\" \"1975-08-01\" \"1975-09-01\" \"1975-10-01\" \"1975-11-01\"\n",
       "[336] \"1975-12-01\" \"1976-01-01\" \"1976-02-01\" \"1976-03-01\" \"1976-04-01\"\n",
       "[341] \"1976-05-01\" \"1976-06-01\" \"1976-07-01\" \"1976-08-01\" \"1976-09-01\"\n",
       "[346] \"1976-10-01\" \"1976-11-01\" \"1976-12-01\" \"1977-01-01\" \"1977-02-01\"\n",
       "[351] \"1977-03-01\" \"1977-04-01\" \"1977-05-01\" \"1977-06-01\" \"1977-07-01\"\n",
       "[356] \"1977-08-01\" \"1977-09-01\" \"1977-10-01\" \"1977-11-01\" \"1977-12-01\"\n",
       "[361] \"1978-01-01\" \"1978-02-01\" \"1978-03-01\" \"1978-04-01\" \"1978-05-01\"\n",
       "[366] \"1978-06-01\" \"1978-07-01\" \"1978-08-01\" \"1978-09-01\" \"1978-10-01\"\n",
       "[371] \"1978-11-01\" \"1978-12-01\" \"1979-01-01\" \"1979-02-01\" \"1979-03-01\"\n",
       "[376] \"1979-04-01\" \"1979-05-01\" \"1979-06-01\" \"1979-07-01\" \"1979-08-01\"\n",
       "[381] \"1979-09-01\" \"1979-10-01\" \"1979-11-01\" \"1979-12-01\" \"1980-01-01\"\n",
       "[386] \"1980-02-01\" \"1980-03-01\" \"1980-04-01\" \"1980-05-01\" \"1980-06-01\"\n",
       "[391] \"1980-07-01\" \"1980-08-01\" \"1980-09-01\" \"1980-10-01\" \"1980-11-01\"\n",
       "[396] \"1980-12-01\" \"1981-01-01\" \"1981-02-01\" \"1981-03-01\" \"1981-04-01\"\n",
       "[401] \"1981-05-01\" \"1981-06-01\" \"1981-07-01\" \"1981-08-01\" \"1981-09-01\"\n",
       "[406] \"1981-10-01\" \"1981-11-01\" \"1981-12-01\" \"1982-01-01\" \"1982-02-01\"\n",
       "[411] \"1982-03-01\" \"1982-04-01\" \"1982-05-01\" \"1982-06-01\" \"1982-07-01\"\n",
       "[416] \"1982-08-01\" \"1982-09-01\" \"1982-10-01\" \"1982-11-01\" \"1982-12-01\"\n",
       "[421] \"1983-01-01\" \"1983-02-01\" \"1983-03-01\" \"1983-04-01\" \"1983-05-01\"\n",
       "[426] \"1983-06-01\" \"1983-07-01\" \"1983-08-01\" \"1983-09-01\" \"1983-10-01\"\n",
       "[431] \"1983-11-01\" \"1983-12-01\" \"1984-01-01\" \"1984-02-01\" \"1984-03-01\"\n",
       "[436] \"1984-04-01\" \"1984-05-01\" \"1984-06-01\" \"1984-07-01\" \"1984-08-01\"\n",
       "[441] \"1984-09-01\" \"1984-10-01\" \"1984-11-01\" \"1984-12-01\" \"1985-01-01\"\n",
       "[446] \"1985-02-01\" \"1985-03-01\" \"1985-04-01\" \"1985-05-01\" \"1985-06-01\"\n",
       "[451] \"1985-07-01\" \"1985-08-01\" \"1985-09-01\" \"1985-10-01\" \"1985-11-01\"\n",
       "[456] \"1985-12-01\" \"1986-01-01\" \"1986-02-01\" \"1986-03-01\" \"1986-04-01\"\n",
       "[461] \"1986-05-01\" \"1986-06-01\" \"1986-07-01\" \"1986-08-01\" \"1986-09-01\"\n",
       "[466] \"1986-10-01\" \"1986-11-01\" \"1986-12-01\" \"1987-01-01\" \"1987-02-01\"\n",
       "[471] \"1987-03-01\" \"1987-04-01\" \"1987-05-01\" \"1987-06-01\" \"1987-07-01\"\n",
       "[476] \"1987-08-01\" \"1987-09-01\" \"1987-10-01\" \"1987-11-01\" \"1987-12-01\"\n",
       "[481] \"1988-01-01\" \"1988-02-01\" \"1988-03-01\" \"1988-04-01\" \"1988-05-01\"\n",
       "[486] \"1988-06-01\" \"1988-07-01\" \"1988-08-01\" \"1988-09-01\" \"1988-10-01\"\n",
       "[491] \"1988-11-01\" \"1988-12-01\" \"1989-01-01\" \"1989-02-01\" \"1989-03-01\"\n",
       "[496] \"1989-04-01\" \"1989-05-01\" \"1989-06-01\" \"1989-07-01\" \"1989-08-01\"\n",
       "[501] \"1989-09-01\" \"1989-10-01\" \"1989-11-01\" \"1989-12-01\" \"1990-01-01\"\n",
       "[506] \"1990-02-01\" \"1990-03-01\" \"1990-04-01\" \"1990-05-01\" \"1990-06-01\"\n",
       "[511] \"1990-07-01\" \"1990-08-01\" \"1990-09-01\" \"1990-10-01\" \"1990-11-01\"\n",
       "[516] \"1990-12-01\" \"1991-01-01\" \"1991-02-01\" \"1991-03-01\" \"1991-04-01\"\n",
       "[521] \"1991-05-01\" \"1991-06-01\" \"1991-07-01\" \"1991-08-01\" \"1991-09-01\"\n",
       "[526] \"1991-10-01\" \"1991-11-01\" \"1991-12-01\" \"1992-01-01\" \"1992-02-01\"\n",
       "[531] \"1992-03-01\" \"1992-04-01\" \"1992-05-01\" \"1992-06-01\" \"1992-07-01\"\n",
       "[536] \"1992-08-01\" \"1992-09-01\" \"1992-10-01\" \"1992-11-01\" \"1992-12-01\"\n",
       "[541] \"1993-01-01\" \"1993-02-01\" \"1993-03-01\" \"1993-04-01\" \"1993-05-01\"\n",
       "[546] \"1993-06-01\" \"1993-07-01\" \"1993-08-01\" \"1993-09-01\" \"1993-10-01\"\n",
       "[551] \"1993-11-01\" \"1993-12-01\" \"1994-01-01\" \"1994-02-01\" \"1994-03-01\"\n",
       "[556] \"1994-04-01\" \"1994-05-01\" \"1994-06-01\" \"1994-07-01\" \"1994-08-01\"\n",
       "[561] \"1994-09-01\" \"1994-10-01\" \"1994-11-01\" \"1994-12-01\" \"1995-01-01\"\n",
       "[566] \"1995-02-01\" \"1995-03-01\" \"1995-04-01\" \"1995-05-01\" \"1995-06-01\"\n",
       "[571] \"1995-07-01\" \"1995-08-01\" \"1995-09-01\" \"1995-10-01\" \"1995-11-01\"\n",
       "[576] \"1995-12-01\" \"1996-01-01\" \"1996-02-01\" \"1996-03-01\" \"1996-04-01\"\n",
       "[581] \"1996-05-01\" \"1996-06-01\" \"1996-07-01\" \"1996-08-01\" \"1996-09-01\"\n",
       "[586] \"1996-10-01\" \"1996-11-01\" \"1996-12-01\" \"1997-01-01\" \"1997-02-01\"\n",
       "[591] \"1997-03-01\" \"1997-04-01\" \"1997-05-01\" \"1997-06-01\" \"1997-07-01\"\n",
       "[596] \"1997-08-01\" \"1997-09-01\" \"1997-10-01\" \"1997-11-01\" \"1997-12-01\"\n",
       "[601] \"1998-01-01\" \"1998-02-01\" \"1998-03-01\" \"1998-04-01\" \"1998-05-01\"\n",
       "[606] \"1998-06-01\" \"1998-07-01\" \"1998-08-01\" \"1998-09-01\" \"1998-10-01\"\n",
       "[611] \"1998-11-01\" \"1998-12-01\" \"1999-01-01\" \"1999-02-01\" \"1999-03-01\"\n",
       "[616] \"1999-04-01\" \"1999-05-01\" \"1999-06-01\" \"1999-07-01\" \"1999-08-01\"\n",
       "[621] \"1999-09-01\" \"1999-10-01\" \"1999-11-01\" \"1999-12-01\" \"2000-01-01\"\n",
       "[626] \"2000-02-01\" \"2000-03-01\" \"2000-04-01\" \"2000-05-01\" \"2000-06-01\"\n",
       "[631] \"2000-07-01\" \"2000-08-01\" \"2000-09-01\" \"2000-10-01\" \"2000-11-01\"\n",
       "[636] \"2000-12-01\" \"2001-01-01\" \"2001-02-01\" \"2001-03-01\" \"2001-04-01\"\n",
       "[641] \"2001-05-01\" \"2001-06-01\" \"2001-07-01\" \"2001-08-01\" \"2001-09-01\"\n",
       "[646] \"2001-10-01\" \"2001-11-01\" \"2001-12-01\" \"2002-01-01\" \"2002-02-01\"\n",
       "[651] \"2002-03-01\" \"2002-04-01\" \"2002-05-01\" \"2002-06-01\" \"2002-07-01\"\n",
       "[656] \"2002-08-01\" \"2002-09-01\" \"2002-10-01\" \"2002-11-01\" \"2002-12-01\"\n",
       "[661] \"2003-01-01\" \"2003-02-01\" \"2003-03-01\" \"2003-04-01\" \"2003-05-01\"\n",
       "[666] \"2003-06-01\" \"2003-07-01\" \"2003-08-01\" \"2003-09-01\" \"2003-10-01\"\n",
       "[671] \"2003-11-01\" \"2003-12-01\" \"2004-01-01\" \"2004-02-01\" \"2004-03-01\"\n",
       "[676] \"2004-04-01\" \"2004-05-01\" \"2004-06-01\" \"2004-07-01\" \"2004-08-01\"\n",
       "[681] \"2004-09-01\" \"2004-10-01\" \"2004-11-01\" \"2004-12-01\" \"2005-01-01\"\n",
       "[686] \"2005-02-01\" \"2005-03-01\" \"2005-04-01\" \"2005-05-01\" \"2005-06-01\"\n",
       "[691] \"2005-07-01\" \"2005-08-01\" \"2005-09-01\" \"2005-10-01\" \"2005-11-01\"\n",
       "[696] \"2005-12-01\" \"2006-01-01\" \"2006-02-01\" \"2006-03-01\" \"2006-04-01\"\n",
       "[701] \"2006-05-01\" \"2006-06-01\" \"2006-07-01\" \"2006-08-01\" \"2006-09-01\"\n",
       "[706] \"2006-10-01\" \"2006-11-01\" \"2006-12-01\" \"2007-01-01\" \"2007-02-01\"\n",
       "[711] \"2007-03-01\" \"2007-04-01\" \"2007-05-01\" \"2007-06-01\" \"2007-07-01\"\n",
       "[716] \"2007-08-01\" \"2007-09-01\" \"2007-10-01\" \"2007-11-01\" \"2007-12-01\"\n",
       "[721] \"2008-01-01\" \"2008-02-01\" \"2008-03-01\" \"2008-04-01\" \"2008-05-01\"\n",
       "[726] \"2008-06-01\" \"2008-07-01\" \"2008-08-01\" \"2008-09-01\" \"2008-10-01\"\n",
       "[731] \"2008-11-01\" \"2008-12-01\" \"2009-01-01\" \"2009-02-01\" \"2009-03-01\"\n",
       "[736] \"2009-04-01\" \"2009-05-01\" \"2009-06-01\" \"2009-07-01\" \"2009-08-01\"\n",
       "[741] \"2009-09-01\" \"2009-10-01\" \"2009-11-01\" \"2009-12-01\" \"2010-01-01\"\n",
       "[746] \"2010-02-01\" \"2010-03-01\" \"2010-04-01\" \"2010-05-01\" \"2010-06-01\"\n",
       "[751] \"2010-07-01\" \"2010-08-01\" \"2010-09-01\" \"2010-10-01\" \"2010-11-01\"\n",
       "[756] \"2010-12-01\" \"2011-01-01\" \"2011-02-01\" \"2011-03-01\" \"2011-04-01\"\n",
       "[761] \"2011-05-01\" \"2011-06-01\" \"2011-07-01\" \"2011-08-01\" \"2011-09-01\"\n",
       "[766] \"2011-10-01\" \"2011-11-01\" \"2011-12-01\" \"2012-01-01\""
      ]
     },
     "metadata": {},
     "output_type": "display_data"
    }
   ],
   "source": [
    "Urate <- ts(Unemployment$VALUE,start=c(1948,1), freq=12)\n",
    "Inflation<-read.csv(\"./data/CPIAUCSL.csv\", row.names=1)\n",
    "print(Inflation)\n",
    "row.names(Inflation)"
   ]
  },
  {
   "cell_type": "code",
   "execution_count": 115,
   "metadata": {
    "run_control": {
     "frozen": false,
     "read_only": false
    }
   },
   "outputs": [
    {
     "data": {
      "text/html": [
       "'ts'"
      ],
      "text/latex": [
       "'ts'"
      ],
      "text/markdown": [
       "'ts'"
      ],
      "text/plain": [
       "[1] \"ts\""
      ]
     },
     "metadata": {},
     "output_type": "display_data"
    }
   ],
   "source": [
    "class(Urate)"
   ]
  },
  {
   "cell_type": "code",
   "execution_count": null,
   "metadata": {
    "collapsed": true,
    "hide_input": true,
    "run_control": {
     "frozen": true,
     "read_only": true
    },
    "scrolled": false
   },
   "outputs": [],
   "source": [
    "# from IPython.display import HTML\n",
    "# # Youtube\n",
    "# HTML('<iframe width=\"600\" height=\"340\" src=\"https://www.youtube.com/embed/QHsmAM6nktY\" frameborder=\"0\" allowfullscreen></iframe>')\n"
   ]
  },
  {
   "cell_type": "code",
   "execution_count": 116,
   "metadata": {
    "run_control": {
     "frozen": false,
     "read_only": false
    }
   },
   "outputs": [
    {
     "data": {
      "text/plain": [
       "          Jan      Feb      Mar      Apr      May      Jun      Jul      Aug\n",
       "1948 1948.000 1948.083 1948.167 1948.250 1948.333 1948.417 1948.500 1948.583\n",
       "1949 1949.000 1949.083 1949.167 1949.250 1949.333 1949.417 1949.500 1949.583\n",
       "1950 1950.000 1950.083 1950.167 1950.250 1950.333 1950.417 1950.500 1950.583\n",
       "1951 1951.000 1951.083 1951.167 1951.250 1951.333 1951.417 1951.500 1951.583\n",
       "1952 1952.000 1952.083 1952.167 1952.250 1952.333 1952.417 1952.500 1952.583\n",
       "1953 1953.000 1953.083 1953.167 1953.250 1953.333 1953.417 1953.500 1953.583\n",
       "1954 1954.000 1954.083 1954.167 1954.250 1954.333 1954.417 1954.500 1954.583\n",
       "1955 1955.000 1955.083 1955.167 1955.250 1955.333 1955.417 1955.500 1955.583\n",
       "1956 1956.000 1956.083 1956.167 1956.250 1956.333 1956.417 1956.500 1956.583\n",
       "1957 1957.000 1957.083 1957.167 1957.250 1957.333 1957.417 1957.500 1957.583\n",
       "1958 1958.000 1958.083 1958.167 1958.250 1958.333 1958.417 1958.500 1958.583\n",
       "1959 1959.000 1959.083 1959.167 1959.250 1959.333 1959.417 1959.500 1959.583\n",
       "1960 1960.000 1960.083 1960.167 1960.250 1960.333 1960.417 1960.500 1960.583\n",
       "1961 1961.000 1961.083 1961.167 1961.250 1961.333 1961.417 1961.500 1961.583\n",
       "1962 1962.000 1962.083 1962.167 1962.250 1962.333 1962.417 1962.500 1962.583\n",
       "1963 1963.000 1963.083 1963.167 1963.250 1963.333 1963.417 1963.500 1963.583\n",
       "1964 1964.000 1964.083 1964.167 1964.250 1964.333 1964.417 1964.500 1964.583\n",
       "1965 1965.000 1965.083 1965.167 1965.250 1965.333 1965.417 1965.500 1965.583\n",
       "1966 1966.000 1966.083 1966.167 1966.250 1966.333 1966.417 1966.500 1966.583\n",
       "1967 1967.000 1967.083 1967.167 1967.250 1967.333 1967.417 1967.500 1967.583\n",
       "1968 1968.000 1968.083 1968.167 1968.250 1968.333 1968.417 1968.500 1968.583\n",
       "1969 1969.000 1969.083 1969.167 1969.250 1969.333 1969.417 1969.500 1969.583\n",
       "1970 1970.000 1970.083 1970.167 1970.250 1970.333 1970.417 1970.500 1970.583\n",
       "1971 1971.000 1971.083 1971.167 1971.250 1971.333 1971.417 1971.500 1971.583\n",
       "1972 1972.000 1972.083 1972.167 1972.250 1972.333 1972.417 1972.500 1972.583\n",
       "1973 1973.000 1973.083 1973.167 1973.250 1973.333 1973.417 1973.500 1973.583\n",
       "1974 1974.000 1974.083 1974.167 1974.250 1974.333 1974.417 1974.500 1974.583\n",
       "1975 1975.000 1975.083 1975.167 1975.250 1975.333 1975.417 1975.500 1975.583\n",
       "1976 1976.000 1976.083 1976.167 1976.250 1976.333 1976.417 1976.500 1976.583\n",
       "1977 1977.000 1977.083 1977.167 1977.250 1977.333 1977.417 1977.500 1977.583\n",
       "1978 1978.000 1978.083 1978.167 1978.250 1978.333 1978.417 1978.500 1978.583\n",
       "1979 1979.000 1979.083 1979.167 1979.250 1979.333 1979.417 1979.500 1979.583\n",
       "1980 1980.000 1980.083 1980.167 1980.250 1980.333 1980.417 1980.500 1980.583\n",
       "1981 1981.000 1981.083 1981.167 1981.250 1981.333 1981.417 1981.500 1981.583\n",
       "1982 1982.000 1982.083 1982.167 1982.250 1982.333 1982.417 1982.500 1982.583\n",
       "1983 1983.000 1983.083 1983.167 1983.250 1983.333 1983.417 1983.500 1983.583\n",
       "1984 1984.000 1984.083 1984.167 1984.250 1984.333 1984.417 1984.500 1984.583\n",
       "1985 1985.000 1985.083 1985.167 1985.250 1985.333 1985.417 1985.500 1985.583\n",
       "1986 1986.000 1986.083 1986.167 1986.250 1986.333 1986.417 1986.500 1986.583\n",
       "1987 1987.000 1987.083 1987.167 1987.250 1987.333 1987.417 1987.500 1987.583\n",
       "1988 1988.000 1988.083 1988.167 1988.250 1988.333 1988.417 1988.500 1988.583\n",
       "1989 1989.000 1989.083 1989.167 1989.250 1989.333 1989.417 1989.500 1989.583\n",
       "1990 1990.000 1990.083 1990.167 1990.250 1990.333 1990.417 1990.500 1990.583\n",
       "1991 1991.000 1991.083 1991.167 1991.250 1991.333 1991.417 1991.500 1991.583\n",
       "1992 1992.000 1992.083 1992.167 1992.250 1992.333 1992.417 1992.500 1992.583\n",
       "1993 1993.000 1993.083 1993.167 1993.250 1993.333 1993.417 1993.500 1993.583\n",
       "1994 1994.000 1994.083 1994.167 1994.250 1994.333 1994.417 1994.500 1994.583\n",
       "1995 1995.000 1995.083 1995.167 1995.250 1995.333 1995.417 1995.500 1995.583\n",
       "1996 1996.000 1996.083 1996.167 1996.250 1996.333 1996.417 1996.500 1996.583\n",
       "1997 1997.000 1997.083 1997.167 1997.250 1997.333 1997.417 1997.500 1997.583\n",
       "1998 1998.000 1998.083 1998.167 1998.250 1998.333 1998.417 1998.500 1998.583\n",
       "1999 1999.000 1999.083 1999.167 1999.250 1999.333 1999.417 1999.500 1999.583\n",
       "2000 2000.000 2000.083 2000.167 2000.250 2000.333 2000.417 2000.500 2000.583\n",
       "2001 2001.000 2001.083 2001.167 2001.250 2001.333 2001.417 2001.500 2001.583\n",
       "2002 2002.000 2002.083 2002.167 2002.250 2002.333 2002.417 2002.500 2002.583\n",
       "2003 2003.000 2003.083 2003.167 2003.250 2003.333 2003.417 2003.500 2003.583\n",
       "2004 2004.000 2004.083 2004.167 2004.250 2004.333 2004.417 2004.500 2004.583\n",
       "2005 2005.000 2005.083 2005.167 2005.250 2005.333 2005.417 2005.500 2005.583\n",
       "2006 2006.000 2006.083 2006.167 2006.250 2006.333 2006.417 2006.500 2006.583\n",
       "2007 2007.000 2007.083 2007.167 2007.250 2007.333 2007.417 2007.500 2007.583\n",
       "2008 2008.000 2008.083 2008.167 2008.250 2008.333 2008.417 2008.500 2008.583\n",
       "2009 2009.000 2009.083 2009.167 2009.250 2009.333 2009.417 2009.500 2009.583\n",
       "2010 2010.000 2010.083 2010.167 2010.250 2010.333 2010.417 2010.500 2010.583\n",
       "2011 2011.000 2011.083 2011.167 2011.250 2011.333 2011.417 2011.500 2011.583\n",
       "2012 2012.000                                                               \n",
       "          Sep      Oct      Nov      Dec\n",
       "1948 1948.667 1948.750 1948.833 1948.917\n",
       "1949 1949.667 1949.750 1949.833 1949.917\n",
       "1950 1950.667 1950.750 1950.833 1950.917\n",
       "1951 1951.667 1951.750 1951.833 1951.917\n",
       "1952 1952.667 1952.750 1952.833 1952.917\n",
       "1953 1953.667 1953.750 1953.833 1953.917\n",
       "1954 1954.667 1954.750 1954.833 1954.917\n",
       "1955 1955.667 1955.750 1955.833 1955.917\n",
       "1956 1956.667 1956.750 1956.833 1956.917\n",
       "1957 1957.667 1957.750 1957.833 1957.917\n",
       "1958 1958.667 1958.750 1958.833 1958.917\n",
       "1959 1959.667 1959.750 1959.833 1959.917\n",
       "1960 1960.667 1960.750 1960.833 1960.917\n",
       "1961 1961.667 1961.750 1961.833 1961.917\n",
       "1962 1962.667 1962.750 1962.833 1962.917\n",
       "1963 1963.667 1963.750 1963.833 1963.917\n",
       "1964 1964.667 1964.750 1964.833 1964.917\n",
       "1965 1965.667 1965.750 1965.833 1965.917\n",
       "1966 1966.667 1966.750 1966.833 1966.917\n",
       "1967 1967.667 1967.750 1967.833 1967.917\n",
       "1968 1968.667 1968.750 1968.833 1968.917\n",
       "1969 1969.667 1969.750 1969.833 1969.917\n",
       "1970 1970.667 1970.750 1970.833 1970.917\n",
       "1971 1971.667 1971.750 1971.833 1971.917\n",
       "1972 1972.667 1972.750 1972.833 1972.917\n",
       "1973 1973.667 1973.750 1973.833 1973.917\n",
       "1974 1974.667 1974.750 1974.833 1974.917\n",
       "1975 1975.667 1975.750 1975.833 1975.917\n",
       "1976 1976.667 1976.750 1976.833 1976.917\n",
       "1977 1977.667 1977.750 1977.833 1977.917\n",
       "1978 1978.667 1978.750 1978.833 1978.917\n",
       "1979 1979.667 1979.750 1979.833 1979.917\n",
       "1980 1980.667 1980.750 1980.833 1980.917\n",
       "1981 1981.667 1981.750 1981.833 1981.917\n",
       "1982 1982.667 1982.750 1982.833 1982.917\n",
       "1983 1983.667 1983.750 1983.833 1983.917\n",
       "1984 1984.667 1984.750 1984.833 1984.917\n",
       "1985 1985.667 1985.750 1985.833 1985.917\n",
       "1986 1986.667 1986.750 1986.833 1986.917\n",
       "1987 1987.667 1987.750 1987.833 1987.917\n",
       "1988 1988.667 1988.750 1988.833 1988.917\n",
       "1989 1989.667 1989.750 1989.833 1989.917\n",
       "1990 1990.667 1990.750 1990.833 1990.917\n",
       "1991 1991.667 1991.750 1991.833 1991.917\n",
       "1992 1992.667 1992.750 1992.833 1992.917\n",
       "1993 1993.667 1993.750 1993.833 1993.917\n",
       "1994 1994.667 1994.750 1994.833 1994.917\n",
       "1995 1995.667 1995.750 1995.833 1995.917\n",
       "1996 1996.667 1996.750 1996.833 1996.917\n",
       "1997 1997.667 1997.750 1997.833 1997.917\n",
       "1998 1998.667 1998.750 1998.833 1998.917\n",
       "1999 1999.667 1999.750 1999.833 1999.917\n",
       "2000 2000.667 2000.750 2000.833 2000.917\n",
       "2001 2001.667 2001.750 2001.833 2001.917\n",
       "2002 2002.667 2002.750 2002.833 2002.917\n",
       "2003 2003.667 2003.750 2003.833 2003.917\n",
       "2004 2004.667 2004.750 2004.833 2004.917\n",
       "2005 2005.667 2005.750 2005.833 2005.917\n",
       "2006 2006.667 2006.750 2006.833 2006.917\n",
       "2007 2007.667 2007.750 2007.833 2007.917\n",
       "2008 2008.667 2008.750 2008.833 2008.917\n",
       "2009 2009.667 2009.750 2009.833 2009.917\n",
       "2010 2010.667 2010.750 2010.833 2010.917\n",
       "2011 2011.667 2011.750 2011.833 2011.917\n",
       "2012                                    "
      ]
     },
     "metadata": {},
     "output_type": "display_data"
    }
   ],
   "source": [
    "time(Urate)"
   ]
  },
  {
   "cell_type": "code",
   "execution_count": 117,
   "metadata": {
    "run_control": {
     "frozen": false,
     "read_only": false
    },
    "scrolled": false
   },
   "outputs": [
    {
     "data": {
      "text/plain": [
       "      Jan  Feb  Mar  Apr  May  Jun  Jul  Aug  Sep  Oct  Nov  Dec\n",
       "1948  3.4  3.8  4.0  3.9  3.5  3.6  3.6  3.9  3.8  3.7  3.8  4.0\n",
       "1949  4.3  4.7  5.0  5.3  6.1  6.2  6.7  6.8  6.6  7.9  6.4  6.6\n",
       "1950  6.5  6.4  6.3  5.8  5.5  5.4  5.0  4.5  4.4  4.2  4.2  4.3\n",
       "1951  3.7  3.4  3.4  3.1  3.0  3.2  3.1  3.1  3.3  3.5  3.5  3.1\n",
       "1952  3.2  3.1  2.9  2.9  3.0  3.0  3.2  3.4  3.1  3.0  2.8  2.7\n",
       "1953  2.9  2.6  2.6  2.7  2.5  2.5  2.6  2.7  2.9  3.1  3.5  4.5\n",
       "1954  4.9  5.2  5.7  5.9  5.9  5.6  5.8  6.0  6.1  5.7  5.3  5.0\n",
       "1955  4.9  4.7  4.6  4.7  4.3  4.2  4.0  4.2  4.1  4.3  4.2  4.2\n",
       "1956  4.0  3.9  4.2  4.0  4.3  4.3  4.4  4.1  3.9  3.9  4.3  4.2\n",
       "1957  4.2  3.9  3.7  3.9  4.1  4.3  4.2  4.1  4.4  4.5  5.1  5.2\n",
       "1958  5.8  6.4  6.7  7.4  7.4  7.3  7.5  7.4  7.1  6.7  6.2  6.2\n",
       "1959  6.0  5.9  5.6  5.2  5.1  5.0  5.1  5.2  5.5  5.7  5.8  5.3\n",
       "1960  5.2  4.8  5.4  5.2  5.1  5.4  5.5  5.6  5.5  6.1  6.1  6.6\n",
       "1961  6.6  6.9  6.9  7.0  7.1  6.9  7.0  6.6  6.7  6.5  6.1  6.0\n",
       "1962  5.8  5.5  5.6  5.6  5.5  5.5  5.4  5.7  5.6  5.4  5.7  5.5\n",
       "1963  5.7  5.9  5.7  5.7  5.9  5.6  5.6  5.4  5.5  5.5  5.7  5.5\n",
       "1964  5.6  5.4  5.4  5.3  5.1  5.2  4.9  5.0  5.1  5.1  4.8  5.0\n",
       "1965  4.9  5.1  4.7  4.8  4.6  4.6  4.4  4.4  4.3  4.2  4.1  4.0\n",
       "1966  4.0  3.8  3.8  3.8  3.9  3.8  3.8  3.8  3.7  3.7  3.6  3.8\n",
       "1967  3.9  3.8  3.8  3.8  3.8  3.9  3.8  3.8  3.8  4.0  3.9  3.8\n",
       "1968  3.7  3.8  3.7  3.5  3.5  3.7  3.7  3.5  3.4  3.4  3.4  3.4\n",
       "1969  3.4  3.4  3.4  3.4  3.4  3.5  3.5  3.5  3.7  3.7  3.5  3.5\n",
       "1970  3.9  4.2  4.4  4.6  4.8  4.9  5.0  5.1  5.4  5.5  5.9  6.1\n",
       "1971  5.9  5.9  6.0  5.9  5.9  5.9  6.0  6.1  6.0  5.8  6.0  6.0\n",
       "1972  5.8  5.7  5.8  5.7  5.7  5.7  5.6  5.6  5.5  5.6  5.3  5.2\n",
       "1973  4.9  5.0  4.9  5.0  4.9  4.9  4.8  4.8  4.8  4.6  4.8  4.9\n",
       "1974  5.1  5.2  5.1  5.1  5.1  5.4  5.5  5.5  5.9  6.0  6.6  7.2\n",
       "1975  8.1  8.1  8.6  8.8  9.0  8.8  8.6  8.4  8.4  8.4  8.3  8.2\n",
       "1976  7.9  7.7  7.6  7.7  7.4  7.6  7.8  7.8  7.6  7.7  7.8  7.8\n",
       "1977  7.5  7.6  7.4  7.2  7.0  7.2  6.9  7.0  6.8  6.8  6.8  6.4\n",
       "1978  6.4  6.3  6.3  6.1  6.0  5.9  6.2  5.9  6.0  5.8  5.9  6.0\n",
       "1979  5.9  5.9  5.8  5.8  5.6  5.7  5.7  6.0  5.9  6.0  5.9  6.0\n",
       "1980  6.3  6.3  6.3  6.9  7.5  7.6  7.8  7.7  7.5  7.5  7.5  7.2\n",
       "1981  7.5  7.4  7.4  7.2  7.5  7.5  7.2  7.4  7.6  7.9  8.3  8.5\n",
       "1982  8.6  8.9  9.0  9.3  9.4  9.6  9.8  9.8 10.1 10.4 10.8 10.8\n",
       "1983 10.4 10.4 10.3 10.2 10.1 10.1  9.4  9.5  9.2  8.8  8.5  8.3\n",
       "1984  8.0  7.8  7.8  7.7  7.4  7.2  7.5  7.5  7.3  7.4  7.2  7.3\n",
       "1985  7.3  7.2  7.2  7.3  7.2  7.4  7.4  7.1  7.1  7.1  7.0  7.0\n",
       "1986  6.7  7.2  7.2  7.1  7.2  7.2  7.0  6.9  7.0  7.0  6.9  6.6\n",
       "1987  6.6  6.6  6.6  6.3  6.3  6.2  6.1  6.0  5.9  6.0  5.8  5.7\n",
       "1988  5.7  5.7  5.7  5.4  5.6  5.4  5.4  5.6  5.4  5.4  5.3  5.3\n",
       "1989  5.4  5.2  5.0  5.2  5.2  5.3  5.2  5.2  5.3  5.3  5.4  5.4\n",
       "1990  5.4  5.3  5.2  5.4  5.4  5.2  5.5  5.7  5.9  5.9  6.2  6.3\n",
       "1991  6.4  6.6  6.8  6.7  6.9  6.9  6.8  6.9  6.9  7.0  7.0  7.3\n",
       "1992  7.3  7.4  7.4  7.4  7.6  7.8  7.7  7.6  7.6  7.3  7.4  7.4\n",
       "1993  7.3  7.1  7.0  7.1  7.1  7.0  6.9  6.8  6.7  6.8  6.6  6.5\n",
       "1994  6.6  6.6  6.5  6.4  6.1  6.1  6.1  6.0  5.9  5.8  5.6  5.5\n",
       "1995  5.6  5.4  5.4  5.8  5.6  5.6  5.7  5.7  5.6  5.5  5.6  5.6\n",
       "1996  5.6  5.5  5.5  5.6  5.6  5.3  5.5  5.1  5.2  5.2  5.4  5.4\n",
       "1997  5.3  5.2  5.2  5.1  4.9  5.0  4.9  4.8  4.9  4.7  4.6  4.7\n",
       "1998  4.6  4.6  4.7  4.3  4.4  4.5  4.5  4.5  4.6  4.5  4.4  4.4\n",
       "1999  4.3  4.4  4.2  4.3  4.2  4.3  4.3  4.2  4.2  4.1  4.1  4.0\n",
       "2000  4.0  4.1  4.0  3.8  4.0  4.0  4.0  4.1  3.9  3.9  3.9  3.9\n",
       "2001  4.2  4.2  4.3  4.4  4.3  4.5  4.6  4.9  5.0  5.3  5.5  5.7\n",
       "2002  5.7  5.7  5.7  5.9  5.8  5.8  5.8  5.7  5.7  5.7  5.9  6.0\n",
       "2003  5.8  5.9  5.9  6.0  6.1  6.3  6.2  6.1  6.1  6.0  5.8  5.7\n",
       "2004  5.7  5.6  5.8  5.6  5.6  5.6  5.5  5.4  5.4  5.5  5.4  5.4\n",
       "2005  5.3  5.4  5.2  5.2  5.1  5.0  5.0  4.9  5.0  5.0  5.0  4.9\n",
       "2006  4.7  4.8  4.7  4.7  4.6  4.6  4.7  4.7  4.5  4.4  4.5  4.4\n",
       "2007  4.6  4.5  4.4  4.5  4.4  4.6  4.7  4.6  4.7  4.7  4.7  5.0\n",
       "2008  5.0  4.9  5.1  5.0  5.4  5.6  5.8  6.1  6.1  6.5  6.8  7.3\n",
       "2009  7.8  8.3  8.7  8.9  9.4  9.5  9.5  9.6  9.8 10.0  9.9  9.9\n",
       "2010  9.7  9.8  9.8  9.9  9.6  9.4  9.5  9.6  9.5  9.5  9.8  9.4\n",
       "2011  9.1  9.0  8.9  9.0  9.0  9.1  9.1  9.1  9.0  8.9  8.7  8.5\n",
       "2012  8.3                                                       "
      ]
     },
     "metadata": {},
     "output_type": "display_data"
    }
   ],
   "source": [
    "window(Urate)"
   ]
  },
  {
   "cell_type": "code",
   "execution_count": 118,
   "metadata": {
    "run_control": {
     "frozen": false,
     "read_only": false
    }
   },
   "outputs": [
    {
     "data": {
      "image/png": "[encoded data removed]",
      "text/plain": [
       "Plot with title \"Histogram of x\""
      ]
     },
     "metadata": {},
     "output_type": "display_data"
    }
   ],
   "source": [
    "simple.hist.and.boxplot(x)"
   ]
  },
  {
   "cell_type": "code",
   "execution_count": 119,
   "metadata": {
    "collapsed": true,
    "run_control": {
     "frozen": false,
     "read_only": false
    }
   },
   "outputs": [],
   "source": [
    "x = c(.314,.289,.282,.279,.275,.267,.266,.265,.256,.250,.249,.211,.161)\n"
   ]
  },
  {
   "cell_type": "code",
   "execution_count": 120,
   "metadata": {
    "run_control": {
     "frozen": false,
     "read_only": false
    }
   },
   "outputs": [
    {
     "data": {
      "image/png": "[encoded data removed]",
      "text/plain": [
       "Plot with title \"Histogram of x\""
      ]
     },
     "metadata": {},
     "output_type": "display_data"
    }
   ],
   "source": [
    "tmp = hist(x) # store the results\n",
    "lines(c(min(tmp$breaks),tmp$mids,max(tmp$breaks)),c(0,tmp$counts,0),type=\"l\")"
   ]
  },
  {
   "cell_type": "code",
   "execution_count": 121,
   "metadata": {
    "run_control": {
     "frozen": false,
     "read_only": false
    }
   },
   "outputs": [
    {
     "data": {
      "image/png": "[encoded data removed]",
      "text/plain": [
       "Plot with title \"Histogram of x\""
      ]
     },
     "metadata": {},
     "output_type": "display_data"
    }
   ],
   "source": [
    "simple.freqpoly(x)"
   ]
  },
  {
   "cell_type": "code",
   "execution_count": 122,
   "metadata": {
    "run_control": {
     "frozen": false,
     "read_only": false
    }
   },
   "outputs": [
    {
     "data": {
      "image/png": "[encoded data removed]",
      "text/plain": [
       "Plot with title \"Histogram of eruptions\""
      ]
     },
     "metadata": {},
     "output_type": "display_data"
    }
   ],
   "source": [
    "data(faithful)\n",
    "attach(faithful) # make eruptions visible\n",
    "hist(eruptions,15,prob=T) # proportions, not frequencies\n",
    "\n",
    "lines(density(eruptions)) # lines makes a curve, default bandwidth\n",
    "\n",
    "lines(density(eruptions,bw=\"SJ\"),col='red') # Use SJ bandwidth, in red"
   ]
  },
  {
   "cell_type": "markdown",
   "metadata": {},
   "source": [
    "**little book for time series:** https://a-little-book-of-r-for-time-series.readthedocs.io/en/latest/  "
   ]
  },
  {
   "cell_type": "code",
   "execution_count": 123,
   "metadata": {
    "run_control": {
     "frozen": false,
     "read_only": false
    }
   },
   "outputs": [
    {
     "data": {
      "image/png": "[encoded data removed]",
      "text/plain": [
       "plot without title"
      ]
     },
     "metadata": {},
     "output_type": "display_data"
    },
    {
     "data": {
      "image/png": "[encoded data removed]",
      "text/plain": [
       "plot without title"
      ]
     },
     "metadata": {},
     "output_type": "display_data"
    }
   ],
   "source": [
    "myvector <-c(1:10)\n",
    "# save a numeric vector containing 72 monthly observations\n",
    "# from Jan 2009 to Dec 2014 as a time series object\n",
    "myts <- ts(myvector, start=c(2009, 1), end=c(2014, 12), frequency=12) \n",
    "\n",
    "# subset the time series (June 2014 to December 2014)\n",
    "myts2 <- window(myts, start=c(2014, 6), end=c(2014, 12)) \n",
    "\n",
    "# plot series\n",
    "plot(myts)\n",
    "plot(myts2)"
   ]
  },
  {
   "cell_type": "markdown",
   "metadata": {
    "collapsed": true,
    "run_control": {
     "frozen": false,
     "read_only": false
    }
   },
   "source": [
    "\n",
    "#### Section 4: Bivariate Data"
   ]
  },
  {
   "cell_type": "markdown",
   "metadata": {},
   "source": [
    "\n",
    "![Image of students who smoke study less](./images/Verzani SimpleR.png)"
   ]
  },
  {
   "cell_type": "code",
   "execution_count": 124,
   "metadata": {
    "run_control": {
     "frozen": false,
     "read_only": false
    }
   },
   "outputs": [
    {
     "data": {
      "text/html": [
       "'character'"
      ],
      "text/latex": [
       "'character'"
      ],
      "text/markdown": [
       "'character'"
      ],
      "text/plain": [
       "[1] \"character\""
      ]
     },
     "metadata": {},
     "output_type": "display_data"
    }
   ],
   "source": [
    "smokes = c(\"Y\",\"N\",\"N\",\"Y\",\"N\",\"Y\",\"Y\",\"Y\",\"N\",\"Y\")\n",
    "amount = c(1,2,2,3,3,1,2,1,3,2)\n",
    "class(smokes)"
   ]
  },
  {
   "cell_type": "code",
   "execution_count": 125,
   "metadata": {
    "run_control": {
     "frozen": false,
     "read_only": false
    }
   },
   "outputs": [
    {
     "data": {
      "text/plain": [
       "      amount\n",
       "smokes 1 2 3\n",
       "     N 0 2 2\n",
       "     Y 3 2 1"
      ]
     },
     "metadata": {},
     "output_type": "display_data"
    }
   ],
   "source": [
    "table(smokes, amount)"
   ]
  },
  {
   "cell_type": "code",
   "execution_count": 126,
   "metadata": {
    "run_control": {
     "frozen": false,
     "read_only": false
    },
    "scrolled": true
   },
   "outputs": [
    {
     "data": {
      "text/html": [
       "<strong>$digits</strong> = 7"
      ],
      "text/latex": [
       "\\textbf{\\$digits} = 7"
      ],
      "text/markdown": [
       "**$digits** = 7"
      ],
      "text/plain": [
       "$digits\n",
       "[1] 7\n"
      ]
     },
     "metadata": {},
     "output_type": "display_data"
    },
    {
     "data": {
      "text/html": [
       "<strong>$digits</strong> = 7"
      ],
      "text/latex": [
       "\\textbf{\\$digits} = 7"
      ],
      "text/markdown": [
       "**$digits** = 7"
      ],
      "text/plain": [
       "$digits\n",
       "[1] 7\n"
      ]
     },
     "metadata": {},
     "output_type": "display_data"
    },
    {
     "data": {
      "text/html": [
       "'list'"
      ],
      "text/latex": [
       "'list'"
      ],
      "text/markdown": [
       "'list'"
      ],
      "text/plain": [
       "[1] \"list\""
      ]
     },
     "metadata": {},
     "output_type": "display_data"
    },
    {
     "data": {
      "text/plain": [
       "      amount\n",
       "smokes     1     2     3\n",
       "     N 0.000 0.500 0.500\n",
       "     Y 0.500 0.333 0.167"
      ]
     },
     "metadata": {},
     "output_type": "display_data"
    },
    {
     "data": {
      "text/plain": [
       "      amount\n",
       "smokes     1     2     3\n",
       "     N 0.000 0.500 0.667\n",
       "     Y 1.000 0.500 0.333"
      ]
     },
     "metadata": {},
     "output_type": "display_data"
    },
    {
     "data": {
      "text/plain": [
       "      amount\n",
       "smokes   1   2   3\n",
       "     N 0.0 0.2 0.2\n",
       "     Y 0.3 0.2 0.1"
      ]
     },
     "metadata": {},
     "output_type": "display_data"
    }
   ],
   "source": [
    "tmp <- table(smokes,amount)\n",
    "\n",
    "old.digits = options(\"digits\") # store the number of digits\n",
    "old.digits\n",
    "options(digits=3) # only print 3 decimal places\n",
    "old.digits\n",
    "typeof(old.digits)\n",
    "prop.table(tmp,1) \n",
    "\n",
    "prop.table(tmp,2) \n",
    "\n",
    "prop.table(tmp)\n",
    "\n",
    "options(digits=as.integer(old.digits)) # restore the number of digits"
   ]
  },
  {
   "cell_type": "markdown",
   "metadata": {},
   "source": [
    "![Image of various barplot styles with same data](./images/Verzani SimpleR1.png)"
   ]
  },
  {
   "cell_type": "code",
   "execution_count": null,
   "metadata": {
    "collapsed": true,
    "hide_input": true,
    "run_control": {
     "frozen": true,
     "read_only": true
    },
    "scrolled": false
   },
   "outputs": [],
   "source": [
    "# #embed PDF from local drive/computer\n",
    "# from IPython.display import IFrame\n",
    "# IFrame(\"docs/Verzani-SimpleR.pdf\", width=789, height=350)\n"
   ]
  },
  {
   "cell_type": "code",
   "execution_count": 127,
   "metadata": {
    "run_control": {
     "frozen": false,
     "read_only": false
    }
   },
   "outputs": [
    {
     "data": {
      "text/html": [
       "'factor'"
      ],
      "text/latex": [
       "'factor'"
      ],
      "text/markdown": [
       "'factor'"
      ],
      "text/plain": [
       "[1] \"factor\""
      ]
     },
     "metadata": {},
     "output_type": "display_data"
    },
    {
     "data": {
      "image/png": "[encoded data removed]",
      "text/plain": [
       "plot without title"
      ]
     },
     "metadata": {},
     "output_type": "display_data"
    }
   ],
   "source": [
    "barplot(table(smokes,amount))\n",
    "smokes=factor(smokes) # for names\n",
    "class(smokes)"
   ]
  },
  {
   "cell_type": "code",
   "execution_count": 128,
   "metadata": {
    "run_control": {
     "frozen": false,
     "read_only": false
    }
   },
   "outputs": [
    {
     "data": {
      "image/png": "[encoded data removed]",
      "text/plain": [
       "plot without title"
      ]
     },
     "metadata": {},
     "output_type": "display_data"
    }
   ],
   "source": [
    "barplot(table(smokes,amount),\n",
    "beside=TRUE, # put beside not stacked\n",
    "legend.text=T) # add legend\n"
   ]
  },
  {
   "cell_type": "code",
   "execution_count": 129,
   "metadata": {
    "run_control": {
     "frozen": false,
     "read_only": false
    }
   },
   "outputs": [
    {
     "data": {
      "image/png": "[encoded data removed]",
      "text/plain": [
       "Plot with title \"table(amount, smokes)\""
      ]
     },
     "metadata": {},
     "output_type": "display_data"
    }
   ],
   "source": [
    "barplot(table(amount, smokes), \n",
    "        main=\"table(amount, smokes)\",\n",
    "        beside =TRUE,  #put beside not stacked\n",
    "        legend.text=TRUE  # add legend\n",
    "       )"
   ]
  },
  {
   "cell_type": "code",
   "execution_count": 130,
   "metadata": {
    "run_control": {
     "frozen": false,
     "read_only": false
    }
   },
   "outputs": [
    {
     "data": {
      "image/png": "[encoded data removed]",
      "text/plain": [
       "Plot with title \"table(amount, smokes)\""
      ]
     },
     "metadata": {},
     "output_type": "display_data"
    }
   ],
   "source": [
    "barplot(table(amount, smokes), \n",
    "        main = \"table(amount, smokes)\",\n",
    "        beside = TRUE,\n",
    "        legend.text = c(\"less than 5\", \"5-10\", \"more than 10\")\n",
    "       )"
   ]
  },
  {
   "cell_type": "code",
   "execution_count": 131,
   "metadata": {
    "collapsed": true,
    "run_control": {
     "frozen": false,
     "read_only": false
    }
   },
   "outputs": [],
   "source": [
    "source(\"scripts/myFunScript.R\")"
   ]
  },
  {
   "cell_type": "code",
   "execution_count": 132,
   "metadata": {
    "run_control": {
     "frozen": false,
     "read_only": false
    }
   },
   "outputs": [
    {
     "name": "stdout",
     "output_type": "stream",
     "text": [
      "[1] \"hello world\"\n"
     ]
    }
   ],
   "source": [
    "myFun(\"hello world\")"
   ]
  },
  {
   "cell_type": "code",
   "execution_count": 133,
   "metadata": {
    "run_control": {
     "frozen": false,
     "read_only": false
    },
    "scrolled": true
   },
   "outputs": [
    {
     "data": {
      "text/html": [
       "<table>\n",
       "<thead><tr><th></th><th scope=col>mpg</th><th scope=col>cyl</th><th scope=col>disp</th><th scope=col>hp</th><th scope=col>drat</th><th scope=col>wt</th><th scope=col>qsec</th><th scope=col>vs</th><th scope=col>am</th><th scope=col>gear</th><th scope=col>carb</th></tr></thead>\n",
       "<tbody>\n",
       "\t<tr><th scope=row>Mazda RX4</th><td>21.0 </td><td>6    </td><td>160  </td><td>110  </td><td>3.90 </td><td>2.620</td><td>16.46</td><td>0    </td><td>1    </td><td>4    </td><td>4    </td></tr>\n",
       "\t<tr><th scope=row>Mazda RX4 Wag</th><td>21.0 </td><td>6    </td><td>160  </td><td>110  </td><td>3.90 </td><td>2.875</td><td>17.02</td><td>0    </td><td>1    </td><td>4    </td><td>4    </td></tr>\n",
       "\t<tr><th scope=row>Datsun 710</th><td>22.8 </td><td>4    </td><td>108  </td><td> 93  </td><td>3.85 </td><td>2.320</td><td>18.61</td><td>1    </td><td>1    </td><td>4    </td><td>1    </td></tr>\n",
       "\t<tr><th scope=row>Hornet 4 Drive</th><td>21.4 </td><td>6    </td><td>258  </td><td>110  </td><td>3.08 </td><td>3.215</td><td>19.44</td><td>1    </td><td>0    </td><td>3    </td><td>1    </td></tr>\n",
       "\t<tr><th scope=row>Hornet Sportabout</th><td>18.7 </td><td>8    </td><td>360  </td><td>175  </td><td>3.15 </td><td>3.440</td><td>17.02</td><td>0    </td><td>0    </td><td>3    </td><td>2    </td></tr>\n",
       "\t<tr><th scope=row>Valiant</th><td>18.1 </td><td>6    </td><td>225  </td><td>105  </td><td>2.76 </td><td>3.460</td><td>20.22</td><td>1    </td><td>0    </td><td>3    </td><td>1    </td></tr>\n",
       "</tbody>\n",
       "</table>\n"
      ],
      "text/latex": [
       "\\begin{tabular}{r|lllllllllll}\n",
       "  & mpg & cyl & disp & hp & drat & wt & qsec & vs & am & gear & carb\\\\\n",
       "\\hline\n",
       "\tMazda RX4 & 21.0  & 6     & 160   & 110   & 3.90  & 2.620 & 16.46 & 0     & 1     & 4     & 4    \\\\\n",
       "\tMazda RX4 Wag & 21.0  & 6     & 160   & 110   & 3.90  & 2.875 & 17.02 & 0     & 1     & 4     & 4    \\\\\n",
       "\tDatsun 710 & 22.8  & 4     & 108   &  93   & 3.85  & 2.320 & 18.61 & 1     & 1     & 4     & 1    \\\\\n",
       "\tHornet 4 Drive & 21.4  & 6     & 258   & 110   & 3.08  & 3.215 & 19.44 & 1     & 0     & 3     & 1    \\\\\n",
       "\tHornet Sportabout & 18.7  & 8     & 360   & 175   & 3.15  & 3.440 & 17.02 & 0     & 0     & 3     & 2    \\\\\n",
       "\tValiant & 18.1  & 6     & 225   & 105   & 2.76  & 3.460 & 20.22 & 1     & 0     & 3     & 1    \\\\\n",
       "\\end{tabular}\n"
      ],
      "text/markdown": [
       "\n",
       "| <!--/--> | mpg | cyl | disp | hp | drat | wt | qsec | vs | am | gear | carb | \n",
       "|---|---|---|---|---|---|\n",
       "| Mazda RX4 | 21.0  | 6     | 160   | 110   | 3.90  | 2.620 | 16.46 | 0     | 1     | 4     | 4     | \n",
       "| Mazda RX4 Wag | 21.0  | 6     | 160   | 110   | 3.90  | 2.875 | 17.02 | 0     | 1     | 4     | 4     | \n",
       "| Datsun 710 | 22.8  | 4     | 108   |  93   | 3.85  | 2.320 | 18.61 | 1     | 1     | 4     | 1     | \n",
       "| Hornet 4 Drive | 21.4  | 6     | 258   | 110   | 3.08  | 3.215 | 19.44 | 1     | 0     | 3     | 1     | \n",
       "| Hornet Sportabout | 18.7  | 8     | 360   | 175   | 3.15  | 3.440 | 17.02 | 0     | 0     | 3     | 2     | \n",
       "| Valiant | 18.1  | 6     | 225   | 105   | 2.76  | 3.460 | 20.22 | 1     | 0     | 3     | 1     | \n",
       "\n",
       "\n"
      ],
      "text/plain": [
       "                  mpg  cyl disp hp  drat wt    qsec  vs am gear carb\n",
       "Mazda RX4         21.0 6   160  110 3.90 2.620 16.46 0  1  4    4   \n",
       "Mazda RX4 Wag     21.0 6   160  110 3.90 2.875 17.02 0  1  4    4   \n",
       "Datsun 710        22.8 4   108   93 3.85 2.320 18.61 1  1  4    1   \n",
       "Hornet 4 Drive    21.4 6   258  110 3.08 3.215 19.44 1  0  3    1   \n",
       "Hornet Sportabout 18.7 8   360  175 3.15 3.440 17.02 0  0  3    2   \n",
       "Valiant           18.1 6   225  105 2.76 3.460 20.22 1  0  3    1   "
      ]
     },
     "metadata": {},
     "output_type": "display_data"
    }
   ],
   "source": [
    "head(mtcars)\n",
    "?mtcars"
   ]
  },
  {
   "cell_type": "code",
   "execution_count": 134,
   "metadata": {
    "run_control": {
     "frozen": false,
     "read_only": false
    }
   },
   "outputs": [
    {
     "data": {
      "text/html": [
       "<dl class=dl-horizontal>\n",
       "\t<dt>0</dt>\n",
       "\t\t<dd>17.1473684210526</dd>\n",
       "\t<dt>1</dt>\n",
       "\t\t<dd>24.3923076923077</dd>\n",
       "</dl>\n"
      ],
      "text/plain": [
       "       0        1 \n",
       "17.14737 24.39231 "
      ]
     },
     "metadata": {},
     "output_type": "display_data"
    }
   ],
   "source": [
    "# Get the mean MPG by Transmission\n",
    "?tapply\n",
    "tapply(mtcars$mpg, mtcars$am, mean)"
   ]
  },
  {
   "cell_type": "code",
   "execution_count": 135,
   "metadata": {
    "run_control": {
     "frozen": false,
     "read_only": false
    }
   },
   "outputs": [
    {
     "data": {
      "text/html": [
       "<table>\n",
       "<thead><tr><th scope=col>am</th><th scope=col>cyl</th><th scope=col>mpg</th></tr></thead>\n",
       "<tbody>\n",
       "\t<tr><td>0       </td><td>4       </td><td>22.90000</td></tr>\n",
       "\t<tr><td>1       </td><td>4       </td><td>28.07500</td></tr>\n",
       "\t<tr><td>0       </td><td>6       </td><td>19.12500</td></tr>\n",
       "\t<tr><td>1       </td><td>6       </td><td>20.56667</td></tr>\n",
       "\t<tr><td>0       </td><td>8       </td><td>15.05000</td></tr>\n",
       "\t<tr><td>1       </td><td>8       </td><td>15.40000</td></tr>\n",
       "</tbody>\n",
       "</table>\n"
      ],
      "text/latex": [
       "\\begin{tabular}{r|lll}\n",
       " am & cyl & mpg\\\\\n",
       "\\hline\n",
       "\t 0        & 4        & 22.90000\\\\\n",
       "\t 1        & 4        & 28.07500\\\\\n",
       "\t 0        & 6        & 19.12500\\\\\n",
       "\t 1        & 6        & 20.56667\\\\\n",
       "\t 0        & 8        & 15.05000\\\\\n",
       "\t 1        & 8        & 15.40000\\\\\n",
       "\\end{tabular}\n"
      ],
      "text/markdown": [
       "\n",
       "am | cyl | mpg | \n",
       "|---|---|---|---|---|---|\n",
       "| 0        | 4        | 22.90000 | \n",
       "| 1        | 4        | 28.07500 | \n",
       "| 0        | 6        | 19.12500 | \n",
       "| 1        | 6        | 20.56667 | \n",
       "| 0        | 8        | 15.05000 | \n",
       "| 1        | 8        | 15.40000 | \n",
       "\n",
       "\n"
      ],
      "text/plain": [
       "  am cyl mpg     \n",
       "1 0  4   22.90000\n",
       "2 1  4   28.07500\n",
       "3 0  6   19.12500\n",
       "4 1  6   20.56667\n",
       "5 0  8   15.05000\n",
       "6 1  8   15.40000"
      ]
     },
     "metadata": {},
     "output_type": "display_data"
    }
   ],
   "source": [
    "# Get the mean MPG for Transmission grouped by Cylinder\n",
    "?aggregate\n",
    "aggregate(mpg~am+cyl,data=mtcars,mean)\n"
   ]
  },
  {
   "cell_type": "code",
   "execution_count": 136,
   "metadata": {
    "run_control": {
     "frozen": false,
     "marked": false,
     "read_only": false
    }
   },
   "outputs": [
    {
     "data": {
      "text/plain": [
       "            cylinder\n",
       "transmission  4  6  8\n",
       "           0  3  4 12\n",
       "           1  8  3  2"
      ]
     },
     "metadata": {},
     "output_type": "display_data"
    }
   ],
   "source": [
    "# Cross tabulation based on Transmission and Cylinder\n",
    "table(transmission=mtcars$am, cylinder=mtcars$cyl)"
   ]
  },
  {
   "cell_type": "code",
   "execution_count": 137,
   "metadata": {
    "run_control": {
     "frozen": false,
     "read_only": false
    },
    "scrolled": true
   },
   "outputs": [
    {
     "data": {
      "text/html": [
       "<pre class=language-r><code>function (X, INDEX, FUN = NULL, ..., simplify = TRUE) \n",
       "NULL</code></pre>"
      ],
      "text/latex": [
       "\\begin{minted}{r}\n",
       "function (X, INDEX, FUN = NULL, ..., simplify = TRUE) \n",
       "NULL\n",
       "\\end{minted}"
      ],
      "text/markdown": [
       "```r\n",
       "function (X, INDEX, FUN = NULL, ..., simplify = TRUE) \n",
       "NULL\n",
       "```"
      ],
      "text/plain": [
       "function (X, INDEX, FUN = NULL, ..., simplify = TRUE) \n",
       "NULL"
      ]
     },
     "metadata": {},
     "output_type": "display_data"
    }
   ],
   "source": [
    "args(tapply)"
   ]
  },
  {
   "cell_type": "code",
   "execution_count": 1,
   "metadata": {
    "hide_input": true,
    "run_control": {
     "frozen": true,
     "read_only": true
    }
   },
   "outputs": [
    {
     "data": {
      "text/html": [
       "\n",
       "        <iframe\n",
       "            width=\"788\"\n",
       "            height=\"350\"\n",
       "            src=\"./docs/Verzani-SimpleR.pdf\"\n",
       "            frameborder=\"0\"\n",
       "            allowfullscreen\n",
       "        ></iframe>\n",
       "        "
      ],
      "text/plain": [
       "<IPython.lib.display.IFrame at 0x4b6a470>"
      ]
     },
     "execution_count": 1,
     "metadata": {},
     "output_type": "execute_result"
    }
   ],
   "source": [
    "# #embed PDF from local drive/computer\n",
    "# from IPython.display import IFrame\n",
    "# IFrame(\"./docs/Verzani-SimpleR.pdf\", width=788, height=350)\n"
   ]
  },
  {
   "cell_type": "code",
   "execution_count": 138,
   "metadata": {},
   "outputs": [
    {
     "data": {
      "text/html": [
       "<ol class=list-inline>\n",
       "\t<li>1</li>\n",
       "\t<li>4</li>\n",
       "</ol>\n"
      ],
      "text/latex": [
       "\\begin{enumerate*}\n",
       "\\item 1\n",
       "\\item 4\n",
       "\\end{enumerate*}\n"
      ],
      "text/markdown": [
       "1. 1\n",
       "2. 4\n",
       "\n",
       "\n"
      ],
      "text/plain": [
       "[1] 1 4"
      ]
     },
     "metadata": {},
     "output_type": "display_data"
    }
   ],
   "source": [
    "ifelse(c(1,3) < 2.5 , 1:2 , 3:4)"
   ]
  },
  {
   "cell_type": "markdown",
   "metadata": {},
   "source": [
    "##### gif embed into markdown file\n",
    "<img src=\"./images/giphy-downsized.gif\" alt=\"cat gif\" title=\"31LJpSG GIF\">"
   ]
  },
  {
   "cell_type": "code",
   "execution_count": null,
   "metadata": {
    "collapsed": true
   },
   "outputs": [],
   "source": []
  }
 ],
 "metadata": {
  "kernelspec": {
   "display_name": "R",
   "language": "R",
   "name": "ir"
  },
  "language_info": {
   "codemirror_mode": "r",
   "file_extension": ".r",
   "mimetype": "text/x-r-source",
   "name": "R",
   "pygments_lexer": "r",
   "version": "3.3.2"
  }
 },
 "nbformat": 4,
 "nbformat_minor": 2
}
